{
 "cells": [
  {
   "cell_type": "code",
   "execution_count": null,
   "id": "0f0c64b2-b1cc-4a99-8834-04b11b4db92c",
   "metadata": {},
   "outputs": [],
   "source": [
    "import numpy as np\n",
    "import cv2\n",
    "from sklearn.linear_model import LogisticRegression\n",
    "from sklearn.svm import SVC\n",
    "from sklearn.neighbors import KNeighborsClassifier\n",
    "import matplotlib.pyplot as plt\n",
    "import os\n",
    "from tqdm import tqdm"
   ]
  },
  {
   "cell_type": "code",
   "execution_count": null,
   "id": "793ebedf-b6c1-4055-b5ad-dc7af07f3262",
   "metadata": {},
   "outputs": [],
   "source": [
    "train = \"cats_dogs_light/train\"\n",
    "test = \"cats_dogs_light/test\"\n",
    "image_size = 128"
   ]
  },
  {
   "cell_type": "code",
   "execution_count": null,
   "id": "55e449b2-14db-4d67-bb82-4f69eb6f3626",
   "metadata": {},
   "outputs": [],
   "source": [
    "def test_data():\n",
    "    test_data_dogs = [] \n",
    "    test_data_cats=[]\n",
    "    for image in tqdm(os.listdir(test)): \n",
    "        path = os.path.join(test, image)\n",
    "        img = cv2.imread(path, cv2.IMREAD_GRAYSCALE) \n",
    "        img = cv2.resize(img, (image_size, image_size))\n",
    "        if image.split('.')[0] == \"cat\":\n",
    "            test_data_cats.append(img)\n",
    "        else:\n",
    "            test_data_dogs.append(img)\n",
    "    \n",
    "    test_data= np.concatenate((np.asarray(test_data_dogs),np.asarray(test_data_cats)),axis=0) \n",
    "    return test_data "
   ]
  },
  {
   "cell_type": "code",
   "execution_count": null,
   "id": "6ce2d197-ab96-43ea-818d-53655a66fa3a",
   "metadata": {},
   "outputs": [],
   "source": [
    "def train_data():\n",
    "    train_data_dogs = [] \n",
    "    train_data_cats=[]\n",
    "    for image in tqdm(os.listdir(train)): \n",
    "        path = os.path.join(train, image)\n",
    "        img = cv2.imread(path, cv2.IMREAD_GRAYSCALE) \n",
    "        img = cv2.resize(img, (image_size, image_size))\n",
    "        if image.split('.')[0] == \"cat\":\n",
    "            train_data_cats.append(img)\n",
    "        else:\n",
    "            train_data_dogs.append(img)\n",
    "    \n",
    "    train_data= np.concatenate((np.asarray(train_data_dogs),np.asarray(train_data_cats)),axis=0)\n",
    "    return train_data "
   ]
  },
  {
   "cell_type": "code",
   "execution_count": null,
   "id": "55565bdd-eb06-4305-84b5-16a14eec9291",
   "metadata": {},
   "outputs": [],
   "source": [
    "train_data = train_data() \n",
    "test_data = test_data()"
   ]
  },
  {
   "cell_type": "code",
   "execution_count": null,
   "id": "5e9b4c35-28aa-413a-a3f7-2ab1de1ca103",
   "metadata": {},
   "outputs": [],
   "source": [
    "x_data=np.concatenate((train_data,test_data),axis=0)\n",
    "x_data = (x_data-np.min(x_data))/(np.max(x_data)-np.min(x_data))\n",
    "x_data.shape"
   ]
  },
  {
   "cell_type": "code",
   "execution_count": null,
   "id": "b879dc86-0b29-4500-9504-c85cfeda312e",
   "metadata": {},
   "outputs": [],
   "source": [
    "train_data.shape"
   ]
  },
  {
   "cell_type": "code",
   "execution_count": null,
   "id": "461b5c9f-dc5c-41f9-a43b-03c45426b2fc",
   "metadata": {},
   "outputs": [],
   "source": [
    "z1 = np.zeros(500)\n",
    "o1 = np.ones(500)\n",
    "Y_train = np.concatenate((o1, z1), axis=0)\n",
    "z = np.zeros(200)\n",
    "o = np.ones(200)\n",
    "Y_test = np.concatenate((o, z), axis=0)"
   ]
  },
  {
   "cell_type": "code",
   "execution_count": null,
   "id": "4eeae91e-49cd-49fd-9706-15a03ecc6e2c",
   "metadata": {},
   "outputs": [],
   "source": [
    "y_data=np.concatenate((Y_train,Y_test),axis=0).reshape(x_data.shape[0],1)"
   ]
  },
  {
   "cell_type": "code",
   "execution_count": null,
   "id": "129c8f43-b533-4f5f-8ecc-780f2d1cbff5",
   "metadata": {},
   "outputs": [],
   "source": [
    "print(\"X shape: \" , x_data.shape)\n",
    "print(\"Y shape: \" , y_data.shape)"
   ]
  },
  {
   "cell_type": "code",
   "execution_count": null,
   "id": "b313e508-c569-4919-9ec1-4b959222640b",
   "metadata": {},
   "outputs": [],
   "source": [
    "from sklearn.model_selection import train_test_split\n",
    "x_train, x_test, y_train, y_test = train_test_split(x_data, y_data, test_size=0.15, random_state=42)\n",
    "number_of_train = x_train.shape[0]\n",
    "number_of_test = x_test.shape[0]"
   ]
  },
  {
   "cell_type": "code",
   "execution_count": null,
   "id": "5932ff48-2c09-4734-8cbf-63edda1adc5f",
   "metadata": {},
   "outputs": [],
   "source": [
    "x_train_flatten = x_train.reshape(number_of_train,x_train.shape[1]*x_train.shape[2])\n",
    "x_test_flatten = x_test .reshape(number_of_test,x_test.shape[1]*x_test.shape[2])\n",
    "print(\"X train flatten\",x_train_flatten.shape)\n",
    "print(\"X test flatten\",x_test_flatten.shape)"
   ]
  },
  {
   "cell_type": "code",
   "execution_count": null,
   "id": "48c47e5f-aeab-44ee-9165-91221b2153f1",
   "metadata": {},
   "outputs": [],
   "source": [
    "x_train = x_train_flatten.T\n",
    "x_test = x_test_flatten.T\n",
    "y_test = y_test.T\n",
    "y_train = y_train.T\n",
    "print(\"x train: \",x_train.shape)\n",
    "print(\"x test: \",x_test.shape)\n",
    "print(\"y train: \",y_train.shape)\n",
    "print(\"y test: \",y_test.shape)"
   ]
  },
  {
   "cell_type": "code",
   "execution_count": null,
   "id": "1950795f-d4fb-47bd-915b-f71b4aafad34",
   "metadata": {},
   "outputs": [],
   "source": [
    "from sklearn.linear_model import LogisticRegression\n",
    "from sklearn.model_selection import GridSearchCV\n",
    "grid={\"C\":np.logspace(-3,3,7),\"penalty\":[\"l1\",\"l2\"]},\n",
    "logistic_regression=LogisticRegression(random_state=42)\n",
    "log_reg_cv=GridSearchCV(logistic_regression,grid,cv=10)\n",
    "log_reg_cv.fit(x_train.T,y_train.T.ravel())"
   ]
  },
  {
   "cell_type": "code",
   "execution_count": null,
   "id": "e4521cff-2a73-4db5-b144-603780287b57",
   "metadata": {},
   "outputs": [],
   "source": [
    "print(\"best hyperparameters: \", log_reg_cv.best_params_)\n",
    "print(\"accuracy: \", log_reg_cv.best_score_)"
   ]
  }
 ],
 "metadata": {
  "kernelspec": {
   "display_name": "Python 3 (ipykernel)",
   "language": "python",
   "name": "python3"
  },
  "language_info": {
   "codemirror_mode": {
    "name": "ipython",
    "version": 3
   },
   "file_extension": ".py",
   "mimetype": "text/x-python",
   "name": "python",
   "nbconvert_exporter": "python",
   "pygments_lexer": "ipython3",
   "version": "3.10.9"
  }
 },
 "nbformat": 4,
 "nbformat_minor": 5
}

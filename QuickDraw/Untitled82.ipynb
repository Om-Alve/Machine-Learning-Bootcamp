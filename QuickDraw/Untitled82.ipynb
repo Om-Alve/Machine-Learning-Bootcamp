{
  "nbformat": 4,
  "nbformat_minor": 0,
  "metadata": {
    "colab": {
      "provenance": []
    },
    "kernelspec": {
      "name": "python3",
      "display_name": "Python 3"
    },
    "language_info": {
      "name": "python"
    }
  },
  "cells": [
    {
      "cell_type": "code",
      "source": [
        "!pip install gradio"
      ],
      "metadata": {
        "colab": {
          "base_uri": "https://localhost:8080/"
        },
        "id": "MfDAsRWdUvAv",
        "outputId": "20ffe432-b632-4a04-9a7e-a88e59c6151d"
      },
      "execution_count": 1,
      "outputs": [
        {
          "output_type": "stream",
          "name": "stdout",
          "text": [
            "Collecting gradio\n",
            "  Downloading gradio-4.8.0-py3-none-any.whl (16.5 MB)\n",
            "\u001b[2K     \u001b[90m━━━━━━━━━━━━━━━━━━━━━━━━━━━━━━━━━━━━━━━━\u001b[0m \u001b[32m16.5/16.5 MB\u001b[0m \u001b[31m71.6 MB/s\u001b[0m eta \u001b[36m0:00:00\u001b[0m\n",
            "\u001b[?25hCollecting aiofiles<24.0,>=22.0 (from gradio)\n",
            "  Downloading aiofiles-23.2.1-py3-none-any.whl (15 kB)\n",
            "Requirement already satisfied: altair<6.0,>=4.2.0 in /usr/local/lib/python3.10/dist-packages (from gradio) (4.2.2)\n",
            "Collecting fastapi (from gradio)\n",
            "  Downloading fastapi-0.104.1-py3-none-any.whl (92 kB)\n",
            "\u001b[2K     \u001b[90m━━━━━━━━━━━━━━━━━━━━━━━━━━━━━━━━━━━━━━━━\u001b[0m \u001b[32m92.9/92.9 kB\u001b[0m \u001b[31m11.1 MB/s\u001b[0m eta \u001b[36m0:00:00\u001b[0m\n",
            "\u001b[?25hCollecting ffmpy (from gradio)\n",
            "  Downloading ffmpy-0.3.1.tar.gz (5.5 kB)\n",
            "  Preparing metadata (setup.py) ... \u001b[?25l\u001b[?25hdone\n",
            "Collecting gradio-client==0.7.1 (from gradio)\n",
            "  Downloading gradio_client-0.7.1-py3-none-any.whl (302 kB)\n",
            "\u001b[2K     \u001b[90m━━━━━━━━━━━━━━━━━━━━━━━━━━━━━━━━━━━━━━━━\u001b[0m \u001b[32m302.9/302.9 kB\u001b[0m \u001b[31m22.2 MB/s\u001b[0m eta \u001b[36m0:00:00\u001b[0m\n",
            "\u001b[?25hCollecting httpx (from gradio)\n",
            "  Downloading httpx-0.25.2-py3-none-any.whl (74 kB)\n",
            "\u001b[2K     \u001b[90m━━━━━━━━━━━━━━━━━━━━━━━━━━━━━━━━━━━━━━━━\u001b[0m \u001b[32m75.0/75.0 kB\u001b[0m \u001b[31m7.5 MB/s\u001b[0m eta \u001b[36m0:00:00\u001b[0m\n",
            "\u001b[?25hRequirement already satisfied: huggingface-hub>=0.14.0 in /usr/local/lib/python3.10/dist-packages (from gradio) (0.19.4)\n",
            "Requirement already satisfied: importlib-resources<7.0,>=1.3 in /usr/local/lib/python3.10/dist-packages (from gradio) (6.1.1)\n",
            "Requirement already satisfied: jinja2<4.0 in /usr/local/lib/python3.10/dist-packages (from gradio) (3.1.2)\n",
            "Requirement already satisfied: markupsafe~=2.0 in /usr/local/lib/python3.10/dist-packages (from gradio) (2.1.3)\n",
            "Requirement already satisfied: matplotlib~=3.0 in /usr/local/lib/python3.10/dist-packages (from gradio) (3.7.1)\n",
            "Requirement already satisfied: numpy~=1.0 in /usr/local/lib/python3.10/dist-packages (from gradio) (1.23.5)\n",
            "Collecting orjson~=3.0 (from gradio)\n",
            "  Downloading orjson-3.9.10-cp310-cp310-manylinux_2_17_x86_64.manylinux2014_x86_64.whl (138 kB)\n",
            "\u001b[2K     \u001b[90m━━━━━━━━━━━━━━━━━━━━━━━━━━━━━━━━━━━━━━━━\u001b[0m \u001b[32m138.7/138.7 kB\u001b[0m \u001b[31m16.6 MB/s\u001b[0m eta \u001b[36m0:00:00\u001b[0m\n",
            "\u001b[?25hRequirement already satisfied: packaging in /usr/local/lib/python3.10/dist-packages (from gradio) (23.2)\n",
            "Requirement already satisfied: pandas<3.0,>=1.0 in /usr/local/lib/python3.10/dist-packages (from gradio) (1.5.3)\n",
            "Requirement already satisfied: pillow<11.0,>=8.0 in /usr/local/lib/python3.10/dist-packages (from gradio) (9.4.0)\n",
            "Collecting pydantic>=2.0 (from gradio)\n",
            "  Downloading pydantic-2.5.2-py3-none-any.whl (381 kB)\n",
            "\u001b[2K     \u001b[90m━━━━━━━━━━━━━━━━━━━━━━━━━━━━━━━━━━━━━━━━\u001b[0m \u001b[32m381.9/381.9 kB\u001b[0m \u001b[31m26.0 MB/s\u001b[0m eta \u001b[36m0:00:00\u001b[0m\n",
            "\u001b[?25hCollecting pydub (from gradio)\n",
            "  Downloading pydub-0.25.1-py2.py3-none-any.whl (32 kB)\n",
            "Collecting python-multipart (from gradio)\n",
            "  Downloading python_multipart-0.0.6-py3-none-any.whl (45 kB)\n",
            "\u001b[2K     \u001b[90m━━━━━━━━━━━━━━━━━━━━━━━━━━━━━━━━━━━━━━━━\u001b[0m \u001b[32m45.7/45.7 kB\u001b[0m \u001b[31m5.4 MB/s\u001b[0m eta \u001b[36m0:00:00\u001b[0m\n",
            "\u001b[?25hRequirement already satisfied: pyyaml<7.0,>=5.0 in /usr/local/lib/python3.10/dist-packages (from gradio) (6.0.1)\n",
            "Requirement already satisfied: requests~=2.0 in /usr/local/lib/python3.10/dist-packages (from gradio) (2.31.0)\n",
            "Collecting semantic-version~=2.0 (from gradio)\n",
            "  Downloading semantic_version-2.10.0-py2.py3-none-any.whl (15 kB)\n",
            "Collecting tomlkit==0.12.0 (from gradio)\n",
            "  Downloading tomlkit-0.12.0-py3-none-any.whl (37 kB)\n",
            "Requirement already satisfied: typer[all]<1.0,>=0.9 in /usr/local/lib/python3.10/dist-packages (from gradio) (0.9.0)\n",
            "Requirement already satisfied: typing-extensions~=4.0 in /usr/local/lib/python3.10/dist-packages (from gradio) (4.5.0)\n",
            "Collecting uvicorn>=0.14.0 (from gradio)\n",
            "  Downloading uvicorn-0.24.0.post1-py3-none-any.whl (59 kB)\n",
            "\u001b[2K     \u001b[90m━━━━━━━━━━━━━━━━━━━━━━━━━━━━━━━━━━━━━━━━\u001b[0m \u001b[32m59.7/59.7 kB\u001b[0m \u001b[31m6.8 MB/s\u001b[0m eta \u001b[36m0:00:00\u001b[0m\n",
            "\u001b[?25hRequirement already satisfied: fsspec in /usr/local/lib/python3.10/dist-packages (from gradio-client==0.7.1->gradio) (2023.6.0)\n",
            "Collecting websockets<12.0,>=10.0 (from gradio-client==0.7.1->gradio)\n",
            "  Downloading websockets-11.0.3-cp310-cp310-manylinux_2_5_x86_64.manylinux1_x86_64.manylinux_2_17_x86_64.manylinux2014_x86_64.whl (129 kB)\n",
            "\u001b[2K     \u001b[90m━━━━━━━━━━━━━━━━━━━━━━━━━━━━━━━━━━━━━━━━\u001b[0m \u001b[32m129.9/129.9 kB\u001b[0m \u001b[31m7.5 MB/s\u001b[0m eta \u001b[36m0:00:00\u001b[0m\n",
            "\u001b[?25hRequirement already satisfied: entrypoints in /usr/local/lib/python3.10/dist-packages (from altair<6.0,>=4.2.0->gradio) (0.4)\n",
            "Requirement already satisfied: jsonschema>=3.0 in /usr/local/lib/python3.10/dist-packages (from altair<6.0,>=4.2.0->gradio) (4.19.2)\n",
            "Requirement already satisfied: toolz in /usr/local/lib/python3.10/dist-packages (from altair<6.0,>=4.2.0->gradio) (0.12.0)\n",
            "Requirement already satisfied: filelock in /usr/local/lib/python3.10/dist-packages (from huggingface-hub>=0.14.0->gradio) (3.13.1)\n",
            "Requirement already satisfied: tqdm>=4.42.1 in /usr/local/lib/python3.10/dist-packages (from huggingface-hub>=0.14.0->gradio) (4.66.1)\n",
            "Requirement already satisfied: contourpy>=1.0.1 in /usr/local/lib/python3.10/dist-packages (from matplotlib~=3.0->gradio) (1.2.0)\n",
            "Requirement already satisfied: cycler>=0.10 in /usr/local/lib/python3.10/dist-packages (from matplotlib~=3.0->gradio) (0.12.1)\n",
            "Requirement already satisfied: fonttools>=4.22.0 in /usr/local/lib/python3.10/dist-packages (from matplotlib~=3.0->gradio) (4.45.1)\n",
            "Requirement already satisfied: kiwisolver>=1.0.1 in /usr/local/lib/python3.10/dist-packages (from matplotlib~=3.0->gradio) (1.4.5)\n",
            "Requirement already satisfied: pyparsing>=2.3.1 in /usr/local/lib/python3.10/dist-packages (from matplotlib~=3.0->gradio) (3.1.1)\n",
            "Requirement already satisfied: python-dateutil>=2.7 in /usr/local/lib/python3.10/dist-packages (from matplotlib~=3.0->gradio) (2.8.2)\n",
            "Requirement already satisfied: pytz>=2020.1 in /usr/local/lib/python3.10/dist-packages (from pandas<3.0,>=1.0->gradio) (2023.3.post1)\n",
            "Collecting annotated-types>=0.4.0 (from pydantic>=2.0->gradio)\n",
            "  Downloading annotated_types-0.6.0-py3-none-any.whl (12 kB)\n",
            "Collecting pydantic-core==2.14.5 (from pydantic>=2.0->gradio)\n",
            "  Downloading pydantic_core-2.14.5-cp310-cp310-manylinux_2_17_x86_64.manylinux2014_x86_64.whl (2.1 MB)\n",
            "\u001b[2K     \u001b[90m━━━━━━━━━━━━━━━━━━━━━━━━━━━━━━━━━━━━━━━━\u001b[0m \u001b[32m2.1/2.1 MB\u001b[0m \u001b[31m55.9 MB/s\u001b[0m eta \u001b[36m0:00:00\u001b[0m\n",
            "\u001b[?25hCollecting typing-extensions~=4.0 (from gradio)\n",
            "  Downloading typing_extensions-4.8.0-py3-none-any.whl (31 kB)\n",
            "Requirement already satisfied: charset-normalizer<4,>=2 in /usr/local/lib/python3.10/dist-packages (from requests~=2.0->gradio) (3.3.2)\n",
            "Requirement already satisfied: idna<4,>=2.5 in /usr/local/lib/python3.10/dist-packages (from requests~=2.0->gradio) (3.6)\n",
            "Requirement already satisfied: urllib3<3,>=1.21.1 in /usr/local/lib/python3.10/dist-packages (from requests~=2.0->gradio) (2.0.7)\n",
            "Requirement already satisfied: certifi>=2017.4.17 in /usr/local/lib/python3.10/dist-packages (from requests~=2.0->gradio) (2023.11.17)\n",
            "Requirement already satisfied: click<9.0.0,>=7.1.1 in /usr/local/lib/python3.10/dist-packages (from typer[all]<1.0,>=0.9->gradio) (8.1.7)\n",
            "Collecting colorama<0.5.0,>=0.4.3 (from typer[all]<1.0,>=0.9->gradio)\n",
            "  Downloading colorama-0.4.6-py2.py3-none-any.whl (25 kB)\n",
            "Collecting shellingham<2.0.0,>=1.3.0 (from typer[all]<1.0,>=0.9->gradio)\n",
            "  Downloading shellingham-1.5.4-py2.py3-none-any.whl (9.8 kB)\n",
            "Requirement already satisfied: rich<14.0.0,>=10.11.0 in /usr/local/lib/python3.10/dist-packages (from typer[all]<1.0,>=0.9->gradio) (13.7.0)\n",
            "Collecting h11>=0.8 (from uvicorn>=0.14.0->gradio)\n",
            "  Downloading h11-0.14.0-py3-none-any.whl (58 kB)\n",
            "\u001b[2K     \u001b[90m━━━━━━━━━━━━━━━━━━━━━━━━━━━━━━━━━━━━━━━━\u001b[0m \u001b[32m58.3/58.3 kB\u001b[0m \u001b[31m5.3 MB/s\u001b[0m eta \u001b[36m0:00:00\u001b[0m\n",
            "\u001b[?25hRequirement already satisfied: anyio<4.0.0,>=3.7.1 in /usr/local/lib/python3.10/dist-packages (from fastapi->gradio) (3.7.1)\n",
            "Collecting starlette<0.28.0,>=0.27.0 (from fastapi->gradio)\n",
            "  Downloading starlette-0.27.0-py3-none-any.whl (66 kB)\n",
            "\u001b[2K     \u001b[90m━━━━━━━━━━━━━━━━━━━━━━━━━━━━━━━━━━━━━━━━\u001b[0m \u001b[32m67.0/67.0 kB\u001b[0m \u001b[31m6.9 MB/s\u001b[0m eta \u001b[36m0:00:00\u001b[0m\n",
            "\u001b[?25hCollecting httpcore==1.* (from httpx->gradio)\n",
            "  Downloading httpcore-1.0.2-py3-none-any.whl (76 kB)\n",
            "\u001b[2K     \u001b[90m━━━━━━━━━━━━━━━━━━━━━━━━━━━━━━━━━━━━━━━━\u001b[0m \u001b[32m76.9/76.9 kB\u001b[0m \u001b[31m8.6 MB/s\u001b[0m eta \u001b[36m0:00:00\u001b[0m\n",
            "\u001b[?25hRequirement already satisfied: sniffio in /usr/local/lib/python3.10/dist-packages (from httpx->gradio) (1.3.0)\n",
            "Requirement already satisfied: exceptiongroup in /usr/local/lib/python3.10/dist-packages (from anyio<4.0.0,>=3.7.1->fastapi->gradio) (1.2.0)\n",
            "Requirement already satisfied: attrs>=22.2.0 in /usr/local/lib/python3.10/dist-packages (from jsonschema>=3.0->altair<6.0,>=4.2.0->gradio) (23.1.0)\n",
            "Requirement already satisfied: jsonschema-specifications>=2023.03.6 in /usr/local/lib/python3.10/dist-packages (from jsonschema>=3.0->altair<6.0,>=4.2.0->gradio) (2023.11.2)\n",
            "Requirement already satisfied: referencing>=0.28.4 in /usr/local/lib/python3.10/dist-packages (from jsonschema>=3.0->altair<6.0,>=4.2.0->gradio) (0.31.1)\n",
            "Requirement already satisfied: rpds-py>=0.7.1 in /usr/local/lib/python3.10/dist-packages (from jsonschema>=3.0->altair<6.0,>=4.2.0->gradio) (0.13.2)\n",
            "Requirement already satisfied: six>=1.5 in /usr/local/lib/python3.10/dist-packages (from python-dateutil>=2.7->matplotlib~=3.0->gradio) (1.16.0)\n",
            "Requirement already satisfied: markdown-it-py>=2.2.0 in /usr/local/lib/python3.10/dist-packages (from rich<14.0.0,>=10.11.0->typer[all]<1.0,>=0.9->gradio) (3.0.0)\n",
            "Requirement already satisfied: pygments<3.0.0,>=2.13.0 in /usr/local/lib/python3.10/dist-packages (from rich<14.0.0,>=10.11.0->typer[all]<1.0,>=0.9->gradio) (2.16.1)\n",
            "Requirement already satisfied: mdurl~=0.1 in /usr/local/lib/python3.10/dist-packages (from markdown-it-py>=2.2.0->rich<14.0.0,>=10.11.0->typer[all]<1.0,>=0.9->gradio) (0.1.2)\n",
            "Building wheels for collected packages: ffmpy\n",
            "  Building wheel for ffmpy (setup.py) ... \u001b[?25l\u001b[?25hdone\n",
            "  Created wheel for ffmpy: filename=ffmpy-0.3.1-py3-none-any.whl size=5579 sha256=8a5bd1b16bd981f925ba28c86e51f035f8a7125d2488ee41b720ef948e62694e\n",
            "  Stored in directory: /root/.cache/pip/wheels/01/a6/d1/1c0828c304a4283b2c1639a09ad86f83d7c487ef34c6b4a1bf\n",
            "Successfully built ffmpy\n",
            "Installing collected packages: pydub, ffmpy, websockets, typing-extensions, tomlkit, shellingham, semantic-version, python-multipart, orjson, h11, colorama, annotated-types, aiofiles, uvicorn, starlette, pydantic-core, httpcore, pydantic, httpx, gradio-client, fastapi, gradio\n",
            "  Attempting uninstall: typing-extensions\n",
            "    Found existing installation: typing_extensions 4.5.0\n",
            "    Uninstalling typing_extensions-4.5.0:\n",
            "      Successfully uninstalled typing_extensions-4.5.0\n",
            "  Attempting uninstall: pydantic\n",
            "    Found existing installation: pydantic 1.10.13\n",
            "    Uninstalling pydantic-1.10.13:\n",
            "      Successfully uninstalled pydantic-1.10.13\n",
            "\u001b[31mERROR: pip's dependency resolver does not currently take into account all the packages that are installed. This behaviour is the source of the following dependency conflicts.\n",
            "lida 0.0.10 requires kaleido, which is not installed.\n",
            "llmx 0.0.15a0 requires cohere, which is not installed.\n",
            "llmx 0.0.15a0 requires openai, which is not installed.\n",
            "llmx 0.0.15a0 requires tiktoken, which is not installed.\n",
            "tensorflow-probability 0.22.0 requires typing-extensions<4.6.0, but you have typing-extensions 4.8.0 which is incompatible.\u001b[0m\u001b[31m\n",
            "\u001b[0mSuccessfully installed aiofiles-23.2.1 annotated-types-0.6.0 colorama-0.4.6 fastapi-0.104.1 ffmpy-0.3.1 gradio-4.8.0 gradio-client-0.7.1 h11-0.14.0 httpcore-1.0.2 httpx-0.25.2 orjson-3.9.10 pydantic-2.5.2 pydantic-core-2.14.5 pydub-0.25.1 python-multipart-0.0.6 semantic-version-2.10.0 shellingham-1.5.4 starlette-0.27.0 tomlkit-0.12.0 typing-extensions-4.8.0 uvicorn-0.24.0.post1 websockets-11.0.3\n"
          ]
        }
      ]
    },
    {
      "cell_type": "code",
      "source": [
        "labels = ['aircraft carrier',\n",
        " 'airplane',\n",
        " 'alarm clock',\n",
        " 'ambulance',\n",
        " 'angel',\n",
        " 'animal migration',\n",
        " 'ant',\n",
        " 'anvil',\n",
        " 'apple',\n",
        " 'arm',\n",
        " 'asparagus',\n",
        " 'axe',\n",
        " 'backpack',\n",
        " 'banana',\n",
        " 'bandage',\n",
        " 'barn',\n",
        " 'baseball bat',\n",
        " 'baseball',\n",
        " 'basket',\n",
        " 'basketball',\n",
        " 'bat',\n",
        " 'bathtub',\n",
        " 'beach',\n",
        " 'bear',\n",
        " 'beard',\n",
        " 'bed',\n",
        " 'bee',\n",
        " 'belt',\n",
        " 'bench',\n",
        " 'bicycle',\n",
        " 'binoculars',\n",
        " 'bird',\n",
        " 'birthday cake',\n",
        " 'blackberry',\n",
        " 'blueberry',\n",
        " 'book',\n",
        " 'boomerang',\n",
        " 'bottlecap',\n",
        " 'bowtie',\n",
        " 'bracelet',\n",
        " 'brain',\n",
        " 'bread',\n",
        " 'bridge',\n",
        " 'broccoli',\n",
        " 'broom',\n",
        " 'bucket',\n",
        " 'bulldozer',\n",
        " 'bus',\n",
        " 'bush',\n",
        " 'butterfly',\n",
        " 'cactus',\n",
        " 'cake',\n",
        " 'calculator',\n",
        " 'calendar',\n",
        " 'camel',\n",
        " 'camera',\n",
        " 'camouflage',\n",
        " 'campfire',\n",
        " 'candle',\n",
        " 'cannon',\n",
        " 'canoe',\n",
        " 'car',\n",
        " 'carrot',\n",
        " 'castle',\n",
        " 'cat',\n",
        " 'ceiling fan',\n",
        " 'cell phone',\n",
        " 'cello',\n",
        " 'chair',\n",
        " 'chandelier',\n",
        " 'church',\n",
        " 'circle',\n",
        " 'clarinet',\n",
        " 'clock',\n",
        " 'cloud',\n",
        " 'coffee cup',\n",
        " 'compass',\n",
        " 'computer',\n",
        " 'cookie',\n",
        " 'cooler',\n",
        " 'couch',\n",
        " 'cow',\n",
        " 'crab',\n",
        " 'crayon',\n",
        " 'crocodile',\n",
        " 'crown',\n",
        " 'cruise ship',\n",
        " 'cup',\n",
        " 'diamond',\n",
        " 'dishwasher',\n",
        " 'diving board',\n",
        " 'dog',\n",
        " 'dolphin',\n",
        " 'donut',\n",
        " 'door',\n",
        " 'dragon',\n",
        " 'dresser',\n",
        " 'drill',\n",
        " 'drums',\n",
        " 'duck',\n",
        " 'dumbbell',\n",
        " 'ear',\n",
        " 'elbow',\n",
        " 'elephant',\n",
        " 'envelope',\n",
        " 'eraser',\n",
        " 'eye',\n",
        " 'eyeglasses',\n",
        " 'face',\n",
        " 'fan',\n",
        " 'feather',\n",
        " 'fence',\n",
        " 'finger',\n",
        " 'fire hydrant',\n",
        " 'fireplace',\n",
        " 'firetruck',\n",
        " 'fish',\n",
        " 'flamingo',\n",
        " 'flashlight',\n",
        " 'flip flops',\n",
        " 'floor lamp',\n",
        " 'flower',\n",
        " 'flying saucer',\n",
        " 'foot',\n",
        " 'fork',\n",
        " 'frog',\n",
        " 'frying pan',\n",
        " 'garden hose',\n",
        " 'garden',\n",
        " 'giraffe',\n",
        " 'goatee',\n",
        " 'golf club',\n",
        " 'grapes',\n",
        " 'grass',\n",
        " 'guitar',\n",
        " 'hamburger',\n",
        " 'hammer',\n",
        " 'hand',\n",
        " 'harp',\n",
        " 'hat',\n",
        " 'headphones',\n",
        " 'hedgehog',\n",
        " 'helicopter',\n",
        " 'helmet',\n",
        " 'hexagon',\n",
        " 'hockey puck',\n",
        " 'hockey stick',\n",
        " 'horse',\n",
        " 'hospital',\n",
        " 'hot air balloon',\n",
        " 'hot dog',\n",
        " 'hot tub',\n",
        " 'hourglass',\n",
        " 'house plant',\n",
        " 'house',\n",
        " 'hurricane',\n",
        " 'ice cream',\n",
        " 'jacket',\n",
        " 'jail',\n",
        " 'kangaroo',\n",
        " 'key',\n",
        " 'keyboard',\n",
        " 'knee',\n",
        " 'knife',\n",
        " 'ladder',\n",
        " 'lantern',\n",
        " 'laptop',\n",
        " 'leaf',\n",
        " 'leg',\n",
        " 'light bulb',\n",
        " 'lighter',\n",
        " 'lighthouse',\n",
        " 'lightning',\n",
        " 'line',\n",
        " 'lion',\n",
        " 'lipstick',\n",
        " 'lobster',\n",
        " 'lollipop',\n",
        " 'mailbox',\n",
        " 'map',\n",
        " 'marker',\n",
        " 'matches',\n",
        " 'megaphone',\n",
        " 'mermaid',\n",
        " 'microphone',\n",
        " 'microwave',\n",
        " 'monkey',\n",
        " 'moon',\n",
        " 'mosquito',\n",
        " 'motorbike',\n",
        " 'mountain',\n",
        " 'mouse',\n",
        " 'moustache',\n",
        " 'mouth',\n",
        " 'mug',\n",
        " 'mushroom',\n",
        " 'nail',\n",
        " 'necklace',\n",
        " 'nose',\n",
        " 'ocean',\n",
        " 'octagon',\n",
        " 'octopus',\n",
        " 'onion',\n",
        " 'oven',\n",
        " 'owl',\n",
        " 'paint can',\n",
        " 'paintbrush',\n",
        " 'palm tree',\n",
        " 'panda',\n",
        " 'pants',\n",
        " 'paper clip',\n",
        " 'parachute',\n",
        " 'parrot',\n",
        " 'passport',\n",
        " 'peanut',\n",
        " 'pear',\n",
        " 'peas',\n",
        " 'pencil',\n",
        " 'penguin',\n",
        " 'piano',\n",
        " 'pickup truck',\n",
        " 'picture frame',\n",
        " 'pig',\n",
        " 'pillow',\n",
        " 'pineapple',\n",
        " 'pizza',\n",
        " 'pliers',\n",
        " 'police car',\n",
        " 'pond',\n",
        " 'pool',\n",
        " 'popsicle',\n",
        " 'postcard',\n",
        " 'potato',\n",
        " 'power outlet',\n",
        " 'purse',\n",
        " 'rabbit',\n",
        " 'raccoon',\n",
        " 'radio',\n",
        " 'rain',\n",
        " 'rainbow',\n",
        " 'rake',\n",
        " 'remote control',\n",
        " 'rhinoceros',\n",
        " 'rifle',\n",
        " 'river',\n",
        " 'roller coaster',\n",
        " 'rollerskates',\n",
        " 'sailboat',\n",
        " 'sandwich',\n",
        " 'saw',\n",
        " 'saxophone',\n",
        " 'school bus',\n",
        " 'scissors',\n",
        " 'scorpion',\n",
        " 'screwdriver',\n",
        " 'sea turtle',\n",
        " 'see saw',\n",
        " 'shark',\n",
        " 'sheep',\n",
        " 'shoe',\n",
        " 'shorts',\n",
        " 'shovel',\n",
        " 'sink',\n",
        " 'skateboard',\n",
        " 'skull',\n",
        " 'skyscraper',\n",
        " 'sleeping bag',\n",
        " 'smiley face',\n",
        " 'snail',\n",
        " 'snake',\n",
        " 'snorkel',\n",
        " 'snowflake',\n",
        " 'snowman',\n",
        " 'soccer ball',\n",
        " 'sock',\n",
        " 'speedboat',\n",
        " 'spider',\n",
        " 'spoon',\n",
        " 'spreadsheet',\n",
        " 'square',\n",
        " 'squiggle',\n",
        " 'squirrel',\n",
        " 'stairs',\n",
        " 'star',\n",
        " 'steak',\n",
        " 'stereo',\n",
        " 'stethoscope',\n",
        " 'stitches',\n",
        " 'stop sign',\n",
        " 'stove',\n",
        " 'strawberry',\n",
        " 'streetlight',\n",
        " 'string bean',\n",
        " 'submarine',\n",
        " 'suitcase',\n",
        " 'sun',\n",
        " 'swan',\n",
        " 'sweater',\n",
        " 'swing set',\n",
        " 'sword',\n",
        " 'syringe',\n",
        " 't-shirt',\n",
        " 'table',\n",
        " 'teapot',\n",
        " 'teddy-bear',\n",
        " 'telephone',\n",
        " 'television',\n",
        " 'tennis racquet',\n",
        " 'tent',\n",
        " 'The Eiffel Tower',\n",
        " 'The Great Wall of China',\n",
        " 'The Mona Lisa',\n",
        " 'tiger',\n",
        " 'toaster',\n",
        " 'toe',\n",
        " 'toilet',\n",
        " 'tooth',\n",
        " 'toothbrush',\n",
        " 'toothpaste',\n",
        " 'tornado',\n",
        " 'tractor',\n",
        " 'traffic light',\n",
        " 'train',\n",
        " 'tree',\n",
        " 'triangle',\n",
        " 'trombone',\n",
        " 'truck',\n",
        " 'trumpet',\n",
        " 'umbrella',\n",
        " 'underwear',\n",
        " 'van',\n",
        " 'vase',\n",
        " 'violin',\n",
        " 'washing machine',\n",
        " 'watermelon',\n",
        " 'waterslide',\n",
        " 'whale',\n",
        " 'wheel',\n",
        " 'windmill',\n",
        " 'wine bottle',\n",
        " 'wine glass',\n",
        " 'wristwatch',\n",
        " 'yoga',\n",
        " 'zebra',\n",
        " 'zigzag']"
      ],
      "metadata": {
        "id": "A5-qJMawmChr"
      },
      "execution_count": 13,
      "outputs": []
    },
    {
      "cell_type": "code",
      "source": [
        "imgs = []\n",
        "def predict(img):\n",
        "    img = img['layers'][0][:,:,3]\n",
        "    img = cv2.resize(img, (28, 28))\n",
        "    img = np.array(img).reshape(1, 28, 28,1)\n",
        "    out = model.predict(img)\n",
        "    top5 = np.argsort(out[0])[::-1][:5]\n",
        "    labels = labels\n",
        "\n",
        "    # Create a dictionary with label-probability pairs for the top 5 predictions\n",
        "    probabilities = {labels[i]: float(out[0][i]) for i in top5}\n",
        "\n",
        "    return probabilities\n"
      ],
      "metadata": {
        "id": "qKZQXi40leqJ"
      },
      "execution_count": 63,
      "outputs": []
    },
    {
      "cell_type": "code",
      "source": [
        "import tensorflow as tf\n",
        "import numpy as np\n",
        "model = tf.keras.models.load_model('quickdraw.h5', compile=False)\n",
        "\n",
        "# Compile the model with your preferred optimizer and its settings\n",
        "opt = tf.keras.optimizers.Adam(learning_rate=0.001)  # You can replace this with your optimizer and settings\n",
        "model.compile(optimizer=opt, loss='categorical_crossentropy', metrics=['accuracy'])"
      ],
      "metadata": {
        "id": "jAGGUMB6j5jU"
      },
      "execution_count": 15,
      "outputs": []
    },
    {
      "cell_type": "code",
      "execution_count": null,
      "metadata": {
        "colab": {
          "base_uri": "https://localhost:8080/",
          "height": 1000
        },
        "id": "zWqgN8aNUuCK",
        "outputId": "bee49a40-428b-4851-bce8-7a10b0f81af1"
      },
      "outputs": [
        {
          "metadata": {
            "tags": null
          },
          "name": "stdout",
          "output_type": "stream",
          "text": [
            "Setting queue=True in a Colab notebook requires sharing enabled. Setting `share=True` (you can turn this off by setting `share=False` in `launch()` explicitly).\n",
            "\n",
            "Colab notebook detected. This cell will run indefinitely so that you can see errors and logs. To turn off, set debug=False in launch().\n",
            "Running on public URL: https://11e494e0394d6b8a20.gradio.live\n",
            "\n",
            "This share link expires in 72 hours. For free permanent hosting and GPU upgrades, run `gradio deploy` from Terminal to deploy to Spaces (https://huggingface.co/spaces)\n"
          ]
        },
        {
          "data": {
            "text/html": [
              "<div><iframe src=\"https://11e494e0394d6b8a20.gradio.live\" width=\"100%\" height=\"500\" allow=\"autoplay; camera; microphone; clipboard-read; clipboard-write;\" frameborder=\"0\" allowfullscreen></iframe></div>"
            ],
            "text/plain": [
              "<IPython.core.display.HTML object>"
            ]
          },
          "metadata": {},
          "output_type": "display_data"
        },
        {
          "metadata": {
            "tags": null
          },
          "name": "stdout",
          "output_type": "stream",
          "text": [
            "1/1 [==============================] - 0s 63ms/step\n"
          ]
        },
        {
          "metadata": {
            "tags": null
          },
          "name": "stderr",
          "output_type": "stream",
          "text": [
            "Traceback (most recent call last):\n",
            "  File \"/usr/local/lib/python3.10/dist-packages/gradio/queueing.py\", line 456, in call_prediction\n",
            "    output = await route_utils.call_process_api(\n",
            "  File \"/usr/local/lib/python3.10/dist-packages/gradio/route_utils.py\", line 232, in call_process_api\n",
            "    output = await app.get_blocks().process_api(\n",
            "  File \"/usr/local/lib/python3.10/dist-packages/gradio/blocks.py\", line 1522, in process_api\n",
            "    result = await self.call_function(\n",
            "  File \"/usr/local/lib/python3.10/dist-packages/gradio/blocks.py\", line 1144, in call_function\n",
            "    prediction = await anyio.to_thread.run_sync(\n",
            "  File \"/usr/local/lib/python3.10/dist-packages/anyio/to_thread.py\", line 33, in run_sync\n",
            "    return await get_asynclib().run_sync_in_worker_thread(\n",
            "  File \"/usr/local/lib/python3.10/dist-packages/anyio/_backends/_asyncio.py\", line 877, in run_sync_in_worker_thread\n",
            "    return await future\n",
            "  File \"/usr/local/lib/python3.10/dist-packages/anyio/_backends/_asyncio.py\", line 807, in run\n",
            "    result = context.run(func, *args)\n",
            "  File \"/usr/local/lib/python3.10/dist-packages/gradio/utils.py\", line 674, in wrapper\n",
            "    response = f(*args, **kwargs)\n",
            "  File \"<ipython-input-63-9e1cf83aca8d>\", line 8, in predict\n",
            "    labels = labels\n",
            "UnboundLocalError: local variable 'labels' referenced before assignment\n",
            "Traceback (most recent call last):\n",
            "  File \"/usr/local/lib/python3.10/dist-packages/gradio/queueing.py\", line 456, in call_prediction\n",
            "    output = await route_utils.call_process_api(\n",
            "  File \"/usr/local/lib/python3.10/dist-packages/gradio/route_utils.py\", line 232, in call_process_api\n",
            "    output = await app.get_blocks().process_api(\n",
            "  File \"/usr/local/lib/python3.10/dist-packages/gradio/blocks.py\", line 1522, in process_api\n",
            "    result = await self.call_function(\n",
            "  File \"/usr/local/lib/python3.10/dist-packages/gradio/blocks.py\", line 1144, in call_function\n",
            "    prediction = await anyio.to_thread.run_sync(\n",
            "  File \"/usr/local/lib/python3.10/dist-packages/anyio/to_thread.py\", line 33, in run_sync\n",
            "    return await get_asynclib().run_sync_in_worker_thread(\n",
            "  File \"/usr/local/lib/python3.10/dist-packages/anyio/_backends/_asyncio.py\", line 877, in run_sync_in_worker_thread\n",
            "    return await future\n",
            "  File \"/usr/local/lib/python3.10/dist-packages/anyio/_backends/_asyncio.py\", line 807, in run\n",
            "    result = context.run(func, *args)\n",
            "  File \"/usr/local/lib/python3.10/dist-packages/gradio/utils.py\", line 674, in wrapper\n",
            "    response = f(*args, **kwargs)\n",
            "  File \"<ipython-input-63-9e1cf83aca8d>\", line 8, in predict\n",
            "    labels = labels\n",
            "UnboundLocalError: local variable 'labels' referenced before assignment\n",
            "\n",
            "The above exception was the direct cause of the following exception:\n",
            "\n",
            "Traceback (most recent call last):\n",
            "  File \"/usr/local/lib/python3.10/dist-packages/gradio/queueing.py\", line 501, in process_events\n",
            "    response = await self.call_prediction(awake_events, batch)\n",
            "  File \"/usr/local/lib/python3.10/dist-packages/gradio/queueing.py\", line 465, in call_prediction\n",
            "    raise Exception(str(error) if show_error else None) from error\n",
            "Exception: None\n"
          ]
        }
      ],
      "source": [
        "import gradio as gr\n",
        "\n",
        "gr.Interface(fn=predict,\n",
        "             inputs=gr.Sketchpad(),\n",
        "             outputs=\"label\",\n",
        "             live=True).launch(debug=True)"
      ]
    },
    {
      "cell_type": "code",
      "source": [
        "gr.__version__"
      ],
      "metadata": {
        "colab": {
          "base_uri": "https://localhost:8080/",
          "height": 35
        },
        "id": "_8MsTWFxUwtf",
        "outputId": "5c427bb4-6b37-413e-84b9-295a6b10e360"
      },
      "execution_count": 3,
      "outputs": [
        {
          "output_type": "execute_result",
          "data": {
            "text/plain": [
              "'4.8.0'"
            ],
            "application/vnd.google.colaboratory.intrinsic+json": {
              "type": "string"
            }
          },
          "metadata": {},
          "execution_count": 3
        }
      ]
    },
    {
      "cell_type": "code",
      "source": [
        "import matplotlib.pyplot as plt\n",
        "plt.imshow(imgs[0]['layers'][0][:,:,3])"
      ],
      "metadata": {
        "id": "7ym_Hhdmh440",
        "outputId": "8802f2d7-c981-4cf0-ff8d-94d8b255d4c2",
        "colab": {
          "base_uri": "https://localhost:8080/",
          "height": 193
        }
      },
      "execution_count": 41,
      "outputs": [
        {
          "output_type": "error",
          "ename": "IndexError",
          "evalue": "ignored",
          "traceback": [
            "\u001b[0;31m---------------------------------------------------------------------------\u001b[0m",
            "\u001b[0;31mIndexError\u001b[0m                                Traceback (most recent call last)",
            "\u001b[0;32m<ipython-input-41-b16bbb5e243a>\u001b[0m in \u001b[0;36m<cell line: 2>\u001b[0;34m()\u001b[0m\n\u001b[1;32m      1\u001b[0m \u001b[0;32mimport\u001b[0m \u001b[0mmatplotlib\u001b[0m\u001b[0;34m.\u001b[0m\u001b[0mpyplot\u001b[0m \u001b[0;32mas\u001b[0m \u001b[0mplt\u001b[0m\u001b[0;34m\u001b[0m\u001b[0;34m\u001b[0m\u001b[0m\n\u001b[0;32m----> 2\u001b[0;31m \u001b[0mplt\u001b[0m\u001b[0;34m.\u001b[0m\u001b[0mimshow\u001b[0m\u001b[0;34m(\u001b[0m\u001b[0mimgs\u001b[0m\u001b[0;34m[\u001b[0m\u001b[0;36m0\u001b[0m\u001b[0;34m]\u001b[0m\u001b[0;34m[\u001b[0m\u001b[0;34m'layers'\u001b[0m\u001b[0;34m]\u001b[0m\u001b[0;34m[\u001b[0m\u001b[0;36m0\u001b[0m\u001b[0;34m]\u001b[0m\u001b[0;34m[\u001b[0m\u001b[0;34m:\u001b[0m\u001b[0;34m,\u001b[0m\u001b[0;34m:\u001b[0m\u001b[0;34m,\u001b[0m\u001b[0;36m4\u001b[0m\u001b[0;34m]\u001b[0m\u001b[0;34m)\u001b[0m\u001b[0;34m\u001b[0m\u001b[0;34m\u001b[0m\u001b[0m\n\u001b[0m",
            "\u001b[0;31mIndexError\u001b[0m: index 4 is out of bounds for axis 2 with size 4"
          ]
        }
      ]
    },
    {
      "cell_type": "code",
      "source": [
        "img = imgs[1]['layers'][0][:,:,3]\n",
        "img = np.array(img)\n",
        "# img.resize(28, 28,1)"
      ],
      "metadata": {
        "id": "75VCk8Kzh_bu"
      },
      "execution_count": 54,
      "outputs": []
    },
    {
      "cell_type": "code",
      "source": [
        "plt.imshow(img)"
      ],
      "metadata": {
        "id": "iAMwiyjNplw7",
        "outputId": "848a1496-d52e-44d8-8ff8-bd3dbe2f76f6",
        "colab": {
          "base_uri": "https://localhost:8080/",
          "height": 452
        }
      },
      "execution_count": 55,
      "outputs": [
        {
          "output_type": "execute_result",
          "data": {
            "text/plain": [
              "<matplotlib.image.AxesImage at 0x7ec887609840>"
            ]
          },
          "metadata": {},
          "execution_count": 55
        },
        {
          "output_type": "display_data",
          "data": {
            "text/plain": [
              "<Figure size 640x480 with 1 Axes>"
            ],
            "image/png": "[encoded data removed]"
          },
          "metadata": {}
        }
      ]
    },
    {
      "cell_type": "code",
      "source": [
        "import cv2\n",
        "resized_image = cv2.resize(img, (28, 28))"
      ],
      "metadata": {
        "id": "rxblAM6FpzYg"
      },
      "execution_count": 58,
      "outputs": []
    },
    {
      "cell_type": "code",
      "source": [
        "plt.imshow(resized_image)"
      ],
      "metadata": {
        "id": "_8kaAIWPqsdF",
        "outputId": "3ad73ba5-2337-4c6d-9649-64428fbc2f16",
        "colab": {
          "base_uri": "https://localhost:8080/",
          "height": 447
        }
      },
      "execution_count": 59,
      "outputs": [
        {
          "output_type": "execute_result",
          "data": {
            "text/plain": [
              "<matplotlib.image.AxesImage at 0x7ec886ecea70>"
            ]
          },
          "metadata": {},
          "execution_count": 59
        },
        {
          "output_type": "display_data",
          "data": {
            "text/plain": [
              "<Figure size 640x480 with 1 Axes>"
            ],
            "image/png": "[encoded data removed]"
          },
          "metadata": {}
        }
      ]
    },
    {
      "cell_type": "code",
      "source": [],
      "metadata": {
        "id": "CkMyjSnrqvOI"
      },
      "execution_count": null,
      "outputs": []
    }
  ]
}
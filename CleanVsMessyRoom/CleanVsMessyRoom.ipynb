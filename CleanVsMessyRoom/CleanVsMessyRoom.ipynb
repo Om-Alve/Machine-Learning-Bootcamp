{
 "cells": [
  {
   "cell_type": "code",
   "execution_count": 5,
   "id": "c7bc4dc6-f248-4bbd-bb42-9b9081c9d73c",
   "metadata": {
    "tags": []
   },
   "outputs": [],
   "source": [
    "import numpy as np\n",
    "import cv2\n",
    "from sklearn.linear_model import LogisticRegression\n",
    "from sklearn.neighbors import KNeighborsClassifier\n",
    "import matplotlib.pyplot as plt\n",
    "import os\n",
    "from tqdm import tqdm"
   ]
  },
  {
   "cell_type": "code",
   "execution_count": 6,
   "id": "f3e56f4e-bd84-46ac-8a93-5e2509ef54b5",
   "metadata": {
    "tags": []
   },
   "outputs": [],
   "source": [
    "train_messy = \"images/train/messy\"\n",
    "train_clean= \"images/train/clean\"\n",
    "test_messy= \"images/val/messy\"\n",
    "test_clean= \"images/val/clean\"\n",
    "image_size = 128"
   ]
  },
  {
   "cell_type": "code",
   "execution_count": 28,
   "id": "fd8ce3f5-34c2-4b49-9ee6-9e0d3769d43c",
   "metadata": {
    "tags": []
   },
   "outputs": [],
   "source": [
    "def train_data():\n",
    "    train_data_messy = [] \n",
    "    train_data_clean=[]\n",
    "    for image1 in tqdm(os.listdir(train_messy)): \n",
    "        path = os.path.join(train_messy, image1)\n",
    "        img1 = cv2.imread(path, cv2.IMREAD_GRAYSCALE) \n",
    "        img1 = cv2.resize(img1, (image_size, image_size))\n",
    "        train_data_messy.append(img1) \n",
    "    for image2 in tqdm(os.listdir(train_clean)): \n",
    "        path = os.path.join(train_clean, image2)\n",
    "        img2 = cv2.imread(path, cv2.IMREAD_GRAYSCALE) \n",
    "        img2 = cv2.resize(img2, (image_size, image_size))\n",
    "        train_data_clean.append(img2) \n",
    "    \n",
    "    train_data= np.concatenate((np.asarray(train_data_messy),np.asarray(train_data_clean)),axis=0)\n",
    "    return train_data "
   ]
  },
  {
   "cell_type": "code",
   "execution_count": 29,
   "id": "9415f969-9451-45c5-8e76-216c624031bb",
   "metadata": {
    "tags": []
   },
   "outputs": [],
   "source": [
    "def test_data():\n",
    "    test_data_messy = [] \n",
    "    test_data_clean=[]\n",
    "    for image1 in tqdm(os.listdir(test_messy)): \n",
    "        path = os.path.join(test_messy, image1)\n",
    "        img1 = cv2.imread(path, cv2.IMREAD_GRAYSCALE) \n",
    "        img1 = cv2.resize(img1, (image_size, image_size))\n",
    "        test_data_messy.append(img1) \n",
    "    for image2 in tqdm(os.listdir(test_clean)): \n",
    "        if image2[0] == \".\":\n",
    "            continue\n",
    "        path = os.path.join(test_clean, image2)\n",
    "        img2 = cv2.imread(path, cv2.IMREAD_GRAYSCALE) \n",
    "        img2 = cv2.resize(img2, (image_size, image_size))\n",
    "        test_data_clean.append(img2) \n",
    "    \n",
    "    test_data= np.concatenate((np.asarray(test_data_messy),np.asarray(test_data_clean)),axis=0) \n",
    "    return test_data "
   ]
  },
  {
   "cell_type": "code",
   "execution_count": 30,
   "id": "7f1b2187-2b46-4309-9796-8abefbe36707",
   "metadata": {
    "tags": []
   },
   "outputs": [
    {
     "name": "stderr",
     "output_type": "stream",
     "text": [
      "100%|██████████| 96/96 [00:00<00:00, 147.65it/s]\n",
      "100%|██████████| 96/96 [00:00<00:00, 172.56it/s]\n",
      "100%|██████████| 10/10 [00:00<00:00, 281.27it/s]\n",
      "100%|██████████| 11/11 [00:00<00:00, 192.00it/s]\n"
     ]
    }
   ],
   "source": [
    "train_data = train_data() \n",
    "test_data = test_data()"
   ]
  },
  {
   "cell_type": "code",
   "execution_count": 31,
   "id": "67ad3071-200e-42da-83c3-7c041f876362",
   "metadata": {
    "tags": []
   },
   "outputs": [],
   "source": [
    "x_data=np.concatenate((train_data,test_data),axis=0)\n",
    "x_data = (x_data-np.min(x_data))/(np.max(x_data)-np.min(x_data))"
   ]
  },
  {
   "cell_type": "code",
   "execution_count": 32,
   "id": "d3295d8c-069e-4e67-a117-ce845de25065",
   "metadata": {
    "tags": []
   },
   "outputs": [],
   "source": [
    "z1 = np.zeros(96)\n",
    "o1 = np.ones(96)\n",
    "Y_train = np.concatenate((o1, z1), axis=0)\n",
    "z = np.zeros(10)\n",
    "o = np.ones(10)\n",
    "Y_test = np.concatenate((o, z), axis=0)"
   ]
  },
  {
   "cell_type": "code",
   "execution_count": 33,
   "id": "c9c7c273-a5c0-404e-80ae-e0de631c5564",
   "metadata": {
    "tags": []
   },
   "outputs": [],
   "source": [
    "y_data=np.concatenate((Y_train,Y_test),axis=0).reshape(x_data.shape[0],1)"
   ]
  },
  {
   "cell_type": "code",
   "execution_count": 34,
   "id": "49acb760-352e-4497-96f8-0671509c429c",
   "metadata": {
    "tags": []
   },
   "outputs": [
    {
     "data": {
      "text/plain": [
       "((212, 128, 128), (212, 1))"
      ]
     },
     "execution_count": 34,
     "metadata": {},
     "output_type": "execute_result"
    }
   ],
   "source": [
    "x_data.shape,y_data.shape"
   ]
  },
  {
   "cell_type": "code",
   "execution_count": 37,
   "id": "b8d5f1c5-54ef-4dd7-b58a-3d48103375a8",
   "metadata": {
    "tags": []
   },
   "outputs": [
    {
     "data": {
      "text/plain": [
       "((212, 16384), (212, 1))"
      ]
     },
     "execution_count": 37,
     "metadata": {},
     "output_type": "execute_result"
    }
   ],
   "source": [
    "X = x_data.reshape(x_data.shape[0],x_data.shape[1]*x_data.shape[2])\n",
    "y = y_data\n",
    "X.shape,y.shape"
   ]
  },
  {
   "cell_type": "code",
   "execution_count": 43,
   "id": "93dda4d3-1c0c-44e7-9e1f-2ca3d0407da0",
   "metadata": {
    "tags": []
   },
   "outputs": [],
   "source": [
    "from sklearn.svm import SVC\n",
    "from sklearn.model_selection import train_test_split\n",
    "from sklearn.model_selection import GridSearchCV"
   ]
  },
  {
   "cell_type": "code",
   "execution_count": 44,
   "id": "fd7f1cfd-3244-450c-8a3d-5f8d545067ef",
   "metadata": {
    "tags": []
   },
   "outputs": [],
   "source": [
    "X_train, X_test, y_train, y_test = train_test_split(\n",
    "...     X, y, test_size=0.33, random_state=42)"
   ]
  },
  {
   "cell_type": "code",
   "execution_count": 45,
   "id": "e0e8b9ec-e725-4cec-b3b7-14b16b1b78b6",
   "metadata": {
    "tags": []
   },
   "outputs": [],
   "source": [
    "param_grid = {\n",
    "    'C': [0.1, 1, 10],  # Regularization parameter\n",
    "    'kernel': ['linear', 'rbf'],  # Kernel type: linear or radial basis function\n",
    "    'gamma': [0.1, 1, 'scale'],  # Kernel coefficient (scale for 1 / (n_features * X.var()))\n",
    "}\n",
    "svc = SVC()\n"
   ]
  },
  {
   "cell_type": "code",
   "execution_count": 47,
   "id": "46aef30c-c116-4e66-9dc6-e7bbafacd1a3",
   "metadata": {
    "tags": []
   },
   "outputs": [
    {
     "data": {
      "text/html": [
       "<style>#sk-container-id-5 {color: black;background-color: white;}#sk-container-id-5 pre{padding: 0;}#sk-container-id-5 div.sk-toggleable {background-color: white;}#sk-container-id-5 label.sk-toggleable__label {cursor: pointer;display: block;width: 100%;margin-bottom: 0;padding: 0.3em;box-sizing: border-box;text-align: center;}#sk-container-id-5 label.sk-toggleable__label-arrow:before {content: \"▸\";float: left;margin-right: 0.25em;color: #696969;}#sk-container-id-5 label.sk-toggleable__label-arrow:hover:before {color: black;}#sk-container-id-5 div.sk-estimator:hover label.sk-toggleable__label-arrow:before {color: black;}#sk-container-id-5 div.sk-toggleable__content {max-height: 0;max-width: 0;overflow: hidden;text-align: left;background-color: #f0f8ff;}#sk-container-id-5 div.sk-toggleable__content pre {margin: 0.2em;color: black;border-radius: 0.25em;background-color: #f0f8ff;}#sk-container-id-5 input.sk-toggleable__control:checked~div.sk-toggleable__content {max-height: 200px;max-width: 100%;overflow: auto;}#sk-container-id-5 input.sk-toggleable__control:checked~label.sk-toggleable__label-arrow:before {content: \"▾\";}#sk-container-id-5 div.sk-estimator input.sk-toggleable__control:checked~label.sk-toggleable__label {background-color: #d4ebff;}#sk-container-id-5 div.sk-label input.sk-toggleable__control:checked~label.sk-toggleable__label {background-color: #d4ebff;}#sk-container-id-5 input.sk-hidden--visually {border: 0;clip: rect(1px 1px 1px 1px);clip: rect(1px, 1px, 1px, 1px);height: 1px;margin: -1px;overflow: hidden;padding: 0;position: absolute;width: 1px;}#sk-container-id-5 div.sk-estimator {font-family: monospace;background-color: #f0f8ff;border: 1px dotted black;border-radius: 0.25em;box-sizing: border-box;margin-bottom: 0.5em;}#sk-container-id-5 div.sk-estimator:hover {background-color: #d4ebff;}#sk-container-id-5 div.sk-parallel-item::after {content: \"\";width: 100%;border-bottom: 1px solid gray;flex-grow: 1;}#sk-container-id-5 div.sk-label:hover label.sk-toggleable__label {background-color: #d4ebff;}#sk-container-id-5 div.sk-serial::before {content: \"\";position: absolute;border-left: 1px solid gray;box-sizing: border-box;top: 0;bottom: 0;left: 50%;z-index: 0;}#sk-container-id-5 div.sk-serial {display: flex;flex-direction: column;align-items: center;background-color: white;padding-right: 0.2em;padding-left: 0.2em;position: relative;}#sk-container-id-5 div.sk-item {position: relative;z-index: 1;}#sk-container-id-5 div.sk-parallel {display: flex;align-items: stretch;justify-content: center;background-color: white;position: relative;}#sk-container-id-5 div.sk-item::before, #sk-container-id-5 div.sk-parallel-item::before {content: \"\";position: absolute;border-left: 1px solid gray;box-sizing: border-box;top: 0;bottom: 0;left: 50%;z-index: -1;}#sk-container-id-5 div.sk-parallel-item {display: flex;flex-direction: column;z-index: 1;position: relative;background-color: white;}#sk-container-id-5 div.sk-parallel-item:first-child::after {align-self: flex-end;width: 50%;}#sk-container-id-5 div.sk-parallel-item:last-child::after {align-self: flex-start;width: 50%;}#sk-container-id-5 div.sk-parallel-item:only-child::after {width: 0;}#sk-container-id-5 div.sk-dashed-wrapped {border: 1px dashed gray;margin: 0 0.4em 0.5em 0.4em;box-sizing: border-box;padding-bottom: 0.4em;background-color: white;}#sk-container-id-5 div.sk-label label {font-family: monospace;font-weight: bold;display: inline-block;line-height: 1.2em;}#sk-container-id-5 div.sk-label-container {text-align: center;}#sk-container-id-5 div.sk-container {/* jupyter's `normalize.less` sets `[hidden] { display: none; }` but bootstrap.min.css set `[hidden] { display: none !important; }` so we also need the `!important` here to be able to override the default hidden behavior on the sphinx rendered scikit-learn.org. See: https://github.com/scikit-learn/scikit-learn/issues/21755 */display: inline-block !important;position: relative;}#sk-container-id-5 div.sk-text-repr-fallback {display: none;}</style><div id=\"sk-container-id-5\" class=\"sk-top-container\"><div class=\"sk-text-repr-fallback\"><pre>GridSearchCV(cv=5, estimator=SVC(),\n",
       "             param_grid={&#x27;C&#x27;: [0.1, 1, 10], &#x27;gamma&#x27;: [0.1, 1, &#x27;scale&#x27;],\n",
       "                         &#x27;kernel&#x27;: [&#x27;linear&#x27;, &#x27;rbf&#x27;]})</pre><b>In a Jupyter environment, please rerun this cell to show the HTML representation or trust the notebook. <br />On GitHub, the HTML representation is unable to render, please try loading this page with nbviewer.org.</b></div><div class=\"sk-container\" hidden><div class=\"sk-item sk-dashed-wrapped\"><div class=\"sk-label-container\"><div class=\"sk-label sk-toggleable\"><input class=\"sk-toggleable__control sk-hidden--visually\" id=\"sk-estimator-id-7\" type=\"checkbox\" ><label for=\"sk-estimator-id-7\" class=\"sk-toggleable__label sk-toggleable__label-arrow\">GridSearchCV</label><div class=\"sk-toggleable__content\"><pre>GridSearchCV(cv=5, estimator=SVC(),\n",
       "             param_grid={&#x27;C&#x27;: [0.1, 1, 10], &#x27;gamma&#x27;: [0.1, 1, &#x27;scale&#x27;],\n",
       "                         &#x27;kernel&#x27;: [&#x27;linear&#x27;, &#x27;rbf&#x27;]})</pre></div></div></div><div class=\"sk-parallel\"><div class=\"sk-parallel-item\"><div class=\"sk-item\"><div class=\"sk-label-container\"><div class=\"sk-label sk-toggleable\"><input class=\"sk-toggleable__control sk-hidden--visually\" id=\"sk-estimator-id-8\" type=\"checkbox\" ><label for=\"sk-estimator-id-8\" class=\"sk-toggleable__label sk-toggleable__label-arrow\">estimator: SVC</label><div class=\"sk-toggleable__content\"><pre>SVC()</pre></div></div></div><div class=\"sk-serial\"><div class=\"sk-item\"><div class=\"sk-estimator sk-toggleable\"><input class=\"sk-toggleable__control sk-hidden--visually\" id=\"sk-estimator-id-9\" type=\"checkbox\" ><label for=\"sk-estimator-id-9\" class=\"sk-toggleable__label sk-toggleable__label-arrow\">SVC</label><div class=\"sk-toggleable__content\"><pre>SVC()</pre></div></div></div></div></div></div></div></div></div></div>"
      ],
      "text/plain": [
       "GridSearchCV(cv=5, estimator=SVC(),\n",
       "             param_grid={'C': [0.1, 1, 10], 'gamma': [0.1, 1, 'scale'],\n",
       "                         'kernel': ['linear', 'rbf']})"
      ]
     },
     "execution_count": 47,
     "metadata": {},
     "output_type": "execute_result"
    }
   ],
   "source": [
    "grid_search = GridSearchCV(svc, param_grid, cv=5)  \n",
    "grid_search.fit(X_train, y_train.ravel())  \n"
   ]
  },
  {
   "cell_type": "code",
   "execution_count": 49,
   "id": "9ba5d11f-aa78-4aba-b9fc-5f2795517226",
   "metadata": {
    "tags": []
   },
   "outputs": [
    {
     "data": {
      "text/plain": [
       "({'C': 1, 'gamma': 'scale', 'kernel': 'rbf'}, SVC(C=1))"
      ]
     },
     "execution_count": 49,
     "metadata": {},
     "output_type": "execute_result"
    }
   ],
   "source": [
    "best_params = grid_search.best_params_\n",
    "best_model = grid_search.best_estimator_\n",
    "best_params,best_model"
   ]
  },
  {
   "cell_type": "code",
   "execution_count": 50,
   "id": "2c2b6bc0-662c-4c9c-a0d3-d5ee3be8ec7b",
   "metadata": {
    "tags": []
   },
   "outputs": [
    {
     "data": {
      "text/plain": [
       "0.7285714285714285"
      ]
     },
     "execution_count": 50,
     "metadata": {},
     "output_type": "execute_result"
    }
   ],
   "source": [
    "best_model.score(X_test,y_test)"
   ]
  },
  {
   "cell_type": "code",
   "execution_count": 51,
   "id": "eee8df25-1021-408f-8d98-a6c5f1f24f9e",
   "metadata": {
    "tags": []
   },
   "outputs": [],
   "source": [
    "class Dense_Layer:\n",
    "    def __init__(self,ninputs,nneurons):\n",
    "        # Initialising weights and biases\n",
    "        self.weights = 0.01 * np.random.randn(ninputs,nneurons)\n",
    "        self.biases = np.zeros((1,nneurons))\n",
    "        \n",
    "    # Forward Propagation    \n",
    "    def forward(self,inputs):\n",
    "        self.output = np.dot(inputs,self.weights) + self.biases\n",
    "        self.inputs = inputs\n",
    "    \n",
    "    # Backpropagation\n",
    "    def backward(self,dvalues):\n",
    "        self.dinputs = np.dot(dvalues,self.weights.T)\n",
    "        self.dweights = np.dot(self.inputs.T,dvalues)\n",
    "        self.dbiases = np.sum(dvalues,axis=0,keepdims=True)"
   ]
  },
  {
   "cell_type": "code",
   "execution_count": 52,
   "id": "a85276bb-f129-4685-8121-77021741a4b7",
   "metadata": {
    "tags": []
   },
   "outputs": [],
   "source": [
    "class Activation_Relu:\n",
    "    def forward(self,inputs):\n",
    "        self.output = np.maximum(0,inputs)\n",
    "        self.inputs = inputs\n",
    "    \n",
    "    def backward(self,dvalues):\n",
    "        self.dinputs = dvalues.copy()\n",
    "        self.dinputs[self.inputs <= 0] = 0\n",
    "        "
   ]
  },
  {
   "cell_type": "code",
   "execution_count": 53,
   "id": "7f2e32e4-9f46-4ba9-b2f7-b685d5b493ed",
   "metadata": {
    "tags": []
   },
   "outputs": [],
   "source": [
    "class Activation_Softmax:\n",
    "    def forward(self,inputs,y_true):\n",
    "        expvals = np.exp(inputs - np.max(inputs, axis=1,\n",
    "        keepdims=True) )\n",
    "        self.output = expvals/np.sum(expvals,axis=1,keepdims=True)"
   ]
  },
  {
   "cell_type": "code",
   "execution_count": 54,
   "id": "65247a93-73b1-42c5-8a5f-431b260591b5",
   "metadata": {
    "tags": []
   },
   "outputs": [],
   "source": [
    "class CrossEntropyLoss:\n",
    "    def calculate(self,y_pred,y_true):\n",
    "        # Turning one hot encoded values into sparse vectors\n",
    "        if len(y_true.shape) == 2:\n",
    "            y_true = np.argmax(y_true,axis=1)\n",
    "        \n",
    "        # Clipping to prevent log with 0\n",
    "        ypred = np.clip(y_pred,1e-7,1-1e-7)\n",
    "        \n",
    "        return np.mean(-np.log(y_pred[range(len(y_pred)),y_true]))\n",
    "    \n"
   ]
  },
  {
   "cell_type": "code",
   "execution_count": 55,
   "id": "a307e644-58fd-494a-bc74-58b71d11d2bc",
   "metadata": {
    "tags": []
   },
   "outputs": [],
   "source": [
    "class Activation_softmax_cross_entropy:\n",
    "    def __init__(self):\n",
    "        self.activation = Activation_Softmax()\n",
    "        self.lossfunc = CrossEntropyLoss()\n",
    "    \n",
    "    def forward(self,inputs,y_true):\n",
    "        self.activation.forward(inputs,y_true)\n",
    "        self.output = self.activation.output\n",
    "        return self.lossfunc.calculate(self.output,y_true)\n",
    "    \n",
    "    def backward(self,dvalues,y_true):\n",
    "        samples = len(y_true)\n",
    "        \n",
    "        # Turning one hot encoded arrays to sparse vectors\n",
    "        if len(y_true.shape) == 2:\n",
    "            y_true = np.argmax(y_true,axis=1)\n",
    "        \n",
    "        self.dinputs = dvalues.copy()\n",
    "        self.dinputs[range(samples),y_true] -= 1\n",
    "        \n",
    "        self.dinputs/=samples"
   ]
  },
  {
   "cell_type": "code",
   "execution_count": 56,
   "id": "df7dfc32-7a07-4b77-971c-f877a46274e4",
   "metadata": {
    "tags": []
   },
   "outputs": [],
   "source": [
    "class SGD_Optimizer:\n",
    "    def __init__(self,lr=1,decay_rate=0.1,momentum=0.):\n",
    "        self.initiallr = lr\n",
    "        self.currentlr = lr\n",
    "        self.decay_rate = decay_rate\n",
    "        self.iterations = 0\n",
    "        self.momentum = momentum\n",
    "    \n",
    "    def pre_update(self):\n",
    "        self.currentlr = self.initiallr * (1/(1+(self.decay_rate * self.iterations)))\n",
    "\n",
    "    def update_params(self,layer):\n",
    "        \n",
    "        if self.momentum:\n",
    "            # if we don't have momentum arrays create them\n",
    "            if not hasattr(layer, 'weight_momentums'):\n",
    "                layer.weight_momentums = np.zeros_like(layer.weights)\n",
    "                \n",
    "                layer.bias_momentums = np.zeros_like(layer.biases)\n",
    "            \n",
    "            weight_updates = \\\n",
    "                self.momentum * layer.weight_momentums - self.currentlr * layer.dweights\n",
    "            layer.weight_momentums = weight_updates\n",
    "            \n",
    "            bias_updates = \\\n",
    "                self.momentum * layer.bias_momentums - self.currentlr * layer.dbiases\n",
    "            layer.bias_momentums = bias_updates\n",
    "            \n",
    "        else:\n",
    "            weight_updates = -self.currentlr * layer.dweights\n",
    "            bias_updates = -self.currentlr * layer.dbiases\n",
    "                \n",
    "        \n",
    "        layer.weights += weight_updates\n",
    "        layer.biases += bias_updates\n",
    "        \n",
    "    def post_update(self):\n",
    "        self.iterations += 1"
   ]
  },
  {
   "cell_type": "code",
   "execution_count": 64,
   "id": "0e477bbf-d2af-4a04-a9ba-b4e6883a3e34",
   "metadata": {
    "tags": []
   },
   "outputs": [
    {
     "name": "stdout",
     "output_type": "stream",
     "text": [
      "Epoch :  0  Accuracy :  0.4894862130529657  Loss :  0.6892998184760466\n",
      "Epoch :  100  Accuracy :  0.4859154929577465  Loss :  9.647994453433246e-16\n",
      "Epoch :  200  Accuracy :  0.4859154929577465  Loss :  9.647994453433246e-16\n",
      "Epoch :  300  Accuracy :  0.4859154929577465  Loss :  9.647994453433246e-16\n",
      "Epoch :  400  Accuracy :  0.4859154929577465  Loss :  9.647994453433246e-16\n",
      "Epoch :  500  Accuracy :  0.4859154929577465  Loss :  9.647994453433246e-16\n",
      "Epoch :  600  Accuracy :  0.4859154929577465  Loss :  9.647994453433246e-16\n",
      "Epoch :  700  Accuracy :  0.4859154929577465  Loss :  9.647994453433246e-16\n",
      "Epoch :  800  Accuracy :  0.4859154929577465  Loss :  9.647994453433246e-16\n",
      "Epoch :  900  Accuracy :  0.4859154929577465  Loss :  9.647994453433246e-16\n",
      "Epoch :  1000  Accuracy :  0.4859154929577465  Loss :  9.647994453433246e-16\n"
     ]
    }
   ],
   "source": [
    "layer1 = Dense_Layer(16384,16)\n",
    "act = Activation_Relu()\n",
    "layer2 = Dense_Layer(16,2)\n",
    "actloss = Activation_softmax_cross_entropy()\n",
    "optimizer = SGD_Optimizer(1,decay_rate=1e-3,momentum=0.5)\n",
    "\n",
    "for epoch in range(1001):\n",
    "    layer1.forward(X_train)\n",
    "    act.forward(layer1.output)\n",
    "    layer2.forward(act.output)\n",
    "    loss = actloss.forward(layer2.output,y_train)\n",
    "    \n",
    "    y_pred = np.argmax(actloss.output,axis=1)\n",
    "    \n",
    "    acc = np.mean(y_pred == y_train)\n",
    "    if epoch % 100 == 0:\n",
    "        print(\"Epoch : \",epoch, \" Accuracy : \",acc, \" Loss : \",loss)\n",
    "    \n",
    "    actloss.backward(actloss.output,y_train)\n",
    "    layer2.backward(actloss.dinputs)\n",
    "    act.backward(layer2.dinputs)\n",
    "    layer1.backward(act.dinputs)\n",
    "\n",
    "    optimizer.update_params(layer1)\n",
    "    optimizer.update_params(layer2)"
   ]
  },
  {
   "cell_type": "code",
   "execution_count": 63,
   "id": "81513cbb-eebd-431b-8f07-9222da3b1e86",
   "metadata": {
    "tags": []
   },
   "outputs": [
    {
     "data": {
      "text/plain": [
       "array([[1.],\n",
       "       [1.],\n",
       "       [1.],\n",
       "       [0.],\n",
       "       [1.],\n",
       "       [0.],\n",
       "       [1.],\n",
       "       [0.],\n",
       "       [0.],\n",
       "       [1.],\n",
       "       [1.],\n",
       "       [0.],\n",
       "       [1.],\n",
       "       [0.],\n",
       "       [1.],\n",
       "       [0.],\n",
       "       [0.],\n",
       "       [0.],\n",
       "       [1.],\n",
       "       [1.],\n",
       "       [1.],\n",
       "       [0.],\n",
       "       [0.],\n",
       "       [1.],\n",
       "       [1.],\n",
       "       [0.],\n",
       "       [1.],\n",
       "       [0.],\n",
       "       [1.],\n",
       "       [1.],\n",
       "       [0.],\n",
       "       [0.],\n",
       "       [1.],\n",
       "       [1.],\n",
       "       [0.],\n",
       "       [0.],\n",
       "       [1.],\n",
       "       [1.],\n",
       "       [1.],\n",
       "       [0.],\n",
       "       [0.],\n",
       "       [1.],\n",
       "       [1.],\n",
       "       [0.],\n",
       "       [0.],\n",
       "       [0.],\n",
       "       [0.],\n",
       "       [0.],\n",
       "       [1.],\n",
       "       [1.],\n",
       "       [0.],\n",
       "       [0.],\n",
       "       [0.],\n",
       "       [1.],\n",
       "       [0.],\n",
       "       [0.],\n",
       "       [1.],\n",
       "       [0.],\n",
       "       [1.],\n",
       "       [1.],\n",
       "       [0.],\n",
       "       [1.],\n",
       "       [0.],\n",
       "       [1.],\n",
       "       [0.],\n",
       "       [0.],\n",
       "       [1.],\n",
       "       [1.],\n",
       "       [0.],\n",
       "       [1.],\n",
       "       [1.],\n",
       "       [0.],\n",
       "       [1.],\n",
       "       [0.],\n",
       "       [1.],\n",
       "       [0.],\n",
       "       [1.],\n",
       "       [0.],\n",
       "       [1.],\n",
       "       [0.],\n",
       "       [1.],\n",
       "       [1.],\n",
       "       [1.],\n",
       "       [1.],\n",
       "       [1.],\n",
       "       [0.],\n",
       "       [1.],\n",
       "       [1.],\n",
       "       [0.],\n",
       "       [1.],\n",
       "       [1.],\n",
       "       [1.],\n",
       "       [1.],\n",
       "       [1.],\n",
       "       [0.],\n",
       "       [0.],\n",
       "       [1.],\n",
       "       [0.],\n",
       "       [1.],\n",
       "       [0.],\n",
       "       [0.],\n",
       "       [0.],\n",
       "       [1.],\n",
       "       [1.],\n",
       "       [1.],\n",
       "       [0.],\n",
       "       [1.],\n",
       "       [0.],\n",
       "       [0.],\n",
       "       [0.],\n",
       "       [1.],\n",
       "       [1.],\n",
       "       [1.],\n",
       "       [1.],\n",
       "       [1.],\n",
       "       [0.],\n",
       "       [0.],\n",
       "       [0.],\n",
       "       [0.],\n",
       "       [1.],\n",
       "       [0.],\n",
       "       [1.],\n",
       "       [1.],\n",
       "       [1.],\n",
       "       [0.],\n",
       "       [0.],\n",
       "       [0.],\n",
       "       [0.],\n",
       "       [0.],\n",
       "       [0.],\n",
       "       [1.],\n",
       "       [1.],\n",
       "       [0.],\n",
       "       [0.],\n",
       "       [1.],\n",
       "       [0.],\n",
       "       [1.],\n",
       "       [0.],\n",
       "       [1.],\n",
       "       [1.],\n",
       "       [0.],\n",
       "       [0.]])"
      ]
     },
     "execution_count": 63,
     "metadata": {},
     "output_type": "execute_result"
    }
   ],
   "source": [
    "y_train"
   ]
  },
  {
   "cell_type": "code",
   "execution_count": null,
   "id": "87e99d42-9fc8-4dd3-8f1f-de696c267444",
   "metadata": {},
   "outputs": [],
   "source": []
  }
 ],
 "metadata": {
  "kernelspec": {
   "display_name": "Python 3 (ipykernel)",
   "language": "python",
   "name": "python3"
  },
  "language_info": {
   "codemirror_mode": {
    "name": "ipython",
    "version": 3
   },
   "file_extension": ".py",
   "mimetype": "text/x-python",
   "name": "python",
   "nbconvert_exporter": "python",
   "pygments_lexer": "ipython3",
   "version": "3.11.3"
  }
 },
 "nbformat": 4,
 "nbformat_minor": 5
}

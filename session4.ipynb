{
 "cells": [
  {
   "cell_type": "code",
   "execution_count": 6,
   "id": "9158c315-d996-4491-9321-487690be50c4",
   "metadata": {},
   "outputs": [],
   "source": [
    "import requests"
   ]
  },
  {
   "cell_type": "code",
   "execution_count": 7,
   "id": "d019fb92-8503-46ac-8621-3807ecedccd7",
   "metadata": {},
   "outputs": [],
   "source": [
    "url = \"https://blogger.googleusercontent.com/img/b/R29vZ2xl/AVvXsEju-kkBpT12V2uUJhb46sFukdVqHia5bSj5XAAvSwsOzh6qg8x3Q6WmAl3gVOTXhAdFJwth7oLdeRN4iGSZGT85yfgJIyrnTTz-8Up7Ev7EMAn9yMGMXHkTx29vvW6Vgj7CJdh9GPWtl7ZelpmLso5CJBLVdI0OfwPBE-OFZ1P0obNcssNfPi11rRGUZA/s377/Capture.PNG\"\n",
    "res = requests.get(url)"
   ]
  },
  {
   "cell_type": "code",
   "execution_count": 8,
   "id": "7d5c50a1-c513-49b5-a6b9-7a7b8c59aae6",
   "metadata": {},
   "outputs": [],
   "source": [
    "with open(\"toji.jpg\",\"wb\") as f:\n",
    "    f.write(res.content)"
   ]
  },
  {
   "cell_type": "code",
   "execution_count": 9,
   "id": "cb3adcd3-6cf6-4109-b616-101211c304a0",
   "metadata": {},
   "outputs": [],
   "source": [
    "from bs4 import BeautifulSoup"
   ]
  },
  {
   "cell_type": "code",
   "execution_count": 10,
   "id": "60e9bf1d-8534-4bed-a807-f3912aeefd31",
   "metadata": {},
   "outputs": [
    {
     "data": {
      "text/plain": [
       "'https://www.goodreads.com/quotes/tag/science'"
      ]
     },
     "execution_count": 10,
     "metadata": {},
     "output_type": "execute_result"
    }
   ],
   "source": [
    "url = \"https://www.goodreads.com/quotes/tag/{}\"\n",
    "url.format(\"science\")"
   ]
  },
  {
   "cell_type": "code",
   "execution_count": 11,
   "id": "db34c6a1-a986-4fc8-8d16-1610cf4559b6",
   "metadata": {},
   "outputs": [],
   "source": [
    "res = requests.get(url)\n",
    "soup = BeautifulSoup(res.text)"
   ]
  },
  {
   "cell_type": "code",
   "execution_count": 12,
   "id": "3bb0d9d1-6d5c-47d9-a3ae-4b2f9645e01c",
   "metadata": {},
   "outputs": [
    {
     "data": {
      "text/plain": [
       "30"
      ]
     },
     "execution_count": 12,
     "metadata": {},
     "output_type": "execute_result"
    }
   ],
   "source": [
    "quote_divs = soup.find_all(\"div\",attrs={\"class\" : \"quote\"})\n",
    "quote_divs\n",
    "quotes=[]\n",
    "for quote in quote_divs:\n",
    "    quote_div = quote\n",
    "    quote_text = quote_div.find_next(\"div\",attrs={\"class\":\"quoteText\"})\n",
    "    quote_text = quote_text.text.strip().split(\"\\n\")\n",
    "    quoteT,author = quote_text[0][1:-1],quote_text[-1].strip()\n",
    "    quotes.append([quoteT,author])\n",
    "len(quotes)"
   ]
  },
  {
   "cell_type": "code",
   "execution_count": 13,
   "id": "e746317e-9471-4f74-975e-ce4a64d88e4a",
   "metadata": {},
   "outputs": [],
   "source": [
    "import pandas as pd"
   ]
  },
  {
   "cell_type": "code",
   "execution_count": 20,
   "id": "dea858f0-95d9-4e33-aad1-d6b1c1051de5",
   "metadata": {},
   "outputs": [],
   "source": [
    "data = pd.DataFrame(quotes,columns = [\"Quote\",\"Author\"])\n",
    "data.to_excel(\"quotes.xlsx\",index=None)"
   ]
  }
 ],
 "metadata": {
  "kernelspec": {
   "display_name": "Python 3 (ipykernel)",
   "language": "python",
   "name": "python3"
  },
  "language_info": {
   "codemirror_mode": {
    "name": "ipython",
    "version": 3
   },
   "file_extension": ".py",
   "mimetype": "text/x-python",
   "name": "python",
   "nbconvert_exporter": "python",
   "pygments_lexer": "ipython3",
   "version": "3.10.9"
  }
 },
 "nbformat": 4,
 "nbformat_minor": 5
}

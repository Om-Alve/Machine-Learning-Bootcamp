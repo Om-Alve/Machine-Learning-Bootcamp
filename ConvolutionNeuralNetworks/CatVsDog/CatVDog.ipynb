{
  "nbformat": 4,
  "nbformat_minor": 0,
  "metadata": {
    "colab": {
      "provenance": [],
      "gpuType": "T4"
    },
    "kernelspec": {
      "name": "python3",
      "display_name": "Python 3"
    },
    "language_info": {
      "name": "python"
    },
    "accelerator": "GPU"
  },
  "cells": [
    {
      "cell_type": "code",
      "execution_count": 1,
      "metadata": {
        "id": "Egz_mkRL0Yez"
      },
      "outputs": [],
      "source": [
        "!mkdir -p ~/.kaggle\n",
        "!cp kaggle.json ~/.kaggle/"
      ]
    },
    {
      "cell_type": "code",
      "source": [
        "!kaggle datasets download -d salader/dogs-vs-cats"
      ],
      "metadata": {
        "colab": {
          "base_uri": "https://localhost:8080/"
        },
        "id": "CJtT0Mt10gMN",
        "outputId": "af613307-5ca6-4e14-e3e2-9ba73219f460"
      },
      "execution_count": 2,
      "outputs": [
        {
          "output_type": "stream",
          "name": "stdout",
          "text": [
            "Warning: Your Kaggle API key is readable by other users on this system! To fix this, you can run 'chmod 600 /root/.kaggle/kaggle.json'\n",
            "Downloading dogs-vs-cats.zip to /content\n",
            "100% 1.06G/1.06G [00:53<00:00, 22.9MB/s]\n",
            "100% 1.06G/1.06G [00:53<00:00, 21.5MB/s]\n"
          ]
        }
      ]
    },
    {
      "cell_type": "code",
      "source": [
        "import zipfile\n",
        "zip_ref = zipfile.ZipFile('/content/dogs-vs-cats.zip', 'r')\n",
        "zip_ref.extractall('/content')\n",
        "zip_ref.close()"
      ],
      "metadata": {
        "id": "1UrUePcS1Zeq"
      },
      "execution_count": 3,
      "outputs": []
    },
    {
      "cell_type": "code",
      "source": [
        "import tensorflow as tf\n",
        "from tensorflow import keras\n",
        "from keras import Sequential\n",
        "from keras.layers import Dense,Conv2D,MaxPool2D,Flatten,BatchNormalization,Dropout\n",
        "from keras.optimizers import Adam,SGD"
      ],
      "metadata": {
        "id": "DXqk7QOQ1fNU"
      },
      "execution_count": 4,
      "outputs": []
    },
    {
      "cell_type": "code",
      "source": [
        "train_data = keras.utils.image_dataset_from_directory(\n",
        "    directory='train',\n",
        "    labels='inferred',\n",
        "    label_mode='int',\n",
        "    batch_size = 10,\n",
        "    image_size=(256,256)\n",
        ")\n",
        "test_data = keras.utils.image_dataset_from_directory(\n",
        "    directory='test',\n",
        "    labels='inferred',\n",
        "    label_mode='int',\n",
        "    batch_size = 10,\n",
        "    image_size=(256,256)\n",
        ")"
      ],
      "metadata": {
        "colab": {
          "base_uri": "https://localhost:8080/"
        },
        "id": "EJbJ2L8-1ziP",
        "outputId": "06eeb37c-1fc8-46d2-8124-738614f25790"
      },
      "execution_count": 5,
      "outputs": [
        {
          "output_type": "stream",
          "name": "stdout",
          "text": [
            "Found 20000 files belonging to 2 classes.\n",
            "Found 5000 files belonging to 2 classes.\n"
          ]
        }
      ]
    },
    {
      "cell_type": "code",
      "source": [
        "# Normalize\n",
        "def process(image,label):\n",
        "    image = tf.cast(image/255. ,tf.float32)\n",
        "    return image,label\n",
        "\n",
        "train_ds = train_data.map(process)\n",
        "test_ds = test_data.map(process)"
      ],
      "metadata": {
        "id": "Xw0mkMYD082m"
      },
      "execution_count": 6,
      "outputs": []
    },
    {
      "cell_type": "code",
      "source": [
        "model = Sequential()\n",
        "model.add(Conv2D(32,kernel_size=(3,3),padding='valid',activation='relu',input_shape=(256,256,3)))\n",
        "model.add(BatchNormalization())\n",
        "model.add(MaxPool2D(pool_size=(2,2),strides=2,padding='valid'))\n",
        "model.add(Conv2D(filters=64,kernel_size=(3,3),padding='valid',activation='relu'))\n",
        "model.add(BatchNormalization())\n",
        "model.add(MaxPool2D(pool_size=(2,2),strides=2,padding='valid'))\n",
        "model.add(Conv2D(filters=128,kernel_size=(3,3),padding='valid',activation='relu'))\n",
        "model.add(BatchNormalization())\n",
        "model.add(MaxPool2D(pool_size=(2,2),strides=2,padding='valid'))\n",
        "\n",
        "model.add(Flatten())\n",
        "model.add(Dense(128,activation='relu'))\n",
        "model.add(Dropout(0.1))\n",
        "model.add(Dense(64,activation='relu'))\n",
        "model.add(Dropout(0.1))\n",
        "model.add(Dense(1,activation='sigmoid'))"
      ],
      "metadata": {
        "id": "EPua2wx52Ah6"
      },
      "execution_count": null,
      "outputs": []
    },
    {
      "cell_type": "code",
      "source": [
        "model.summary()"
      ],
      "metadata": {
        "id": "QzGsD5_82kbM"
      },
      "execution_count": null,
      "outputs": []
    },
    {
      "cell_type": "code",
      "source": [
        "model.compile(optimizer='adam',loss='binary_crossentropy',metrics=['accuracy'])"
      ],
      "metadata": {
        "id": "uOiM-WA92mlU"
      },
      "execution_count": 38,
      "outputs": []
    },
    {
      "cell_type": "code",
      "source": [
        "model.fit(train_ds,validation_data=test_ds,epochs=10)"
      ],
      "metadata": {
        "colab": {
          "base_uri": "https://localhost:8080/"
        },
        "id": "ONh5vJRA2ykd",
        "outputId": "f3995831-7537-4605-99f8-07e008ec6d7e"
      },
      "execution_count": 39,
      "outputs": [
        {
          "output_type": "stream",
          "name": "stdout",
          "text": [
            "Epoch 1/10\n",
            "2000/2000 [==============================] - 96s 46ms/step - loss: 0.5289 - accuracy: 0.7437 - val_loss: 0.5313 - val_accuracy: 0.7364\n",
            "Epoch 2/10\n",
            "2000/2000 [==============================] - 84s 42ms/step - loss: 0.4759 - accuracy: 0.7700 - val_loss: 0.4653 - val_accuracy: 0.7730\n",
            "Epoch 3/10\n",
            "2000/2000 [==============================] - 83s 41ms/step - loss: 0.4147 - accuracy: 0.8000 - val_loss: 0.8037 - val_accuracy: 0.6734\n",
            "Epoch 4/10\n",
            "2000/2000 [==============================] - 82s 41ms/step - loss: 0.3596 - accuracy: 0.8238 - val_loss: 0.4879 - val_accuracy: 0.7510\n",
            "Epoch 5/10\n",
            "2000/2000 [==============================] - 86s 43ms/step - loss: 0.3133 - accuracy: 0.8396 - val_loss: 0.5332 - val_accuracy: 0.7480\n",
            "Epoch 6/10\n",
            "2000/2000 [==============================] - 83s 41ms/step - loss: 0.2804 - accuracy: 0.8600 - val_loss: 0.4327 - val_accuracy: 0.8326\n",
            "Epoch 7/10\n",
            "2000/2000 [==============================] - 83s 41ms/step - loss: 0.2495 - accuracy: 0.8698 - val_loss: 0.4599 - val_accuracy: 0.8412\n",
            "Epoch 8/10\n",
            "2000/2000 [==============================] - 93s 46ms/step - loss: 0.2278 - accuracy: 0.8798 - val_loss: 0.4510 - val_accuracy: 0.8090\n",
            "Epoch 9/10\n",
            "2000/2000 [==============================] - 84s 42ms/step - loss: 0.2021 - accuracy: 0.8921 - val_loss: 0.6596 - val_accuracy: 0.8026\n",
            "Epoch 10/10\n",
            "2000/2000 [==============================] - 105s 53ms/step - loss: 0.1903 - accuracy: 0.8978 - val_loss: 0.5106 - val_accuracy: 0.8350\n"
          ]
        },
        {
          "output_type": "execute_result",
          "data": {
            "text/plain": [
              "<keras.callbacks.History at 0x7bc5cc0f47f0>"
            ]
          },
          "metadata": {},
          "execution_count": 39
        }
      ]
    },
    {
      "cell_type": "code",
      "source": [
        "from keras.applications.vgg16 import VGG16"
      ],
      "metadata": {
        "id": "T0mwlU0s7cRx"
      },
      "execution_count": 53,
      "outputs": []
    },
    {
      "cell_type": "code",
      "source": [
        "conv_base = VGG16(\n",
        "    weights='imagenet',\n",
        "    include_top = False,\n",
        "    input_shape=(150,150,3)\n",
        ")"
      ],
      "metadata": {
        "id": "Fe-k8gWrBN1J"
      },
      "execution_count": 54,
      "outputs": []
    },
    {
      "cell_type": "code",
      "source": [
        "conv_base.summary()"
      ],
      "metadata": {
        "colab": {
          "base_uri": "https://localhost:8080/"
        },
        "id": "cygyCxzgBRx5",
        "outputId": "a7b3f5d8-d5fb-4ad2-93b9-45eac9a44ef6"
      },
      "execution_count": 55,
      "outputs": [
        {
          "output_type": "stream",
          "name": "stdout",
          "text": [
            "Model: \"vgg16\"\n",
            "_________________________________________________________________\n",
            " Layer (type)                Output Shape              Param #   \n",
            "=================================================================\n",
            " input_2 (InputLayer)        [(None, 150, 150, 3)]     0         \n",
            "                                                                 \n",
            " block1_conv1 (Conv2D)       (None, 150, 150, 64)      1792      \n",
            "                                                                 \n",
            " block1_conv2 (Conv2D)       (None, 150, 150, 64)      36928     \n",
            "                                                                 \n",
            " block1_pool (MaxPooling2D)  (None, 75, 75, 64)        0         \n",
            "                                                                 \n",
            " block2_conv1 (Conv2D)       (None, 75, 75, 128)       73856     \n",
            "                                                                 \n",
            " block2_conv2 (Conv2D)       (None, 75, 75, 128)       147584    \n",
            "                                                                 \n",
            " block2_pool (MaxPooling2D)  (None, 37, 37, 128)       0         \n",
            "                                                                 \n",
            " block3_conv1 (Conv2D)       (None, 37, 37, 256)       295168    \n",
            "                                                                 \n",
            " block3_conv2 (Conv2D)       (None, 37, 37, 256)       590080    \n",
            "                                                                 \n",
            " block3_conv3 (Conv2D)       (None, 37, 37, 256)       590080    \n",
            "                                                                 \n",
            " block3_pool (MaxPooling2D)  (None, 18, 18, 256)       0         \n",
            "                                                                 \n",
            " block4_conv1 (Conv2D)       (None, 18, 18, 512)       1180160   \n",
            "                                                                 \n",
            " block4_conv2 (Conv2D)       (None, 18, 18, 512)       2359808   \n",
            "                                                                 \n",
            " block4_conv3 (Conv2D)       (None, 18, 18, 512)       2359808   \n",
            "                                                                 \n",
            " block4_pool (MaxPooling2D)  (None, 9, 9, 512)         0         \n",
            "                                                                 \n",
            " block5_conv1 (Conv2D)       (None, 9, 9, 512)         2359808   \n",
            "                                                                 \n",
            " block5_conv2 (Conv2D)       (None, 9, 9, 512)         2359808   \n",
            "                                                                 \n",
            " block5_conv3 (Conv2D)       (None, 9, 9, 512)         2359808   \n",
            "                                                                 \n",
            " block5_pool (MaxPooling2D)  (None, 4, 4, 512)         0         \n",
            "                                                                 \n",
            "=================================================================\n",
            "Total params: 14,714,688\n",
            "Trainable params: 14,714,688\n",
            "Non-trainable params: 0\n",
            "_________________________________________________________________\n"
          ]
        }
      ]
    },
    {
      "cell_type": "code",
      "source": [
        "model = Sequential()\n",
        "\n",
        "model.add(conv_base)\n",
        "model.add(Flatten())\n",
        "model.add(Dense(256,activation='relu'))\n",
        "model.add(Dense(1,activation='sigmoid'))"
      ],
      "metadata": {
        "id": "6ITznt6gBXYd"
      },
      "execution_count": 56,
      "outputs": []
    },
    {
      "cell_type": "code",
      "source": [
        "model.summary()"
      ],
      "metadata": {
        "colab": {
          "base_uri": "https://localhost:8080/"
        },
        "id": "U71r-GiHBj2y",
        "outputId": "7787a5c2-9aaa-4705-c978-9ce34d288c73"
      },
      "execution_count": 57,
      "outputs": [
        {
          "output_type": "stream",
          "name": "stdout",
          "text": [
            "Model: \"sequential_2\"\n",
            "_________________________________________________________________\n",
            " Layer (type)                Output Shape              Param #   \n",
            "=================================================================\n",
            " vgg16 (Functional)          (None, 4, 4, 512)         14714688  \n",
            "                                                                 \n",
            " flatten_2 (Flatten)         (None, 8192)              0         \n",
            "                                                                 \n",
            " dense_5 (Dense)             (None, 256)               2097408   \n",
            "                                                                 \n",
            " dense_6 (Dense)             (None, 1)                 257       \n",
            "                                                                 \n",
            "=================================================================\n",
            "Total params: 16,812,353\n",
            "Trainable params: 16,812,353\n",
            "Non-trainable params: 0\n",
            "_________________________________________________________________\n"
          ]
        }
      ]
    },
    {
      "cell_type": "code",
      "source": [
        "conv_base.trainable = False"
      ],
      "metadata": {
        "id": "Qo_KjIfkBl-O"
      },
      "execution_count": 58,
      "outputs": []
    },
    {
      "cell_type": "code",
      "source": [
        "model.compile(optimizer='adam',loss='binary_crossentropy',metrics=['accuracy'])"
      ],
      "metadata": {
        "id": "DE36pEgYBpxb"
      },
      "execution_count": 59,
      "outputs": []
    },
    {
      "cell_type": "code",
      "source": [
        "train_data = keras.utils.image_dataset_from_directory(\n",
        "    directory='train',\n",
        "    labels='inferred',\n",
        "    label_mode='int',\n",
        "    batch_size = 10,\n",
        "    image_size=(150,150)\n",
        ")\n",
        "test_data = keras.utils.image_dataset_from_directory(\n",
        "    directory='test',\n",
        "    labels='inferred',\n",
        "    label_mode='int',\n",
        "    batch_size = 10,\n",
        "    image_size=(150,150)\n",
        ")\n",
        "# Normalize\n",
        "def process(image,label):\n",
        "    image = tf.cast(image/255. ,tf.float32)\n",
        "    return image,label\n",
        "\n",
        "train_ds = train_data.map(process)\n",
        "test_ds = test_data.map(process)"
      ],
      "metadata": {
        "colab": {
          "base_uri": "https://localhost:8080/"
        },
        "id": "UabOY453B77b",
        "outputId": "c362599e-8238-4d9a-e1dd-043098b97928"
      },
      "execution_count": 60,
      "outputs": [
        {
          "output_type": "stream",
          "name": "stdout",
          "text": [
            "Found 20000 files belonging to 2 classes.\n",
            "Found 5000 files belonging to 2 classes.\n"
          ]
        }
      ]
    },
    {
      "cell_type": "code",
      "source": [
        "model.fit(train_ds,validation_data=test_ds,epochs=10)"
      ],
      "metadata": {
        "colab": {
          "base_uri": "https://localhost:8080/"
        },
        "id": "BEhfw8PmBshi",
        "outputId": "00c94f1a-9494-4d73-bf2c-15d018e12fc0"
      },
      "execution_count": 61,
      "outputs": [
        {
          "output_type": "stream",
          "name": "stdout",
          "text": [
            "Epoch 1/10\n",
            "2000/2000 [==============================] - 89s 44ms/step - loss: 0.2697 - accuracy: 0.8852 - val_loss: 0.2094 - val_accuracy: 0.9114\n",
            "Epoch 2/10\n",
            "2000/2000 [==============================] - 82s 41ms/step - loss: 0.2025 - accuracy: 0.9166 - val_loss: 0.2059 - val_accuracy: 0.9104\n",
            "Epoch 3/10\n",
            "2000/2000 [==============================] - 88s 44ms/step - loss: 0.1654 - accuracy: 0.9317 - val_loss: 0.1990 - val_accuracy: 0.9146\n",
            "Epoch 4/10\n",
            "2000/2000 [==============================] - 83s 41ms/step - loss: 0.1346 - accuracy: 0.9452 - val_loss: 0.2225 - val_accuracy: 0.9090\n",
            "Epoch 5/10\n",
            "2000/2000 [==============================] - 88s 44ms/step - loss: 0.1091 - accuracy: 0.9557 - val_loss: 0.2437 - val_accuracy: 0.9118\n",
            "Epoch 6/10\n",
            "2000/2000 [==============================] - 88s 44ms/step - loss: 0.0804 - accuracy: 0.9688 - val_loss: 0.2959 - val_accuracy: 0.8964\n",
            "Epoch 7/10\n",
            "2000/2000 [==============================] - 88s 44ms/step - loss: 0.0589 - accuracy: 0.9779 - val_loss: 0.3362 - val_accuracy: 0.9056\n",
            "Epoch 8/10\n",
            "2000/2000 [==============================] - 88s 44ms/step - loss: 0.0445 - accuracy: 0.9839 - val_loss: 0.3443 - val_accuracy: 0.9088\n",
            "Epoch 9/10\n",
            "2000/2000 [==============================] - 83s 41ms/step - loss: 0.0408 - accuracy: 0.9847 - val_loss: 0.5826 - val_accuracy: 0.8822\n",
            "Epoch 10/10\n",
            "2000/2000 [==============================] - 88s 44ms/step - loss: 0.0389 - accuracy: 0.9859 - val_loss: 0.4269 - val_accuracy: 0.9018\n"
          ]
        },
        {
          "output_type": "execute_result",
          "data": {
            "text/plain": [
              "<keras.callbacks.History at 0x7bc5b041ba30>"
            ]
          },
          "metadata": {},
          "execution_count": 61
        }
      ]
    },
    {
      "cell_type": "code",
      "source": [
        ""
      ],
      "metadata": {
        "id": "OTbEDzC7Bv3F"
      },
      "execution_count": null,
      "outputs": []
    }
  ]
}
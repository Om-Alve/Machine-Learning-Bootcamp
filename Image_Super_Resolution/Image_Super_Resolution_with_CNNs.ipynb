{
 "cells": [
  {
   "cell_type": "code",
   "execution_count": 1,
   "id": "5f54ea7f-aafe-4096-8ce3-664f6b58f4b6",
   "metadata": {
    "id": "5f54ea7f-aafe-4096-8ce3-664f6b58f4b6",
    "tags": []
   },
   "outputs": [],
   "source": [
    "from PIL import Image\n",
    "import numpy as np\n",
    "import tensorflow as tf\n",
    "import matplotlib.pyplot as plt\n",
    "import PIL\n",
    "from tensorflow import keras\n",
    "import os\n",
    "import warnings\n",
    "warnings.filterwarnings('ignore')"
   ]
  },
  {
   "cell_type": "code",
   "execution_count": 2,
   "id": "6bd3dd1d-2299-46ea-a45c-1a13e0385233",
   "metadata": {
    "id": "6bd3dd1d-2299-46ea-a45c-1a13e0385233",
    "tags": []
   },
   "outputs": [],
   "source": [
    "scaling_factor = 5\n",
    "image_size = 300"
   ]
  },
  {
   "cell_type": "code",
   "execution_count": null,
   "id": "b7a1374f-1019-49f7-ba8e-d5f9f35e1ccb",
   "metadata": {
    "colab": {
     "base_uri": "https://localhost:8080/"
    },
    "id": "b7a1374f-1019-49f7-ba8e-d5f9f35e1ccb",
    "outputId": "256563bf-8e7b-442b-eef8-babd7ebd0a0b",
    "tags": []
   },
   "outputs": [],
   "source": [
    "dataset = tf.keras.utils.image_dataset_from_directory(\n",
    "    directory = \"dataset/images/\",\n",
    "    labels = None,\n",
    "    shuffle=True,\n",
    "    color_mode = 'rgb',\n",
    "    seed=42,\n",
    "    image_size=(image_size,image_size)\n",
    ")"
   ]
  },
  {
   "cell_type": "code",
   "execution_count": null,
   "id": "05bd1e53-8e56-48eb-afda-aa8e616bce26",
   "metadata": {
    "id": "05bd1e53-8e56-48eb-afda-aa8e616bce26",
    "tags": []
   },
   "outputs": [],
   "source": [
    "def prepare_input(img):\n",
    "    img = tf.image.resize(img,(image_size // scaling_factor,image_size // scaling_factor))\n",
    "    img = tf.image.rgb_to_yuv(img)\n",
    "    y,cb,cr  = tf.split(img, num_or_size_splits=3, axis=-1)\n",
    "    return y\n",
    "\n",
    "def prepare_target(img):\n",
    "    img = tf.image.rgb_to_yuv(img)\n",
    "    y,cb,cr = tf.split(img,num_or_size_splits=3,axis=-1)\n",
    "    return y"
   ]
  },
  {
   "cell_type": "code",
   "execution_count": null,
   "id": "ad00dfb2-9fc5-41a4-9056-9ca20d0568ec",
   "metadata": {
    "id": "ad00dfb2-9fc5-41a4-9056-9ca20d0568ec",
    "tags": []
   },
   "outputs": [],
   "source": [
    "def scaling(input_image):\n",
    "    input_image = input_image / 255.0\n",
    "    return input_image"
   ]
  },
  {
   "cell_type": "code",
   "execution_count": null,
   "id": "tj7wvBhAkD8p",
   "metadata": {
    "id": "tj7wvBhAkD8p",
    "tags": []
   },
   "outputs": [],
   "source": [
    "dataset = dataset.map(scaling)"
   ]
  },
  {
   "cell_type": "code",
   "execution_count": null,
   "id": "Rs-GISiRsecL",
   "metadata": {
    "id": "Rs-GISiRsecL",
    "tags": []
   },
   "outputs": [],
   "source": [
    "dataset = dataset.map(lambda x : (prepare_input(x),prepare_target(x)))"
   ]
  },
  {
   "cell_type": "code",
   "execution_count": null,
   "id": "345aa36f-14cb-4138-8f5e-90f962bcc10a",
   "metadata": {
    "tags": []
   },
   "outputs": [],
   "source": [
    "dataset"
   ]
  },
  {
   "cell_type": "code",
   "execution_count": 3,
   "id": "5faff92e-df42-4cf6-9399-3ee6ed495898",
   "metadata": {
    "colab": {
     "base_uri": "https://localhost:8080/"
    },
    "id": "5faff92e-df42-4cf6-9399-3ee6ed495898",
    "outputId": "0781f14b-6899-4dd6-e3fb-7a4f83ad00e3",
    "tags": []
   },
   "outputs": [
    {
     "name": "stdout",
     "output_type": "stream",
     "text": [
      "Model: \"sequential\"\n",
      "_________________________________________________________________\n",
      " Layer (type)                Output Shape              Param #   \n",
      "=================================================================\n",
      " conv2d (Conv2D)             (None, None, None, 128)   1280      \n",
      "                                                                 \n",
      " conv2d_1 (Conv2D)           (None, None, None, 64)    73792     \n",
      "                                                                 \n",
      " conv2d_2 (Conv2D)           (None, None, None, 64)    36928     \n",
      "                                                                 \n",
      " conv2d_3 (Conv2D)           (None, None, None, 64)    36928     \n",
      "                                                                 \n",
      " conv2d_4 (Conv2D)           (None, None, None, 32)    18464     \n",
      "                                                                 \n",
      " conv2d_5 (Conv2D)           (None, None, None, 25)    7225      \n",
      "                                                                 \n",
      " depth_to_space (Lambda)     (None, None, None, 1)     0         \n",
      "                                                                 \n",
      "=================================================================\n",
      "Total params: 174,617\n",
      "Trainable params: 174,617\n",
      "Non-trainable params: 0\n",
      "_________________________________________________________________\n"
     ]
    }
   ],
   "source": [
    "channels = 1\n",
    "\n",
    "def depth_to_space(x, block_size):\n",
    "    return tf.nn.depth_to_space(x, block_size=block_size)\n",
    "\n",
    "model = tf.keras.models.Sequential()\n",
    "model.add(tf.keras.layers.Conv2D(128,3,activation='relu',padding='same',input_shape=(None,None,channels)))\n",
    "model.add(tf.keras.layers.Conv2D(64, 3, padding='same',activation='relu'))\n",
    "model.add(tf.keras.layers.Conv2D(64, 3, padding='same',activation='relu'))\n",
    "model.add(tf.keras.layers.Conv2D(64, 3, padding='same',activation='relu'))\n",
    "model.add(tf.keras.layers.Conv2D(32, 3, padding='same',activation='relu'))\n",
    "model.add(tf.keras.layers.Conv2D(channels * (scaling_factor ** 2), 3, padding='same',activation='relu'))\n",
    "model.add(tf.keras.layers.Lambda(lambda x: depth_to_space(x, block_size=scaling_factor), name='depth_to_space'))\n",
    "\n",
    "model.summary()"
   ]
  },
  {
   "cell_type": "code",
   "execution_count": null,
   "id": "wnHRLA4Qnt0Q",
   "metadata": {
    "id": "wnHRLA4Qnt0Q",
    "tags": []
   },
   "outputs": [],
   "source": [
    "model.compile(optimizer=tf.keras.optimizers.Adam(learning_rate=1e-4),loss=tf.keras.losses.mean_squared_error)"
   ]
  },
  {
   "cell_type": "code",
   "execution_count": null,
   "id": "ri9-pr_js99_",
   "metadata": {
    "colab": {
     "base_uri": "https://localhost:8080/"
    },
    "id": "ri9-pr_js99_",
    "outputId": "ac824888-2587-4354-e412-49b810ac5d7f",
    "tags": []
   },
   "outputs": [],
   "source": [
    "model.fit(dataset,epochs=100)"
   ]
  },
  {
   "cell_type": "code",
   "execution_count": null,
   "id": "Y2d1IYi2zUth",
   "metadata": {
    "colab": {
     "base_uri": "https://localhost:8080/"
    },
    "id": "Y2d1IYi2zUth",
    "outputId": "c656b70f-32a2-47d3-869e-01bb4828cb83",
    "tags": []
   },
   "outputs": [],
   "source": [
    "model.save('model.h5')"
   ]
  },
  {
   "cell_type": "code",
   "execution_count": 4,
   "id": "fb47226f-8c87-4c88-bd05-647c347c7ce0",
   "metadata": {
    "tags": []
   },
   "outputs": [],
   "source": [
    "model = tf.keras.models.load_model('model.h5')"
   ]
  },
  {
   "cell_type": "code",
   "execution_count": 5,
   "id": "J7l0lvsptOZG",
   "metadata": {
    "id": "J7l0lvsptOZG",
    "tags": []
   },
   "outputs": [],
   "source": [
    "def upscale(img):\n",
    "    img_yuv = img.convert('YCbCr')\n",
    "    y,cb,cr = img_yuv.split()\n",
    "    y = tf.keras.utils.img_to_array(y) / 255.0\n",
    "    out = model.predict(np.array([y]))[0] * 255.0\n",
    "    out = out.reshape((out.shape[0],out.shape[1]))\n",
    "    out = np.clip(out,0,255).astype('uint8')\n",
    "    out = Image.fromarray(out,mode='L')\n",
    "    out_img_cb = cb.resize(out.size, PIL.Image.BICUBIC)\n",
    "    out_img_cr = cr.resize(out.size, PIL.Image.BICUBIC)\n",
    "    out_img = PIL.Image.merge(\"YCbCr\", (out, out_img_cb, out_img_cr)).convert(\n",
    "      \"RGB\")\n",
    "    return out_img"
   ]
  },
  {
   "cell_type": "code",
   "execution_count": null,
   "id": "dL41TFE4vEfg",
   "metadata": {
    "colab": {
     "base_uri": "https://localhost:8080/"
    },
    "id": "dL41TFE4vEfg",
    "outputId": "824ae283-0aea-4a50-cfb0-40dff3eb0583",
    "tags": []
   },
   "outputs": [],
   "source": [
    "img = Image.open('dataset/images/val/101085.jpg')\n",
    "out = upscale(img)"
   ]
  },
  {
   "cell_type": "code",
   "execution_count": null,
   "id": "c80913f1-f012-41d7-86e1-6c357ccc29ff",
   "metadata": {
    "tags": []
   },
   "outputs": [],
   "source": [
    "out.save('out.jpg')"
   ]
  },
  {
   "cell_type": "code",
   "execution_count": null,
   "id": "2f5cb20e-8551-47b9-a6b1-ce5cb8b82ca3",
   "metadata": {
    "colab": {
     "base_uri": "https://localhost:8080/",
     "height": 452
    },
    "id": "2f5cb20e-8551-47b9-a6b1-ce5cb8b82ca3",
    "outputId": "0b5f49fb-7935-43d1-a2c4-e1c05012d62e",
    "tags": []
   },
   "outputs": [],
   "source": [
    "plt.imshow(Image.open(\"dataset/images/train/246053.jpg\").resize((150,150)))"
   ]
  },
  {
   "cell_type": "code",
   "execution_count": null,
   "id": "WmdvufFMp_T_",
   "metadata": {
    "id": "WmdvufFMp_T_",
    "tags": []
   },
   "outputs": [],
   "source": [
    "plt.imshow(upscale(Image.open(\"dataset/images/train/246053.jpg\")));"
   ]
  },
  {
   "cell_type": "code",
   "execution_count": null,
   "id": "36e7c94d-4395-4988-8460-ee6443b583f5",
   "metadata": {
    "tags": []
   },
   "outputs": [],
   "source": [
    "upscale(Image.open(\"dataset/images/train/246053.jpg\").resize((100,100))).save('out.jpg')"
   ]
  },
  {
   "cell_type": "code",
   "execution_count": null,
   "id": "25ba279a-6e71-4964-9202-0268fc14e3ff",
   "metadata": {
    "tags": []
   },
   "outputs": [],
   "source": [
    "Image.open(\"dataset/images/train/246053.jpg\").resize((100,100)).save('input.jpg')"
   ]
  },
  {
   "cell_type": "code",
   "execution_count": 6,
   "id": "6b5e36f4-6d68-4760-b219-32f3d8355254",
   "metadata": {
    "tags": []
   },
   "outputs": [
    {
     "name": "stdout",
     "output_type": "stream",
     "text": [
      "1/1 [==============================] - 13s 13s/step\n"
     ]
    }
   ],
   "source": [
    "upscale(Image.open(\"arkan.jpg\")).save('arkanout.jpg')"
   ]
  },
  {
   "cell_type": "code",
   "execution_count": null,
   "id": "03081cee-926d-4d65-bc1a-985617e59081",
   "metadata": {
    "tags": []
   },
   "outputs": [],
   "source": [
    "model.save('model.h5')"
   ]
  },
  {
   "cell_type": "code",
   "execution_count": null,
   "id": "a7b51445-c640-4e8f-848d-5f28375ca5ba",
   "metadata": {},
   "outputs": [],
   "source": []
  }
 ],
 "metadata": {
  "accelerator": "GPU",
  "colab": {
   "gpuType": "T4",
   "provenance": []
  },
  "kernelspec": {
   "display_name": "Python 3 (ipykernel)",
   "language": "python",
   "name": "python3"
  },
  "language_info": {
   "codemirror_mode": {
    "name": "ipython",
    "version": 3
   },
   "file_extension": ".py",
   "mimetype": "text/x-python",
   "name": "python",
   "nbconvert_exporter": "python",
   "pygments_lexer": "ipython3",
   "version": "3.9.18"
  }
 },
 "nbformat": 4,
 "nbformat_minor": 5
}

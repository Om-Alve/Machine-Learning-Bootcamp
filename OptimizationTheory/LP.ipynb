{
 "cells": [
  {
   "cell_type": "code",
   "execution_count": 13,
   "id": "f41635d4-146b-48c5-b08b-4fad1348620b",
   "metadata": {},
   "outputs": [],
   "source": [
    "import cvxpy as cp"
   ]
  },
  {
   "cell_type": "code",
   "execution_count": 22,
   "id": "e08ebd9a-b469-4e94-ab8a-b9ac1d2f24fd",
   "metadata": {},
   "outputs": [
    {
     "data": {
      "text/plain": [
       "'GLPK'"
      ]
     },
     "execution_count": 22,
     "metadata": {},
     "output_type": "execute_result"
    }
   ],
   "source": [
    "cp.GLPK"
   ]
  },
  {
   "cell_type": "code",
   "execution_count": 23,
   "id": "e5da28aa-2258-4ba4-b8fe-a73c1b9c8835",
   "metadata": {},
   "outputs": [],
   "source": [
    "x = cp.Variable()\n",
    "y = cp.Variable()"
   ]
  },
  {
   "cell_type": "code",
   "execution_count": 24,
   "id": "8f300cc1-2f21-4c67-9e48-229dfcd70245",
   "metadata": {},
   "outputs": [],
   "source": [
    "objective = cp.Maximize(7*x+5*y)"
   ]
  },
  {
   "cell_type": "code",
   "execution_count": 25,
   "id": "2c65f275-9e76-4d0c-aaa3-954a6ee71816",
   "metadata": {},
   "outputs": [],
   "source": [
    "constraints = {\n",
    "    4*x+3*y <= 240,\n",
    "    2*x+y <=100,\n",
    "    x>=0,\n",
    "    y>=0\n",
    "}"
   ]
  },
  {
   "cell_type": "code",
   "execution_count": 26,
   "id": "70ba0a98-7fee-4cba-9047-6863a262765a",
   "metadata": {},
   "outputs": [],
   "source": [
    "problem = cp.Problem(objective,constraints)"
   ]
  },
  {
   "cell_type": "code",
   "execution_count": 28,
   "id": "28c5f4df-3ed7-4494-b287-c2974abc10a4",
   "metadata": {},
   "outputs": [
    {
     "data": {
      "text/plain": [
       "409.99999995603673"
      ]
     },
     "execution_count": 28,
     "metadata": {},
     "output_type": "execute_result"
    }
   ],
   "source": [
    "problem.solve()"
   ]
  },
  {
   "cell_type": "code",
   "execution_count": 29,
   "id": "94188094-50bb-4327-b400-1b89b56c709e",
   "metadata": {},
   "outputs": [
    {
     "data": {
      "text/plain": [
       "(array(29.99999995), array(40.00000007))"
      ]
     },
     "execution_count": 29,
     "metadata": {},
     "output_type": "execute_result"
    }
   ],
   "source": [
    "x.value,y.value"
   ]
  }
 ],
 "metadata": {
  "kernelspec": {
   "display_name": "Python 3 (ipykernel)",
   "language": "python",
   "name": "python3"
  },
  "language_info": {
   "codemirror_mode": {
    "name": "ipython",
    "version": 3
   },
   "file_extension": ".py",
   "mimetype": "text/x-python",
   "name": "python",
   "nbconvert_exporter": "python",
   "pygments_lexer": "ipython3",
   "version": "3.10.9"
  }
 },
 "nbformat": 4,
 "nbformat_minor": 5
}

{
 "cells": [
  {
   "cell_type": "code",
   "execution_count": 1,
   "id": "fc08239d-a844-40e9-8fb5-1ea4ae3b0a63",
   "metadata": {
    "tags": []
   },
   "outputs": [],
   "source": [
    "import pandas as pd\n",
    "import numpy as np\n",
    "import matplotlib.pyplot as plt"
   ]
  },
  {
   "cell_type": "code",
   "execution_count": 2,
   "id": "fe554dfd-1126-4fcf-ab35-9d945a79f8eb",
   "metadata": {
    "tags": []
   },
   "outputs": [],
   "source": [
    "df = pd.read_csv('dataset/gld_price_data.csv')"
   ]
  },
  {
   "cell_type": "code",
   "execution_count": 3,
   "id": "89bbc70d-9566-4134-b00f-99a4e37621b1",
   "metadata": {
    "tags": []
   },
   "outputs": [
    {
     "data": {
      "text/html": [
       "<div>\n",
       "<style scoped>\n",
       "    .dataframe tbody tr th:only-of-type {\n",
       "        vertical-align: middle;\n",
       "    }\n",
       "\n",
       "    .dataframe tbody tr th {\n",
       "        vertical-align: top;\n",
       "    }\n",
       "\n",
       "    .dataframe thead th {\n",
       "        text-align: right;\n",
       "    }\n",
       "</style>\n",
       "<table border=\"1\" class=\"dataframe\">\n",
       "  <thead>\n",
       "    <tr style=\"text-align: right;\">\n",
       "      <th></th>\n",
       "      <th>Date</th>\n",
       "      <th>SPX</th>\n",
       "      <th>GLD</th>\n",
       "      <th>USO</th>\n",
       "      <th>SLV</th>\n",
       "      <th>EUR/USD</th>\n",
       "    </tr>\n",
       "  </thead>\n",
       "  <tbody>\n",
       "    <tr>\n",
       "      <th>0</th>\n",
       "      <td>1/2/2008</td>\n",
       "      <td>1447.160034</td>\n",
       "      <td>84.860001</td>\n",
       "      <td>78.470001</td>\n",
       "      <td>15.180</td>\n",
       "      <td>1.471692</td>\n",
       "    </tr>\n",
       "    <tr>\n",
       "      <th>1</th>\n",
       "      <td>1/3/2008</td>\n",
       "      <td>1447.160034</td>\n",
       "      <td>85.570000</td>\n",
       "      <td>78.370003</td>\n",
       "      <td>15.285</td>\n",
       "      <td>1.474491</td>\n",
       "    </tr>\n",
       "    <tr>\n",
       "      <th>2</th>\n",
       "      <td>1/4/2008</td>\n",
       "      <td>1411.630005</td>\n",
       "      <td>85.129997</td>\n",
       "      <td>77.309998</td>\n",
       "      <td>15.167</td>\n",
       "      <td>1.475492</td>\n",
       "    </tr>\n",
       "    <tr>\n",
       "      <th>3</th>\n",
       "      <td>1/7/2008</td>\n",
       "      <td>1416.180054</td>\n",
       "      <td>84.769997</td>\n",
       "      <td>75.500000</td>\n",
       "      <td>15.053</td>\n",
       "      <td>1.468299</td>\n",
       "    </tr>\n",
       "    <tr>\n",
       "      <th>4</th>\n",
       "      <td>1/8/2008</td>\n",
       "      <td>1390.189941</td>\n",
       "      <td>86.779999</td>\n",
       "      <td>76.059998</td>\n",
       "      <td>15.590</td>\n",
       "      <td>1.557099</td>\n",
       "    </tr>\n",
       "  </tbody>\n",
       "</table>\n",
       "</div>"
      ],
      "text/plain": [
       "       Date          SPX        GLD        USO     SLV   EUR/USD\n",
       "0  1/2/2008  1447.160034  84.860001  78.470001  15.180  1.471692\n",
       "1  1/3/2008  1447.160034  85.570000  78.370003  15.285  1.474491\n",
       "2  1/4/2008  1411.630005  85.129997  77.309998  15.167  1.475492\n",
       "3  1/7/2008  1416.180054  84.769997  75.500000  15.053  1.468299\n",
       "4  1/8/2008  1390.189941  86.779999  76.059998  15.590  1.557099"
      ]
     },
     "execution_count": 3,
     "metadata": {},
     "output_type": "execute_result"
    }
   ],
   "source": [
    "df.head()"
   ]
  },
  {
   "cell_type": "code",
   "execution_count": 4,
   "id": "2cb06ca8-a021-469f-8f2b-8d6980c082e5",
   "metadata": {
    "tags": []
   },
   "outputs": [
    {
     "data": {
      "text/html": [
       "<div>\n",
       "<style scoped>\n",
       "    .dataframe tbody tr th:only-of-type {\n",
       "        vertical-align: middle;\n",
       "    }\n",
       "\n",
       "    .dataframe tbody tr th {\n",
       "        vertical-align: top;\n",
       "    }\n",
       "\n",
       "    .dataframe thead th {\n",
       "        text-align: right;\n",
       "    }\n",
       "</style>\n",
       "<table border=\"1\" class=\"dataframe\">\n",
       "  <thead>\n",
       "    <tr style=\"text-align: right;\">\n",
       "      <th></th>\n",
       "      <th>Date</th>\n",
       "      <th>SPX</th>\n",
       "      <th>GLD</th>\n",
       "      <th>USO</th>\n",
       "      <th>SLV</th>\n",
       "      <th>EUR/USD</th>\n",
       "    </tr>\n",
       "  </thead>\n",
       "  <tbody>\n",
       "    <tr>\n",
       "      <th>2285</th>\n",
       "      <td>5/8/2018</td>\n",
       "      <td>2671.919922</td>\n",
       "      <td>124.589996</td>\n",
       "      <td>14.0600</td>\n",
       "      <td>15.5100</td>\n",
       "      <td>1.186789</td>\n",
       "    </tr>\n",
       "    <tr>\n",
       "      <th>2286</th>\n",
       "      <td>5/9/2018</td>\n",
       "      <td>2697.790039</td>\n",
       "      <td>124.330002</td>\n",
       "      <td>14.3700</td>\n",
       "      <td>15.5300</td>\n",
       "      <td>1.184722</td>\n",
       "    </tr>\n",
       "    <tr>\n",
       "      <th>2287</th>\n",
       "      <td>5/10/2018</td>\n",
       "      <td>2723.070068</td>\n",
       "      <td>125.180000</td>\n",
       "      <td>14.4100</td>\n",
       "      <td>15.7400</td>\n",
       "      <td>1.191753</td>\n",
       "    </tr>\n",
       "    <tr>\n",
       "      <th>2288</th>\n",
       "      <td>5/14/2018</td>\n",
       "      <td>2730.129883</td>\n",
       "      <td>124.489998</td>\n",
       "      <td>14.3800</td>\n",
       "      <td>15.5600</td>\n",
       "      <td>1.193118</td>\n",
       "    </tr>\n",
       "    <tr>\n",
       "      <th>2289</th>\n",
       "      <td>5/16/2018</td>\n",
       "      <td>2725.780029</td>\n",
       "      <td>122.543800</td>\n",
       "      <td>14.4058</td>\n",
       "      <td>15.4542</td>\n",
       "      <td>1.182033</td>\n",
       "    </tr>\n",
       "  </tbody>\n",
       "</table>\n",
       "</div>"
      ],
      "text/plain": [
       "           Date          SPX         GLD      USO      SLV   EUR/USD\n",
       "2285   5/8/2018  2671.919922  124.589996  14.0600  15.5100  1.186789\n",
       "2286   5/9/2018  2697.790039  124.330002  14.3700  15.5300  1.184722\n",
       "2287  5/10/2018  2723.070068  125.180000  14.4100  15.7400  1.191753\n",
       "2288  5/14/2018  2730.129883  124.489998  14.3800  15.5600  1.193118\n",
       "2289  5/16/2018  2725.780029  122.543800  14.4058  15.4542  1.182033"
      ]
     },
     "execution_count": 4,
     "metadata": {},
     "output_type": "execute_result"
    }
   ],
   "source": [
    "df.tail()"
   ]
  },
  {
   "cell_type": "code",
   "execution_count": 5,
   "id": "385bac45-599c-4da9-8f4b-3b2bd00b0dc1",
   "metadata": {
    "tags": []
   },
   "outputs": [
    {
     "data": {
      "text/plain": [
       "(2290, 6)"
      ]
     },
     "execution_count": 5,
     "metadata": {},
     "output_type": "execute_result"
    }
   ],
   "source": [
    "df.shape"
   ]
  },
  {
   "cell_type": "code",
   "execution_count": 6,
   "id": "6a4f0cb2-3350-4421-867f-1b9a243dd420",
   "metadata": {
    "tags": []
   },
   "outputs": [
    {
     "name": "stdout",
     "output_type": "stream",
     "text": [
      "<class 'pandas.core.frame.DataFrame'>\n",
      "RangeIndex: 2290 entries, 0 to 2289\n",
      "Data columns (total 6 columns):\n",
      " #   Column   Non-Null Count  Dtype  \n",
      "---  ------   --------------  -----  \n",
      " 0   Date     2290 non-null   object \n",
      " 1   SPX      2290 non-null   float64\n",
      " 2   GLD      2290 non-null   float64\n",
      " 3   USO      2290 non-null   float64\n",
      " 4   SLV      2290 non-null   float64\n",
      " 5   EUR/USD  2290 non-null   float64\n",
      "dtypes: float64(5), object(1)\n",
      "memory usage: 107.5+ KB\n"
     ]
    }
   ],
   "source": [
    "df.info()"
   ]
  },
  {
   "cell_type": "code",
   "execution_count": 7,
   "id": "2aa2d4eb-01e4-4b43-bc6d-c6d0d56b6d9c",
   "metadata": {
    "tags": []
   },
   "outputs": [
    {
     "data": {
      "text/plain": [
       "Date       0\n",
       "SPX        0\n",
       "GLD        0\n",
       "USO        0\n",
       "SLV        0\n",
       "EUR/USD    0\n",
       "dtype: int64"
      ]
     },
     "execution_count": 7,
     "metadata": {},
     "output_type": "execute_result"
    }
   ],
   "source": [
    "df.isnull().sum()"
   ]
  },
  {
   "cell_type": "code",
   "execution_count": 41,
   "id": "929e64be-637a-4208-8b37-04e50a1dd119",
   "metadata": {
    "tags": []
   },
   "outputs": [
    {
     "data": {
      "text/html": [
       "<div>\n",
       "<style scoped>\n",
       "    .dataframe tbody tr th:only-of-type {\n",
       "        vertical-align: middle;\n",
       "    }\n",
       "\n",
       "    .dataframe tbody tr th {\n",
       "        vertical-align: top;\n",
       "    }\n",
       "\n",
       "    .dataframe thead th {\n",
       "        text-align: right;\n",
       "    }\n",
       "</style>\n",
       "<table border=\"1\" class=\"dataframe\">\n",
       "  <thead>\n",
       "    <tr style=\"text-align: right;\">\n",
       "      <th></th>\n",
       "      <th>SPX</th>\n",
       "      <th>GLD</th>\n",
       "      <th>USO</th>\n",
       "      <th>SLV</th>\n",
       "      <th>EUR/USD</th>\n",
       "    </tr>\n",
       "  </thead>\n",
       "  <tbody>\n",
       "    <tr>\n",
       "      <th>count</th>\n",
       "      <td>2290.000000</td>\n",
       "      <td>2290.000000</td>\n",
       "      <td>2290.000000</td>\n",
       "      <td>2290.000000</td>\n",
       "      <td>2290.000000</td>\n",
       "    </tr>\n",
       "    <tr>\n",
       "      <th>mean</th>\n",
       "      <td>1654.315776</td>\n",
       "      <td>122.732875</td>\n",
       "      <td>31.842221</td>\n",
       "      <td>20.084997</td>\n",
       "      <td>1.283653</td>\n",
       "    </tr>\n",
       "    <tr>\n",
       "      <th>std</th>\n",
       "      <td>519.111540</td>\n",
       "      <td>23.283346</td>\n",
       "      <td>19.523517</td>\n",
       "      <td>7.092566</td>\n",
       "      <td>0.131547</td>\n",
       "    </tr>\n",
       "    <tr>\n",
       "      <th>min</th>\n",
       "      <td>676.530029</td>\n",
       "      <td>70.000000</td>\n",
       "      <td>7.960000</td>\n",
       "      <td>8.850000</td>\n",
       "      <td>1.039047</td>\n",
       "    </tr>\n",
       "    <tr>\n",
       "      <th>25%</th>\n",
       "      <td>1239.874969</td>\n",
       "      <td>109.725000</td>\n",
       "      <td>14.380000</td>\n",
       "      <td>15.570000</td>\n",
       "      <td>1.171313</td>\n",
       "    </tr>\n",
       "    <tr>\n",
       "      <th>50%</th>\n",
       "      <td>1551.434998</td>\n",
       "      <td>120.580002</td>\n",
       "      <td>33.869999</td>\n",
       "      <td>17.268500</td>\n",
       "      <td>1.303297</td>\n",
       "    </tr>\n",
       "    <tr>\n",
       "      <th>75%</th>\n",
       "      <td>2073.010070</td>\n",
       "      <td>132.840004</td>\n",
       "      <td>37.827501</td>\n",
       "      <td>22.882500</td>\n",
       "      <td>1.369971</td>\n",
       "    </tr>\n",
       "    <tr>\n",
       "      <th>max</th>\n",
       "      <td>2872.870117</td>\n",
       "      <td>184.589996</td>\n",
       "      <td>117.480003</td>\n",
       "      <td>47.259998</td>\n",
       "      <td>1.598798</td>\n",
       "    </tr>\n",
       "  </tbody>\n",
       "</table>\n",
       "</div>"
      ],
      "text/plain": [
       "               SPX          GLD          USO          SLV      EUR/USD\n",
       "count  2290.000000  2290.000000  2290.000000  2290.000000  2290.000000\n",
       "mean   1654.315776   122.732875    31.842221    20.084997     1.283653\n",
       "std     519.111540    23.283346    19.523517     7.092566     0.131547\n",
       "min     676.530029    70.000000     7.960000     8.850000     1.039047\n",
       "25%    1239.874969   109.725000    14.380000    15.570000     1.171313\n",
       "50%    1551.434998   120.580002    33.869999    17.268500     1.303297\n",
       "75%    2073.010070   132.840004    37.827501    22.882500     1.369971\n",
       "max    2872.870117   184.589996   117.480003    47.259998     1.598798"
      ]
     },
     "execution_count": 41,
     "metadata": {},
     "output_type": "execute_result"
    }
   ],
   "source": [
    "df.describe()"
   ]
  },
  {
   "cell_type": "code",
   "execution_count": 43,
   "id": "4f8c3272-69a1-4049-ac70-e80f28b98ed6",
   "metadata": {
    "tags": []
   },
   "outputs": [],
   "source": [
    "import matplotlib.pyplot as plt"
   ]
  },
  {
   "cell_type": "code",
   "execution_count": 44,
   "id": "1a0c28fc-9dab-4ebc-866a-cac800d2cebc",
   "metadata": {
    "tags": []
   },
   "outputs": [
    {
     "data": {
      "text/plain": [
       "[<matplotlib.lines.Line2D at 0x1ca756a4110>]"
      ]
     },
     "execution_count": 44,
     "metadata": {},
     "output_type": "execute_result"
    },
    {
     "data": {
      "image/png": "[encoded data removed]",
      "text/plain": [
       "<Figure size 640x480 with 1 Axes>"
      ]
     },
     "metadata": {},
     "output_type": "display_data"
    }
   ],
   "source": [
    "plt.plot(df['GLD'])"
   ]
  },
  {
   "cell_type": "code",
   "execution_count": 45,
   "id": "223c2afb-fb7a-49be-bdc0-d3c2bc27d26e",
   "metadata": {},
   "outputs": [],
   "source": [
    "X = np.array(df['GLD'])"
   ]
  },
  {
   "cell_type": "code",
   "execution_count": 46,
   "id": "0490a527-29ee-4a58-be9d-caae7bca8e23",
   "metadata": {
    "tags": []
   },
   "outputs": [
    {
     "name": "stdout",
     "output_type": "stream",
     "text": [
      "[ 84.860001  85.57      85.129997 ... 125.18     124.489998 122.5438  ]\n"
     ]
    }
   ],
   "source": [
    "print(X)"
   ]
  },
  {
   "cell_type": "code",
   "execution_count": 47,
   "id": "db8e0c50-3348-4eec-af6c-abb50ca35262",
   "metadata": {
    "tags": []
   },
   "outputs": [
    {
     "data": {
      "text/plain": [
       "(2290,)"
      ]
     },
     "execution_count": 47,
     "metadata": {},
     "output_type": "execute_result"
    }
   ],
   "source": [
    "X.shape"
   ]
  },
  {
   "cell_type": "code",
   "execution_count": 12,
   "id": "04853f39-cdd1-49d3-9b94-b614005c97d0",
   "metadata": {
    "tags": []
   },
   "outputs": [],
   "source": [
    "maxlen = 2290"
   ]
  },
  {
   "cell_type": "code",
   "execution_count": 27,
   "id": "335e0d14-cefa-4c80-99d2-c0f2889756cd",
   "metadata": {
    "tags": []
   },
   "outputs": [],
   "source": [
    "input_sequences = []\n",
    "for i in range(1,len(X)):\n",
    "    input_sequences.append(X[:i+1])"
   ]
  },
  {
   "cell_type": "code",
   "execution_count": 31,
   "id": "1846bb29-9885-4663-bd03-8d31338f5fc4",
   "metadata": {
    "tags": []
   },
   "outputs": [
    {
     "data": {
      "text/plain": [
       "2289"
      ]
     },
     "execution_count": 31,
     "metadata": {},
     "output_type": "execute_result"
    }
   ],
   "source": [
    "len(input_sequences)"
   ]
  },
  {
   "cell_type": "code",
   "execution_count": 17,
   "id": "f7e0631c-80d6-4fde-af8a-b1876ce9a78c",
   "metadata": {
    "tags": []
   },
   "outputs": [],
   "source": [
    "from tensorflow.keras.preprocessing.sequence import pad_sequences\n",
    "padded_input_sequences = pad_sequences(input_sequences, maxlen = maxlen, padding='pre')"
   ]
  },
  {
   "cell_type": "code",
   "execution_count": 39,
   "id": "debc43ce-8f8f-4558-a361-b3feac3b9d29",
   "metadata": {
    "tags": []
   },
   "outputs": [
    {
     "data": {
      "text/plain": [
       "array([[  0,   0,   0, ...,   0,  84,  85],\n",
       "       [  0,   0,   0, ...,  84,  85,  85],\n",
       "       [  0,   0,   0, ...,  85,  85,  84],\n",
       "       ...,\n",
       "       [  0,   0,  84, ..., 124, 124, 125],\n",
       "       [  0,  84,  85, ..., 124, 125, 124],\n",
       "       [ 84,  85,  85, ..., 125, 124, 122]])"
      ]
     },
     "execution_count": 39,
     "metadata": {},
     "output_type": "execute_result"
    }
   ],
   "source": [
    "padded_input_sequences"
   ]
  },
  {
   "cell_type": "code",
   "execution_count": 42,
   "id": "1482b354-c048-49b9-aa85-a87ef593be6f",
   "metadata": {
    "tags": []
   },
   "outputs": [],
   "source": [
    "X = padded_input_sequences[:,:-1]\n",
    "y = padded_input_sequences[:,-1]"
   ]
  },
  {
   "cell_type": "code",
   "execution_count": 46,
   "id": "3e28bd0e-12b4-4a12-901b-eb0815b79662",
   "metadata": {
    "tags": []
   },
   "outputs": [
    {
     "data": {
      "text/plain": [
       "(2289, 2289)"
      ]
     },
     "execution_count": 46,
     "metadata": {},
     "output_type": "execute_result"
    }
   ],
   "source": [
    "X.shape"
   ]
  },
  {
   "cell_type": "code",
   "execution_count": 18,
   "id": "818fbd03-4670-4c08-b378-a779b5b149c5",
   "metadata": {
    "tags": []
   },
   "outputs": [],
   "source": [
    "import tensorflow as tf\n",
    "from tensorflow.keras.models import Sequential\n",
    "from tensorflow.keras.layers import LSTM,Dense"
   ]
  },
  {
   "cell_type": "code",
   "execution_count": 57,
   "id": "410ed266-99cc-4fe1-b286-e1386feb241d",
   "metadata": {
    "tags": []
   },
   "outputs": [],
   "source": [
    "model = Sequential()\n",
    "model.add(LSTM(400))\n",
    "model.add(Dense(128,activation='relu'))\n",
    "model.add(Dense(128,activation='relu'))\n",
    "model.add(Dense(1))\n",
    "model.compile(optimizer='adam',loss='mean_squared_error',metrics=['accuracy'])"
   ]
  },
  {
   "cell_type": "code",
   "execution_count": 163,
   "id": "21a93db3-ccc6-4ed1-8fe5-6568ed23186a",
   "metadata": {
    "tags": []
   },
   "outputs": [
    {
     "name": "stdout",
     "output_type": "stream",
     "text": [
      "Epoch 1/20\n",
      "72/72 [==============================] - 3s 4ms/step - loss: 12862.6201 - accuracy: 0.0000e+00\n",
      "Epoch 2/20\n",
      "72/72 [==============================] - 0s 4ms/step - loss: 2355.9019 - accuracy: 0.0000e+00\n",
      "Epoch 3/20\n",
      "72/72 [==============================] - 0s 4ms/step - loss: 913.0276 - accuracy: 0.0000e+00\n",
      "Epoch 4/20\n",
      "72/72 [==============================] - 0s 4ms/step - loss: 844.2389 - accuracy: 0.0000e+00\n",
      "Epoch 5/20\n",
      "72/72 [==============================] - 0s 3ms/step - loss: 724.3800 - accuracy: 0.0000e+00\n",
      "Epoch 6/20\n",
      "72/72 [==============================] - 0s 4ms/step - loss: 555.1376 - accuracy: 0.0000e+00\n",
      "Epoch 7/20\n",
      "72/72 [==============================] - 0s 4ms/step - loss: 449.2513 - accuracy: 0.0000e+00\n",
      "Epoch 8/20\n",
      "72/72 [==============================] - 0s 4ms/step - loss: 375.4318 - accuracy: 0.0000e+00\n",
      "Epoch 9/20\n",
      "72/72 [==============================] - 0s 4ms/step - loss: 319.4061 - accuracy: 0.0000e+00\n",
      "Epoch 10/20\n",
      "72/72 [==============================] - 0s 4ms/step - loss: 279.0098 - accuracy: 0.0000e+00\n",
      "Epoch 11/20\n",
      "72/72 [==============================] - 0s 4ms/step - loss: 258.5260 - accuracy: 0.0000e+00\n",
      "Epoch 12/20\n",
      "72/72 [==============================] - 0s 4ms/step - loss: 247.1406 - accuracy: 0.0000e+00\n",
      "Epoch 13/20\n",
      "72/72 [==============================] - 0s 4ms/step - loss: 239.2463 - accuracy: 0.0000e+00\n",
      "Epoch 14/20\n",
      "72/72 [==============================] - 0s 4ms/step - loss: 234.0925 - accuracy: 0.0000e+00\n",
      "Epoch 15/20\n",
      "72/72 [==============================] - 0s 4ms/step - loss: 228.7745 - accuracy: 0.0000e+00\n",
      "Epoch 16/20\n",
      "72/72 [==============================] - 0s 4ms/step - loss: 224.8219 - accuracy: 0.0000e+00\n",
      "Epoch 17/20\n",
      "72/72 [==============================] - 0s 4ms/step - loss: 223.2839 - accuracy: 0.0000e+00\n",
      "Epoch 18/20\n",
      "72/72 [==============================] - 0s 3ms/step - loss: 220.0883 - accuracy: 0.0000e+00\n",
      "Epoch 19/20\n",
      "72/72 [==============================] - 0s 3ms/step - loss: 218.5925 - accuracy: 0.0000e+00\n",
      "Epoch 20/20\n",
      "72/72 [==============================] - 0s 4ms/step - loss: 216.7713 - accuracy: 0.0000e+00\n"
     ]
    },
    {
     "data": {
      "text/plain": [
       "<keras.src.callbacks.History at 0x1ca1578cf10>"
      ]
     },
     "execution_count": 163,
     "metadata": {},
     "output_type": "execute_result"
    }
   ],
   "source": [
    "model.fit(features,y,epochs=20)"
   ]
  },
  {
   "cell_type": "code",
   "execution_count": 92,
   "id": "beb8eb9e-4260-47e4-a970-544aea2c6f4d",
   "metadata": {
    "tags": []
   },
   "outputs": [],
   "source": [
    "import numpy as np\n",
    "\n",
    "# Assuming df is your DataFrame with the data\n",
    "gold_prices = df['GLD'].values\n",
    "\n",
    "# Choose the sequence length (e.g., 10)\n",
    "sequence_length = 10\n",
    "\n",
    "# Initialize lists to store input sequences and target sequences\n",
    "input_sequences = []\n",
    "target_sequences = []\n",
    "\n",
    "# Normalize the gold price data (Min-Max scaling)\n",
    "# min_value = np.min(gold_prices)\n",
    "# max_value = np.max(gold_prices)\n",
    "# normalized_gold_prices = (gold_prices - min_value) / (max_value - min_value)\n",
    "normalized_gold_prices = gold_prices\n",
    "\n",
    "# Create sequences\n",
    "for i in range(len(normalized_gold_prices) - sequence_length):\n",
    "    input_seq = normalized_gold_prices[i:i+sequence_length]\n",
    "    target_seq = normalized_gold_prices[i+sequence_length]\n",
    "    \n",
    "    input_sequences.append(input_seq)\n",
    "    target_sequences.append(target_seq)\n",
    "\n",
    "# Convert the lists to numpy arrays\n",
    "input_sequences = np.array(input_sequences)\n",
    "target_sequences = np.array(target_sequences)\n",
    "\n"
   ]
  },
  {
   "cell_type": "code",
   "execution_count": 69,
   "id": "b7d8d4dd-2450-4a2b-b1b8-bdba85c14bd3",
   "metadata": {
    "tags": []
   },
   "outputs": [],
   "source": [
    "X = input_sequences.reshape(input_sequences.shape[0],input_sequences.shape[1],1)\n",
    "y = target_sequences"
   ]
  },
  {
   "cell_type": "code",
   "execution_count": 162,
   "id": "ca7aedca-b11e-4ce7-b17b-a3e88b83391d",
   "metadata": {
    "tags": []
   },
   "outputs": [],
   "source": [
    "sequence_length = 10\n",
    "\n",
    "# Create a Sequential model\n",
    "model = Sequential()\n",
    "\n",
    "# Add an LSTM layer with 64 units (you can adjust this based on your needs)\n",
    "model.add(LSTM(units=64,return_sequences=True, input_shape=(5, 1)))\n",
    "\n",
    "model.add(Dense(units=128,activation='relu'))\n",
    "\n",
    "# Add a Dense layer with 1 unit for regression\n",
    "model.add(Dense(units=1, activation='linear'))\n",
    "\n",
    "# Compile the model\n",
    "model.compile(optimizer='adam', loss='mean_squared_error',metrics=['accuracy'])\n"
   ]
  },
  {
   "cell_type": "code",
   "execution_count": 65,
   "id": "8f1a7b7c-d1c6-48de-b9dd-494e77208a7a",
   "metadata": {
    "tags": []
   },
   "outputs": [
    {
     "data": {
      "text/plain": [
       "(10,)"
      ]
     },
     "execution_count": 65,
     "metadata": {},
     "output_type": "execute_result"
    }
   ],
   "source": [
    "X[1].shape"
   ]
  },
  {
   "cell_type": "code",
   "execution_count": 75,
   "id": "1983f81e-eb9b-4522-b732-5d7711f37744",
   "metadata": {
    "tags": []
   },
   "outputs": [
    {
     "name": "stdout",
     "output_type": "stream",
     "text": [
      "1/1 [==============================] - 0s 26ms/step\n"
     ]
    }
   ],
   "source": [
    "out = model.predict([X[1]])"
   ]
  },
  {
   "cell_type": "code",
   "execution_count": 154,
   "id": "25209c23-7a43-4fed-a481-f9e8b2fa3558",
   "metadata": {
    "tags": []
   },
   "outputs": [],
   "source": [
    "features = df[['SPX', 'USO', 'SLV', 'EUR/USD', 'GLD']][:-10]"
   ]
  },
  {
   "cell_type": "code",
   "execution_count": 150,
   "id": "e5b35573-f1d8-4a59-942a-31b974d7a072",
   "metadata": {
    "tags": []
   },
   "outputs": [
    {
     "data": {
      "text/plain": [
       "(2290, 5)"
      ]
     },
     "execution_count": 150,
     "metadata": {},
     "output_type": "execute_result"
    }
   ],
   "source": [
    "features.shape"
   ]
  },
  {
   "cell_type": "code",
   "execution_count": 158,
   "id": "382c7293-9f31-4c06-a6df-de06e557ff25",
   "metadata": {
    "tags": []
   },
   "outputs": [
    {
     "name": "stdout",
     "output_type": "stream",
     "text": [
      "72/72 [==============================] - 1s 4ms/step\n"
     ]
    }
   ],
   "source": [
    "# Assuming 'new_sequence' is a single input sequence of shape (sequence_length, 1)\n",
    "prediction = model.predict(np.array(features))\n"
   ]
  },
  {
   "cell_type": "code",
   "execution_count": 159,
   "id": "49dd6ec0-2777-4807-9c55-d6326c6c2b2e",
   "metadata": {
    "tags": []
   },
   "outputs": [
    {
     "data": {
      "text/plain": [
       "(2280, 1)"
      ]
     },
     "execution_count": 159,
     "metadata": {},
     "output_type": "execute_result"
    }
   ],
   "source": [
    "prediction.shape"
   ]
  },
  {
   "cell_type": "code",
   "execution_count": 97,
   "id": "afa4b0b3-2383-46d1-bf93-d93294ec5a35",
   "metadata": {
    "tags": []
   },
   "outputs": [],
   "source": [
    "y = y.reshape(-1,1)"
   ]
  },
  {
   "cell_type": "code",
   "execution_count": 98,
   "id": "e9607668-57ce-4b56-aa81-af5f50392f37",
   "metadata": {
    "tags": []
   },
   "outputs": [
    {
     "data": {
      "text/plain": [
       "array([86.5])"
      ]
     },
     "execution_count": 98,
     "metadata": {},
     "output_type": "execute_result"
    }
   ],
   "source": [
    "y[1]"
   ]
  },
  {
   "cell_type": "code",
   "execution_count": 160,
   "id": "a0b6a96d-57ee-4f12-ac1a-414fe406672d",
   "metadata": {
    "tags": []
   },
   "outputs": [
    {
     "data": {
      "text/plain": [
       "Text(0.5, 1.0, 'predictions')"
      ]
     },
     "execution_count": 160,
     "metadata": {},
     "output_type": "execute_result"
    },
    {
     "data": {
      "image/png": "[encoded data removed]",
      "text/plain": [
       "<Figure size 640x480 with 1 Axes>"
      ]
     },
     "metadata": {},
     "output_type": "display_data"
    }
   ],
   "source": [
    "plt.plot(prediction)\n",
    "plt.title('predictions')"
   ]
  },
  {
   "cell_type": "code",
   "execution_count": 161,
   "id": "f6520ad3-03ee-4c05-90bc-d0b2b6ca6e70",
   "metadata": {
    "tags": []
   },
   "outputs": [
    {
     "data": {
      "text/plain": [
       "Text(0.5, 1.0, 'Original')"
      ]
     },
     "execution_count": 161,
     "metadata": {},
     "output_type": "execute_result"
    },
    {
     "data": {
      "image/png": "[encoded data removed]",
      "text/plain": [
       "<Figure size 640x480 with 1 Axes>"
      ]
     },
     "metadata": {},
     "output_type": "display_data"
    }
   ],
   "source": [
    "plt.plot(df['GLD'])\n",
    "plt.title('Original')"
   ]
  },
  {
   "cell_type": "code",
   "execution_count": 129,
   "id": "cf830239-d59d-454b-8e55-10484b08683f",
   "metadata": {
    "tags": []
   },
   "outputs": [
    {
     "data": {
      "text/plain": [
       "array([[85.57    ],\n",
       "       [85.129997],\n",
       "       [84.769997],\n",
       "       [86.779999],\n",
       "       [86.550003],\n",
       "       [88.25    ],\n",
       "       [88.580002],\n",
       "       [89.540001],\n",
       "       [87.989998],\n",
       "       [86.699997]])"
      ]
     },
     "execution_count": 129,
     "metadata": {},
     "output_type": "execute_result"
    }
   ],
   "source": [
    "X[1]"
   ]
  }
 ],
 "metadata": {
  "kernelspec": {
   "display_name": "py311",
   "language": "python",
   "name": "py311"
  },
  "language_info": {
   "codemirror_mode": {
    "name": "ipython",
    "version": 3
   },
   "file_extension": ".py",
   "mimetype": "text/x-python",
   "name": "python",
   "nbconvert_exporter": "python",
   "pygments_lexer": "ipython3",
   "version": "3.11.4"
  }
 },
 "nbformat": 4,
 "nbformat_minor": 5
}

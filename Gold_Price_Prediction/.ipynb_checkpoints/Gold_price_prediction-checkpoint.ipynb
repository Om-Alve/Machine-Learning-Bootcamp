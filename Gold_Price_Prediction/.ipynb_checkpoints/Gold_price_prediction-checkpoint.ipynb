{
 "cells": [
  {
   "cell_type": "code",
   "execution_count": 11,
   "id": "fc08239d-a844-40e9-8fb5-1ea4ae3b0a63",
   "metadata": {
    "tags": []
   },
   "outputs": [],
   "source": [
    "import pandas as pd\n",
    "import numpy as np\n",
    "import matplotlib.pyplot as plt"
   ]
  },
  {
   "cell_type": "code",
   "execution_count": 12,
   "id": "fe554dfd-1126-4fcf-ab35-9d945a79f8eb",
   "metadata": {
    "tags": []
   },
   "outputs": [],
   "source": [
    "df = pd.read_csv('dataset/gld_price_data.csv')"
   ]
  },
  {
   "cell_type": "code",
   "execution_count": 13,
   "id": "89bbc70d-9566-4134-b00f-99a4e37621b1",
   "metadata": {
    "tags": []
   },
   "outputs": [
    {
     "data": {
      "text/html": [
       "<div>\n",
       "<style scoped>\n",
       "    .dataframe tbody tr th:only-of-type {\n",
       "        vertical-align: middle;\n",
       "    }\n",
       "\n",
       "    .dataframe tbody tr th {\n",
       "        vertical-align: top;\n",
       "    }\n",
       "\n",
       "    .dataframe thead th {\n",
       "        text-align: right;\n",
       "    }\n",
       "</style>\n",
       "<table border=\"1\" class=\"dataframe\">\n",
       "  <thead>\n",
       "    <tr style=\"text-align: right;\">\n",
       "      <th></th>\n",
       "      <th>Date</th>\n",
       "      <th>SPX</th>\n",
       "      <th>GLD</th>\n",
       "      <th>USO</th>\n",
       "      <th>SLV</th>\n",
       "      <th>EUR/USD</th>\n",
       "    </tr>\n",
       "  </thead>\n",
       "  <tbody>\n",
       "    <tr>\n",
       "      <th>0</th>\n",
       "      <td>1/2/2008</td>\n",
       "      <td>1447.160034</td>\n",
       "      <td>84.860001</td>\n",
       "      <td>78.470001</td>\n",
       "      <td>15.180</td>\n",
       "      <td>1.471692</td>\n",
       "    </tr>\n",
       "    <tr>\n",
       "      <th>1</th>\n",
       "      <td>1/3/2008</td>\n",
       "      <td>1447.160034</td>\n",
       "      <td>85.570000</td>\n",
       "      <td>78.370003</td>\n",
       "      <td>15.285</td>\n",
       "      <td>1.474491</td>\n",
       "    </tr>\n",
       "    <tr>\n",
       "      <th>2</th>\n",
       "      <td>1/4/2008</td>\n",
       "      <td>1411.630005</td>\n",
       "      <td>85.129997</td>\n",
       "      <td>77.309998</td>\n",
       "      <td>15.167</td>\n",
       "      <td>1.475492</td>\n",
       "    </tr>\n",
       "    <tr>\n",
       "      <th>3</th>\n",
       "      <td>1/7/2008</td>\n",
       "      <td>1416.180054</td>\n",
       "      <td>84.769997</td>\n",
       "      <td>75.500000</td>\n",
       "      <td>15.053</td>\n",
       "      <td>1.468299</td>\n",
       "    </tr>\n",
       "    <tr>\n",
       "      <th>4</th>\n",
       "      <td>1/8/2008</td>\n",
       "      <td>1390.189941</td>\n",
       "      <td>86.779999</td>\n",
       "      <td>76.059998</td>\n",
       "      <td>15.590</td>\n",
       "      <td>1.557099</td>\n",
       "    </tr>\n",
       "  </tbody>\n",
       "</table>\n",
       "</div>"
      ],
      "text/plain": [
       "       Date          SPX        GLD        USO     SLV   EUR/USD\n",
       "0  1/2/2008  1447.160034  84.860001  78.470001  15.180  1.471692\n",
       "1  1/3/2008  1447.160034  85.570000  78.370003  15.285  1.474491\n",
       "2  1/4/2008  1411.630005  85.129997  77.309998  15.167  1.475492\n",
       "3  1/7/2008  1416.180054  84.769997  75.500000  15.053  1.468299\n",
       "4  1/8/2008  1390.189941  86.779999  76.059998  15.590  1.557099"
      ]
     },
     "execution_count": 13,
     "metadata": {},
     "output_type": "execute_result"
    }
   ],
   "source": [
    "df.head()"
   ]
  },
  {
   "cell_type": "code",
   "execution_count": 14,
   "id": "2cb06ca8-a021-469f-8f2b-8d6980c082e5",
   "metadata": {
    "tags": []
   },
   "outputs": [
    {
     "data": {
      "text/html": [
       "<div>\n",
       "<style scoped>\n",
       "    .dataframe tbody tr th:only-of-type {\n",
       "        vertical-align: middle;\n",
       "    }\n",
       "\n",
       "    .dataframe tbody tr th {\n",
       "        vertical-align: top;\n",
       "    }\n",
       "\n",
       "    .dataframe thead th {\n",
       "        text-align: right;\n",
       "    }\n",
       "</style>\n",
       "<table border=\"1\" class=\"dataframe\">\n",
       "  <thead>\n",
       "    <tr style=\"text-align: right;\">\n",
       "      <th></th>\n",
       "      <th>Date</th>\n",
       "      <th>SPX</th>\n",
       "      <th>GLD</th>\n",
       "      <th>USO</th>\n",
       "      <th>SLV</th>\n",
       "      <th>EUR/USD</th>\n",
       "    </tr>\n",
       "  </thead>\n",
       "  <tbody>\n",
       "    <tr>\n",
       "      <th>2285</th>\n",
       "      <td>5/8/2018</td>\n",
       "      <td>2671.919922</td>\n",
       "      <td>124.589996</td>\n",
       "      <td>14.0600</td>\n",
       "      <td>15.5100</td>\n",
       "      <td>1.186789</td>\n",
       "    </tr>\n",
       "    <tr>\n",
       "      <th>2286</th>\n",
       "      <td>5/9/2018</td>\n",
       "      <td>2697.790039</td>\n",
       "      <td>124.330002</td>\n",
       "      <td>14.3700</td>\n",
       "      <td>15.5300</td>\n",
       "      <td>1.184722</td>\n",
       "    </tr>\n",
       "    <tr>\n",
       "      <th>2287</th>\n",
       "      <td>5/10/2018</td>\n",
       "      <td>2723.070068</td>\n",
       "      <td>125.180000</td>\n",
       "      <td>14.4100</td>\n",
       "      <td>15.7400</td>\n",
       "      <td>1.191753</td>\n",
       "    </tr>\n",
       "    <tr>\n",
       "      <th>2288</th>\n",
       "      <td>5/14/2018</td>\n",
       "      <td>2730.129883</td>\n",
       "      <td>124.489998</td>\n",
       "      <td>14.3800</td>\n",
       "      <td>15.5600</td>\n",
       "      <td>1.193118</td>\n",
       "    </tr>\n",
       "    <tr>\n",
       "      <th>2289</th>\n",
       "      <td>5/16/2018</td>\n",
       "      <td>2725.780029</td>\n",
       "      <td>122.543800</td>\n",
       "      <td>14.4058</td>\n",
       "      <td>15.4542</td>\n",
       "      <td>1.182033</td>\n",
       "    </tr>\n",
       "  </tbody>\n",
       "</table>\n",
       "</div>"
      ],
      "text/plain": [
       "           Date          SPX         GLD      USO      SLV   EUR/USD\n",
       "2285   5/8/2018  2671.919922  124.589996  14.0600  15.5100  1.186789\n",
       "2286   5/9/2018  2697.790039  124.330002  14.3700  15.5300  1.184722\n",
       "2287  5/10/2018  2723.070068  125.180000  14.4100  15.7400  1.191753\n",
       "2288  5/14/2018  2730.129883  124.489998  14.3800  15.5600  1.193118\n",
       "2289  5/16/2018  2725.780029  122.543800  14.4058  15.4542  1.182033"
      ]
     },
     "execution_count": 14,
     "metadata": {},
     "output_type": "execute_result"
    }
   ],
   "source": [
    "df.tail()"
   ]
  },
  {
   "cell_type": "code",
   "execution_count": 15,
   "id": "385bac45-599c-4da9-8f4b-3b2bd00b0dc1",
   "metadata": {
    "tags": []
   },
   "outputs": [
    {
     "data": {
      "text/plain": [
       "(2290, 6)"
      ]
     },
     "execution_count": 15,
     "metadata": {},
     "output_type": "execute_result"
    }
   ],
   "source": [
    "df.shape"
   ]
  },
  {
   "cell_type": "code",
   "execution_count": 16,
   "id": "6a4f0cb2-3350-4421-867f-1b9a243dd420",
   "metadata": {
    "tags": []
   },
   "outputs": [
    {
     "name": "stdout",
     "output_type": "stream",
     "text": [
      "<class 'pandas.core.frame.DataFrame'>\n",
      "RangeIndex: 2290 entries, 0 to 2289\n",
      "Data columns (total 6 columns):\n",
      " #   Column   Non-Null Count  Dtype  \n",
      "---  ------   --------------  -----  \n",
      " 0   Date     2290 non-null   object \n",
      " 1   SPX      2290 non-null   float64\n",
      " 2   GLD      2290 non-null   float64\n",
      " 3   USO      2290 non-null   float64\n",
      " 4   SLV      2290 non-null   float64\n",
      " 5   EUR/USD  2290 non-null   float64\n",
      "dtypes: float64(5), object(1)\n",
      "memory usage: 107.5+ KB\n"
     ]
    }
   ],
   "source": [
    "df.info()"
   ]
  },
  {
   "cell_type": "code",
   "execution_count": 17,
   "id": "2aa2d4eb-01e4-4b43-bc6d-c6d0d56b6d9c",
   "metadata": {
    "tags": []
   },
   "outputs": [
    {
     "data": {
      "text/plain": [
       "Date       0\n",
       "SPX        0\n",
       "GLD        0\n",
       "USO        0\n",
       "SLV        0\n",
       "EUR/USD    0\n",
       "dtype: int64"
      ]
     },
     "execution_count": 17,
     "metadata": {},
     "output_type": "execute_result"
    }
   ],
   "source": [
    "df.isnull().sum()"
   ]
  },
  {
   "cell_type": "code",
   "execution_count": 18,
   "id": "929e64be-637a-4208-8b37-04e50a1dd119",
   "metadata": {
    "tags": []
   },
   "outputs": [
    {
     "data": {
      "text/html": [
       "<div>\n",
       "<style scoped>\n",
       "    .dataframe tbody tr th:only-of-type {\n",
       "        vertical-align: middle;\n",
       "    }\n",
       "\n",
       "    .dataframe tbody tr th {\n",
       "        vertical-align: top;\n",
       "    }\n",
       "\n",
       "    .dataframe thead th {\n",
       "        text-align: right;\n",
       "    }\n",
       "</style>\n",
       "<table border=\"1\" class=\"dataframe\">\n",
       "  <thead>\n",
       "    <tr style=\"text-align: right;\">\n",
       "      <th></th>\n",
       "      <th>SPX</th>\n",
       "      <th>GLD</th>\n",
       "      <th>USO</th>\n",
       "      <th>SLV</th>\n",
       "      <th>EUR/USD</th>\n",
       "    </tr>\n",
       "  </thead>\n",
       "  <tbody>\n",
       "    <tr>\n",
       "      <th>count</th>\n",
       "      <td>2290.000000</td>\n",
       "      <td>2290.000000</td>\n",
       "      <td>2290.000000</td>\n",
       "      <td>2290.000000</td>\n",
       "      <td>2290.000000</td>\n",
       "    </tr>\n",
       "    <tr>\n",
       "      <th>mean</th>\n",
       "      <td>1654.315776</td>\n",
       "      <td>122.732875</td>\n",
       "      <td>31.842221</td>\n",
       "      <td>20.084997</td>\n",
       "      <td>1.283653</td>\n",
       "    </tr>\n",
       "    <tr>\n",
       "      <th>std</th>\n",
       "      <td>519.111540</td>\n",
       "      <td>23.283346</td>\n",
       "      <td>19.523517</td>\n",
       "      <td>7.092566</td>\n",
       "      <td>0.131547</td>\n",
       "    </tr>\n",
       "    <tr>\n",
       "      <th>min</th>\n",
       "      <td>676.530029</td>\n",
       "      <td>70.000000</td>\n",
       "      <td>7.960000</td>\n",
       "      <td>8.850000</td>\n",
       "      <td>1.039047</td>\n",
       "    </tr>\n",
       "    <tr>\n",
       "      <th>25%</th>\n",
       "      <td>1239.874969</td>\n",
       "      <td>109.725000</td>\n",
       "      <td>14.380000</td>\n",
       "      <td>15.570000</td>\n",
       "      <td>1.171313</td>\n",
       "    </tr>\n",
       "    <tr>\n",
       "      <th>50%</th>\n",
       "      <td>1551.434998</td>\n",
       "      <td>120.580002</td>\n",
       "      <td>33.869999</td>\n",
       "      <td>17.268500</td>\n",
       "      <td>1.303297</td>\n",
       "    </tr>\n",
       "    <tr>\n",
       "      <th>75%</th>\n",
       "      <td>2073.010070</td>\n",
       "      <td>132.840004</td>\n",
       "      <td>37.827501</td>\n",
       "      <td>22.882500</td>\n",
       "      <td>1.369971</td>\n",
       "    </tr>\n",
       "    <tr>\n",
       "      <th>max</th>\n",
       "      <td>2872.870117</td>\n",
       "      <td>184.589996</td>\n",
       "      <td>117.480003</td>\n",
       "      <td>47.259998</td>\n",
       "      <td>1.598798</td>\n",
       "    </tr>\n",
       "  </tbody>\n",
       "</table>\n",
       "</div>"
      ],
      "text/plain": [
       "               SPX          GLD          USO          SLV      EUR/USD\n",
       "count  2290.000000  2290.000000  2290.000000  2290.000000  2290.000000\n",
       "mean   1654.315776   122.732875    31.842221    20.084997     1.283653\n",
       "std     519.111540    23.283346    19.523517     7.092566     0.131547\n",
       "min     676.530029    70.000000     7.960000     8.850000     1.039047\n",
       "25%    1239.874969   109.725000    14.380000    15.570000     1.171313\n",
       "50%    1551.434998   120.580002    33.869999    17.268500     1.303297\n",
       "75%    2073.010070   132.840004    37.827501    22.882500     1.369971\n",
       "max    2872.870117   184.589996   117.480003    47.259998     1.598798"
      ]
     },
     "execution_count": 18,
     "metadata": {},
     "output_type": "execute_result"
    }
   ],
   "source": [
    "df.describe()"
   ]
  },
  {
   "cell_type": "code",
   "execution_count": 26,
   "id": "223c2afb-fb7a-49be-bdc0-d3c2bc27d26e",
   "metadata": {},
   "outputs": [],
   "source": [
    "X = np.array(df['GLD'])"
   ]
  },
  {
   "cell_type": "code",
   "execution_count": 23,
   "id": "0490a527-29ee-4a58-be9d-caae7bca8e23",
   "metadata": {
    "tags": []
   },
   "outputs": [
    {
     "name": "stdout",
     "output_type": "stream",
     "text": [
      "[[ 84.860001]\n",
      " [ 85.57    ]\n",
      " [ 85.129997]\n",
      " ...\n",
      " [125.18    ]\n",
      " [124.489998]\n",
      " [122.5438  ]]\n"
     ]
    }
   ],
   "source": [
    "print(X)"
   ]
  },
  {
   "cell_type": "code",
   "execution_count": 24,
   "id": "db8e0c50-3348-4eec-af6c-abb50ca35262",
   "metadata": {
    "tags": []
   },
   "outputs": [
    {
     "data": {
      "text/plain": [
       "(2290, 1)"
      ]
     },
     "execution_count": 24,
     "metadata": {},
     "output_type": "execute_result"
    }
   ],
   "source": [
    "X.shape"
   ]
  },
  {
   "cell_type": "code",
   "execution_count": 25,
   "id": "04853f39-cdd1-49d3-9b94-b614005c97d0",
   "metadata": {
    "tags": []
   },
   "outputs": [],
   "source": [
    "maxlen = 2290"
   ]
  },
  {
   "cell_type": "code",
   "execution_count": 27,
   "id": "335e0d14-cefa-4c80-99d2-c0f2889756cd",
   "metadata": {
    "tags": []
   },
   "outputs": [],
   "source": [
    "input_sequences = []\n",
    "for i in range(1,len(X)):\n",
    "    input_sequences.append(X[:i+1])"
   ]
  },
  {
   "cell_type": "code",
   "execution_count": 31,
   "id": "1846bb29-9885-4663-bd03-8d31338f5fc4",
   "metadata": {
    "tags": []
   },
   "outputs": [
    {
     "data": {
      "text/plain": [
       "2289"
      ]
     },
     "execution_count": 31,
     "metadata": {},
     "output_type": "execute_result"
    }
   ],
   "source": [
    "len(input_sequences)"
   ]
  },
  {
   "cell_type": "code",
   "execution_count": 32,
   "id": "f7e0631c-80d6-4fde-af8a-b1876ce9a78c",
   "metadata": {
    "tags": []
   },
   "outputs": [],
   "source": [
    "from tensorflow.keras.preprocessing.sequence import pad_sequences\n",
    "padded_input_sequences = pad_sequences(input_sequences, maxlen = maxlen, padding='pre')"
   ]
  },
  {
   "cell_type": "code",
   "execution_count": 39,
   "id": "debc43ce-8f8f-4558-a361-b3feac3b9d29",
   "metadata": {
    "tags": []
   },
   "outputs": [
    {
     "data": {
      "text/plain": [
       "array([[  0,   0,   0, ...,   0,  84,  85],\n",
       "       [  0,   0,   0, ...,  84,  85,  85],\n",
       "       [  0,   0,   0, ...,  85,  85,  84],\n",
       "       ...,\n",
       "       [  0,   0,  84, ..., 124, 124, 125],\n",
       "       [  0,  84,  85, ..., 124, 125, 124],\n",
       "       [ 84,  85,  85, ..., 125, 124, 122]])"
      ]
     },
     "execution_count": 39,
     "metadata": {},
     "output_type": "execute_result"
    }
   ],
   "source": [
    "padded_input_sequences"
   ]
  },
  {
   "cell_type": "code",
   "execution_count": 42,
   "id": "1482b354-c048-49b9-aa85-a87ef593be6f",
   "metadata": {
    "tags": []
   },
   "outputs": [],
   "source": [
    "X = padded_input_sequences[:,:-1]\n",
    "y = padded_input_sequences[:,-1]"
   ]
  },
  {
   "cell_type": "code",
   "execution_count": 46,
   "id": "3e28bd0e-12b4-4a12-901b-eb0815b79662",
   "metadata": {
    "tags": []
   },
   "outputs": [
    {
     "data": {
      "text/plain": [
       "(2289, 2289)"
      ]
     },
     "execution_count": 46,
     "metadata": {},
     "output_type": "execute_result"
    }
   ],
   "source": [
    "X.shape"
   ]
  },
  {
   "cell_type": "code",
   "execution_count": 36,
   "id": "818fbd03-4670-4c08-b378-a779b5b149c5",
   "metadata": {
    "tags": []
   },
   "outputs": [],
   "source": [
    "import tensorflow as tf\n",
    "from tensorflow.keras.models import Sequential\n",
    "from tensorflow.keras.layers import LSTM,Dense"
   ]
  },
  {
   "cell_type": "code",
   "execution_count": 57,
   "id": "410ed266-99cc-4fe1-b286-e1386feb241d",
   "metadata": {
    "tags": []
   },
   "outputs": [],
   "source": [
    "model = Sequential()\n",
    "model.add(LSTM(400))\n",
    "model.add(Dense(128,activation='relu'))\n",
    "model.add(Dense(128,activation='relu'))\n",
    "model.add(Dense(1))\n",
    "model.compile(optimizer='adam',loss='mean_squared_error',metrics=['accuracy'])"
   ]
  },
  {
   "cell_type": "code",
   "execution_count": 67,
   "id": "21a93db3-ccc6-4ed1-8fe5-6568ed23186a",
   "metadata": {
    "tags": []
   },
   "outputs": [
    {
     "name": "stdout",
     "output_type": "stream",
     "text": [
      "Epoch 1/10\n",
      "72/72 [==============================] - 3s 10ms/step - loss: 0.0167 - accuracy: 8.7719e-04\n",
      "Epoch 2/10\n",
      "72/72 [==============================] - 1s 8ms/step - loss: 6.8374e-04 - accuracy: 8.7719e-04\n",
      "Epoch 3/10\n",
      "72/72 [==============================] - 1s 8ms/step - loss: 6.4235e-04 - accuracy: 8.7719e-04\n",
      "Epoch 4/10\n",
      "72/72 [==============================] - 1s 10ms/step - loss: 6.1564e-04 - accuracy: 8.7719e-04\n",
      "Epoch 5/10\n",
      "72/72 [==============================] - 1s 9ms/step - loss: 6.1214e-04 - accuracy: 8.7719e-04\n",
      "Epoch 6/10\n",
      "72/72 [==============================] - 1s 9ms/step - loss: 6.1223e-04 - accuracy: 8.7719e-04\n",
      "Epoch 7/10\n",
      "72/72 [==============================] - 1s 8ms/step - loss: 5.8587e-04 - accuracy: 8.7719e-04\n",
      "Epoch 8/10\n",
      "72/72 [==============================] - 1s 10ms/step - loss: 5.8351e-04 - accuracy: 8.7719e-04\n",
      "Epoch 9/10\n",
      "72/72 [==============================] - 1s 8ms/step - loss: 5.6667e-04 - accuracy: 8.7719e-04\n",
      "Epoch 10/10\n",
      "72/72 [==============================] - 1s 8ms/step - loss: 5.4993e-04 - accuracy: 8.7719e-04\n"
     ]
    },
    {
     "data": {
      "text/plain": [
       "<keras.callbacks.History at 0x2332f6a8130>"
      ]
     },
     "execution_count": 67,
     "metadata": {},
     "output_type": "execute_result"
    }
   ],
   "source": [
    "model.fit(X,y,epochs=10)"
   ]
  },
  {
   "cell_type": "code",
   "execution_count": 80,
   "id": "beb8eb9e-4260-47e4-a970-544aea2c6f4d",
   "metadata": {
    "tags": []
   },
   "outputs": [
    {
     "data": {
      "text/plain": [
       "array([[0.12967974, 0.13587574, 0.13203593, ..., 0.16214332, 0.170521  ,\n",
       "        0.15699449],\n",
       "       [0.13587574, 0.13203593, 0.1288943 , ..., 0.170521  , 0.15699449,\n",
       "        0.14573695],\n",
       "       [0.13203593, 0.1288943 , 0.14643511, ..., 0.15699449, 0.14573695,\n",
       "        0.14399163],\n",
       "       ...,\n",
       "       [0.49070604, 0.4835501 , 0.4797103 , ..., 0.47621958, 0.47639408,\n",
       "        0.47412518],\n",
       "       [0.4835501 , 0.4797103 , 0.47639408, ..., 0.47639408, 0.47412518,\n",
       "        0.48154291],\n",
       "       [0.4797103 , 0.47639408, 0.46871456, ..., 0.47412518, 0.48154291,\n",
       "        0.47552142]])"
      ]
     },
     "execution_count": 80,
     "metadata": {},
     "output_type": "execute_result"
    }
   ],
   "source": [
    "import numpy as np\n",
    "\n",
    "# Assuming df is your DataFrame with the data\n",
    "gold_prices = df['GLD'].values\n",
    "\n",
    "# Choose the sequence length (e.g., 10)\n",
    "sequence_length = 10\n",
    "\n",
    "# Initialize lists to store input sequences and target sequences\n",
    "input_sequences = []\n",
    "target_sequences = []\n",
    "\n",
    "# Normalize the gold price data (Min-Max scaling)\n",
    "# min_value = np.min(gold_prices)\n",
    "# max_value = np.max(gold_prices)\n",
    "# normalized_gold_prices = (gold_prices - min_value) / (max_value - min_value)\n",
    "normallized_gold_prices = gold_prices\n",
    "\n",
    "# Create sequences\n",
    "for i in range(len(normalized_gold_prices) - sequence_length):\n",
    "    input_seq = normalized_gold_prices[i:i+sequence_length]\n",
    "    target_seq = normalized_gold_prices[i+sequence_length]\n",
    "    \n",
    "    input_sequences.append(input_seq)\n",
    "    target_sequences.append(target_seq)\n",
    "\n",
    "# Convert the lists to numpy arrays\n",
    "input_sequences = np.array(input_sequences)\n",
    "target_sequences = np.array(target_sequences)\n",
    "\n"
   ]
  },
  {
   "cell_type": "code",
   "execution_count": 75,
   "id": "b7d8d4dd-2450-4a2b-b1b8-bdba85c14bd3",
   "metadata": {
    "tags": []
   },
   "outputs": [],
   "source": [
    "X = input_sequences.reshape(input_sequences.shape[0],input_sequences.shape[1],1)\n",
    "y = target_sequences"
   ]
  },
  {
   "cell_type": "code",
   "execution_count": 74,
   "id": "ca7aedca-b11e-4ce7-b17b-a3e88b83391d",
   "metadata": {
    "tags": []
   },
   "outputs": [],
   "source": [
    "sequence_length = 10\n",
    "\n",
    "# Create a Sequential model\n",
    "model = Sequential()\n",
    "\n",
    "# Add an LSTM layer with 64 units (you can adjust this based on your needs)\n",
    "model.add(LSTM(units=64, input_shape=(sequence_length, 1)))\n",
    "\n",
    "# Add a Dense layer with 1 unit for regression\n",
    "model.add(Dense(units=1, activation='linear'))\n",
    "\n",
    "# Compile the model\n",
    "model.compile(optimizer='adam', loss='mean_squared_error',metrics=['accuracy'])\n"
   ]
  },
  {
   "cell_type": "code",
   "execution_count": 79,
   "id": "8f1a7b7c-d1c6-48de-b9dd-494e77208a7a",
   "metadata": {
    "tags": []
   },
   "outputs": [
    {
     "data": {
      "text/plain": [
       "array([[[0.12967974],\n",
       "        [0.13587574],\n",
       "        [0.13203593],\n",
       "        ...,\n",
       "        [0.16214332],\n",
       "        [0.170521  ],\n",
       "        [0.15699449]],\n",
       "\n",
       "       [[0.13587574],\n",
       "        [0.13203593],\n",
       "        [0.1288943 ],\n",
       "        ...,\n",
       "        [0.170521  ],\n",
       "        [0.15699449],\n",
       "        [0.14573695]],\n",
       "\n",
       "       [[0.13203593],\n",
       "        [0.1288943 ],\n",
       "        [0.14643511],\n",
       "        ...,\n",
       "        [0.15699449],\n",
       "        [0.14573695],\n",
       "        [0.14399163]],\n",
       "\n",
       "       ...,\n",
       "\n",
       "       [[0.49070604],\n",
       "        [0.4835501 ],\n",
       "        [0.4797103 ],\n",
       "        ...,\n",
       "        [0.47621958],\n",
       "        [0.47639408],\n",
       "        [0.47412518]],\n",
       "\n",
       "       [[0.4835501 ],\n",
       "        [0.4797103 ],\n",
       "        [0.47639408],\n",
       "        ...,\n",
       "        [0.47639408],\n",
       "        [0.47412518],\n",
       "        [0.48154291]],\n",
       "\n",
       "       [[0.4797103 ],\n",
       "        [0.47639408],\n",
       "        [0.46871456],\n",
       "        ...,\n",
       "        [0.47412518],\n",
       "        [0.48154291],\n",
       "        [0.47552142]]])"
      ]
     },
     "execution_count": 79,
     "metadata": {},
     "output_type": "execute_result"
    }
   ],
   "source": [
    "X"
   ]
  }
 ],
 "metadata": {
  "kernelspec": {
   "display_name": "Python [conda env:py39] *",
   "language": "python",
   "name": "conda-env-py39-py"
  },
  "language_info": {
   "codemirror_mode": {
    "name": "ipython",
    "version": 3
   },
   "file_extension": ".py",
   "mimetype": "text/x-python",
   "name": "python",
   "nbconvert_exporter": "python",
   "pygments_lexer": "ipython3",
   "version": "3.9.18"
  }
 },
 "nbformat": 4,
 "nbformat_minor": 5
}

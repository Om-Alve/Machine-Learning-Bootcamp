{
 "cells": [
  {
   "cell_type": "code",
   "execution_count": 112,
   "id": "2ea5f095-57f2-4dd9-88cf-d6b4abc714ee",
   "metadata": {},
   "outputs": [],
   "source": [
    "import pandas as pd\n",
    "import numpy as np\n",
    "import matplotlib.pyplot as plt\n",
    "from sklearn.model_selection import train_test_split\n",
    "from sklearn.naive_bayes import MultinomialNB\n",
    "from sklearn.feature_extraction.text import CountVectorizer\n",
    "from sklearn.metrics import accuracy_score\n",
    "import re"
   ]
  },
  {
   "cell_type": "code",
   "execution_count": 113,
   "id": "6b421cb8-c327-4461-9965-00a94be64304",
   "metadata": {},
   "outputs": [],
   "source": [
    "df = pd.read_csv('Indian-Male-Names.csv')\n",
    "df = df.applymap(lambda x: re.sub(r'\\W+', '', str(x)).strip())"
   ]
  },
  {
   "cell_type": "code",
   "execution_count": 114,
   "id": "95110e17-2051-4e69-9035-c2707670634e",
   "metadata": {},
   "outputs": [
    {
     "data": {
      "text/plain": [
       "((14845,), (14845, 1))"
      ]
     },
     "execution_count": 114,
     "metadata": {},
     "output_type": "execute_result"
    }
   ],
   "source": [
    "male_data = df['name'].values\n",
    "y = np.ones([male_data.shape[0],1])\n",
    "male_data.shape,y.shape"
   ]
  },
  {
   "cell_type": "code",
   "execution_count": 115,
   "id": "df7b8865-53f3-46ad-9708-be4c28a7e277",
   "metadata": {},
   "outputs": [
    {
     "data": {
      "text/html": [
       "<div>\n",
       "<style scoped>\n",
       "    .dataframe tbody tr th:only-of-type {\n",
       "        vertical-align: middle;\n",
       "    }\n",
       "\n",
       "    .dataframe tbody tr th {\n",
       "        vertical-align: top;\n",
       "    }\n",
       "\n",
       "    .dataframe thead th {\n",
       "        text-align: right;\n",
       "    }\n",
       "</style>\n",
       "<table border=\"1\" class=\"dataframe\">\n",
       "  <thead>\n",
       "    <tr style=\"text-align: right;\">\n",
       "      <th></th>\n",
       "      <th>name</th>\n",
       "      <th>gender</th>\n",
       "      <th>race</th>\n",
       "    </tr>\n",
       "  </thead>\n",
       "  <tbody>\n",
       "    <tr>\n",
       "      <th>0</th>\n",
       "      <td>shivani</td>\n",
       "      <td>f</td>\n",
       "      <td>indian</td>\n",
       "    </tr>\n",
       "    <tr>\n",
       "      <th>1</th>\n",
       "      <td>isha</td>\n",
       "      <td>f</td>\n",
       "      <td>indian</td>\n",
       "    </tr>\n",
       "    <tr>\n",
       "      <th>2</th>\n",
       "      <td>smtshyanidevi</td>\n",
       "      <td>f</td>\n",
       "      <td>indian</td>\n",
       "    </tr>\n",
       "    <tr>\n",
       "      <th>3</th>\n",
       "      <td>divya</td>\n",
       "      <td>f</td>\n",
       "      <td>indian</td>\n",
       "    </tr>\n",
       "    <tr>\n",
       "      <th>4</th>\n",
       "      <td>mansi</td>\n",
       "      <td>f</td>\n",
       "      <td>indian</td>\n",
       "    </tr>\n",
       "  </tbody>\n",
       "</table>\n",
       "</div>"
      ],
      "text/plain": [
       "            name gender    race\n",
       "0        shivani      f  indian\n",
       "1           isha      f  indian\n",
       "2  smtshyanidevi      f  indian\n",
       "3          divya      f  indian\n",
       "4          mansi      f  indian"
      ]
     },
     "execution_count": 115,
     "metadata": {},
     "output_type": "execute_result"
    }
   ],
   "source": [
    "df = pd.read_csv('Indian-Female-Names.csv')\n",
    "df = df.applymap(lambda x: re.sub(r'\\W+', '', str(x)).strip())\n",
    "df.head()"
   ]
  },
  {
   "cell_type": "code",
   "execution_count": 117,
   "id": "73e403c4-b846-4a63-bdc6-64016b16e148",
   "metadata": {},
   "outputs": [
    {
     "data": {
      "text/plain": [
       "((30227,), (30227,))"
      ]
     },
     "execution_count": 117,
     "metadata": {},
     "output_type": "execute_result"
    }
   ],
   "source": [
    "female_data = df['name'].values\n",
    "y= np.concatenate([np.ones(male_data.shape[0]), np.zeros(female_data.shape[0])])\n",
    "X = np.concatenate([male_data, female_data])\n",
    "X.shape,y.shape"
   ]
  },
  {
   "cell_type": "code",
   "execution_count": 118,
   "id": "5bc5e42c-13a9-434f-9bd8-fb767af18b64",
   "metadata": {},
   "outputs": [
    {
     "data": {
      "text/plain": [
       "array(['barjraj', 'ramdinverma', 'sharatchandran', ...,\n",
       "       'manjud0baboolaljatav', 'shivani', 'nayna'], dtype=object)"
      ]
     },
     "execution_count": 118,
     "metadata": {},
     "output_type": "execute_result"
    }
   ],
   "source": [
    "X"
   ]
  },
  {
   "cell_type": "code",
   "execution_count": 119,
   "id": "0f2e5c3e-adaa-4631-ac35-aaf39b998129",
   "metadata": {},
   "outputs": [],
   "source": [
    "X_train, X_test, y_train, y_test = train_test_split(X, y, test_size=0.2, random_state=42)\n",
    "# Vectorize the names\n",
    "vectorizer = CountVectorizer(analyzer='char')\n",
    "X_train = vectorizer.fit_transform(X_train)\n",
    "X_test = vectorizer.transform(X_test)\n"
   ]
  },
  {
   "cell_type": "code",
   "execution_count": 120,
   "id": "78187280-9d05-42d6-9f38-070bb973f804",
   "metadata": {},
   "outputs": [
    {
     "name": "stdout",
     "output_type": "stream",
     "text": [
      "Accuracy: 0.6667217995368839\n"
     ]
    }
   ],
   "source": [
    "# Train the multinomial naive Bayes classifier\n",
    "clf = MultinomialNB()\n",
    "clf.fit(X_train, y_train)\n",
    "\n",
    "# Predict gender for test names\n",
    "y_pred = clf.predict(X_test)\n",
    "\n",
    "# Calculate accuracy\n",
    "accuracy = accuracy_score(y_test, y_pred)\n",
    "print(\"Accuracy:\", accuracy)"
   ]
  },
  {
   "cell_type": "code",
   "execution_count": 123,
   "id": "9c13f4e4-fe72-47a5-bf09-923f262347cf",
   "metadata": {},
   "outputs": [
    {
     "name": "stdin",
     "output_type": "stream",
     "text": [
      " sonal\n"
     ]
    },
    {
     "data": {
      "text/plain": [
       "array([0.])"
      ]
     },
     "execution_count": 123,
     "metadata": {},
     "output_type": "execute_result"
    }
   ],
   "source": [
    "test = [input()]\n",
    "clf.predict(vectorizer.transform(test))"
   ]
  },
  {
   "cell_type": "code",
   "execution_count": null,
   "id": "02f25942-ec12-4481-8697-2e3e858627f1",
   "metadata": {},
   "outputs": [],
   "source": []
  }
 ],
 "metadata": {
  "kernelspec": {
   "display_name": "Python 3 (ipykernel)",
   "language": "python",
   "name": "python3"
  },
  "language_info": {
   "codemirror_mode": {
    "name": "ipython",
    "version": 3
   },
   "file_extension": ".py",
   "mimetype": "text/x-python",
   "name": "python",
   "nbconvert_exporter": "python",
   "pygments_lexer": "ipython3",
   "version": "3.10.9"
  }
 },
 "nbformat": 4,
 "nbformat_minor": 5
}

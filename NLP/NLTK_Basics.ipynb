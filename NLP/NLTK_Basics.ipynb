{
 "cells": [
  {
   "cell_type": "code",
   "execution_count": 2,
   "id": "b9955c65-096b-42ab-bd77-ab9ec6a1594f",
   "metadata": {},
   "outputs": [],
   "source": [
    "import nltk"
   ]
  },
  {
   "cell_type": "code",
   "execution_count": 3,
   "id": "4593c54f-64fd-45cf-a809-bd2900478c01",
   "metadata": {},
   "outputs": [],
   "source": [
    "from nltk.corpus import brown"
   ]
  },
  {
   "cell_type": "code",
   "execution_count": 4,
   "id": "f1a67377-e4c8-46d4-8281-956c0fd8343c",
   "metadata": {},
   "outputs": [],
   "source": [
    "brown.categories()\n",
    "import nltk"
   ]
  },
  {
   "cell_type": "code",
   "execution_count": 5,
   "id": "8e0259dd-f5bb-4d65-ac73-e3d2f9e5d4e3",
   "metadata": {},
   "outputs": [
    {
     "data": {
      "text/plain": [
       "'He found that if he was tired enough at night , he went to sleep simply because he was too exhausted to stay awake .'"
      ]
     },
     "execution_count": 5,
     "metadata": {},
     "output_type": "execute_result"
    }
   ],
   "source": [
    "data= brown.sents(categories=['adventure'])\n",
    "\" \".join(data[9])"
   ]
  },
  {
   "cell_type": "markdown",
   "id": "1db7fc1d-e66f-45e6-b334-6bee0dc0176c",
   "metadata": {},
   "source": [
    "# Tokenization"
   ]
  },
  {
   "cell_type": "code",
   "execution_count": 6,
   "id": "55b6a2d1-6968-41db-bfe4-8e770eb93f84",
   "metadata": {},
   "outputs": [],
   "source": [
    "from nltk.tokenize import sent_tokenize,word_tokenize"
   ]
  },
  {
   "cell_type": "code",
   "execution_count": 7,
   "id": "c22c8057-5479-4848-80e1-2aac886838ec",
   "metadata": {},
   "outputs": [
    {
     "data": {
      "text/plain": [
       "(['I', 'am', 'learning', 'coding', '.'],\n",
       " ['The movie was great.',\n",
       "  'I really loved it.',\n",
       "  'The cast was very amazing.',\n",
       "  'I went to a theatre to see it'])"
      ]
     },
     "execution_count": 7,
     "metadata": {},
     "output_type": "execute_result"
    }
   ],
   "source": [
    "document = \"\"\"The movie was great. I really loved it. The cast was very amazing. I went to a theatre to see it \n",
    "\"\"\"\n",
    "sentence = \"I am learning coding.\"\n",
    "words = word_tokenize(sentence)\n",
    "sents = sent_tokenize(document)\n",
    "words,sents"
   ]
  },
  {
   "cell_type": "markdown",
   "id": "b178be10-963c-4c1b-9754-39313cf2590e",
   "metadata": {},
   "source": [
    "# Stop word Removal"
   ]
  },
  {
   "cell_type": "code",
   "execution_count": 8,
   "id": "2022354f-7fd5-405b-a3a5-8a649be4cfad",
   "metadata": {},
   "outputs": [],
   "source": [
    "from nltk.corpus import stopwords"
   ]
  },
  {
   "cell_type": "code",
   "execution_count": 9,
   "id": "16b630fd-8a3e-44a0-b3f7-3136a8b1768a",
   "metadata": {},
   "outputs": [],
   "source": [
    "st = set(stopwords.words('english'))"
   ]
  },
  {
   "cell_type": "code",
   "execution_count": 10,
   "id": "92135db8-f8f9-4e47-ac94-f19af3be0e2e",
   "metadata": {},
   "outputs": [
    {
     "data": {
      "text/plain": [
       "['good', 'cricket', 'player']"
      ]
     },
     "execution_count": 10,
     "metadata": {},
     "output_type": "execute_result"
    }
   ],
   "source": [
    "text= \"i am not a very good cricket player\".split()\n",
    "def remove_stopwords(text):\n",
    "    return [w for w in text if w not in st]\n",
    "ans = remove_stopwords(text)\n",
    "ans"
   ]
  },
  {
   "cell_type": "markdown",
   "id": "133bd703-77c8-481c-9667-175f5780274a",
   "metadata": {},
   "source": [
    "# Stemming"
   ]
  },
  {
   "cell_type": "code",
   "execution_count": 11,
   "id": "81ba1b3e-accb-4309-aca8-495c28ff8574",
   "metadata": {},
   "outputs": [],
   "source": [
    "from nltk.stem import SnowballStemmer,PorterStemmer,LancasterStemmer"
   ]
  },
  {
   "cell_type": "code",
   "execution_count": 25,
   "id": "a467a824-a299-44f4-aa4e-3e65265061b2",
   "metadata": {},
   "outputs": [
    {
     "data": {
      "text/plain": [
       "'joke'"
      ]
     },
     "execution_count": 25,
     "metadata": {},
     "output_type": "execute_result"
    }
   ],
   "source": [
    "stemmer = PorterStemmer()\n",
    "stemmer.stem('joked')"
   ]
  },
  {
   "cell_type": "markdown",
   "id": "888228aa-985f-4457-a887-61e958e47c13",
   "metadata": {},
   "source": [
    "# Converting to vector"
   ]
  },
  {
   "cell_type": "code",
   "execution_count": 13,
   "id": "6fcc6a55-b1de-4c5b-9a64-13759b7badc2",
   "metadata": {},
   "outputs": [],
   "source": [
    "corpus = [\n",
    "    'Dan Morgan told himself he would forget Ann Turner .',\n",
    "    'Sometimes he woke up in the middle of the night thinking of Ann , and then could not get back to sleep .',\n",
    "    'His plans and dreams had revolved around her so much and for so long that now he felt as if he had nothing .',\n",
    "    'He found that if he was tired enough at night , he went to sleep simply because he was too exhausted to stay awake .'\n",
    "]"
   ]
  },
  {
   "cell_type": "code",
   "execution_count": 18,
   "id": "6190c1bb-48cd-488f-a97e-5efadd63f1e9",
   "metadata": {},
   "outputs": [
    {
     "name": "stdout",
     "output_type": "stream",
     "text": [
      "{'dan': 9, 'morgan': 27, 'told': 47, 'himself': 21, 'he': 19, 'would': 54, 'forget': 15, 'ann': 1, 'turner': 49, 'sometimes': 39, 'woke': 53, 'up': 50, 'in': 24, 'the': 42, 'middle': 26, 'of': 33, 'night': 29, 'thinking': 44, 'and': 0, 'then': 43, 'could': 8, 'not': 30, 'get': 17, 'back': 6, 'to': 46, 'sleep': 37, 'his': 22, 'plans': 34, 'dreams': 10, 'had': 18, 'revolved': 35, 'around': 2, 'her': 20, 'so': 38, 'much': 28, 'for': 14, 'long': 25, 'that': 41, 'now': 32, 'felt': 13, 'as': 3, 'if': 23, 'nothing': 31, 'found': 16, 'was': 51, 'tired': 45, 'enough': 11, 'at': 4, 'went': 52, 'simply': 36, 'because': 7, 'too': 48, 'exhausted': 12, 'stay': 40, 'awake': 5}\n",
      "[0 1 0 0 0 0 0 0 0 1 0 0 0 0 0 1 0 0 0 1 0 1 0 0 0 0 0 1 0 0 0 0 0 0 0 0 0\n",
      " 0 0 0 0 0 0 0 0 0 0 1 0 1 0 0 0 0 1]\n"
     ]
    }
   ],
   "source": [
    "from sklearn.feature_extraction.text import CountVectorizer\n",
    "cv= CountVectorizer()\n",
    "vc=cv.fit_transform(corpus)\n",
    "print(cv.vocabulary_)\n",
    "print(vc.toarray()[0])"
   ]
  },
  {
   "cell_type": "code",
   "execution_count": 20,
   "id": "e663c6c0-0094-42a3-949f-9fe6c060d077",
   "metadata": {},
   "outputs": [],
   "source": [
    "def myTokenizer(document):\n",
    "    words = word_tokenize(document.lower())\n",
    "    words = remove_stopwords(words)\n",
    "    return words"
   ]
  },
  {
   "cell_type": "code",
   "execution_count": 21,
   "id": "4704fa44-b5ab-4ed1-af1e-e7f64eabfcdd",
   "metadata": {},
   "outputs": [
    {
     "data": {
      "text/plain": [
       "['best', 'programmer']"
      ]
     },
     "execution_count": 21,
     "metadata": {},
     "output_type": "execute_result"
    }
   ],
   "source": [
    "myTokenizer('I am the best programmer')"
   ]
  },
  {
   "cell_type": "code",
   "execution_count": 24,
   "id": "e84ca1ee-5fb0-4812-9aee-ec04dae2b412",
   "metadata": {},
   "outputs": [
    {
     "name": "stderr",
     "output_type": "stream",
     "text": [
      "C:\\Users\\91771\\anaconda3\\lib\\site-packages\\sklearn\\feature_extraction\\text.py:528: UserWarning: The parameter 'token_pattern' will not be used since 'tokenizer' is not None'\n",
      "  warnings.warn(\n"
     ]
    },
    {
     "data": {
      "text/plain": [
       "{'dan': 7,\n",
       " 'morgan': 17,\n",
       " 'told': 29,\n",
       " 'would': 33,\n",
       " 'forget': 12,\n",
       " 'ann': 2,\n",
       " 'turner': 30,\n",
       " '.': 1,\n",
       " 'sometimes': 25,\n",
       " 'woke': 32,\n",
       " 'middle': 16,\n",
       " 'night': 19,\n",
       " 'thinking': 27,\n",
       " ',': 0,\n",
       " 'could': 6,\n",
       " 'get': 14,\n",
       " 'back': 5,\n",
       " 'sleep': 24,\n",
       " 'plans': 21,\n",
       " 'dreams': 8,\n",
       " 'revolved': 22,\n",
       " 'around': 3,\n",
       " 'much': 18,\n",
       " 'long': 15,\n",
       " 'felt': 11,\n",
       " 'nothing': 20,\n",
       " 'found': 13,\n",
       " 'tired': 28,\n",
       " 'enough': 9,\n",
       " 'went': 31,\n",
       " 'simply': 23,\n",
       " 'exhausted': 10,\n",
       " 'stay': 26,\n",
       " 'awake': 4}"
      ]
     },
     "execution_count": 24,
     "metadata": {},
     "output_type": "execute_result"
    }
   ],
   "source": [
    "cv = CountVectorizer(tokenizer=myTokenizer)\n",
    "vc = cv.fit_transform(corpus)\n",
    "cv.vocabulary_"
   ]
  }
 ],
 "metadata": {
  "kernelspec": {
   "display_name": "Python 3 (ipykernel)",
   "language": "python",
   "name": "python3"
  },
  "language_info": {
   "codemirror_mode": {
    "name": "ipython",
    "version": 3
   },
   "file_extension": ".py",
   "mimetype": "text/x-python",
   "name": "python",
   "nbconvert_exporter": "python",
   "pygments_lexer": "ipython3",
   "version": "3.10.9"
  }
 },
 "nbformat": 4,
 "nbformat_minor": 5
}

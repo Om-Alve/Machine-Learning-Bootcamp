{
 "cells": [
  {
   "cell_type": "code",
   "execution_count": 1,
   "id": "b9955c65-096b-42ab-bd77-ab9ec6a1594f",
   "metadata": {},
   "outputs": [],
   "source": [
    "import nltk"
   ]
  },
  {
   "cell_type": "code",
   "execution_count": 2,
   "id": "4593c54f-64fd-45cf-a809-bd2900478c01",
   "metadata": {},
   "outputs": [],
   "source": [
    "from nltk.corpus import brown"
   ]
  },
  {
   "cell_type": "code",
   "execution_count": 3,
   "id": "f1a67377-e4c8-46d4-8281-956c0fd8343c",
   "metadata": {},
   "outputs": [],
   "source": [
    "brown.categories()\n",
    "import nltk"
   ]
  },
  {
   "cell_type": "code",
   "execution_count": 26,
   "id": "8e0259dd-f5bb-4d65-ac73-e3d2f9e5d4e3",
   "metadata": {},
   "outputs": [
    {
     "data": {
      "text/plain": [
       "'He found that if he was tired enough at night , he went to sleep simply because he was too exhausted to stay awake .'"
      ]
     },
     "execution_count": 26,
     "metadata": {},
     "output_type": "execute_result"
    }
   ],
   "source": [
    "data= brown.sents(categories=['adventure'])\n",
    "\" \".join(data[9])"
   ]
  },
  {
   "cell_type": "markdown",
   "id": "1db7fc1d-e66f-45e6-b334-6bee0dc0176c",
   "metadata": {},
   "source": [
    "# Tokenization"
   ]
  },
  {
   "cell_type": "code",
   "execution_count": 5,
   "id": "55b6a2d1-6968-41db-bfe4-8e770eb93f84",
   "metadata": {},
   "outputs": [],
   "source": [
    "from nltk.tokenize import sent_tokenize,word_tokenize"
   ]
  },
  {
   "cell_type": "code",
   "execution_count": 6,
   "id": "c22c8057-5479-4848-80e1-2aac886838ec",
   "metadata": {},
   "outputs": [
    {
     "data": {
      "text/plain": [
       "(['I', 'am', 'learning', 'coding', '.'],\n",
       " ['The movie was great.',\n",
       "  'I really loved it.',\n",
       "  'The cast was very amazing.',\n",
       "  'I went to a theatre to see it'])"
      ]
     },
     "execution_count": 6,
     "metadata": {},
     "output_type": "execute_result"
    }
   ],
   "source": [
    "document = \"\"\"The movie was great. I really loved it. The cast was very amazing. I went to a theatre to see it \n",
    "\"\"\"\n",
    "sentence = \"I am learning coding.\"\n",
    "words = word_tokenize(sentence)\n",
    "sents = sent_tokenize(document)\n",
    "words,sents"
   ]
  },
  {
   "cell_type": "markdown",
   "id": "b178be10-963c-4c1b-9754-39313cf2590e",
   "metadata": {},
   "source": [
    "# Stop word Removal"
   ]
  },
  {
   "cell_type": "code",
   "execution_count": 7,
   "id": "2022354f-7fd5-405b-a3a5-8a649be4cfad",
   "metadata": {},
   "outputs": [],
   "source": [
    "from nltk.corpus import stopwords"
   ]
  },
  {
   "cell_type": "code",
   "execution_count": 8,
   "id": "16b630fd-8a3e-44a0-b3f7-3136a8b1768a",
   "metadata": {},
   "outputs": [],
   "source": [
    "st = set(stopwords.words('english'))"
   ]
  },
  {
   "cell_type": "code",
   "execution_count": 11,
   "id": "92135db8-f8f9-4e47-ac94-f19af3be0e2e",
   "metadata": {},
   "outputs": [
    {
     "data": {
      "text/plain": [
       "['good', 'cricket', 'player']"
      ]
     },
     "execution_count": 11,
     "metadata": {},
     "output_type": "execute_result"
    }
   ],
   "source": [
    "text= \"i am not a very good cricket player\".split()\n",
    "def remove_stopwords(text):\n",
    "    return [w for w in text if w not in st]\n",
    "ans = remove_stopwords(text)\n",
    "ans"
   ]
  },
  {
   "cell_type": "markdown",
   "id": "133bd703-77c8-481c-9667-175f5780274a",
   "metadata": {},
   "source": [
    "# Stemming"
   ]
  },
  {
   "cell_type": "code",
   "execution_count": 12,
   "id": "81ba1b3e-accb-4309-aca8-495c28ff8574",
   "metadata": {},
   "outputs": [],
   "source": [
    "from nltk.stem import SnowballStemmer,PorterStemmer,LancasterStemmer"
   ]
  },
  {
   "cell_type": "code",
   "execution_count": 20,
   "id": "a467a824-a299-44f4-aa4e-3e65265061b2",
   "metadata": {},
   "outputs": [
    {
     "data": {
      "text/plain": [
       "'joke'"
      ]
     },
     "execution_count": 20,
     "metadata": {},
     "output_type": "execute_result"
    }
   ],
   "source": [
    "stemmer = PorterStemmer()\n",
    "stemmer.stem('joked')"
   ]
  },
  {
   "cell_type": "code",
   "execution_count": 27,
   "id": "6fcc6a55-b1de-4c5b-9a64-13759b7badc2",
   "metadata": {},
   "outputs": [],
   "source": [
    "corpus = [\n",
    "    'Dan Morgan told himself he would forget Ann Turner .',\n",
    "    'Sometimes he woke up in the middle of the night thinking of Ann , and then could not get back to sleep .',\n",
    "    'His plans and dreams had revolved around her so much and for so long that now he felt as if he had nothing .',\n",
    "    'He found that if he was tired enough at night , he went to sleep simply because he was too exhausted to stay awake .'\n",
    "]"
   ]
  },
  {
   "cell_type": "code",
   "execution_count": null,
   "id": "6190c1bb-48cd-488f-a97e-5efadd63f1e9",
   "metadata": {},
   "outputs": [],
   "source": [
    "from sklearn.feature_extraction.text import CountVectorizer\n",
    "cv= CountVectorizer()\n",
    "vc=cv.fit_transform(corpus)\n",
    "vc.toarray()"
   ]
  },
  {
   "cell_type": "code",
   "execution_count": null,
   "id": "e663c6c0-0094-42a3-949f-9fe6c060d077",
   "metadata": {},
   "outputs": [],
   "source": []
  }
 ],
 "metadata": {
  "kernelspec": {
   "display_name": "Python 3 (ipykernel)",
   "language": "python",
   "name": "python3"
  },
  "language_info": {
   "codemirror_mode": {
    "name": "ipython",
    "version": 3
   },
   "file_extension": ".py",
   "mimetype": "text/x-python",
   "name": "python",
   "nbconvert_exporter": "python",
   "pygments_lexer": "ipython3",
   "version": "3.10.9"
  }
 },
 "nbformat": 4,
 "nbformat_minor": 5
}

{
 "cells": [
  {
   "cell_type": "code",
   "execution_count": 1,
   "id": "3575dc85-4f3b-465f-8dac-b3153fe3c4d1",
   "metadata": {
    "tags": []
   },
   "outputs": [],
   "source": [
    "import numpy as np\n",
    "import nnfs\n",
    "from nnfs.datasets import spiral_data\n",
    "import matplotlib.pyplot as plt"
   ]
  },
  {
   "cell_type": "code",
   "execution_count": 2,
   "id": "d52765bc-3a50-4f16-ac6f-90eba0588ac8",
   "metadata": {
    "tags": []
   },
   "outputs": [],
   "source": [
    "np.random.seed(0)"
   ]
  },
  {
   "cell_type": "code",
   "execution_count": null,
   "id": "908a17b9-eb26-4117-b1b3-0489c35ea4ac",
   "metadata": {
    "tags": []
   },
   "outputs": [],
   "source": [
    "X,y = spiral_data(samples=100,classes=3)"
   ]
  },
  {
   "cell_type": "code",
   "execution_count": null,
   "id": "80610f91-bbdc-4748-995b-0bbdc7ad07f9",
   "metadata": {
    "tags": []
   },
   "outputs": [],
   "source": [
    "plt.scatter(X[:,0],X[:,1],c=y)"
   ]
  },
  {
   "cell_type": "code",
   "execution_count": 3,
   "id": "47b9d75d-a5db-4e69-a154-7a02125cc5a4",
   "metadata": {
    "tags": []
   },
   "outputs": [],
   "source": [
    "class Layer_Dense:\n",
    "    def __init__(self, n_inputs, n_neurons):\n",
    "        # Initialize weights and biases\n",
    "        self.weights = 0.01 * np.random.randn(n_inputs, n_neurons)\n",
    "        self.biases = np.zeros((1, n_neurons))\n",
    "        \n",
    "    def forward(self,inputs):\n",
    "        self.output = np.dot(inputs,self.weights) + self.biases\n",
    "        self.inputs = inputs\n",
    "    \n",
    "    def backward(self,dvalues):\n",
    "        self.dweights = np.dot(self.inputs.T,dvalues)\n",
    "        self.dbiases = np.sum(dvalues,axis=0,keepdims=True)\n",
    "        self.dinputs = np.dot(dvalues,self.weights.T)"
   ]
  },
  {
   "cell_type": "code",
   "execution_count": 4,
   "id": "68d3e909-20cd-4cc8-91fe-0efaee380702",
   "metadata": {
    "tags": []
   },
   "outputs": [],
   "source": [
    "# Softmax activation\n",
    "class Activation_Softmax:\n",
    "    # Forward pass\n",
    "    def forward(self, inputs):\n",
    "        # Get unnormalized probabilities\n",
    "        exp_values = np.exp(inputs - np.max(inputs, axis=1,\n",
    "        keepdims=True))\n",
    "        # Normalize them for each sample\n",
    "        probabilities = exp_values / np.sum(exp_values, axis=1,\n",
    "        keepdims=True)\n",
    "        self.output = probabilities\n",
    "    \n",
    "    def backward(self,dvalues):\n",
    "        self.dinputs = np.empty_like(dvalues)\n",
    "        \n",
    "        for index,(single_output,single_dvalue) in enumerate(zip(self.output,dvalues)):\n",
    "            single_output = single_output.reshape(-1,1)\n",
    "            jacobian_matrix = np.diagflat(single_output) - np.dot(single_output,single_output.T)\n",
    "            self.dinputs[index] = np.dot(jacobian_matrix,single_dvalue)\n",
    "            "
   ]
  },
  {
   "cell_type": "code",
   "execution_count": 5,
   "id": "17c7e95c-c66f-4c36-ae1c-4e6a7f01ff40",
   "metadata": {
    "tags": []
   },
   "outputs": [],
   "source": [
    "# ReLU activation\n",
    "class Activation_ReLU:\n",
    "    # Forward pass\n",
    "    def forward(self, inputs):\n",
    "        # Remember input values\n",
    "        self.inputs = inputs\n",
    "        self.output = np.maximum(0, inputs)\n",
    "    # Backward pass\n",
    "    def backward(self, dvalues):\n",
    "        self.dinputs = dvalues.copy()\n",
    "        self.dinputs[self.inputs <= 0] = 0\n",
    "        "
   ]
  },
  {
   "cell_type": "code",
   "execution_count": 17,
   "id": "8956d744-4597-492b-a65a-b3fb44675042",
   "metadata": {
    "tags": []
   },
   "outputs": [],
   "source": [
    "class CrossEntropyLoss:\n",
    "    def calculate(self,ypred,ytrue):\n",
    "        if len(ytrue.shape) == 2:\n",
    "            ytrue = np.argmax(ytrue,axis=1)\n",
    "        ypred = np.clip(ypred,1e-7,1-1e-7)\n",
    "        return np.mean(-np.log(ypred[range(len(ypred)),ytrue]))\n",
    "    \n",
    "    def backward(self, dvalues, y_true):\n",
    "        # Number of samples\n",
    "        samples = len(dvalues)\n",
    "        # Number of labels in every sample\n",
    "        # We'll use the first sample to count them\n",
    "        labels = len(dvalues[0])\n",
    "        # If labels are sparse, turn them into one-hot vector\n",
    "        if len(y_true.shape) == 1:\n",
    "            y_true = np.eye(labels)[y_true]\n",
    "        # Calculate gradient\n",
    "        self.dinputs = -y_true / dvalues\n",
    "        # Normalize gradient\n",
    "        self.dinputs = self.dinputs / samples\n"
   ]
  },
  {
   "cell_type": "code",
   "execution_count": 18,
   "id": "bbdc7751-e470-4fba-92de-298f404645c2",
   "metadata": {
    "tags": []
   },
   "outputs": [],
   "source": [
    "class Activation_Softmax_CrossEntropy_loss:\n",
    "   # Creates activation and loss function objects\n",
    "    def __init__(self):\n",
    "        self.activation = Activation_Softmax()\n",
    "        self.loss = CrossEntropyLoss()\n",
    "    # Forward pass\n",
    "    def forward(self, inputs, y_true):\n",
    "        # Output layer's activation function\n",
    "        self.activation.forward(inputs)\n",
    "        # Set the output\n",
    "        self.output = self.activation.output\n",
    "        # Calculate and return loss value\n",
    "        return self.loss.calculate(self.output, y_true)\n",
    "    \n",
    "    def backward(self,dvalues,y_true):\n",
    "        samples = len(dvalues)\n",
    "        if len(y_true.shape) == 2:\n",
    "            y_true = np.argmax(y_true, axis=1)\n",
    "        # Copy so we can safely modify\n",
    "        self.dinputs = dvalues.copy()\n",
    "        # Calculate gradient\n",
    "        self.dinputs[range(samples), y_true] -= 1\n",
    "        # Normalize gradient\n",
    "        self.dinputs = self.dinputs / samples\n",
    "        "
   ]
  },
  {
   "cell_type": "code",
   "execution_count": 19,
   "id": "d6842fb3-5894-4867-a4d5-5aae76985426",
   "metadata": {
    "tags": []
   },
   "outputs": [],
   "source": [
    "class SGD_Optimizer():\n",
    "    def __init__(self,lr=0.1):\n",
    "        self.lr = lr\n",
    "    def update_params(self,layer):\n",
    "        layer.weights -= self.lr * layer.dweights\n",
    "        layer.biases -= self.lr * layer.dbiases\n",
    "        \n",
    "        "
   ]
  },
  {
   "cell_type": "code",
   "execution_count": null,
   "id": "40b98dce-d1bc-4c0d-ae42-00e5baaeee0f",
   "metadata": {
    "tags": []
   },
   "outputs": [],
   "source": [
    "X, y = spiral_data(samples=100, classes=3)\n",
    "\n",
    "dense1 = Layer_Dense(2,64)\n",
    "\n",
    "activation1 = Activation_ReLU()\n",
    "\n",
    "dense2 = Layer_Dense(64,3)\n",
    "\n",
    "loss_activation = Activation_Softmax_CrossEntropy_loss()\n",
    "\n",
    "optimizer = SGD_Optimizer(lr=1)"
   ]
  },
  {
   "cell_type": "code",
   "execution_count": null,
   "id": "d7b11133-e40f-452b-af0d-da89c3e690d7",
   "metadata": {
    "tags": []
   },
   "outputs": [],
   "source": [
    "for epoch in range(1001):\n",
    "    # Perform a forward pass of our training data through this layer\n",
    "    dense1.forward(X)\n",
    "    # Perform a forward pass through activation function\n",
    "    # takes the output of first dense layer here\n",
    "    activation1.forward(dense1.output)\n",
    "    # Perform a forward pass through second Dense layer\n",
    "    # takes outputs of activation function of first layer as inputs\n",
    "    dense2.forward(activation1.output)\n",
    "    # Perform a forward pass through the activation/loss function\n",
    "    # takes the output of second dense layer here and returns loss\n",
    "    loss = loss_activation.forward(dense2.output, y)\n",
    "    \n",
    "    # Calculate accuracy from output of activation2 and targets\n",
    "    # calculate values along first axis\n",
    "    predictions = np.argmax(loss_activation.output, axis=1)\n",
    "    if len(y.shape) == 2:\n",
    "        y = np.argmax(y, axis=1)\n",
    "    accuracy = np.mean(predictions==y)\n",
    "    if not epoch % 100:\n",
    "        print(f'epoch: {epoch}, ' +\n",
    "        f'acc: {accuracy:.3f}, ' +\n",
    "        f'loss: {loss:.3f}')\n",
    "    # Backward pass\n",
    "    loss_activation.backward(loss_activation.output, y)\n",
    "    dense2.backward(loss_activation.dinputs)\n",
    "    activation1.backward(dense2.dinputs)\n",
    "    dense1.backward(activation1.dinputs)\n",
    "    # Update weights and biases\n",
    "    optimizer.update_params(dense1)\n",
    "    optimizer.update_params(dense2)\n"
   ]
  },
  {
   "cell_type": "code",
   "execution_count": 9,
   "id": "f9454937-be80-44b4-a7d2-ffc99d157fdf",
   "metadata": {
    "tags": []
   },
   "outputs": [],
   "source": [
    "from sklearn.datasets import make_blobs\n",
    "import matplotlib.pyplot as plt"
   ]
  },
  {
   "cell_type": "code",
   "execution_count": 10,
   "id": "f3c69c66-af5e-4af6-bbc0-ff57bd300fd4",
   "metadata": {
    "tags": []
   },
   "outputs": [],
   "source": [
    "X,y = make_blobs(n_samples=100,centers=3,random_state=0)"
   ]
  },
  {
   "cell_type": "code",
   "execution_count": 11,
   "id": "e6a4be6e-4784-4379-b13f-7758c7c50be0",
   "metadata": {
    "tags": []
   },
   "outputs": [
    {
     "data": {
      "text/plain": [
       "<matplotlib.collections.PathCollection at 0x20e45718290>"
      ]
     },
     "execution_count": 11,
     "metadata": {},
     "output_type": "execute_result"
    },
    {
     "data": {
      "image/png": "[encoded data removed]",
      "text/plain": [
       "<Figure size 640x480 with 1 Axes>"
      ]
     },
     "metadata": {},
     "output_type": "display_data"
    }
   ],
   "source": [
    "plt.scatter(X[:,0],X[:,1],c=y)"
   ]
  },
  {
   "cell_type": "code",
   "execution_count": 16,
   "id": "140b4bb6-617e-4595-aeda-dbd03913cebf",
   "metadata": {
    "tags": []
   },
   "outputs": [
    {
     "name": "stdout",
     "output_type": "stream",
     "text": [
      "Epoch : 0 , Acc : 0.15 , Loss : 1.0985599366787648\n",
      "Epoch : 100 , Acc : 0.89 , Loss : 0.4046705170251919\n",
      "Epoch : 200 , Acc : 0.9 , Loss : 0.2968369570025056\n",
      "Epoch : 300 , Acc : 0.91 , Loss : 0.27338409135388486\n",
      "Epoch : 400 , Acc : 0.92 , Loss : 0.25789803866583577\n",
      "Epoch : 500 , Acc : 0.91 , Loss : 0.24732606664343706\n",
      "Epoch : 600 , Acc : 0.91 , Loss : 0.2399833568037278\n",
      "Epoch : 700 , Acc : 0.9 , Loss : 0.2347839360435083\n",
      "Epoch : 800 , Acc : 0.9 , Loss : 0.22948254695876652\n",
      "Epoch : 900 , Acc : 0.91 , Loss : 0.22462588612054749\n",
      "Epoch : 1000 , Acc : 0.92 , Loss : 0.22020506725300096\n",
      "Epoch : 1100 , Acc : 0.92 , Loss : 0.2170395793238717\n",
      "Epoch : 1200 , Acc : 0.92 , Loss : 0.21418211068990778\n",
      "Epoch : 1300 , Acc : 0.92 , Loss : 0.21157719034676095\n",
      "Epoch : 1400 , Acc : 0.92 , Loss : 0.20916835139501874\n",
      "Epoch : 1500 , Acc : 0.92 , Loss : 0.2068824684378857\n",
      "Epoch : 1600 , Acc : 0.92 , Loss : 0.20471101615257123\n",
      "Epoch : 1700 , Acc : 0.92 , Loss : 0.20258731124085863\n",
      "Epoch : 1800 , Acc : 0.92 , Loss : 0.20048222272348667\n",
      "Epoch : 1900 , Acc : 0.92 , Loss : 0.1983905726661892\n",
      "Epoch : 2000 , Acc : 0.93 , Loss : 0.1954297726016508\n",
      "Epoch : 2100 , Acc : 0.93 , Loss : 0.19261579600958648\n",
      "Epoch : 2200 , Acc : 0.93 , Loss : 0.19009851112233508\n",
      "Epoch : 2300 , Acc : 0.92 , Loss : 0.18767307808784073\n",
      "Epoch : 2400 , Acc : 0.92 , Loss : 0.18531035773354484\n",
      "Epoch : 2500 , Acc : 0.92 , Loss : 0.18301959773928173\n",
      "Epoch : 2600 , Acc : 0.92 , Loss : 0.18083002405501233\n",
      "Epoch : 2700 , Acc : 0.92 , Loss : 0.17870053864565044\n",
      "Epoch : 2800 , Acc : 0.93 , Loss : 0.17668049802962474\n",
      "Epoch : 2900 , Acc : 0.93 , Loss : 0.17475568469126465\n",
      "Epoch : 3000 , Acc : 0.93 , Loss : 0.17294728617867197\n",
      "Epoch : 3100 , Acc : 0.94 , Loss : 0.1712645216116049\n",
      "Epoch : 3200 , Acc : 0.94 , Loss : 0.1696606427810427\n",
      "Epoch : 3300 , Acc : 0.94 , Loss : 0.16815269822514545\n",
      "Epoch : 3400 , Acc : 0.94 , Loss : 0.1667322844889377\n",
      "Epoch : 3500 , Acc : 0.94 , Loss : 0.16536853941344368\n",
      "Epoch : 3600 , Acc : 0.94 , Loss : 0.1640759732702767\n",
      "Epoch : 3700 , Acc : 0.93 , Loss : 0.1628472697038462\n",
      "Epoch : 3800 , Acc : 0.94 , Loss : 0.16153367364672547\n",
      "Epoch : 3900 , Acc : 0.95 , Loss : 0.16008220888948674\n",
      "Epoch : 4000 , Acc : 0.95 , Loss : 0.15868757784716764\n",
      "Epoch : 4100 , Acc : 0.95 , Loss : 0.15732424681229984\n",
      "Epoch : 4200 , Acc : 0.95 , Loss : 0.15600348404031558\n",
      "Epoch : 4300 , Acc : 0.94 , Loss : 0.15423183679795932\n",
      "Epoch : 4400 , Acc : 0.94 , Loss : 0.15240253766229078\n",
      "Epoch : 4500 , Acc : 0.94 , Loss : 0.15090320899618181\n",
      "Epoch : 4600 , Acc : 0.94 , Loss : 0.1495044354682736\n",
      "Epoch : 4700 , Acc : 0.94 , Loss : 0.14820589673974932\n",
      "Epoch : 4800 , Acc : 0.94 , Loss : 0.14696098093186583\n",
      "Epoch : 4900 , Acc : 0.94 , Loss : 0.14587827958122637\n",
      "Epoch : 5000 , Acc : 0.94 , Loss : 0.14483029808650236\n"
     ]
    }
   ],
   "source": [
    "layer1 = Layer_Dense(2,16)\n",
    "act = Activation_ReLU()\n",
    "layer2 = Layer_Dense(16,3)\n",
    "lossact = Activation_Softmax_CrossEntropy_loss()\n",
    "optimizer = SGD_Optimizer()\n",
    "\n",
    "for epoch in range(5001):\n",
    "    layer1.forward(X)\n",
    "    act.forward(layer1.output)\n",
    "    layer2.forward(act.output)\n",
    "    loss = lossact.forward(layer2.output,y)\n",
    "    \n",
    "    if epoch % 100 == 0:\n",
    "        predictions = np.argmax(lossact.output, axis=1)\n",
    "        accuracy = np.mean(predictions==y)\n",
    "        print(f\"Epoch : {epoch} , Acc : {accuracy} , Loss : {loss}\")\n",
    "    \n",
    "    lossact.backward(lossact.output,y)\n",
    "    layer2.backward(lossact.dinputs)\n",
    "    act.backward(layer2.dinputs)\n",
    "    layer1.backward(act.dinputs)\n",
    "    \n",
    "    optimizer.update_params(layer1)\n",
    "    optimizer.update_params(layer2)"
   ]
  },
  {
   "cell_type": "code",
   "execution_count": null,
   "id": "cd5fba4c-d863-4c8d-92cf-ab02ecf3efb5",
   "metadata": {},
   "outputs": [],
   "source": [
    "act.output"
   ]
  },
  {
   "cell_type": "code",
   "execution_count": null,
   "id": "8ec80b1d-9a9e-46cb-a53e-5ae499f73d63",
   "metadata": {
    "tags": []
   },
   "outputs": [],
   "source": [
    "import numpy as np\n",
    "# Passed in gradient from the next layer\n",
    "# for the purpose of this example we're going to use\n",
    "# an array of an incremental gradient values\n",
    "dvalues = np.array([[1., 1., 1.],\n",
    "[2., 2., 2.],\n",
    "[3., 3., 3.]])\n",
    "# We have 3 sets of inputs - samples\n",
    "inputs = np.array([[1, 2, 3, 2.5],\n",
    "[2., 5., -1., 2],\n",
    "[-1.5, 2.7, 3.3, -0.8]])\n",
    "# We have 3 sets of weights - one set for each neuron\n",
    "# we have 4 inputs, thus 4 weights\n",
    "# recall that we keep weights transposed\n",
    "weights = np.array([[0.2, 0.8, -0.5, 1],\n",
    "[0.5, -0.91, 0.26, -0.5],\n",
    "[-0.26, -0.27, 0.17, 0.87]]).T\n",
    "\n",
    "# One bias for each neuron\n",
    "# biases are the row vector with a shape (1, neurons)\n",
    "biases = np.array([[2, 3, 0.5]])\n",
    "# Forward pass\n",
    "layer_outputs = np.dot(inputs, weights) + biases # Dense layer\n",
    "relu_outputs = np.maximum(0, layer_outputs) # ReLU activation\n",
    "# Let's optimize and test backpropagation here\n",
    "# ReLU activation - simulates derivative with respect to input values\n",
    "# from next layer passed to current layer during backpropagation\n",
    "drelu = relu_outputs.copy()\n",
    "drelu[layer_outputs <= 0] = 0\n",
    "\n",
    "dweights = np.dot(inputs.T,drelu)\n",
    "dbiases = np.sum(drelu,axis=0,keepdims=True)\n",
    "dinputs = np.dot(drelu,weights.T)\n",
    "\n",
    "dweights\n",
    "dbiases\n",
    "dinputs\n",
    "\n",
    "lossact.output"
   ]
  }
 ],
 "metadata": {
  "kernelspec": {
   "display_name": "Python 3 (ipykernel)",
   "language": "python",
   "name": "python3"
  },
  "language_info": {
   "codemirror_mode": {
    "name": "ipython",
    "version": 3
   },
   "file_extension": ".py",
   "mimetype": "text/x-python",
   "name": "python",
   "nbconvert_exporter": "python",
   "pygments_lexer": "ipython3",
   "version": "3.11.3"
  }
 },
 "nbformat": 4,
 "nbformat_minor": 5
}

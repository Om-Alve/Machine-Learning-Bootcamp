{
 "cells": [
  {
   "cell_type": "code",
   "execution_count": 1,
   "id": "6ce92a3c-322b-48f6-a60c-5eaa94ae7407",
   "metadata": {
    "tags": []
   },
   "outputs": [],
   "source": [
    "import numpy as np\n",
    "import matplotlib.pyplot as plt\n",
    "from sklearn.model_selection import train_test_split\n",
    "from sklearn import metrics"
   ]
  },
  {
   "cell_type": "code",
   "execution_count": 2,
   "id": "952b00ad-6e87-471d-ab9f-a7b7c99b24b4",
   "metadata": {
    "tags": []
   },
   "outputs": [],
   "source": [
    "data = np.load('mnist_train_small.npy')"
   ]
  },
  {
   "cell_type": "code",
   "execution_count": 35,
   "id": "6f6f10d5-e78b-47f2-94b2-560641b6f5a7",
   "metadata": {
    "tags": []
   },
   "outputs": [],
   "source": [
    "X = data[:,1:]\n",
    "y = data[:,0]"
   ]
  },
  {
   "cell_type": "code",
   "execution_count": 36,
   "id": "5fe31fe2-7ca4-4988-ac0a-77a468d8649a",
   "metadata": {
    "tags": []
   },
   "outputs": [],
   "source": [
    "X_train, X_test, y_train, y_test = train_test_split(\n",
    "...     X, y, test_size=0.33, random_state=42)"
   ]
  },
  {
   "cell_type": "code",
   "execution_count": 37,
   "id": "af31ab64-a977-4867-bb80-51d9eac5de3a",
   "metadata": {
    "tags": []
   },
   "outputs": [
    {
     "data": {
      "text/plain": [
       "((19999, 784), (19999,))"
      ]
     },
     "execution_count": 37,
     "metadata": {},
     "output_type": "execute_result"
    }
   ],
   "source": [
    "X.shape,y.shape"
   ]
  },
  {
   "cell_type": "code",
   "execution_count": 6,
   "id": "8584a476-eba3-44eb-9f61-db5847d5cfbc",
   "metadata": {
    "tags": []
   },
   "outputs": [],
   "source": [
    "class Dense_Layer:\n",
    "    def __init__(self,ninputs,nneurons):\n",
    "        # Initialising weights and biases\n",
    "        self.weights = 0.01 * np.random.randn(ninputs,nneurons)\n",
    "        self.biases = np.zeros((1,nneurons))\n",
    "        \n",
    "    # Forward Propagation    \n",
    "    def forward(self,inputs):\n",
    "        self.output = np.dot(inputs,self.weights) + self.biases\n",
    "        self.inputs = inputs\n",
    "    \n",
    "    # Backpropagation\n",
    "    def backward(self,dvalues):\n",
    "        self.dinputs = np.dot(dvalues,self.weights.T)\n",
    "        self.dweights = np.dot(self.inputs.T,dvalues)\n",
    "        self.dbiases = np.sum(dvalues,axis=0,keepdims=True)"
   ]
  },
  {
   "cell_type": "code",
   "execution_count": 7,
   "id": "65a2eefd-4090-469e-bbf2-0af3182daac7",
   "metadata": {
    "tags": []
   },
   "outputs": [],
   "source": [
    "class Activation_Relu:\n",
    "    def forward(self,inputs):\n",
    "        self.output = np.maximum(0,inputs)\n",
    "        self.inputs = inputs\n",
    "    \n",
    "    def backward(self,dvalues):\n",
    "        self.dinputs = dvalues.copy()\n",
    "        self.dinputs[self.inputs <= 0] = 0\n",
    "        "
   ]
  },
  {
   "cell_type": "code",
   "execution_count": 8,
   "id": "75821b5c-5baf-4fff-b3ce-c7a4ccca743a",
   "metadata": {
    "tags": []
   },
   "outputs": [],
   "source": [
    "class Activation_Softmax:\n",
    "    def forward(self,inputs,y_true):\n",
    "        expvals = np.exp(inputs - np.max(inputs, axis=1,\n",
    "        keepdims=True) )\n",
    "        self.output = expvals/np.sum(expvals,axis=1,keepdims=True)"
   ]
  },
  {
   "cell_type": "code",
   "execution_count": 9,
   "id": "50076642-63bf-47fb-a5dc-32995a3eef2e",
   "metadata": {
    "tags": []
   },
   "outputs": [],
   "source": [
    "class CrossEntropyLoss:\n",
    "    def calculate(self,y_pred,y_true):\n",
    "        # Turning one hot encoded values into sparse vectors\n",
    "        if len(y_true.shape) == 2:\n",
    "            y_true = np.argmax(y_true,axis=1)\n",
    "        \n",
    "        # Clipping to prevent log with 0\n",
    "        ypred = np.clip(y_pred,1e-7,1-1e-7)\n",
    "        \n",
    "        return np.mean(-np.log(y_pred[range(len(y_pred)),y_true]))\n",
    "    \n"
   ]
  },
  {
   "cell_type": "code",
   "execution_count": 10,
   "id": "51a0d693-fd67-4dea-9b65-78c1567c5543",
   "metadata": {
    "tags": []
   },
   "outputs": [],
   "source": [
    "class Activation_softmax_cross_entropy:\n",
    "    def __init__(self):\n",
    "        self.activation = Activation_Softmax()\n",
    "        self.lossfunc = CrossEntropyLoss()\n",
    "    \n",
    "    def forward(self,inputs,y_true):\n",
    "        self.activation.forward(inputs,y_true)\n",
    "        self.output = self.activation.output\n",
    "        return self.lossfunc.calculate(self.output,y_true)\n",
    "    \n",
    "    def backward(self,dvalues,y_true):\n",
    "        samples = len(y_true)\n",
    "        \n",
    "        # Turning one hot encoded arrays to sparse vectors\n",
    "        if len(y_true.shape) == 2:\n",
    "            y_true = np.argmax(y_true,axis=1)\n",
    "        \n",
    "        self.dinputs = dvalues.copy()\n",
    "        self.dinputs[range(samples),y_true] -= 1\n",
    "        \n",
    "        self.dinputs/=samples"
   ]
  },
  {
   "cell_type": "code",
   "execution_count": 11,
   "id": "ddf56a8a-3513-4326-a026-6fe6bac908f4",
   "metadata": {
    "tags": []
   },
   "outputs": [],
   "source": [
    "class Adam_Optimizer:\n",
    "    def __init__(self,lr=0.001,decay_rate=0,epsilon= 1e-7,beta1=0.9,beta2=0.999):\n",
    "        self.initiallr = lr\n",
    "        self.currentlr = lr\n",
    "        self.decay_rate = decay_rate\n",
    "        self.iterations = 0\n",
    "        self.epsilon = epsilon\n",
    "        self.beta1 = beta1\n",
    "        self.beta2 = beta2\n",
    "    \n",
    "    def pre_update(self):\n",
    "        self.currentlr = self.initiallr * (1/(1+(self.decay_rate * self.iterations)))\n",
    "\n",
    "    def update_params(self,layer):\n",
    "        \n",
    "        if not hasattr(layer,'weight_cache'):\n",
    "            layer.weight_cache = np.zeros_like(layer.weights)\n",
    "            layer.bias_cache = np.zeros_like(layer.biases)\n",
    "            layer.weight_momentum = np.zeros_like(layer.weights)\n",
    "            layer.bias_momentum = np.zeros_like(layer.biases)\n",
    "            \n",
    "        layer.weight_momentum = self.beta1 * layer.weight_momentum + (1-self.beta1) * layer.dweights\n",
    "        layer.bias_momentum = self.beta1 * layer.bias_momentum + (1 - self.beta1) * layer.dbiases\n",
    "        \n",
    "        layer.weight_momentum_prime = layer.weight_momentum / (1 - self.beta1 ** (self.iterations + 1))\n",
    "        layer.bias_momentum_prime = layer.bias_momentum / (1 - self.beta1 ** (self.iterations + 1))\n",
    "        \n",
    "        layer.weight_cache = layer.weight_cache * self.beta2 + (1-self.beta2) * (layer.dweights ** 2)\n",
    "        layer.bias_cache = layer.bias_cache * self.beta2 + (1-self.beta2) * (layer.dbiases ** 2)\n",
    "        \n",
    "        layer.weight_cache_prime = layer.weight_cache / (1 - self.beta2 ** (self.iterations + 1))\n",
    "        layer.bias_cache_prime = layer.bias_cache / (1 - self.beta2 ** (self.iterations + 1))\n",
    "\n",
    "        layer.weights += - self.currentlr * layer.weight_momentum_prime  / (np.sqrt(layer.weight_cache_prime) + self.epsilon)\n",
    "        layer.biases += -self.currentlr * layer.bias_momentum_prime / (np.sqrt(layer.bias_cache_prime) + self.epsilon)\n",
    "        \n",
    "    def post_update(self):\n",
    "        self.iterations += 1"
   ]
  },
  {
   "cell_type": "code",
   "execution_count": 59,
   "id": "cd7b09f8-b415-4e27-bfdf-aaf83e673264",
   "metadata": {
    "tags": []
   },
   "outputs": [
    {
     "name": "stdout",
     "output_type": "stream",
     "text": [
      "Epoch :  0  Accuracy :  0.10075378759608926  Loss :  2.3026071639033354\n",
      "Epoch :  10  Accuracy :  0.7043062915142921  Loss :  0.9009515859326579\n",
      "Epoch :  20  Accuracy :  0.8548399134263751  Loss :  0.47631814950973034\n",
      "Epoch :  30  Accuracy :  0.9069333532353161  Loss :  0.3257905421961784\n",
      "Epoch :  40  Accuracy :  0.9280543324128666  Loss :  0.24661235906360537\n",
      "Epoch :  50  Accuracy :  0.940070154489141  Loss :  0.20180714575540595\n",
      "Epoch :  60  Accuracy :  0.950369430554519  Loss :  0.1708416872857836\n",
      "Epoch :  70  Accuracy :  0.9582804686916934  Loss :  0.1469821984394782\n",
      "Epoch :  80  Accuracy :  0.9628330472423315  Loss :  0.12845393905413957\n",
      "Epoch :  90  Accuracy :  0.9676095230987387  Loss :  0.11391990460637205\n",
      "Epoch :  100  Accuracy :  0.9716396746025823  Loss :  0.10194210759784607\n"
     ]
    }
   ],
   "source": [
    "layer1 = Dense_Layer(784,16)\n",
    "act1 = Activation_Relu()\n",
    "layer2 = Dense_Layer(16,16)\n",
    "act2 = Activation_Relu()\n",
    "layer3 = Dense_Layer(16,10)\n",
    "actloss = Activation_softmax_cross_entropy()\n",
    "optimizer = Adam_Optimizer(lr=0.01,decay_rate=0)\n",
    "\n",
    "for epoch in range(101):\n",
    "    layer1.forward(X_train)\n",
    "    act1.forward(layer1.output)\n",
    "    layer2.forward(act1.output)\n",
    "    act2.forward(layer2.output)\n",
    "    layer3.forward(act2.output)\n",
    "    loss = actloss.forward(layer3.output,y_train)\n",
    "    \n",
    "    y_pred = np.argmax(actloss.output,axis=1)\n",
    "    \n",
    "    acc = np.mean(y_pred == y_train)\n",
    "    if epoch % 10 == 0:\n",
    "        print(\"Epoch : \",epoch, \" Accuracy : \",acc, \" Loss : \",loss)\n",
    "    \n",
    "    actloss.backward(actloss.output,y_train)\n",
    "    layer3.backward(actloss.dinputs)\n",
    "    act2.backward(layer3.dinputs)\n",
    "    layer2.backward(act2.dinputs)\n",
    "    act1.backward(layer2.dinputs)\n",
    "    layer1.backward(act1.dinputs)\n",
    "\n",
    "    optimizer.pre_update()\n",
    "    optimizer.update_params(layer1)\n",
    "    optimizer.update_params(layer3)\n",
    "    optimizer.update_params(layer2)\n",
    "    optimizer.post_update()"
   ]
  },
  {
   "cell_type": "code",
   "execution_count": 62,
   "id": "caf65a9e-20c4-4570-878d-22ef344d830d",
   "metadata": {
    "tags": []
   },
   "outputs": [],
   "source": [
    "layer1.forward(X_test)\n",
    "act1.forward(layer1.output)\n",
    "layer2.forward(act1.output)\n",
    "act2.forward(layer2.output)\n",
    "layer3.forward(act2.output)\n",
    "loss = actloss.forward(layer3.output,y_test)\n",
    "y_pred = np.argmax(actloss.output,axis=1)"
   ]
  },
  {
   "cell_type": "code",
   "execution_count": 63,
   "id": "21b98ad0-2731-49b3-ac96-b627fe2fd692",
   "metadata": {
    "tags": []
   },
   "outputs": [
    {
     "data": {
      "text/plain": [
       "0.9121212121212121"
      ]
     },
     "execution_count": 63,
     "metadata": {},
     "output_type": "execute_result"
    }
   ],
   "source": [
    "np.mean(y_test == y_pred)"
   ]
  },
  {
   "cell_type": "code",
   "execution_count": 15,
   "id": "1cece4a7-f041-4c4a-8b8f-48b1461c2547",
   "metadata": {
    "tags": []
   },
   "outputs": [],
   "source": [
    "import matplotlib.pyplot as plt"
   ]
  },
  {
   "cell_type": "code",
   "execution_count": 82,
   "id": "f55d0aed-d011-4dfc-a8a8-2a8ed328162c",
   "metadata": {
    "tags": []
   },
   "outputs": [
    {
     "name": "stdout",
     "output_type": "stream",
     "text": [
      "Prediction :  0\n"
     ]
    },
    {
     "data": {
      "image/png": "[encoded data removed]",
      "text/plain": [
       "<Figure size 640x480 with 1 Axes>"
      ]
     },
     "metadata": {},
     "output_type": "display_data"
    }
   ],
   "source": [
    "i=0\n",
    "plt.imshow(X_test[y_pred==i][0].reshape(28,28))\n",
    "print(\"Prediction : \", y_pred[y_pred==i][0])"
   ]
  }
 ],
 "metadata": {
  "kernelspec": {
   "display_name": "Python 3 (ipykernel)",
   "language": "python",
   "name": "python3"
  },
  "language_info": {
   "codemirror_mode": {
    "name": "ipython",
    "version": 3
   },
   "file_extension": ".py",
   "mimetype": "text/x-python",
   "name": "python",
   "nbconvert_exporter": "python",
   "pygments_lexer": "ipython3",
   "version": "3.11.3"
  }
 },
 "nbformat": 4,
 "nbformat_minor": 5
}

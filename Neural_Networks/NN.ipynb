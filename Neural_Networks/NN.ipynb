{
 "cells": [
  {
   "cell_type": "code",
   "execution_count": 29,
   "id": "7964a058-223f-4d65-8641-36ca908f0546",
   "metadata": {
    "tags": []
   },
   "outputs": [],
   "source": [
    "import numpy as np"
   ]
  },
  {
   "cell_type": "code",
   "execution_count": 30,
   "id": "5e559a88-9ea1-4c47-925b-3843b92b2326",
   "metadata": {
    "tags": []
   },
   "outputs": [],
   "source": [
    "class Dense_Layer:\n",
    "    def __init__(self,ninputs,nneurons,l1_w=0,l1_b=0,l2_w=0,l2_b=0):\n",
    "        # Initialising weights and biases\n",
    "        self.weights = 0.01 * np.random.randn(ninputs,nneurons)\n",
    "        self.biases = np.zeros((1,nneurons))\n",
    "        # Regularization\n",
    "        self.l1_w = l1_w\n",
    "        self.l1_b = l1_b\n",
    "        self.l2_w = l2_w\n",
    "        self.l2_b = l2_b\n",
    "        \n",
    "    # Forward Propagation    \n",
    "    def forward(self,inputs,training):\n",
    "        self.output = np.dot(inputs,self.weights) + self.biases\n",
    "        self.inputs = inputs\n",
    "    \n",
    "    # Backpropagation\n",
    "    def backward(self,dvalues):\n",
    "        self.dinputs = np.dot(dvalues,self.weights.T)\n",
    "        self.dweights = np.dot(self.inputs.T,dvalues)\n",
    "        self.dbiases = np.sum(dvalues,axis=0,keepdims=True)\n",
    "        \n",
    "        if self.l1_w > 0:\n",
    "            dl1w = np.ones_like(self.weights)\n",
    "            dl1w[self.weights < 0] = -1\n",
    "            self.dweights += dl1w\n",
    "        if self.l1_b > 0:\n",
    "            dl1b = np.ones_like(self.biases)\n",
    "            dl1b[self.biases < 0] = -1\n",
    "            self.dbiases += sl1b\n",
    "        if self.l2_w > 0:\n",
    "            self.dweights += self.weights * 2 * self.l2_w\n",
    "        if self.l2_b > 0:\n",
    "            self.dbiases += self.biases * 2 * self.l2_b"
   ]
  },
  {
   "cell_type": "code",
   "execution_count": 31,
   "id": "28cdd865-9780-4aae-a774-88d3b09e72a4",
   "metadata": {
    "tags": []
   },
   "outputs": [],
   "source": [
    "class Dropout_layer:\n",
    "    def __init__(self,drop_rate=0):\n",
    "        self.drop_rate = 1 - drop_rate\n",
    "    def forward(self,inputs,training):\n",
    "        if not training:\n",
    "            self.output = input.copy()\n",
    "            return\n",
    "        self.dropmask = np.random.binomial(1,self.drop_rate,size =inputs.shape)/(self.drop_rate)\n",
    "        self.output = inputs * self.dropmask\n",
    "    def backward(self,dvalues):\n",
    "        self.dinputs = dvalues * self.dropmask"
   ]
  },
  {
   "cell_type": "code",
   "execution_count": 44,
   "id": "432d0cb8-dc2e-438b-92a6-2d35868e864c",
   "metadata": {
    "tags": []
   },
   "outputs": [],
   "source": [
    "class Activation_Relu:\n",
    "    def forward(self,inputs,training):\n",
    "        self.output = np.maximum(0,inputs)\n",
    "        self.inputs = inputs\n",
    "    \n",
    "    def backward(self,dvalues):\n",
    "        self.dinputs = dvalues.copy()\n",
    "        self.dinputs[self.inputs <= 0] = 0\n",
    "        "
   ]
  },
  {
   "cell_type": "code",
   "execution_count": 33,
   "id": "1744408a-0bf0-4dbf-bc65-a17e6c3c628e",
   "metadata": {
    "tags": []
   },
   "outputs": [],
   "source": [
    "class Activation_Sigmoid:\n",
    "    def forward(self,inputs,training):\n",
    "        self.inputs= inputs\n",
    "        self.outputs = 1/(1+np.exp(-inputs))\n",
    "    def backward(self,dvalues):\n",
    "        self.dinputs = dvalues * self.outputs * (1 - self.outputs)"
   ]
  },
  {
   "cell_type": "code",
   "execution_count": 34,
   "id": "c24aaa24-b9cb-4b8b-9111-ce4ba273dfba",
   "metadata": {
    "tags": []
   },
   "outputs": [],
   "source": [
    "class Loss_BinaryCrossentropy():\n",
    "    def calculate(self, output, y):\n",
    "        # Calculate sample losses\n",
    "        sample_losses = self.forward(output, y)\n",
    "        # Calculate mean loss\n",
    "        data_loss = np.mean(sample_losses)\n",
    "        # Return loss\n",
    "        return data_loss\n",
    "\n",
    "    def regularization_loss(self):\n",
    "        \n",
    "        loss = 0\n",
    "        for layer in self.trainable_layers:\n",
    "            if layer.l1_w > 0:\n",
    "                loss += layer.l1_w * np.sum(np.abs(layer.weights))\n",
    "            if layer.l1_b > 0:\n",
    "                loss += layer.l1_b * np.sum(np.abs(layer.biases))\n",
    "            if layer.l2_w > 0:\n",
    "                loss += layer.l2_w * np.sum(layer.weights * layer.weights)\n",
    "            if layer.l2_b > 0:\n",
    "                loss += layer.l2_b * np.sum(layer.biases * layer.biases)\n",
    "        \n",
    "        return loss\n",
    "    \n",
    "    def remember_trainable_layers(self, trainable_layers):\n",
    "        self.trainable_layers = trainable_layers\n",
    "    \n",
    "    # Forward pass\n",
    "    def forward(self, y_pred, y_true):\n",
    "        # Clip data to prevent division by 0\n",
    "        # Clip both sides to not drag mean towards any value\n",
    "        y_pred_clipped = np.clip(y_pred, 1e-7, 1 - 1e-7)\n",
    "        # Calculate sample-wise loss\n",
    "        sample_losses = -(y_true * np.log(y_pred_clipped) +\n",
    "        (1 - y_true) * np.log(1 - y_pred_clipped))\n",
    "        sample_losses = np.mean(sample_losses, axis=-1)\n",
    "        # Return losses\n",
    "        return sample_losses\n",
    "        # Backward pass\n",
    "    def backward(self, dvalues, y_true):\n",
    "        # Number of samples\n",
    "        samples = len(dvalues)\n",
    "        # Number of outputs in every sample\n",
    "        # We'll use the first sample to count them\n",
    "        outputs = len(dvalues[0])\n",
    "        # Clip data to prevent division by 0\n",
    "        # Clip both sides to not drag mean towards any value\n",
    "        clipped_dvalues = np.clip(dvalues, 1e-7, 1 - 1e-7)\n",
    "        # Calculate gradient\n",
    "        self.dinputs = -(y_true / clipped_dvalues -\n",
    "        (1 - y_true) / (1 - clipped_dvalues)) / outputs\n",
    "        # Normalize gradient\n",
    "        self.dinputs = self.dinputs / samples"
   ]
  },
  {
   "cell_type": "code",
   "execution_count": 54,
   "id": "ccd2af2f-8063-4d62-a1c5-4cd458823d25",
   "metadata": {
    "tags": []
   },
   "outputs": [],
   "source": [
    "class Activation_Softmax:\n",
    "    def forward(self,inputs,y_true):\n",
    "        expvals = np.exp(inputs - np.max(inputs, axis=1,\n",
    "        keepdims=True) )\n",
    "        self.output = expvals/np.sum(expvals,axis=1,keepdims=True)\n",
    "        \n",
    "    def predictions(self, outputs):\n",
    "        return np.argmax(outputs, axis=1)"
   ]
  },
  {
   "cell_type": "code",
   "execution_count": 52,
   "id": "122cd7e1-2be6-4487-9849-1c30c5b2028a",
   "metadata": {
    "tags": []
   },
   "outputs": [],
   "source": [
    "class CrossEntropyLoss:\n",
    "    def forward(self, y_pred, y_true):\n",
    "        # Number of samples in a batch\n",
    "        samples = len(y_pred)\n",
    "        # Clip data to prevent division by 0\n",
    "        # Clip both sides to not drag mean towards any value\n",
    "        y_pred_clipped = np.clip(y_pred, 1e-7, 1 - 1e-7)\n",
    "        # Probabilities for target values -\n",
    "        # only if categorical labels\n",
    "        if len(y_true.shape) == 1:\n",
    "            correct_confidences = y_pred_clipped[\n",
    "            range(samples),\n",
    "            y_true\n",
    "            ]\n",
    "        # Mask values - only for one-hot encoded labels\n",
    "        elif len(y_true.shape) == 2:\n",
    "            correct_confidences = np.sum(\n",
    "            y_pred_clipped * y_true,\n",
    "            axis=1\n",
    "            )\n",
    "        # Losses\n",
    "        negative_log_likelihoods = -np.log(correct_confidences)\n",
    "        return negative_log_likelihoods\n",
    "    \n",
    "    def calculate(self, output, y, *, regularization=False):\n",
    "        # Calculate sample losses\n",
    "        sample_losses = self.forward(output, y)\n",
    "        # Calculate mean loss\n",
    "        data_loss = np.mean(sample_losses)\n",
    "        # If just data loss - return it\n",
    "        if not regularization:\n",
    "            return data_loss\n",
    "        # Return the data and regularization losses\n",
    "        return data_loss, self.regularization_loss()\n",
    "        \n",
    "        return np.mean(-np.log(y_pred[range(len(y_pred)),y_true]))\n",
    "    def regularization_loss(self):\n",
    "        \n",
    "        loss = 0\n",
    "        for layer in self.trainable_layers:\n",
    "            if layer.l1_w > 0:\n",
    "                loss += layer.l1_w * np.sum(np.abs(layer.weights))\n",
    "            if layer.l1_b > 0:\n",
    "                loss += layer.l1_b * np.sum(np.abs(layer.biases))\n",
    "            if layer.l2_w > 0:\n",
    "                loss += layer.l2_w * np.sum(layer.weights * layer.weights)\n",
    "            if layer.l2_b > 0:\n",
    "                loss += layer.l2_b * np.sum(layer.biases * layer.biases)\n",
    "        \n",
    "        return loss\n",
    "    \n",
    "    def remember_trainable_layers(self, trainable_layers):\n",
    "        self.trainable_layers = trainable_layers"
   ]
  },
  {
   "cell_type": "code",
   "execution_count": 37,
   "id": "f0f367c4-1fca-423e-8e03-2e5eb35f755a",
   "metadata": {
    "tags": []
   },
   "outputs": [],
   "source": [
    "class Activation_softmax_cross_entropy:\n",
    "#     def __init__(self):\n",
    "#         self.activation = Activation_Softmax()\n",
    "#         self.lossfunc = CrossEntropyLoss()\n",
    "    \n",
    "#     def forward(self,inputs,y_true):\n",
    "#         self.activation.forward(inputs,y_true)\n",
    "#         self.output = self.activation.output\n",
    "#         return self.lossfunc.calculate(self.output,y_true)\n",
    "    \n",
    "    def backward(self,dvalues,y_true):\n",
    "        samples = len(y_true)\n",
    "        \n",
    "        # Turning one hot encoded arrays to sparse vectors\n",
    "        if len(y_true.shape) == 2:\n",
    "            y_true = np.argmax(y_true,axis=1)\n",
    "        \n",
    "        self.dinputs = dvalues.copy()\n",
    "        self.dinputs[range(samples),y_true] -= 1\n",
    "        \n",
    "        self.dinputs/=samples"
   ]
  },
  {
   "cell_type": "code",
   "execution_count": 38,
   "id": "a820ad56-29b7-4231-a8e4-b171a0a07639",
   "metadata": {
    "tags": []
   },
   "outputs": [],
   "source": [
    "class SGD_Optimizer:\n",
    "    def __init__(self,lr=1,decay_rate=0.1,momentum=0.):\n",
    "        self.initiallr = lr\n",
    "        self.currentlr = lr\n",
    "        self.decay_rate = decay_rate\n",
    "        self.iterations = 0\n",
    "        self.momentum = momentum\n",
    "    \n",
    "    def pre_update(self):\n",
    "        self.currentlr = self.initiallr * (1/(1+(self.decay_rate * self.iterations)))\n",
    "\n",
    "    def update_params(self,layer):\n",
    "        \n",
    "        if self.momentum:\n",
    "            # if we don't have momentum arrays create them\n",
    "            if not hasattr(layer, 'weight_momentums'):\n",
    "                layer.weight_momentums = np.zeros_like(layer.weights)\n",
    "                \n",
    "                layer.bias_momentums = np.zeros_like(layer.biases)\n",
    "            \n",
    "            weight_updates = \\\n",
    "                self.momentum * layer.weight_momentums - self.currentlr * layer.dweights\n",
    "            layer.weight_momentums = weight_updates\n",
    "            \n",
    "            bias_updates = \\\n",
    "                self.momentum * layer.bias_momentums - self.currentlr * layer.dbiases\n",
    "            layer.bias_momentums = bias_updates\n",
    "            \n",
    "        else:\n",
    "            weight_updates = -self.currentlr * layer.dweights\n",
    "            bias_updates = -self.currentlr * layer.dbiases\n",
    "                \n",
    "        \n",
    "        layer.weights += weight_updates\n",
    "        layer.biases += bias_updates\n",
    "        \n",
    "    def post_update(self):\n",
    "        self.iterations += 1"
   ]
  },
  {
   "cell_type": "code",
   "execution_count": 39,
   "id": "a8c305f2-d07f-439f-bea9-4c36d7d0f223",
   "metadata": {
    "tags": []
   },
   "outputs": [],
   "source": [
    "class Adagrad_Optimizer:\n",
    "    def __init__(self,lr=1,decay_rate=0,epsilon = 1e-7):\n",
    "        self.initiallr = lr\n",
    "        self.currentlr = lr\n",
    "        self.decay_rate = decay_rate\n",
    "        self.iterations = 0\n",
    "        self.epsilon = epsilon\n",
    "    \n",
    "    def pre_update(self):\n",
    "        self.currentlr = self.initiallr * (1/(1+(self.decay_rate * self.iterations)))\n",
    "\n",
    "    def update_params(self,layer):\n",
    "        \n",
    "        if not hasattr(layer,'weight_cache'):\n",
    "            layer.weight_cache = np.zeros_like(layer.weights)\n",
    "            layer.bias_cache = np.zeros_like(layer.biases)\n",
    "        \n",
    "        layer.weight_cache += (layer.dweights ** 2)\n",
    "        layer.bias_cache += (layer.dbiases ** 2)\n",
    "        \n",
    "        layer.weights += - self.currentlr * layer.dweights  / (np.sqrt(layer.weight_cache) + self.epsilon)\n",
    "        layer.biases += -self.currentlr * layer.dbiases / (np.sqrt(layer.bias_cache) + self.epsilon)\n",
    "        \n",
    "    def post_update(self):\n",
    "        self.iterations += 1"
   ]
  },
  {
   "cell_type": "code",
   "execution_count": 40,
   "id": "2120e8d2-b4f2-438b-ab45-c70c9765b00f",
   "metadata": {
    "tags": []
   },
   "outputs": [],
   "source": [
    "class RMSProp_Optimizer:\n",
    "    def __init__(self,lr=0.001,decay_rate=0,epsilon = 1e-7,rho=0.9):\n",
    "        self.initiallr = lr\n",
    "        self.currentlr = lr\n",
    "        self.decay_rate = decay_rate\n",
    "        self.iterations = 0\n",
    "        self.epsilon = epsilon\n",
    "        self.rho = rho\n",
    "    \n",
    "    def pre_update(self):\n",
    "        self.currentlr = self.initiallr * (1/(1+(self.decay_rate * self.iterations)))\n",
    "\n",
    "    def update_params(self,layer):\n",
    "        \n",
    "        if not hasattr(layer,'weight_cache'):\n",
    "            layer.weight_cache = np.zeros_like(layer.weights)\n",
    "            layer.bias_cache = np.zeros_like(layer.biases)\n",
    "        \n",
    "        layer.weight_cache = layer.weight_cache * self.rho + (1-self.rho) * (layer.dweights ** 2)\n",
    "        layer.bias_cache = layer.bias_cache * self.rho + (1-self.rho) * (layer.dbiases ** 2)\n",
    "        \n",
    "        layer.weights += - self.currentlr * layer.dweights  / (np.sqrt(layer.weight_cache) + self.epsilon)\n",
    "        layer.biases += -self.currentlr * layer.dbiases / (np.sqrt(layer.bias_cache) + self.epsilon)\n",
    "        \n",
    "    def post_update(self):\n",
    "        self.iterations += 1"
   ]
  },
  {
   "cell_type": "code",
   "execution_count": 41,
   "id": "1896f857-e56d-45fc-91da-c25ce84f6cd0",
   "metadata": {
    "tags": []
   },
   "outputs": [],
   "source": [
    "class Adam_Optimizer:\n",
    "    def __init__(self,lr=0.001,decay_rate=0,epsilon= 1e-7,beta1=0.9,beta2=0.999):\n",
    "        self.initiallr = lr\n",
    "        self.currentlr = lr\n",
    "        self.decay_rate = decay_rate\n",
    "        self.iterations = 0\n",
    "        self.epsilon = epsilon\n",
    "        self.beta1 = beta1\n",
    "        self.beta2 = beta2\n",
    "    \n",
    "    def pre_update(self):\n",
    "        self.currentlr = self.initiallr * (1/(1+(self.decay_rate * self.iterations)))\n",
    "\n",
    "    def update_params(self,layer):\n",
    "        \n",
    "        if not hasattr(layer,'weight_cache'):\n",
    "            layer.weight_cache = np.zeros_like(layer.weights)\n",
    "            layer.bias_cache = np.zeros_like(layer.biases)\n",
    "            layer.weight_momentum = np.zeros_like(layer.weights)\n",
    "            layer.bias_momentum = np.zeros_like(layer.biases)\n",
    "            \n",
    "        layer.weight_momentum = self.beta1 * layer.weight_momentum + (1-self.beta1) * layer.dweights\n",
    "        layer.bias_momentum = self.beta1 * layer.bias_momentum + (1 - self.beta1) * layer.dbiases\n",
    "        \n",
    "        layer.weight_momentum_prime = layer.weight_momentum / (1 - self.beta1 ** (self.iterations + 1))\n",
    "        layer.bias_momentum_prime = layer.bias_momentum / (1 - self.beta1 ** (self.iterations + 1))\n",
    "        \n",
    "        layer.weight_cache = layer.weight_cache * self.beta2 + (1-self.beta2) * (layer.dweights ** 2)\n",
    "        layer.bias_cache = layer.bias_cache * self.beta2 + (1-self.beta2) * (layer.dbiases ** 2)\n",
    "        \n",
    "        layer.weight_cache_prime = layer.weight_cache / (1 - self.beta2 ** (self.iterations + 1))\n",
    "        layer.bias_cache_prime = layer.bias_cache / (1 - self.beta2 ** (self.iterations + 1))\n",
    "\n",
    "        layer.weights += - self.currentlr * layer.weight_momentum_prime  / (np.sqrt(layer.weight_cache_prime) + self.epsilon)\n",
    "        layer.biases += -self.currentlr * layer.bias_momentum_prime / (np.sqrt(layer.bias_cache_prime) + self.epsilon)\n",
    "        \n",
    "    def post_update(self):\n",
    "        self.iterations += 1"
   ]
  },
  {
   "cell_type": "code",
   "execution_count": 19,
   "id": "be2b6aa2-3ab3-46d9-8079-34323e5be96a",
   "metadata": {
    "tags": []
   },
   "outputs": [],
   "source": [
    "from sklearn.datasets import make_blobs\n",
    "import matplotlib.pyplot as plt\n",
    "from sklearn.model_selection import train_test_split\n",
    "from sklearn.datasets import make_circles"
   ]
  },
  {
   "cell_type": "code",
   "execution_count": 20,
   "id": "20df4981-2f65-4a48-ac6f-2e978336322b",
   "metadata": {
    "tags": []
   },
   "outputs": [],
   "source": [
    "X,y = make_circles(n_samples=1000,noise=.05)"
   ]
  },
  {
   "cell_type": "code",
   "execution_count": 18,
   "id": "1c99a10b-7d4b-41f4-ba65-f5d79f8fb4c3",
   "metadata": {
    "tags": []
   },
   "outputs": [
    {
     "data": {
      "text/plain": [
       "<matplotlib.collections.PathCollection at 0x25c933bf890>"
      ]
     },
     "execution_count": 18,
     "metadata": {},
     "output_type": "execute_result"
    },
    {
     "data": {
      "image/png": "[encoded data removed]",
      "text/plain": [
       "<Figure size 640x480 with 1 Axes>"
      ]
     },
     "metadata": {},
     "output_type": "display_data"
    }
   ],
   "source": [
    "plt.scatter(X[:,0],X[:,1],c=y)"
   ]
  },
  {
   "cell_type": "code",
   "execution_count": 19,
   "id": "05ddb8ee-5a0b-4af1-a81b-63d1c8ec05c9",
   "metadata": {
    "tags": []
   },
   "outputs": [],
   "source": [
    "X_train, X_test, y_train, y_test = train_test_split(\n",
    "...     X, y, test_size=0.33, random_state=42)"
   ]
  },
  {
   "cell_type": "code",
   "execution_count": 17,
   "id": "b6b19b30-c773-468a-9d32-53a9f0fd2124",
   "metadata": {
    "tags": []
   },
   "outputs": [
    {
     "name": "stdout",
     "output_type": "stream",
     "text": [
      "Epoch :  0  Accuracy :  0.5074626865671642  Loss :  0.6931375535784944\n",
      "Epoch :  100  Accuracy :  0.935820895522388  Loss :  0.5051123645703605\n",
      "Epoch :  200  Accuracy :  0.9850746268656716  Loss :  0.1353215879916105\n",
      "Epoch :  300  Accuracy :  0.9865671641791045  Loss :  0.07037692852899127\n",
      "Epoch :  400  Accuracy :  0.9880597014925373  Loss :  0.0527870444533208\n",
      "Epoch :  500  Accuracy :  0.9880597014925373  Loss :  0.04503055736814187\n",
      "Epoch :  600  Accuracy :  0.9880597014925373  Loss :  0.04072176763583506\n",
      "Epoch :  700  Accuracy :  0.9865671641791045  Loss :  0.0379726970879829\n",
      "Epoch :  800  Accuracy :  0.9865671641791045  Loss :  0.03604849220735641\n",
      "Epoch :  900  Accuracy :  0.9865671641791045  Loss :  0.03464716296561357\n",
      "Epoch :  1000  Accuracy :  0.9865671641791045  Loss :  0.033587268101153825\n"
     ]
    }
   ],
   "source": [
    "layer1 = Dense_Layer(2,64)\n",
    "act = Activation_Relu()\n",
    "layer2 = Dense_Layer(64,2)\n",
    "actloss = Activation_softmax_cross_entropy()\n",
    "optimizer = SGD_Optimizer(1,decay_rate=1e-3,momentum=0.5)\n",
    "\n",
    "for epoch in range(1001):\n",
    "    layer1.forward(X_train)\n",
    "    act.forward(layer1.output)\n",
    "    layer2.forward(act.output)\n",
    "    loss = actloss.forward(layer2.output,y_train)\n",
    "    \n",
    "    y_pred = np.argmax(actloss.output,axis=1)\n",
    "    \n",
    "    acc = np.mean(y_pred == y_train)\n",
    "    if epoch % 100 == 0:\n",
    "        print(\"Epoch : \",epoch, \" Accuracy : \",acc, \" Loss : \",loss)\n",
    "    \n",
    "    actloss.backward(actloss.output,y_train)\n",
    "    layer2.backward(actloss.dinputs)\n",
    "    act.backward(layer2.dinputs)\n",
    "    layer1.backward(act.dinputs)\n",
    "\n",
    "    optimizer.update_params(layer1)\n",
    "    optimizer.update_params(layer2)"
   ]
  },
  {
   "cell_type": "code",
   "execution_count": 15,
   "id": "c7ecddc9-118d-4425-9c3b-c85103412d4a",
   "metadata": {
    "tags": []
   },
   "outputs": [],
   "source": [
    "import nnfs\n",
    "from nnfs.datasets import spiral_data"
   ]
  },
  {
   "cell_type": "code",
   "execution_count": 92,
   "id": "6c56d86f-acaf-4ce2-85b8-6ccd1817065f",
   "metadata": {
    "tags": []
   },
   "outputs": [],
   "source": [
    "np.random.seed(0)"
   ]
  },
  {
   "cell_type": "code",
   "execution_count": 27,
   "id": "10bb97a8-e05d-4ff9-b772-37865c3f4eab",
   "metadata": {
    "tags": []
   },
   "outputs": [],
   "source": [
    "X,y = spiral_data(samples=100,classes=3)"
   ]
  },
  {
   "cell_type": "code",
   "execution_count": 28,
   "id": "a1c3ea34-e0cc-4457-a3a1-1f5a237eda09",
   "metadata": {
    "tags": []
   },
   "outputs": [
    {
     "data": {
      "text/plain": [
       "<matplotlib.collections.PathCollection at 0x219e3374c10>"
      ]
     },
     "execution_count": 28,
     "metadata": {},
     "output_type": "execute_result"
    },
    {
     "data": {
      "image/png": "[encoded data removed]",
      "text/plain": [
       "<Figure size 640x480 with 1 Axes>"
      ]
     },
     "metadata": {},
     "output_type": "display_data"
    }
   ],
   "source": [
    "plt.scatter(X[:,0],X[:,1],c=y)"
   ]
  },
  {
   "cell_type": "markdown",
   "id": "8a0d891c-fd3d-4292-b13a-41908eaac4ce",
   "metadata": {},
   "source": [
    "# SGD with momentum"
   ]
  },
  {
   "cell_type": "code",
   "execution_count": 50,
   "id": "9c4b7abb-2337-4c45-8cf5-0cadd703e4c7",
   "metadata": {
    "tags": []
   },
   "outputs": [
    {
     "name": "stdout",
     "output_type": "stream",
     "text": [
      "Epoch :  0  Accuracy :  0.25  Loss :  1.0986372020152781\n",
      "Epoch :  1000  Accuracy :  0.8833333333333333  Loss :  0.31818374461628013\n",
      "Epoch :  2000  Accuracy :  0.91  Loss :  0.255988447840704\n",
      "Epoch :  3000  Accuracy :  0.9233333333333333  Loss :  0.20598169799390997\n",
      "Epoch :  4000  Accuracy :  0.9233333333333333  Loss :  0.19137998896808828\n",
      "Epoch :  5000  Accuracy :  0.9233333333333333  Loss :  0.1841520273543525\n",
      "Epoch :  6000  Accuracy :  0.9266666666666666  Loss :  0.1791384304261479\n",
      "Epoch :  7000  Accuracy :  0.93  Loss :  0.17335565949661175\n",
      "Epoch :  8000  Accuracy :  0.93  Loss :  0.16845797046570732\n",
      "Epoch :  9000  Accuracy :  0.93  Loss :  0.16587541227451402\n",
      "Epoch :  10000  Accuracy :  0.93  Loss :  0.1639515431829476\n"
     ]
    }
   ],
   "source": [
    "layer1 = Dense_Layer(2,64)\n",
    "act = Activation_Relu()\n",
    "layer2 = Dense_Layer(64,3)\n",
    "actloss = Activation_softmax_cross_entropy()\n",
    "optimizer = SGD_Optimizer(1,decay_rate=0.001,momentum=0.9)\n",
    "\n",
    "for epoch in range(10001):\n",
    "    layer1.forward(X)\n",
    "    act.forward(layer1.output)\n",
    "    layer2.forward(act.output)\n",
    "    loss = actloss.forward(layer2.output,y)\n",
    "    \n",
    "    y_pred = np.argmax(actloss.output,axis=1)\n",
    "    \n",
    "    acc = np.mean(y_pred == y)\n",
    "    if epoch % 1000 == 0:\n",
    "        print(\"Epoch : \",epoch, \" Accuracy : \",acc, \" Loss : \",loss)\n",
    "    \n",
    "    actloss.backward(actloss.output,y)\n",
    "    layer2.backward(actloss.dinputs)\n",
    "    act.backward(layer2.dinputs)\n",
    "    layer1.backward(act.dinputs)\n",
    "\n",
    "    optimizer.pre_update()\n",
    "    optimizer.update_params(layer1)\n",
    "    optimizer.update_params(layer2)\n",
    "    optimizer.post_update()"
   ]
  },
  {
   "cell_type": "markdown",
   "id": "9f2d561b-0086-44be-8b47-717f35c1edf9",
   "metadata": {},
   "source": [
    "# Adagrad"
   ]
  },
  {
   "cell_type": "code",
   "execution_count": 53,
   "id": "1cf0a466-73ab-4478-9371-f2e94abdc5e2",
   "metadata": {},
   "outputs": [
    {
     "name": "stdout",
     "output_type": "stream",
     "text": [
      "Epoch :  0  Accuracy :  0.3233333333333333  Loss :  1.0986013616561447\n",
      "Epoch :  1000  Accuracy :  0.7333333333333333  Loss :  0.5930440559873272\n",
      "Epoch :  2000  Accuracy :  0.8133333333333334  Loss :  0.46962651610390843\n",
      "Epoch :  3000  Accuracy :  0.8466666666666667  Loss :  0.41036505017795594\n",
      "Epoch :  4000  Accuracy :  0.86  Loss :  0.34586911093143535\n",
      "Epoch :  5000  Accuracy :  0.89  Loss :  0.30212404438224716\n",
      "Epoch :  6000  Accuracy :  0.91  Loss :  0.2677735328596295\n",
      "Epoch :  7000  Accuracy :  0.9133333333333333  Loss :  0.24792456155563494\n",
      "Epoch :  8000  Accuracy :  0.9133333333333333  Loss :  0.23240392431921209\n",
      "Epoch :  9000  Accuracy :  0.92  Loss :  0.22080468678910822\n",
      "Epoch :  10000  Accuracy :  0.92  Loss :  0.2118743496390051\n"
     ]
    }
   ],
   "source": [
    "layer1 = Dense_Layer(2,64)\n",
    "act = Activation_Relu()\n",
    "layer2 = Dense_Layer(64,3)\n",
    "actloss = Activation_softmax_cross_entropy()\n",
    "optimizer = Adagrad_Optimizer(lr=1,decay_rate=1e-4)\n",
    "\n",
    "for epoch in range(10001):\n",
    "    layer1.forward(X)\n",
    "    act.forward(layer1.output)\n",
    "    layer2.forward(act.output)\n",
    "    loss = actloss.forward(layer2.output,y)\n",
    "    \n",
    "    y_pred = np.argmax(actloss.output,axis=1)\n",
    "    \n",
    "    acc = np.mean(y_pred == y)\n",
    "    if epoch % 1000 == 0:\n",
    "        print(\"Epoch : \",epoch, \" Accuracy : \",acc, \" Loss : \",loss)\n",
    "    \n",
    "    actloss.backward(actloss.output,y)\n",
    "    layer2.backward(actloss.dinputs)\n",
    "    act.backward(layer2.dinputs)\n",
    "    layer1.backward(act.dinputs)\n",
    "\n",
    "    optimizer.pre_update()\n",
    "    optimizer.update_params(layer1)\n",
    "    optimizer.update_params(layer2)\n",
    "    optimizer.post_update()"
   ]
  },
  {
   "cell_type": "markdown",
   "id": "162efd09-3333-48fa-ad4c-b6284b7593ba",
   "metadata": {},
   "source": [
    "# RMSProp"
   ]
  },
  {
   "cell_type": "code",
   "execution_count": 77,
   "id": "2a4ea9e1-df33-45a6-afc3-862ae8d76ec2",
   "metadata": {
    "tags": []
   },
   "outputs": [
    {
     "name": "stdout",
     "output_type": "stream",
     "text": [
      "Epoch :  0  Accuracy :  0.2833333333333333  Loss :  1.0986126393243418\n",
      "Epoch :  1000  Accuracy :  0.7366666666666667  Loss :  0.5426056614684285\n",
      "Epoch :  2000  Accuracy :  0.8133333333333334  Loss :  0.4042984774766524\n",
      "Epoch :  3000  Accuracy :  0.8466666666666667  Loss :  0.34589540744404756\n",
      "Epoch :  4000  Accuracy :  0.8766666666666667  Loss :  0.3037880406746893\n",
      "Epoch :  5000  Accuracy :  0.8833333333333333  Loss :  0.2883207195338394\n",
      "Epoch :  6000  Accuracy :  0.89  Loss :  0.2638215173833059\n",
      "Epoch :  7000  Accuracy :  0.8866666666666667  Loss :  0.23996465410414097\n",
      "Epoch :  8000  Accuracy :  0.9  Loss :  0.2235633864107476\n",
      "Epoch :  9000  Accuracy :  0.9066666666666666  Loss :  0.21138352851770262\n",
      "Epoch :  10000  Accuracy :  0.9166666666666666  Loss :  0.20155813031548667\n"
     ]
    }
   ],
   "source": [
    "layer1 = Dense_Layer(2,64)\n",
    "act = Activation_Relu()\n",
    "layer2 = Dense_Layer(64,3)\n",
    "actloss = Activation_softmax_cross_entropy()\n",
    "optimizer = RMSProp_Optimizer(lr=0.02,decay_rate=1e-5,rho=0.999)\n",
    "\n",
    "for epoch in range(10001):\n",
    "    layer1.forward(X)\n",
    "    act.forward(layer1.output)\n",
    "    layer2.forward(act.output)\n",
    "    loss = actloss.forward(layer2.output,y)\n",
    "    \n",
    "    y_pred = np.argmax(actloss.output,axis=1)\n",
    "    \n",
    "    acc = np.mean(y_pred == y)\n",
    "    if epoch % 1000 == 0:\n",
    "        print(\"Epoch : \",epoch, \" Accuracy : \",acc, \" Loss : \",loss)\n",
    "    \n",
    "    actloss.backward(actloss.output,y)\n",
    "    layer2.backward(actloss.dinputs)\n",
    "    act.backward(layer2.dinputs)\n",
    "    layer1.backward(act.dinputs)\n",
    "\n",
    "    optimizer.pre_update()\n",
    "    optimizer.update_params(layer1)\n",
    "    optimizer.update_params(layer2)\n",
    "    optimizer.post_update()"
   ]
  },
  {
   "cell_type": "markdown",
   "id": "10387147-dcf0-49a3-9d6a-654099c4e7bb",
   "metadata": {},
   "source": [
    "# Adam"
   ]
  },
  {
   "cell_type": "code",
   "execution_count": 216,
   "id": "071cd2b0-b42f-47e9-9516-e8d6b57186bd",
   "metadata": {
    "tags": []
   },
   "outputs": [
    {
     "name": "stdout",
     "output_type": "stream",
     "text": [
      "Epoch :  0  Accuracy :  0.3333333333333333  Loss :  1.0986082325091153\n",
      "Epoch :  1000  Accuracy :  0.9233333333333333  Loss :  0.18690389313982483\n",
      "Epoch :  2000  Accuracy :  0.96  Loss :  0.13332780129487948\n",
      "Epoch :  3000  Accuracy :  0.97  Loss :  0.10929691223502365\n",
      "Epoch :  4000  Accuracy :  0.9766666666666667  Loss :  0.0935965551894672\n",
      "Epoch :  5000  Accuracy :  0.9766666666666667  Loss :  0.08837522493951153\n",
      "Epoch :  6000  Accuracy :  0.9766666666666667  Loss :  0.0833746357722843\n",
      "Epoch :  7000  Accuracy :  0.9733333333333334  Loss :  0.07836283656354763\n",
      "Epoch :  8000  Accuracy :  0.9733333333333334  Loss :  0.07800698011038869\n",
      "Epoch :  9000  Accuracy :  0.9733333333333334  Loss :  0.07555212005094497\n",
      "Epoch :  10000  Accuracy :  0.9733333333333334  Loss :  0.07420734529303497\n"
     ]
    }
   ],
   "source": [
    "layer1 = Dense_Layer(2,64)\n",
    "act = Activation_Relu()\n",
    "layer2 = Dense_Layer(64,3)\n",
    "actloss = Activation_softmax_cross_entropy()\n",
    "optimizer = Adam_Optimizer(lr=0.05,decay_rate=5e-7)\n",
    "\n",
    "for epoch in range(10001):\n",
    "    layer1.forward(X)\n",
    "    act.forward(layer1.output)\n",
    "    layer2.forward(act.output)\n",
    "    loss = actloss.forward(layer2.output,y)\n",
    "    \n",
    "    y_pred = np.argmax(actloss.output,axis=1)\n",
    "    \n",
    "    acc = np.mean(y_pred == y)\n",
    "    if epoch % 1000 == 0:\n",
    "        print(\"Epoch : \",epoch, \" Accuracy : \",acc, \" Loss : \",loss)\n",
    "    \n",
    "    actloss.backward(actloss.output,y)\n",
    "    layer2.backward(actloss.dinputs)\n",
    "    act.backward(layer2.dinputs)\n",
    "    layer1.backward(act.dinputs)\n",
    "\n",
    "    optimizer.pre_update()\n",
    "    optimizer.update_params(layer1)\n",
    "    optimizer.update_params(layer2)\n",
    "    optimizer.post_update()"
   ]
  },
  {
   "cell_type": "markdown",
   "id": "478fb6ee-7b7b-489b-9296-5ff2da8a475c",
   "metadata": {},
   "source": [
    "# Regularization"
   ]
  },
  {
   "cell_type": "code",
   "execution_count": 244,
   "id": "bbf71b7b-eed2-4781-8047-0e8dd69d240d",
   "metadata": {
    "tags": []
   },
   "outputs": [
    {
     "name": "stdout",
     "output_type": "stream",
     "text": [
      "epoch: 0, acc: 0.360, loss: 1.099 (data_loss: 1.099, reg_loss: 0.000), lr: 0.02\n",
      "epoch: 1000, acc: 0.927, loss: 0.212 (data_loss: 0.212, reg_loss: 0.092), lr: 0.019990014987513734\n",
      "epoch: 2000, acc: 0.937, loss: 0.172 (data_loss: 0.172, reg_loss: 0.076), lr: 0.019980029960054924\n",
      "epoch: 3000, acc: 0.943, loss: 0.154 (data_loss: 0.154, reg_loss: 0.072), lr: 0.019970054902673444\n",
      "epoch: 4000, acc: 0.930, loss: 0.186 (data_loss: 0.186, reg_loss: 0.077), lr: 0.019960089800444013\n",
      "epoch: 5000, acc: 0.960, loss: 0.134 (data_loss: 0.134, reg_loss: 0.062), lr: 0.019950134638471142\n",
      "epoch: 6000, acc: 0.960, loss: 0.126 (data_loss: 0.126, reg_loss: 0.062), lr: 0.019940189401889033\n",
      "epoch: 7000, acc: 0.963, loss: 0.126 (data_loss: 0.126, reg_loss: 0.064), lr: 0.019930254075861523\n",
      "epoch: 8000, acc: 0.963, loss: 0.119 (data_loss: 0.119, reg_loss: 0.055), lr: 0.019920328645582\n",
      "epoch: 9000, acc: 0.967, loss: 0.114 (data_loss: 0.114, reg_loss: 0.055), lr: 0.019910413096273318\n",
      "epoch: 10000, acc: 0.963, loss: 0.112 (data_loss: 0.112, reg_loss: 0.054), lr: 0.019900507413187767\n"
     ]
    }
   ],
   "source": [
    "layer1 = Dense_Layer(2,512,l2_w=5e-4,l2_b=5e-4)\n",
    "act = Activation_Relu()\n",
    "layer2 = Dense_Layer(512,3)\n",
    "actloss = Activation_softmax_cross_entropy()\n",
    "optimizer = Adam_Optimizer(lr=0.02,decay_rate=5e-7)\n",
    "\n",
    "for epoch in range(10001):\n",
    "    layer1.forward(X)\n",
    "    act.forward(layer1.output)\n",
    "    layer2.forward(act.output)\n",
    "    regularization_loss = actloss.lossfunc.regularization_loss(layer1) + actloss.lossfunc.regularization_loss(layer2) \n",
    "    data_loss = actloss.forward(layer2.output,y)\n",
    "    loss = data_loss + regularizationloss\n",
    "    \n",
    "    y_pred = np.argmax(actloss.output,axis=1)\n",
    "    \n",
    "    accuracy = np.mean(y_pred == y)\n",
    "    if epoch % 1000 == 0:\n",
    "        print(f'epoch: {epoch}, ' +\n",
    "                f'acc: {accuracy:.3f}, ' +\n",
    "                f'loss: {loss:.3f} (' +\n",
    "                f'data_loss: {data_loss:.3f}, ' +\n",
    "                f'reg_loss: {regularization_loss:.3f}), ' +\n",
    "                f'lr: {optimizer.currentlr}')\n",
    "    \n",
    "    actloss.backward(actloss.output,y)\n",
    "    layer2.backward(actloss.dinputs)\n",
    "    act.backward(layer2.dinputs)\n",
    "    layer1.backward(act.dinputs)\n",
    "\n",
    "    optimizer.pre_update()\n",
    "    optimizer.update_params(layer1)\n",
    "    optimizer.update_params(layer2)\n",
    "    optimizer.post_update()"
   ]
  },
  {
   "cell_type": "code",
   "execution_count": 405,
   "id": "c225a517-1848-4971-badc-ceed4c21a2de",
   "metadata": {
    "tags": []
   },
   "outputs": [
    {
     "data": {
      "text/plain": [
       "0.9"
      ]
     },
     "execution_count": 405,
     "metadata": {},
     "output_type": "execute_result"
    }
   ],
   "source": [
    "X_test,y_test = spiral_data(samples=100, classes=3)\n",
    "layer1.forward(X_test)\n",
    "act.forward(layer1.output)\n",
    "layer2.forward(act.output)\n",
    "loss = actloss.forward(layer2.output,y_test)\n",
    "ypred = np.argmax(actloss.output,axis=1)\n",
    "accuracy = np.mean(ypred == y_test)\n",
    "accuracy"
   ]
  },
  {
   "cell_type": "code",
   "execution_count": 189,
   "id": "d9884a95-8728-4606-b534-4ed9987affad",
   "metadata": {
    "tags": []
   },
   "outputs": [
    {
     "name": "stdout",
     "output_type": "stream",
     "text": [
      "epoch: 0, acc: 0.363, loss: 1.099 (data_loss: 1.099, reg_loss: 0.000), lr: 0.05\n",
      "epoch: 1000, acc: 0.820, loss: 0.534 (data_loss: 0.437, reg_loss: 0.097), lr: 0.04762131530072861\n",
      "epoch: 2000, acc: 0.850, loss: 0.510 (data_loss: 0.413, reg_loss: 0.098), lr: 0.045456611664166556\n",
      "epoch: 3000, acc: 0.820, loss: 0.566 (data_loss: 0.471, reg_loss: 0.095), lr: 0.043480151310926564\n",
      "epoch: 4000, acc: 0.870, loss: 0.502 (data_loss: 0.407, reg_loss: 0.095), lr: 0.04166840285011875\n",
      "epoch: 5000, acc: 0.857, loss: 0.455 (data_loss: 0.363, reg_loss: 0.092), lr: 0.04000160006400256\n",
      "epoch: 6000, acc: 0.843, loss: 0.454 (data_loss: 0.363, reg_loss: 0.090), lr: 0.03846301780837725\n",
      "epoch: 7000, acc: 0.833, loss: 0.528 (data_loss: 0.439, reg_loss: 0.089), lr: 0.03703840882995667\n",
      "epoch: 8000, acc: 0.830, loss: 0.529 (data_loss: 0.439, reg_loss: 0.090), lr: 0.03571556127004536\n",
      "epoch: 9000, acc: 0.860, loss: 0.440 (data_loss: 0.351, reg_loss: 0.089), lr: 0.034483947722335255\n",
      "epoch: 10000, acc: 0.843, loss: 0.596 (data_loss: 0.511, reg_loss: 0.086), lr: 0.03333444448148271\n"
     ]
    }
   ],
   "source": [
    "layer1 = Dense_Layer(2,256,l2_w=5e-4,l2_b=5e-4)\n",
    "act = Activation_Relu()\n",
    "dropoutlayer = Dropout_layer(0.1)\n",
    "layer2 = Dense_Layer(256,3)\n",
    "actloss = Activation_softmax_cross_entropy()\n",
    "optimizer = Adam_Optimizer(lr=0.05,decay_rate=5e-5)\n",
    "\n",
    "for epoch in range(10001):\n",
    "    layer1.forward(X)\n",
    "    act.forward(layer1.output)\n",
    "    dropoutlayer.forward(act.output)\n",
    "    layer2.forward(dropoutlayer.output)\n",
    "    regularization_loss = actloss.lossfunc.regularization_loss(layer1) + actloss.lossfunc.regularization_loss(layer2) \n",
    "    data_loss = actloss.forward(layer2.output,y)\n",
    "    loss = data_loss + regularization_loss\n",
    "    \n",
    "    y_pred = np.argmax(actloss.output,axis=1)\n",
    "    \n",
    "    accuracy = np.mean(y_pred == y)\n",
    "    if epoch % 1000 == 0:\n",
    "        print(f'epoch: {epoch}, ' +\n",
    "                f'acc: {accuracy:.3f}, ' +\n",
    "                f'loss: {loss:.3f} (' +\n",
    "                f'data_loss: {data_loss:.3f}, ' +\n",
    "                f'reg_loss: {regularization_loss:.3f}), ' +\n",
    "                f'lr: {optimizer.currentlr}')\n",
    "    \n",
    "    actloss.backward(actloss.output,y)\n",
    "    layer2.backward(actloss.dinputs)\n",
    "    dropoutlayer.backward(layer2.dinputs)\n",
    "    act.backward(dropoutlayer.dinputs)\n",
    "    layer1.backward(act.dinputs)\n",
    "\n",
    "    optimizer.pre_update()\n",
    "    optimizer.update_params(layer1)\n",
    "    optimizer.update_params(layer2)\n",
    "    optimizer.post_update()"
   ]
  },
  {
   "cell_type": "code",
   "execution_count": 193,
   "id": "f553d0ca-15ca-4ce8-a75b-cc11eecea8ca",
   "metadata": {
    "tags": []
   },
   "outputs": [
    {
     "data": {
      "text/plain": [
       "0.8233333333333334"
      ]
     },
     "execution_count": 193,
     "metadata": {},
     "output_type": "execute_result"
    }
   ],
   "source": [
    "X_test,y_test = spiral_data(samples=100, classes=3)\n",
    "layer1.forward(X_test)\n",
    "act.forward(layer1.output)\n",
    "layer2.forward(act.output)\n",
    "loss = actloss.forward(layer2.output,y_test)\n",
    "ypred = np.argmax(actloss.output,axis=1)\n",
    "accuracy = np.mean(ypred == y_test)\n",
    "accuracy"
   ]
  },
  {
   "cell_type": "markdown",
   "id": "5210c7e8-037e-4eb1-bf37-a3601dae5538",
   "metadata": {},
   "source": [
    "# Binary classification"
   ]
  },
  {
   "cell_type": "code",
   "execution_count": 130,
   "id": "f42f1f18-81a5-4afe-a8bb-67ba114ff103",
   "metadata": {
    "tags": []
   },
   "outputs": [
    {
     "name": "stdout",
     "output_type": "stream",
     "text": [
      "epoch: 0, acc: 0.520, loss: 0.693 (data_loss: 0.693, reg_loss: 0.000), lr: 0.02\n",
      "epoch: 1000, acc: 0.970, loss: 0.179 (data_loss: 0.112, reg_loss: 0.066), lr: 0.019048526120291447\n",
      "epoch: 2000, acc: 0.980, loss: 0.133 (data_loss: 0.076, reg_loss: 0.057), lr: 0.01818264466566662\n",
      "epoch: 3000, acc: 0.980, loss: 0.111 (data_loss: 0.064, reg_loss: 0.048), lr: 0.017392060524370624\n",
      "epoch: 4000, acc: 0.985, loss: 0.100 (data_loss: 0.053, reg_loss: 0.047), lr: 0.0166673611400475\n",
      "epoch: 5000, acc: 0.985, loss: 0.091 (data_loss: 0.049, reg_loss: 0.041), lr: 0.016000640025601025\n",
      "epoch: 6000, acc: 0.995, loss: 0.080 (data_loss: 0.043, reg_loss: 0.037), lr: 0.015385207123350899\n",
      "epoch: 7000, acc: 0.985, loss: 0.236 (data_loss: 0.199, reg_loss: 0.037), lr: 0.014815363531982666\n",
      "epoch: 8000, acc: 0.985, loss: 0.231 (data_loss: 0.198, reg_loss: 0.032), lr: 0.014286224508018143\n",
      "epoch: 9000, acc: 0.985, loss: 0.225 (data_loss: 0.196, reg_loss: 0.029), lr: 0.0137935790889341\n",
      "epoch: 10000, acc: 0.985, loss: 0.224 (data_loss: 0.193, reg_loss: 0.031), lr: 0.013333777792593085\n"
     ]
    }
   ],
   "source": [
    "X,y = make_circles(n_samples=1000,noise=.05)\n",
    "layer1 = Dense_Layer(2,128,l2_w=5e-4,l2_b=5e-4)\n",
    "act = Activation_Relu()\n",
    "layer2 = Dense_Layer(128,1)\n",
    "sigmoid = Activation_Sigmoid()\n",
    "loss_function = Loss_BinaryCrossentropy()\n",
    "actloss  = Activation_softmax_cross_entropy()\n",
    "optimizer = Adam_Optimizer(lr=0.02,decay_rate=5e-5)\n",
    "\n",
    "\n",
    "for epoch in range(10001):\n",
    "    layer1.forward(X1)\n",
    "    act.forward(layer1.output)\n",
    "    layer2.forward(act.output)\n",
    "    sigmoid.forward(layer2.output)\n",
    "    regularization_loss = loss_function.regularization_loss(layer1) + loss_function.regularization_loss(layer2)\n",
    "    data_loss = loss_function.forward(sigmoid.outputs,y1).mean()\n",
    "    loss = data_loss + regularization_loss\n",
    "    \n",
    "    y_pred = ((sigmoid.outputs > .5) * 1)\n",
    "    \n",
    "    accuracy = np.mean(y_pred == y1)\n",
    "    if epoch % 1000 == 0:\n",
    "        print(f'epoch: {epoch}, ' +\n",
    "            f'acc: {accuracy:.3f}, '+\n",
    "            f'loss: {loss:.3f} (' +\n",
    "            f'data_loss: {data_loss:.3f}, ' +\n",
    "            f'reg_loss: {regularization_loss:.3f}), ' +\n",
    "            f'lr: {optimizer.currentlr}')\n",
    "    \n",
    "    loss_function.backward(sigmoid.outputs,y1)\n",
    "    sigmoid.backward(loss_function.dinputs)\n",
    "    layer2.backward(sigmoid.dinputs)\n",
    "    act.backward(layer2.dinputs)\n",
    "    layer1.backward(act.dinputs)\n",
    "\n",
    "    optimizer.pre_update()\n",
    "    optimizer.update_params(layer1)\n",
    "    optimizer.update_params(layer2)\n",
    "    optimizer.post_update()"
   ]
  },
  {
   "cell_type": "code",
   "execution_count": 59,
   "id": "63803644-72c9-42ab-bb80-2cd97b742922",
   "metadata": {
    "tags": []
   },
   "outputs": [],
   "source": [
    "class Model:\n",
    "    def __init__(self):\n",
    "        self.layers = []\n",
    "        self.softmax_classifier_output = None\n",
    "    \n",
    "    def add(self,layer):\n",
    "        self.layers.append(layer)\n",
    "        \n",
    "    def set(self,*,loss,optimizer,accuracy):\n",
    "        self.loss = loss\n",
    "        self.optimizer = optimizer\n",
    "        self.accuracy = accuracy\n",
    "    \n",
    "    def train(self,X,y,*,epochs,print_every,validation_data = None):\n",
    "        self.accuracy.init(y)\n",
    "        for epoch in range(1,epochs+1):\n",
    "            output = self.forward(X,training = True)\n",
    "            data_loss,regularization_loss = self.loss.calculate(output,y,regularization=True)\n",
    "            loss = data_loss + regularization_loss\n",
    "            \n",
    "            predictions = self.output_activation.predictions(output)\n",
    "            \n",
    "            accuracy = self.accuracy.calculate(predictions,y)\n",
    "            \n",
    "            self.backward(output,y)\n",
    "            \n",
    "            self.optimizer.pre_update()\n",
    "            for layer in self.trainable_layers:\n",
    "                self.optimizer.update_params(layer)\n",
    "            self.optimizer.post_update\n",
    "            \n",
    "            if not epoch % print_every:\n",
    "                print(f'epoch: {epoch}, ' +\n",
    "                f'acc: {accuracy:.3f}, ' +\n",
    "                f'loss: {loss:.3f} (' +\n",
    "                f'data_loss: {data_loss:.3f}, ' +\n",
    "                f'reg_loss: {regularization_loss:.3f}), ' +\n",
    "                f'lr: {self.optimizer.currentlr}')\n",
    "                \n",
    "        if validation_data is not None:\n",
    "            X_val, y_val = validation_data\n",
    "            output = self.forward(X_val,training=False)\n",
    "            loss = self.loss.calculate(output, y_val)\n",
    "            predictions = self.output_activation.predictions(\n",
    "            output)\n",
    "            accuracy = self.accuracy.calculate(predictions, y_val)\n",
    "            print(f'validation, ' +\n",
    "            f'acc: {accuracy:.3f}, ' +\n",
    "            f'loss: {loss:.3f}')\n",
    "\n",
    "        \n",
    "    def finalize(self):\n",
    "        self.input_layer = Input_Layer()\n",
    "        self.trainable_layers = []\n",
    "        nlayers = len(self.layers)\n",
    "        \n",
    "        for i in range(nlayers):\n",
    "            if i==0 :\n",
    "                self.layers[i].prev = self.input_layer\n",
    "                self.layers[i].next = self.layers[i+1]\n",
    "            elif i < nlayers - 1:\n",
    "                self.layers[i].prev = self.layers[i-1]\n",
    "                self.layers[i].next = self.layers[i+1]\n",
    "            else:\n",
    "                self.layers[i].prev = self.layers[i-1]\n",
    "                self.layers[i].next = self.loss\n",
    "                self.output_activation = self.layers[i]\n",
    "            \n",
    "            if hasattr(self.layers[i],\"weights\"):\n",
    "                self.trainable_layers.append(self.layers[i])\n",
    "        self.loss.remember_trainable_layers(self.trainable_layers)   \n",
    "        \n",
    "        if isinstance(self.layers[-1], Activation_Softmax) and \\\n",
    "        isinstance(self.loss, CrossEntropyLoss):\n",
    "            self.softmax_classifier_output = \\\n",
    "            Activation_softmax_cross_entropy()\n",
    "\n",
    "            \n",
    "    def forward(self,X,training):\n",
    "        self.input_layer.forward(X)\n",
    "        for layer in self.layers:\n",
    "            layer.forward(layer.prev.output,training)\n",
    "        return layer.output\n",
    "    def backward(self,output,y):\n",
    "        \n",
    "        if self.softmax_classifier_output is not None:\n",
    "            self.softmax_classifier_output.backward(output, y)\n",
    "            self.layers[-1].dinputs = \\\n",
    "            self.softmax_classifier_output.dinputs\n",
    "            for layer in reversed(self.layers[:-1]):\n",
    "                layer.backward(layer.next.dinputs)\n",
    "            return\n",
    "        \n",
    "        \n",
    "        self.loss.backward(output,y)\n",
    "        \n",
    "        for layer in reversed(self.layers):\n",
    "            layer.backward(layer.next.dinputs)\n",
    "        \n",
    "class Input_Layer:\n",
    "    def forward(self,inputs):\n",
    "        self.output = inputs\n",
    "        \n",
    "class Accuracy:\n",
    "    def calculate(self,predictions,y):\n",
    "        comparisions = self.compare(predictions,y)\n",
    "        accuracy = np.mean(comparisions)\n",
    "        return accuracy\n",
    "    \n",
    "class Accuracy_Regression(Accuracy):\n",
    "    def __init__(self):\n",
    "        self.precision = None\n",
    "        \n",
    "    def init(self, y, reinit=False):\n",
    "        if self.precision is None or reinit:\n",
    "            self.precision = np.std(y) / 250\n",
    "\n",
    "    def compare(self, predictions, y):\n",
    "        return np.absolute(predictions - y) < self.precision\n",
    "\n",
    "class Accuracy_Classification(Accuracy):\n",
    "    def init(self,y):\n",
    "        pass\n",
    "    def compare(self,predictions,y):\n",
    "        if len(y.shape) == 2:\n",
    "            y = np.argmax(y,axis=1)\n",
    "        return np.mean(predictions == y)"
   ]
  },
  {
   "cell_type": "code",
   "execution_count": 61,
   "id": "681c6c5a-38f4-45cd-a5e9-a61bdf491606",
   "metadata": {
    "tags": []
   },
   "outputs": [
    {
     "name": "stdout",
     "output_type": "stream",
     "text": [
      "epoch: 1000, acc: 0.950, loss: 0.259 (data_loss: 0.259, reg_loss: 0.000), lr: 0.001\n",
      "epoch: 2000, acc: 0.960, loss: 0.167 (data_loss: 0.167, reg_loss: 0.000), lr: 0.001\n",
      "epoch: 3000, acc: 0.970, loss: 0.128 (data_loss: 0.128, reg_loss: 0.000), lr: 0.001\n",
      "epoch: 4000, acc: 0.960, loss: 0.107 (data_loss: 0.107, reg_loss: 0.000), lr: 0.001\n",
      "epoch: 5000, acc: 0.960, loss: 0.095 (data_loss: 0.095, reg_loss: 0.000), lr: 0.001\n",
      "epoch: 6000, acc: 0.960, loss: 0.088 (data_loss: 0.088, reg_loss: 0.000), lr: 0.001\n",
      "epoch: 7000, acc: 0.970, loss: 0.085 (data_loss: 0.085, reg_loss: 0.000), lr: 0.001\n",
      "epoch: 8000, acc: 0.960, loss: 0.083 (data_loss: 0.083, reg_loss: 0.000), lr: 0.001\n",
      "epoch: 9000, acc: 0.960, loss: 0.082 (data_loss: 0.082, reg_loss: 0.000), lr: 0.001\n",
      "epoch: 10000, acc: 0.960, loss: 0.081 (data_loss: 0.081, reg_loss: 0.000), lr: 0.001\n",
      "validation, acc: 0.810, loss: 0.821\n"
     ]
    }
   ],
   "source": [
    "X,y = make_circles(n_samples=100,noise=.1)\n",
    "X_test,y_test = make_circles(n_samples=100,noise=.1)\n",
    "model = Model()\n",
    "model.add(Dense_Layer(2,64))\n",
    "model.add(Activation_Relu())\n",
    "model.add(Dense_Layer(64,2))\n",
    "model.add(Activation_Softmax())\n",
    "\n",
    "model.set(accuracy=Accuracy_Classification(),loss=CrossEntropyLoss(),optimizer=Adam_Optimizer())\n",
    "\n",
    "model.finalize()\n",
    "\n",
    "model.train(X,y,validation_data=(X_test,y_test),epochs=10001,print_every=1000)"
   ]
  },
  {
   "cell_type": "code",
   "execution_count": 64,
   "id": "0cefefd3-151e-4ebc-b4a8-a800ea156ca6",
   "metadata": {
    "tags": []
   },
   "outputs": [
    {
     "data": {
      "text/plain": [
       "array([0, 0, 0, 1, 0, 1, 0, 1, 1, 1, 0, 0, 0, 0, 0, 1, 0, 1, 1, 1, 1, 0,\n",
       "       1, 0, 1, 1, 1, 0, 1, 1, 0, 1, 0, 0, 0, 1, 0, 0, 0, 1, 0, 1, 0, 1,\n",
       "       1, 1, 0, 1, 0, 1, 1, 1, 0, 1, 0, 1, 0, 0, 1, 0, 0, 0, 1, 1, 0, 0,\n",
       "       0, 1, 0, 0, 1, 1, 1, 1, 1, 0, 0, 1, 0, 0, 1, 0, 0, 1, 0, 1, 1, 1,\n",
       "       0, 0, 0, 1, 1, 1, 0, 0, 1, 0, 1, 0], dtype=int64)"
      ]
     },
     "execution_count": 64,
     "metadata": {},
     "output_type": "execute_result"
    }
   ],
   "source": [
    "pred = model.forward(X_test,y_test)\n",
    "np.argmax(pred,axis=1)"
   ]
  },
  {
   "cell_type": "code",
   "execution_count": 65,
   "id": "dd48acd8-a04a-41e1-aad8-2741a71d65a5",
   "metadata": {
    "tags": []
   },
   "outputs": [
    {
     "data": {
      "text/plain": [
       "array([0, 0, 0, 1, 1, 0, 0, 1, 0, 1, 0, 0, 0, 0, 0, 1, 0, 1, 1, 1, 1, 1,\n",
       "       1, 0, 1, 0, 1, 0, 1, 1, 1, 0, 0, 0, 0, 1, 0, 1, 0, 1, 0, 0, 0, 1,\n",
       "       1, 1, 1, 1, 0, 1, 1, 1, 0, 1, 0, 1, 0, 0, 1, 0, 0, 0, 1, 0, 1, 1,\n",
       "       0, 0, 1, 0, 1, 1, 1, 1, 1, 0, 0, 1, 0, 0, 1, 0, 0, 1, 0, 1, 0, 1,\n",
       "       0, 0, 0, 1, 0, 1, 0, 1, 1, 1, 1, 0], dtype=int64)"
      ]
     },
     "execution_count": 65,
     "metadata": {},
     "output_type": "execute_result"
    }
   ],
   "source": [
    "y_test"
   ]
  }
 ],
 "metadata": {
  "kernelspec": {
   "display_name": "Python 3 (ipykernel)",
   "language": "python",
   "name": "python3"
  },
  "language_info": {
   "codemirror_mode": {
    "name": "ipython",
    "version": 3
   },
   "file_extension": ".py",
   "mimetype": "text/x-python",
   "name": "python",
   "nbconvert_exporter": "python",
   "pygments_lexer": "ipython3",
   "version": "3.11.3"
  }
 },
 "nbformat": 4,
 "nbformat_minor": 5
}

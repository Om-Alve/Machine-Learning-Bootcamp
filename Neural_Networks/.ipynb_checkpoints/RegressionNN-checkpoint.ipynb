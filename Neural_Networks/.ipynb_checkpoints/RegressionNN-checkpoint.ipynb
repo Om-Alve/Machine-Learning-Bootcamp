{
 "cells": [
  {
   "cell_type": "code",
   "execution_count": 9,
   "id": "8700a4f4-ee84-456a-ada0-c632bc05c42f",
   "metadata": {
    "tags": []
   },
   "outputs": [],
   "source": [
    "import numpy as np"
   ]
  },
  {
   "cell_type": "code",
   "execution_count": 10,
   "id": "f31e2b7b-bece-4832-86eb-4ec3d90f223d",
   "metadata": {
    "tags": []
   },
   "outputs": [],
   "source": [
    "class Dense_Layer:\n",
    "    def __init__(self,ninputs,nneurons,l1_w=0,l1_b=0,l2_w=0,l2_b=0):\n",
    "        # Initialising weights and biases\n",
    "        self.weights = 0.1 * np.random.randn(ninputs,nneurons)\n",
    "        self.biases = np.zeros((1,nneurons))\n",
    "        # Regularization\n",
    "        self.l1_w = l1_w\n",
    "        self.l1_b = l1_b\n",
    "        self.l2_w = l2_w\n",
    "        self.l2_b = l2_b\n",
    "        \n",
    "    # Forward Propagation    \n",
    "    def forward(self,inputs):\n",
    "        self.output = np.dot(inputs,self.weights) + self.biases\n",
    "        self.inputs = inputs\n",
    "    \n",
    "    # Backpropagation\n",
    "    def backward(self,dvalues):\n",
    "        self.dinputs = np.dot(dvalues,self.weights.T)\n",
    "        self.dweights = np.dot(self.inputs.T,dvalues)\n",
    "        self.dbiases = np.sum(dvalues,axis=0,keepdims=True)\n",
    "        \n",
    "        if self.l1_w > 0:\n",
    "            dl1w = np.ones_like(self.weights)\n",
    "            dl1w[self.weights < 0] = -1\n",
    "            self.dweights += dl1w\n",
    "        if self.l1_b > 0:\n",
    "            dl1b = np.ones_like(self.biases)\n",
    "            dl1b[self.biases < 0] = -1\n",
    "            self.dbiases += sl1b\n",
    "        if self.l2_w > 0:\n",
    "            self.dweights += self.weights * 2 * self.l2_w\n",
    "        if self.l2_b > 0:\n",
    "            self.dbiases += self.biases * 2 * self.l2_b"
   ]
  },
  {
   "cell_type": "code",
   "execution_count": 11,
   "id": "0ab998b9-5b55-4bec-86d4-958e2bcf00fa",
   "metadata": {
    "tags": []
   },
   "outputs": [],
   "source": [
    "class Activation_Relu:\n",
    "    def forward(self,inputs):\n",
    "        self.output = np.maximum(0,inputs)\n",
    "        self.inputs = inputs\n",
    "    \n",
    "    def backward(self,dvalues):\n",
    "        self.dinputs = dvalues.copy()\n",
    "        self.dinputs[self.inputs <= 0] = 0\n",
    "        "
   ]
  },
  {
   "cell_type": "code",
   "execution_count": 12,
   "id": "eaa42f59-f92d-4c67-9f1e-b6f66633c732",
   "metadata": {
    "tags": []
   },
   "outputs": [],
   "source": [
    "class Activation_Linear:\n",
    "    def forward(self,inputs):\n",
    "        self.inputs = inputs\n",
    "        self.output = inputs\n",
    "    def backward(self,dvalues):\n",
    "        self.dinputs = dvalues.copy()\n",
    "    def predictions(self,outputs):\n",
    "        return outputs"
   ]
  },
  {
   "cell_type": "code",
   "execution_count": 24,
   "id": "2b88b5f7-080e-4ac3-8253-8568fde09f31",
   "metadata": {
    "tags": []
   },
   "outputs": [],
   "source": [
    "class MeanSquaredLoss:\n",
    "    def calculate(self, output, y):\n",
    "        sample_losses = self.forward(output, y)\n",
    "\n",
    "        data_loss = np.mean(sample_losses)\n",
    "\n",
    "        return data_loss, self.regularization_loss()\n",
    "    \n",
    "    def regularization_loss(self):\n",
    "        \n",
    "        loss = 0\n",
    "        for layer in self.trainable_layers:\n",
    "            if layer.l1_w > 0:\n",
    "                loss += layer.l1_w * np.sum(np.abs(layer.weights))\n",
    "            if layer.l1_b > 0:\n",
    "                loss += layer.l1_b * np.sum(np.abs(layer.biases))\n",
    "            if layer.l2_w > 0:\n",
    "                loss += layer.l2_w * np.sum(layer.weights * layer.weights)\n",
    "            if layer.l2_b > 0:\n",
    "                loss += layer.l2_b * np.sum(layer.biases * layer.biases)\n",
    "        \n",
    "        return loss\n",
    "    \n",
    "    def remember_trainable_layers(self, trainable_layers):\n",
    "        self.trainable_layers = trainable_layers\n",
    "    \n",
    "    def forward(self,y_pred,y_true):\n",
    "        sample_losses = np.mean((y_pred - y_true) ** 2)\n",
    "        return sample_losses\n",
    "    def backward(self,dvalues,y_true):\n",
    "        samples = len(dvalues)\n",
    "        outputs = len(dvalues[0])\n",
    "        self.dinputs = -2 * (y_true - dvalues) / outputs\n",
    "        self.dinputs /= samples"
   ]
  },
  {
   "cell_type": "code",
   "execution_count": 14,
   "id": "b4c8cdf0-1b44-4494-a9af-ff91bda36941",
   "metadata": {
    "tags": []
   },
   "outputs": [],
   "source": [
    "class Adam_Optimizer:\n",
    "    def __init__(self,lr=0.001,decay_rate=0,epsilon= 1e-7,beta1=0.9,beta2=0.999):\n",
    "        self.initiallr = lr\n",
    "        self.currentlr = lr\n",
    "        self.decay_rate = decay_rate\n",
    "        self.iterations = 0\n",
    "        self.epsilon = epsilon\n",
    "        self.beta1 = beta1\n",
    "        self.beta2 = beta2\n",
    "    \n",
    "    def pre_update(self):\n",
    "        self.currentlr = self.initiallr * (1/(1+(self.decay_rate * self.iterations)))\n",
    "\n",
    "    def update_params(self,layer):\n",
    "        \n",
    "        if not hasattr(layer,'weight_cache'):\n",
    "            layer.weight_cache = np.zeros_like(layer.weights)\n",
    "            layer.bias_cache = np.zeros_like(layer.biases)\n",
    "            layer.weight_momentum = np.zeros_like(layer.weights)\n",
    "            layer.bias_momentum = np.zeros_like(layer.biases)\n",
    "            \n",
    "        layer.weight_momentum = self.beta1 * layer.weight_momentum + (1-self.beta1) * layer.dweights\n",
    "        layer.bias_momentum = self.beta1 * layer.bias_momentum + (1 - self.beta1) * layer.dbiases\n",
    "        \n",
    "        layer.weight_momentum_prime = layer.weight_momentum / (1 - self.beta1 ** (self.iterations + 1))\n",
    "        layer.bias_momentum_prime = layer.bias_momentum / (1 - self.beta1 ** (self.iterations + 1))\n",
    "        \n",
    "        layer.weight_cache = layer.weight_cache * self.beta2 + (1-self.beta2) * (layer.dweights ** 2)\n",
    "        layer.bias_cache = layer.bias_cache * self.beta2 + (1-self.beta2) * (layer.dbiases ** 2)\n",
    "        \n",
    "        layer.weight_cache_prime = layer.weight_cache / (1 - self.beta2 ** (self.iterations + 1))\n",
    "        layer.bias_cache_prime = layer.bias_cache / (1 - self.beta2 ** (self.iterations + 1))\n",
    "\n",
    "        layer.weights += - self.currentlr * layer.weight_momentum_prime  / (np.sqrt(layer.weight_cache_prime) + self.epsilon)\n",
    "        layer.biases += -self.currentlr * layer.bias_momentum_prime / (np.sqrt(layer.bias_cache_prime) + self.epsilon)\n",
    "        \n",
    "    def post_update(self):\n",
    "        self.iterations += 1"
   ]
  },
  {
   "cell_type": "code",
   "execution_count": 15,
   "id": "b719ac35-c904-45ca-a157-9421658d3465",
   "metadata": {
    "tags": []
   },
   "outputs": [],
   "source": [
    "from nnfs.datasets import sine_data\n",
    "import matplotlib.pyplot as plt\n",
    "import time"
   ]
  },
  {
   "cell_type": "code",
   "execution_count": 16,
   "id": "f37b018c-47e1-4621-ba26-e16328593819",
   "metadata": {
    "tags": []
   },
   "outputs": [
    {
     "data": {
      "text/plain": [
       "<matplotlib.collections.PathCollection at 0x19061d1d990>"
      ]
     },
     "execution_count": 16,
     "metadata": {},
     "output_type": "execute_result"
    },
    {
     "data": {
      "image/png": "[encoded data removed]",
      "text/plain": [
       "<Figure size 640x480 with 1 Axes>"
      ]
     },
     "metadata": {},
     "output_type": "display_data"
    }
   ],
   "source": [
    "X,y = sine_data()\n",
    "plt.scatter(X,y)"
   ]
  },
  {
   "cell_type": "code",
   "execution_count": 94,
   "id": "a2680a57-c010-4ceb-903c-1788b97a1ed6",
   "metadata": {
    "tags": []
   },
   "outputs": [
    {
     "name": "stdout",
     "output_type": "stream",
     "text": [
      "Epoch: 0, Loss : 0.499, Accuracy: 0.002\n",
      "Epoch: 1000, Loss : 0.000, Accuracy: 0.887\n",
      "Epoch: 2000, Loss : 0.000, Accuracy: 0.926\n",
      "Epoch: 3000, Loss : 0.000, Accuracy: 0.963\n",
      "Epoch: 4000, Loss : 0.000, Accuracy: 0.960\n",
      "Epoch: 5000, Loss : 0.000, Accuracy: 0.879\n",
      "Epoch: 6000, Loss : 0.000, Accuracy: 0.918\n",
      "Epoch: 7000, Loss : 0.000, Accuracy: 0.295\n",
      "Epoch: 8000, Loss : 0.000, Accuracy: 0.977\n",
      "Epoch: 9000, Loss : 0.000, Accuracy: 0.585\n",
      "Epoch: 10000, Loss : 0.000, Accuracy: 0.976\n"
     ]
    }
   ],
   "source": [
    "layer1 = Dense_Layer(1,64)\n",
    "act_relu1 = Activation_Relu()\n",
    "layer2 = Dense_Layer(64,64)\n",
    "act_relu2 = Activation_Relu()\n",
    "layer3 = Dense_Layer(64,1)\n",
    "act_linear = Activation_Linear()\n",
    "loss_func = MeanSquaredLoss()\n",
    "optimizer = Adam_Optimizer(lr=0.005,decay_rate=1e-3)\n",
    "precision = np.std(y)/250\n",
    "\n",
    "for epoch in range(10001):\n",
    "    layer1.forward(X)\n",
    "    act_relu1.forward(layer1.output)\n",
    "    layer2.forward(act_relu1.output)\n",
    "    act_relu2.forward(layer2.output)\n",
    "    layer3.forward(act_relu2.output)\n",
    "    act_linear.forward(layer3.output)\n",
    "    loss = loss_func.forward(act_linear.output,y)\n",
    "    \n",
    "    y_pred = act_linear.output\n",
    "    accuracy = np.mean(np.absolute(y_pred - y) < precision)\n",
    "    \n",
    "    if epoch % 1000 == 0 :\n",
    "        print(f\"Epoch: {epoch}, Loss : {loss:.3f}, Accuracy: {accuracy:.3f}\")\n",
    "    loss_func.backward(act_linear.output,y)\n",
    "    act_linear.backward(loss_func.dinputs)\n",
    "    layer3.backward(act_linear.dinputs)\n",
    "    act_relu2.backward(layer3.dinputs)\n",
    "    layer2.backward(act_relu2.dinputs)\n",
    "    act_relu1.backward(layer2.dinputs)\n",
    "    layer1.backward(act_relu1.dinputs)\n",
    "    \n",
    "    optimizer.pre_update()\n",
    "    optimizer.update_params(layer1)\n",
    "    optimizer.update_params(layer2)\n",
    "    optimizer.update_params(layer3)\n",
    "    optimizer.post_update()\n"
   ]
  },
  {
   "cell_type": "code",
   "execution_count": 95,
   "id": "77fea336-ff57-467c-852c-1d941dbad32c",
   "metadata": {
    "tags": []
   },
   "outputs": [
    {
     "data": {
      "text/plain": [
       "<matplotlib.collections.PathCollection at 0x215b216c890>"
      ]
     },
     "execution_count": 95,
     "metadata": {},
     "output_type": "execute_result"
    },
    {
     "data": {
      "image/png": "[encoded data removed]",
      "text/plain": [
       "<Figure size 640x480 with 1 Axes>"
      ]
     },
     "metadata": {},
     "output_type": "display_data"
    }
   ],
   "source": [
    "plt.scatter(X,y_pred)"
   ]
  },
  {
   "cell_type": "code",
   "execution_count": 26,
   "id": "2b1803f7-7d9e-41ae-9436-10156cc48d4e",
   "metadata": {
    "tags": []
   },
   "outputs": [],
   "source": [
    "class Model:\n",
    "    def __init__(self):\n",
    "        self.layers = []\n",
    "    \n",
    "    def add(self,layer):\n",
    "        self.layers.append(layer)\n",
    "        \n",
    "    def set(self,*,loss,optimizer,accuracy):\n",
    "        self.loss = loss\n",
    "        self.optimizer = optimizer\n",
    "        self.accuracy = accuracy\n",
    "    \n",
    "    def train(self,X,y,*,epochs,print_every):\n",
    "        self.accuracy.init(y)\n",
    "        for epoch in range(1,epochs+1):\n",
    "            output = self.forward(X)\n",
    "            data_loss,regularization_loss = self.loss.calculate(output,y)\n",
    "            loss = data_loss + regularization_loss\n",
    "            \n",
    "            predictions = self.output_activation.predictions(output)\n",
    "            \n",
    "            accuracy = self.accuracy.calculate(predictions,y)\n",
    "            \n",
    "            self.backward(output,y)\n",
    "            \n",
    "            self.optimizer.pre_update()\n",
    "            for layer in self.trainable_layers:\n",
    "                self.optimizer.update_params(layer)\n",
    "            self.optimizer.post_update\n",
    "            \n",
    "            if not epoch % print_every:\n",
    "                print(f'epoch: {epoch}, ' +\n",
    "                f'acc: {accuracy:.3f}, ' +\n",
    "                f'loss: {loss:.3f} (' +\n",
    "                f'data_loss: {data_loss:.3f}, ' +\n",
    "                f'reg_loss: {regularization_loss:.3f}), ' +\n",
    "                f'lr: {self.optimizer.currentlr}')\n",
    "        \n",
    "    def finalize(self):\n",
    "        self.input_layer = Input_Layer()\n",
    "        self.trainable_layers = []\n",
    "        nlayers = len(self.layers)\n",
    "        \n",
    "        for i in range(nlayers):\n",
    "            if i==0 :\n",
    "                self.layers[i].prev = self.input_layer\n",
    "                self.layers[i].next = self.layers[i+1]\n",
    "            elif i < nlayers - 1:\n",
    "                self.layers[i].prev = self.layers[i-1]\n",
    "                self.layers[i].next = self.layers[i+1]\n",
    "            else:\n",
    "                self.layers[i].prev = self.layers[i-1]\n",
    "                self.layers[i].next = self.loss\n",
    "                self.output_activation = self.layers[i]\n",
    "            \n",
    "            if hasattr(self.layers[i],\"weights\"):\n",
    "                self.trainable_layers.append(self.layers[i])\n",
    "        self.loss.remember_trainable_layers(self.trainable_layers)   \n",
    "            \n",
    "    def forward(self,X):\n",
    "        self.input_layer.forward(X)\n",
    "        for layer in self.layers:\n",
    "            layer.forward(layer.prev.output)\n",
    "        return layer.output\n",
    "    def backward(self,output,y):\n",
    "        self.loss.backward(output,y)\n",
    "        \n",
    "        for layer in reversed(self.layers):\n",
    "            layer.backward(layer.next.dinputs)\n",
    "        \n",
    "    "
   ]
  },
  {
   "cell_type": "code",
   "execution_count": 18,
   "id": "a9f73b38-03be-4a7c-8e56-5a1e2b538b62",
   "metadata": {
    "tags": []
   },
   "outputs": [],
   "source": [
    "class Input_Layer:\n",
    "    def forward(self,inputs):\n",
    "        self.output = inputs"
   ]
  },
  {
   "cell_type": "code",
   "execution_count": 19,
   "id": "7c3fdb2e-9b3d-4a4c-a3cb-0090907637e8",
   "metadata": {
    "tags": []
   },
   "outputs": [],
   "source": [
    "class Accuracy:\n",
    "    def calculate(self,predictions,y):\n",
    "        comparisions = self.compare(predictions,y)\n",
    "        accuracy = np.mean(comparisions)\n",
    "        return accuracy"
   ]
  },
  {
   "cell_type": "code",
   "execution_count": 20,
   "id": "1ed4dc92-40e1-43e7-a90a-e90b7f2eb72c",
   "metadata": {
    "tags": []
   },
   "outputs": [],
   "source": [
    "class Accuracy_Regression(Accuracy):\n",
    "    def __init__(self):\n",
    "        self.precision = None\n",
    "        \n",
    "    def init(self, y, reinit=False):\n",
    "        if self.precision is None or reinit:\n",
    "            self.precision = np.std(y) / 250\n",
    "\n",
    "    def compare(self, predictions, y):\n",
    "        return np.absolute(predictions - y) < self.precision"
   ]
  },
  {
   "cell_type": "code",
   "execution_count": 27,
   "id": "b98ae3f6-fe89-49d2-a03b-a6d49b004662",
   "metadata": {
    "tags": []
   },
   "outputs": [
    {
     "name": "stdout",
     "output_type": "stream",
     "text": [
      "epoch: 1000, acc: 0.687, loss: 0.000 (data_loss: 0.000, reg_loss: 0.000), lr: 0.005\n",
      "epoch: 2000, acc: 0.724, loss: 0.000 (data_loss: 0.000, reg_loss: 0.000), lr: 0.005\n",
      "epoch: 3000, acc: 0.785, loss: 0.000 (data_loss: 0.000, reg_loss: 0.000), lr: 0.005\n",
      "epoch: 4000, acc: 0.123, loss: 0.000 (data_loss: 0.000, reg_loss: 0.000), lr: 0.005\n",
      "epoch: 5000, acc: 0.823, loss: 0.000 (data_loss: 0.000, reg_loss: 0.000), lr: 0.005\n",
      "epoch: 6000, acc: 0.824, loss: 0.000 (data_loss: 0.000, reg_loss: 0.000), lr: 0.005\n",
      "epoch: 7000, acc: 0.119, loss: 0.000 (data_loss: 0.000, reg_loss: 0.000), lr: 0.005\n",
      "epoch: 8000, acc: 0.681, loss: 0.000 (data_loss: 0.000, reg_loss: 0.000), lr: 0.005\n",
      "epoch: 9000, acc: 0.843, loss: 0.000 (data_loss: 0.000, reg_loss: 0.000), lr: 0.005\n",
      "epoch: 10000, acc: 0.835, loss: 0.000 (data_loss: 0.000, reg_loss: 0.000), lr: 0.005\n"
     ]
    }
   ],
   "source": [
    "model = Model()\n",
    "model.add(Dense_Layer(1,64))\n",
    "model.add(Activation_Relu())\n",
    "model.add(Dense_Layer(64,64))\n",
    "model.add(Activation_Relu())\n",
    "model.add(Dense_Layer(64,1))\n",
    "model.add(Activation_Linear())\n",
    "\n",
    "model.set(accuracy=Accuracy_Regression(),loss=MeanSquaredLoss(),optimizer=Adam_Optimizer(lr=0.005,decay_rate=1e-3))\n",
    "\n",
    "model.finalize()\n",
    "\n",
    "model.train(X,y,epochs=10001,print_every=1000)"
   ]
  }
 ],
 "metadata": {
  "kernelspec": {
   "display_name": "Python 3 (ipykernel)",
   "language": "python",
   "name": "python3"
  },
  "language_info": {
   "codemirror_mode": {
    "name": "ipython",
    "version": 3
   },
   "file_extension": ".py",
   "mimetype": "text/x-python",
   "name": "python",
   "nbconvert_exporter": "python",
   "pygments_lexer": "ipython3",
   "version": "3.11.3"
  }
 },
 "nbformat": 4,
 "nbformat_minor": 5
}

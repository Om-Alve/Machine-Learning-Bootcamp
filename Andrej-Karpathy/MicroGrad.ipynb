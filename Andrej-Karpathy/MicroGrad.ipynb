{
 "cells": [
  {
   "cell_type": "code",
   "execution_count": 79,
   "id": "2c349402-8586-4d52-9b96-bc35c67d92f1",
   "metadata": {
    "tags": []
   },
   "outputs": [],
   "source": [
    "import numpy as np\n",
    "import matplotlib as plt\n",
    "import math"
   ]
  },
  {
   "cell_type": "code",
   "execution_count": 112,
   "id": "bb364133-ed93-48bd-ab46-456426b9fcbf",
   "metadata": {
    "tags": []
   },
   "outputs": [],
   "source": [
    "class Value:\n",
    "    def __init__(self, data, _children=(), _op='', label=''):\n",
    "        self.data = data\n",
    "        self.grad = 0.0\n",
    "        self._prev = set(_children)\n",
    "        self._op = _op\n",
    "        self.label = label\n",
    "        self._backward = lambda : None\n",
    "\n",
    "    def __repr__(self):\n",
    "        return f\"Value(data={self.data})\"\n",
    "  \n",
    "    def __add__(self, other):\n",
    "        out = Value(self.data + other.data, (self, other), '+')\n",
    "        def _backward():\n",
    "            self.grad += 1.0 * out.grad\n",
    "            other.grad += 1.0 * out.grad\n",
    "        out._backward = _backward\n",
    "        return out\n",
    "\n",
    "    def __mul__(self, other):\n",
    "        out = Value(self.data * other.data, (self, other), '*')\n",
    "        def _backward():\n",
    "            self.grad += other.data * out.grad\n",
    "            other.grad += self.data * out.grad\n",
    "        out._backward = _backward\n",
    "        return out\n",
    "    def tanh(self):\n",
    "        x = self.data\n",
    "        t = (math.exp(2*x) - 1) / (math.exp(2*x) + 1)\n",
    "        out = Value(data=t,_children=(self,),_op='tanh')\n",
    "        def _backward():\n",
    "            self.grad += (1 - out.data ** 2) * out.grad \n",
    "        out._backward = _backward\n",
    "        return out\n",
    "  "
   ]
  },
  {
   "cell_type": "code",
   "execution_count": 81,
   "id": "c019e85c-5d01-4dd3-aa4d-077a764dc024",
   "metadata": {
    "tags": []
   },
   "outputs": [
    {
     "data": {
      "text/plain": [
       "Value(data=3)"
      ]
     },
     "execution_count": 81,
     "metadata": {},
     "output_type": "execute_result"
    }
   ],
   "source": [
    "a = Value(3)\n",
    "a"
   ]
  },
  {
   "cell_type": "code",
   "execution_count": 82,
   "id": "8d068662-63f6-44b6-b7ed-a4d2c73071db",
   "metadata": {
    "tags": []
   },
   "outputs": [],
   "source": [
    "b = Value(2)"
   ]
  },
  {
   "cell_type": "code",
   "execution_count": 83,
   "id": "64a09c03-773f-4b38-878b-46d14e90d461",
   "metadata": {
    "tags": []
   },
   "outputs": [
    {
     "data": {
      "text/plain": [
       "Value(data=5)"
      ]
     },
     "execution_count": 83,
     "metadata": {},
     "output_type": "execute_result"
    }
   ],
   "source": [
    "a+b"
   ]
  },
  {
   "cell_type": "code",
   "execution_count": 84,
   "id": "4453546c-77a6-4b01-94f0-85d966784f04",
   "metadata": {
    "tags": []
   },
   "outputs": [],
   "source": [
    "d = a*b\n",
    "d.label ='d'\n",
    "a.label= 'a'\n",
    "b.label = 'b'"
   ]
  },
  {
   "cell_type": "code",
   "execution_count": 85,
   "id": "41aab060-360d-41ad-b96c-8b066432033f",
   "metadata": {
    "tags": []
   },
   "outputs": [
    {
     "data": {
      "text/plain": [
       "Value(data=8)"
      ]
     },
     "execution_count": 85,
     "metadata": {},
     "output_type": "execute_result"
    }
   ],
   "source": [
    "c=Value(2)\n",
    "a*b+c"
   ]
  },
  {
   "cell_type": "code",
   "execution_count": 86,
   "id": "7fd23c77-b9a9-466c-8525-b9f2f02308bf",
   "metadata": {
    "tags": []
   },
   "outputs": [
    {
     "data": {
      "text/plain": [
       "({Value(data=2), Value(data=3)}, '*')"
      ]
     },
     "execution_count": 86,
     "metadata": {},
     "output_type": "execute_result"
    }
   ],
   "source": [
    "d._prev,d._op"
   ]
  },
  {
   "cell_type": "code",
   "execution_count": 87,
   "id": "e67309cc-89b6-4a02-8f2b-7b9b1edaad25",
   "metadata": {
    "tags": []
   },
   "outputs": [
    {
     "name": "stdout",
     "output_type": "stream",
     "text": [
      "4.0\n"
     ]
    }
   ],
   "source": [
    "a = 2.0\n",
    "b = -3.0\n",
    "c = 10.0\n",
    "d = a*b + c\n",
    "print(d)"
   ]
  },
  {
   "cell_type": "code",
   "execution_count": 88,
   "id": "fa653473-2e40-47b9-8130-41260fb6544a",
   "metadata": {
    "tags": []
   },
   "outputs": [
    {
     "name": "stdout",
     "output_type": "stream",
     "text": [
      "d1 4.0\n",
      "d2 4.0001\n",
      "slope 0.9999999999976694\n"
     ]
    }
   ],
   "source": [
    "h = 0.0001\n",
    "\n",
    "# inputs\n",
    "a = 2.0\n",
    "b = -3.0\n",
    "c = 10.0\n",
    "\n",
    "d1 = a*b + c\n",
    "c += h\n",
    "d2 = a*b + c\n",
    "\n",
    "print('d1', d1)\n",
    "print('d2', d2)\n",
    "print('slope', (d2 - d1)/h)\n"
   ]
  },
  {
   "cell_type": "code",
   "execution_count": 89,
   "id": "a79872de-396d-42ac-bab1-e2b1f8dcbba9",
   "metadata": {
    "tags": []
   },
   "outputs": [
    {
     "data": {
      "text/plain": [
       "({Value(data=13), Value(data=2), Value(data=4), Value(data=6), Value(data=7)},\n",
       " {(Value(data=2), Value(data=6)),\n",
       "  (Value(data=4), Value(data=6)),\n",
       "  (Value(data=6), Value(data=13)),\n",
       "  (Value(data=7), Value(data=13))})"
      ]
     },
     "execution_count": 89,
     "metadata": {},
     "output_type": "execute_result"
    }
   ],
   "source": [
    "a = Value(2);a.label = 'a'\n",
    "b = Value(4);b.label = 'b'\n",
    "x = a + b;x.label='x'\n",
    "y = Value(7);y.label = 'y'\n",
    "z = x+y;z.label='z'\n",
    "build_graph(z)"
   ]
  },
  {
   "cell_type": "code",
   "execution_count": 90,
   "id": "61a86e86-1059-4bc3-a314-716bebc21ec5",
   "metadata": {
    "tags": []
   },
   "outputs": [
    {
     "data": {
      "image/svg+xml": [
       "<?xml version=\"1.0\" encoding=\"UTF-8\" standalone=\"no\"?>\n",
       "<!DOCTYPE svg PUBLIC \"-//W3C//DTD SVG 1.1//EN\"\n",
       " \"http://www.w3.org/Graphics/SVG/1.1/DTD/svg11.dtd\">\n",
       "<!-- Generated by graphviz version 2.50.0 (0)\n",
       " -->\n",
       "<!-- Pages: 1 -->\n",
       "<svg width=\"511pt\" height=\"210pt\"\n",
       " viewBox=\"0.00 0.00 511.00 210.00\" xmlns=\"http://www.w3.org/2000/svg\" xmlns:xlink=\"http://www.w3.org/1999/xlink\">\n",
       "<g id=\"graph0\" class=\"graph\" transform=\"scale(1 1) rotate(0) translate(4 206)\">\n",
       "<polygon fill=\"white\" stroke=\"transparent\" points=\"-4,4 -4,-206 507,-206 507,4 -4,4\"/>\n",
       "<!-- 2527968959568 -->\n",
       "<g id=\"node1\" class=\"node\">\n",
       "<title>2527968959568</title>\n",
       "<polygon fill=\"none\" stroke=\"black\" points=\"416,-44.5 416,-113.5 503,-113.5 503,-44.5 416,-44.5\"/>\n",
       "<text text-anchor=\"middle\" x=\"459.5\" y=\"-98.3\" font-family=\"Times New Roman,serif\" font-size=\"14.00\">z</text>\n",
       "<polyline fill=\"none\" stroke=\"black\" points=\"416,-90.5 503,-90.5 \"/>\n",
       "<text text-anchor=\"middle\" x=\"459.5\" y=\"-75.3\" font-family=\"Times New Roman,serif\" font-size=\"14.00\">data 13.0000</text>\n",
       "<polyline fill=\"none\" stroke=\"black\" points=\"416,-67.5 503,-67.5 \"/>\n",
       "<text text-anchor=\"middle\" x=\"459.5\" y=\"-52.3\" font-family=\"Times New Roman,serif\" font-size=\"14.00\">grad 0.0000</text>\n",
       "</g>\n",
       "<!-- 2527968959568+ -->\n",
       "<g id=\"node2\" class=\"node\">\n",
       "<title>2527968959568+</title>\n",
       "<ellipse fill=\"none\" stroke=\"black\" cx=\"353\" cy=\"-79\" rx=\"27\" ry=\"18\"/>\n",
       "<text text-anchor=\"middle\" x=\"353\" y=\"-75.3\" font-family=\"Times New Roman,serif\" font-size=\"14.00\">+</text>\n",
       "</g>\n",
       "<!-- 2527968959568+&#45;&gt;2527968959568 -->\n",
       "<g id=\"edge1\" class=\"edge\">\n",
       "<title>2527968959568+&#45;&gt;2527968959568</title>\n",
       "<path fill=\"none\" stroke=\"black\" d=\"M380.1,-79C387.83,-79 396.6,-79 405.4,-79\"/>\n",
       "<polygon fill=\"black\" stroke=\"black\" points=\"405.68,-82.5 415.68,-79 405.68,-75.5 405.68,-82.5\"/>\n",
       "</g>\n",
       "<!-- 2527967528656 -->\n",
       "<g id=\"node3\" class=\"node\">\n",
       "<title>2527967528656</title>\n",
       "<polygon fill=\"none\" stroke=\"black\" points=\"0,-132.5 0,-201.5 82,-201.5 82,-132.5 0,-132.5\"/>\n",
       "<text text-anchor=\"middle\" x=\"41\" y=\"-186.3\" font-family=\"Times New Roman,serif\" font-size=\"14.00\">b</text>\n",
       "<polyline fill=\"none\" stroke=\"black\" points=\"0,-178.5 82,-178.5 \"/>\n",
       "<text text-anchor=\"middle\" x=\"41\" y=\"-163.3\" font-family=\"Times New Roman,serif\" font-size=\"14.00\">data 4.0000</text>\n",
       "<polyline fill=\"none\" stroke=\"black\" points=\"0,-155.5 82,-155.5 \"/>\n",
       "<text text-anchor=\"middle\" x=\"41\" y=\"-140.3\" font-family=\"Times New Roman,serif\" font-size=\"14.00\">grad 0.0000</text>\n",
       "</g>\n",
       "<!-- 2529715340112+ -->\n",
       "<g id=\"node5\" class=\"node\">\n",
       "<title>2529715340112+</title>\n",
       "<ellipse fill=\"none\" stroke=\"black\" cx=\"145\" cy=\"-123\" rx=\"27\" ry=\"18\"/>\n",
       "<text text-anchor=\"middle\" x=\"145\" y=\"-119.3\" font-family=\"Times New Roman,serif\" font-size=\"14.00\">+</text>\n",
       "</g>\n",
       "<!-- 2527967528656&#45;&gt;2529715340112+ -->\n",
       "<g id=\"edge6\" class=\"edge\">\n",
       "<title>2527967528656&#45;&gt;2529715340112+</title>\n",
       "<path fill=\"none\" stroke=\"black\" d=\"M82.02,-149.74C92.23,-145.33 103.06,-140.66 112.77,-136.47\"/>\n",
       "<polygon fill=\"black\" stroke=\"black\" points=\"114.23,-139.65 122.03,-132.48 111.46,-133.23 114.23,-139.65\"/>\n",
       "</g>\n",
       "<!-- 2529715340112 -->\n",
       "<g id=\"node4\" class=\"node\">\n",
       "<title>2529715340112</title>\n",
       "<polygon fill=\"none\" stroke=\"black\" points=\"208,-88.5 208,-157.5 290,-157.5 290,-88.5 208,-88.5\"/>\n",
       "<text text-anchor=\"middle\" x=\"249\" y=\"-142.3\" font-family=\"Times New Roman,serif\" font-size=\"14.00\">x</text>\n",
       "<polyline fill=\"none\" stroke=\"black\" points=\"208,-134.5 290,-134.5 \"/>\n",
       "<text text-anchor=\"middle\" x=\"249\" y=\"-119.3\" font-family=\"Times New Roman,serif\" font-size=\"14.00\">data 6.0000</text>\n",
       "<polyline fill=\"none\" stroke=\"black\" points=\"208,-111.5 290,-111.5 \"/>\n",
       "<text text-anchor=\"middle\" x=\"249\" y=\"-96.3\" font-family=\"Times New Roman,serif\" font-size=\"14.00\">grad 0.0000</text>\n",
       "</g>\n",
       "<!-- 2529715340112&#45;&gt;2527968959568+ -->\n",
       "<g id=\"edge5\" class=\"edge\">\n",
       "<title>2529715340112&#45;&gt;2527968959568+</title>\n",
       "<path fill=\"none\" stroke=\"black\" d=\"M290.02,-105.74C300.23,-101.33 311.06,-96.66 320.77,-92.47\"/>\n",
       "<polygon fill=\"black\" stroke=\"black\" points=\"322.23,-95.65 330.03,-88.48 319.46,-89.23 322.23,-95.65\"/>\n",
       "</g>\n",
       "<!-- 2529715340112+&#45;&gt;2529715340112 -->\n",
       "<g id=\"edge2\" class=\"edge\">\n",
       "<title>2529715340112+&#45;&gt;2529715340112</title>\n",
       "<path fill=\"none\" stroke=\"black\" d=\"M172,-123C179.81,-123 188.65,-123 197.48,-123\"/>\n",
       "<polygon fill=\"black\" stroke=\"black\" points=\"197.76,-126.5 207.76,-123 197.76,-119.5 197.76,-126.5\"/>\n",
       "</g>\n",
       "<!-- 2527968969552 -->\n",
       "<g id=\"node6\" class=\"node\">\n",
       "<title>2527968969552</title>\n",
       "<polygon fill=\"none\" stroke=\"black\" points=\"208,-0.5 208,-69.5 290,-69.5 290,-0.5 208,-0.5\"/>\n",
       "<text text-anchor=\"middle\" x=\"249\" y=\"-54.3\" font-family=\"Times New Roman,serif\" font-size=\"14.00\">y</text>\n",
       "<polyline fill=\"none\" stroke=\"black\" points=\"208,-46.5 290,-46.5 \"/>\n",
       "<text text-anchor=\"middle\" x=\"249\" y=\"-31.3\" font-family=\"Times New Roman,serif\" font-size=\"14.00\">data 7.0000</text>\n",
       "<polyline fill=\"none\" stroke=\"black\" points=\"208,-23.5 290,-23.5 \"/>\n",
       "<text text-anchor=\"middle\" x=\"249\" y=\"-8.3\" font-family=\"Times New Roman,serif\" font-size=\"14.00\">grad 0.0000</text>\n",
       "</g>\n",
       "<!-- 2527968969552&#45;&gt;2527968959568+ -->\n",
       "<g id=\"edge4\" class=\"edge\">\n",
       "<title>2527968969552&#45;&gt;2527968959568+</title>\n",
       "<path fill=\"none\" stroke=\"black\" d=\"M290.02,-52.26C300.23,-56.67 311.06,-61.34 320.77,-65.53\"/>\n",
       "<polygon fill=\"black\" stroke=\"black\" points=\"319.46,-68.77 330.03,-69.52 322.23,-62.35 319.46,-68.77\"/>\n",
       "</g>\n",
       "<!-- 2527969006928 -->\n",
       "<g id=\"node7\" class=\"node\">\n",
       "<title>2527969006928</title>\n",
       "<polygon fill=\"none\" stroke=\"black\" points=\"0,-44.5 0,-113.5 82,-113.5 82,-44.5 0,-44.5\"/>\n",
       "<text text-anchor=\"middle\" x=\"41\" y=\"-98.3\" font-family=\"Times New Roman,serif\" font-size=\"14.00\">a</text>\n",
       "<polyline fill=\"none\" stroke=\"black\" points=\"0,-90.5 82,-90.5 \"/>\n",
       "<text text-anchor=\"middle\" x=\"41\" y=\"-75.3\" font-family=\"Times New Roman,serif\" font-size=\"14.00\">data 2.0000</text>\n",
       "<polyline fill=\"none\" stroke=\"black\" points=\"0,-67.5 82,-67.5 \"/>\n",
       "<text text-anchor=\"middle\" x=\"41\" y=\"-52.3\" font-family=\"Times New Roman,serif\" font-size=\"14.00\">grad 0.0000</text>\n",
       "</g>\n",
       "<!-- 2527969006928&#45;&gt;2529715340112+ -->\n",
       "<g id=\"edge3\" class=\"edge\">\n",
       "<title>2527969006928&#45;&gt;2529715340112+</title>\n",
       "<path fill=\"none\" stroke=\"black\" d=\"M82.02,-96.26C92.23,-100.67 103.06,-105.34 112.77,-109.53\"/>\n",
       "<polygon fill=\"black\" stroke=\"black\" points=\"111.46,-112.77 122.03,-113.52 114.23,-106.35 111.46,-112.77\"/>\n",
       "</g>\n",
       "</g>\n",
       "</svg>\n"
      ],
      "text/plain": [
       "<graphviz.graphs.Digraph at 0x24c969caf50>"
      ]
     },
     "execution_count": 90,
     "metadata": {},
     "output_type": "execute_result"
    }
   ],
   "source": [
    "def build_graph(root):\n",
    "    nodes,edges = set(),set()\n",
    "    def build(root):\n",
    "        if root not in nodes:\n",
    "            nodes.add(root)\n",
    "            for child in root._prev:\n",
    "                edges.add((child,root))\n",
    "                build(child)\n",
    "    build(root)\n",
    "    return nodes,edges\n",
    "\n",
    "def draw_graph(root):\n",
    "    graph = Digraph(format='svg',graph_attr={'rankdir':'LR'})\n",
    "    nodes,edges = build_graph(root)\n",
    "    for n in nodes:\n",
    "        uid = str(id(n))\n",
    "        graph.node(name=uid,label=\"%s | data %.4f | grad %.4f\"%(n.label,n.data,n.grad),shape='record')\n",
    "        if n._op:\n",
    "            opid = uid + n._op\n",
    "            graph.node(name=opid,label=n._op)\n",
    "            graph.edge(opid,uid)\n",
    "    for n1,n2 in edges:\n",
    "        graph.edge(str(id(n1)),str(id(n2))+n2._op)\n",
    "    return graph\n",
    "draw_graph(z)"
   ]
  },
  {
   "cell_type": "code",
   "execution_count": 113,
   "id": "cf98374c-e75f-45bf-82f6-d5c4d4ecd323",
   "metadata": {
    "tags": []
   },
   "outputs": [],
   "source": [
    "# inputs x1,x2\n",
    "x1 = Value(2.0, label='x1')\n",
    "x2 = Value(0.0, label='x2')\n",
    "# weights w1,w2\n",
    "w1 = Value(-3.0, label='w1')\n",
    "w2 = Value(1.0, label='w2')\n",
    "# bias of the neuron\n",
    "b = Value(6.8813735870195432, label='b')\n",
    "# x1*w1 + x2*w2 + b\n",
    "x1w1 = x1*w1; x1w1.label = 'x1*w1'\n",
    "x2w2 = x2*w2; x2w2.label = 'x2*w2'\n",
    "x1w1x2w2 = x1w1 + x2w2; x1w1x2w2.label = 'x1*w1 + x2*w2'\n",
    "n = x1w1x2w2 + b; n.label = 'n'\n",
    "o = n.tanh(); o.label = 'o'"
   ]
  },
  {
   "cell_type": "code",
   "execution_count": 125,
   "id": "4eb09e56-8a98-4ec1-a1a3-733fcb942670",
   "metadata": {
    "tags": []
   },
   "outputs": [
    {
     "data": {
      "image/svg+xml": [
       "<?xml version=\"1.0\" encoding=\"UTF-8\" standalone=\"no\"?>\n",
       "<!DOCTYPE svg PUBLIC \"-//W3C//DTD SVG 1.1//EN\"\n",
       " \"http://www.w3.org/Graphics/SVG/1.1/DTD/svg11.dtd\">\n",
       "<!-- Generated by graphviz version 2.50.0 (0)\n",
       " -->\n",
       "<!-- Pages: 1 -->\n",
       "<svg width=\"953pt\" height=\"342pt\"\n",
       " viewBox=\"0.00 0.00 953.00 342.00\" xmlns=\"http://www.w3.org/2000/svg\" xmlns:xlink=\"http://www.w3.org/1999/xlink\">\n",
       "<g id=\"graph0\" class=\"graph\" transform=\"scale(1 1) rotate(0) translate(4 338)\">\n",
       "<polygon fill=\"white\" stroke=\"transparent\" points=\"-4,4 -4,-338 949,-338 949,4 -4,4\"/>\n",
       "<!-- 2527968364048 -->\n",
       "<g id=\"node1\" class=\"node\">\n",
       "<title>2527968364048</title>\n",
       "<polygon fill=\"none\" stroke=\"black\" points=\"213.5,-88.5 213.5,-157.5 295.5,-157.5 295.5,-88.5 213.5,-88.5\"/>\n",
       "<text text-anchor=\"middle\" x=\"254.5\" y=\"-142.3\" font-family=\"Times New Roman,serif\" font-size=\"14.00\">x2*w2</text>\n",
       "<polyline fill=\"none\" stroke=\"black\" points=\"213.5,-134.5 295.5,-134.5 \"/>\n",
       "<text text-anchor=\"middle\" x=\"254.5\" y=\"-119.3\" font-family=\"Times New Roman,serif\" font-size=\"14.00\">data 0.0000</text>\n",
       "<polyline fill=\"none\" stroke=\"black\" points=\"213.5,-111.5 295.5,-111.5 \"/>\n",
       "<text text-anchor=\"middle\" x=\"254.5\" y=\"-96.3\" font-family=\"Times New Roman,serif\" font-size=\"14.00\">grad 0.5000</text>\n",
       "</g>\n",
       "<!-- 2527968366416+ -->\n",
       "<g id=\"node13\" class=\"node\">\n",
       "<title>2527968366416+</title>\n",
       "<ellipse fill=\"none\" stroke=\"black\" cx=\"360\" cy=\"-167\" rx=\"27\" ry=\"18\"/>\n",
       "<text text-anchor=\"middle\" x=\"360\" y=\"-163.3\" font-family=\"Times New Roman,serif\" font-size=\"14.00\">+</text>\n",
       "</g>\n",
       "<!-- 2527968364048&#45;&gt;2527968366416+ -->\n",
       "<g id=\"edge13\" class=\"edge\">\n",
       "<title>2527968364048&#45;&gt;2527968366416+</title>\n",
       "<path fill=\"none\" stroke=\"black\" d=\"M295.52,-140.01C306.12,-144.52 317.42,-149.32 327.5,-153.61\"/>\n",
       "<polygon fill=\"black\" stroke=\"black\" points=\"326.16,-156.84 336.73,-157.53 328.9,-150.4 326.16,-156.84\"/>\n",
       "</g>\n",
       "<!-- 2527968364048* -->\n",
       "<g id=\"node2\" class=\"node\">\n",
       "<title>2527968364048*</title>\n",
       "<ellipse fill=\"none\" stroke=\"black\" cx=\"149\" cy=\"-123\" rx=\"27\" ry=\"18\"/>\n",
       "<text text-anchor=\"middle\" x=\"149\" y=\"-119.3\" font-family=\"Times New Roman,serif\" font-size=\"14.00\">*</text>\n",
       "</g>\n",
       "<!-- 2527968364048*&#45;&gt;2527968364048 -->\n",
       "<g id=\"edge1\" class=\"edge\">\n",
       "<title>2527968364048*&#45;&gt;2527968364048</title>\n",
       "<path fill=\"none\" stroke=\"black\" d=\"M176.12,-123C184.39,-123 193.82,-123 203.19,-123\"/>\n",
       "<polygon fill=\"black\" stroke=\"black\" points=\"203.28,-126.5 213.28,-123 203.28,-119.5 203.28,-126.5\"/>\n",
       "</g>\n",
       "<!-- 2527968371792 -->\n",
       "<g id=\"node3\" class=\"node\">\n",
       "<title>2527968371792</title>\n",
       "<polygon fill=\"none\" stroke=\"black\" points=\"212,-176.5 212,-245.5 297,-245.5 297,-176.5 212,-176.5\"/>\n",
       "<text text-anchor=\"middle\" x=\"254.5\" y=\"-230.3\" font-family=\"Times New Roman,serif\" font-size=\"14.00\">x1*w1</text>\n",
       "<polyline fill=\"none\" stroke=\"black\" points=\"212,-222.5 297,-222.5 \"/>\n",
       "<text text-anchor=\"middle\" x=\"254.5\" y=\"-207.3\" font-family=\"Times New Roman,serif\" font-size=\"14.00\">data &#45;6.0000</text>\n",
       "<polyline fill=\"none\" stroke=\"black\" points=\"212,-199.5 297,-199.5 \"/>\n",
       "<text text-anchor=\"middle\" x=\"254.5\" y=\"-184.3\" font-family=\"Times New Roman,serif\" font-size=\"14.00\">grad 0.5000</text>\n",
       "</g>\n",
       "<!-- 2527968371792&#45;&gt;2527968366416+ -->\n",
       "<g id=\"edge7\" class=\"edge\">\n",
       "<title>2527968371792&#45;&gt;2527968366416+</title>\n",
       "<path fill=\"none\" stroke=\"black\" d=\"M297,-193.36C307.21,-189.02 317.97,-184.44 327.61,-180.34\"/>\n",
       "<polygon fill=\"black\" stroke=\"black\" points=\"328.98,-183.56 336.81,-176.43 326.24,-177.12 328.98,-183.56\"/>\n",
       "</g>\n",
       "<!-- 2527968371792* -->\n",
       "<g id=\"node4\" class=\"node\">\n",
       "<title>2527968371792*</title>\n",
       "<ellipse fill=\"none\" stroke=\"black\" cx=\"149\" cy=\"-211\" rx=\"27\" ry=\"18\"/>\n",
       "<text text-anchor=\"middle\" x=\"149\" y=\"-207.3\" font-family=\"Times New Roman,serif\" font-size=\"14.00\">*</text>\n",
       "</g>\n",
       "<!-- 2527968371792*&#45;&gt;2527968371792 -->\n",
       "<g id=\"edge2\" class=\"edge\">\n",
       "<title>2527968371792*&#45;&gt;2527968371792</title>\n",
       "<path fill=\"none\" stroke=\"black\" d=\"M176.12,-211C183.87,-211 192.64,-211 201.42,-211\"/>\n",
       "<polygon fill=\"black\" stroke=\"black\" points=\"201.68,-214.5 211.68,-211 201.68,-207.5 201.68,-214.5\"/>\n",
       "</g>\n",
       "<!-- 2527968041104 -->\n",
       "<g id=\"node5\" class=\"node\">\n",
       "<title>2527968041104</title>\n",
       "<polygon fill=\"none\" stroke=\"black\" points=\"0,-264.5 0,-333.5 86,-333.5 86,-264.5 0,-264.5\"/>\n",
       "<text text-anchor=\"middle\" x=\"43\" y=\"-318.3\" font-family=\"Times New Roman,serif\" font-size=\"14.00\">x1</text>\n",
       "<polyline fill=\"none\" stroke=\"black\" points=\"0,-310.5 86,-310.5 \"/>\n",
       "<text text-anchor=\"middle\" x=\"43\" y=\"-295.3\" font-family=\"Times New Roman,serif\" font-size=\"14.00\">data 2.0000</text>\n",
       "<polyline fill=\"none\" stroke=\"black\" points=\"0,-287.5 86,-287.5 \"/>\n",
       "<text text-anchor=\"middle\" x=\"43\" y=\"-272.3\" font-family=\"Times New Roman,serif\" font-size=\"14.00\">grad &#45;1.5000</text>\n",
       "</g>\n",
       "<!-- 2527968041104&#45;&gt;2527968371792* -->\n",
       "<g id=\"edge6\" class=\"edge\">\n",
       "<title>2527968041104&#45;&gt;2527968371792*</title>\n",
       "<path fill=\"none\" stroke=\"black\" d=\"M84.81,-264.47C97.9,-253.39 111.99,-241.47 123.54,-231.7\"/>\n",
       "<polygon fill=\"black\" stroke=\"black\" points=\"126.07,-234.14 131.44,-225.01 121.55,-228.8 126.07,-234.14\"/>\n",
       "</g>\n",
       "<!-- 2527968038608 -->\n",
       "<g id=\"node6\" class=\"node\">\n",
       "<title>2527968038608</title>\n",
       "<polygon fill=\"none\" stroke=\"black\" points=\"2,-88.5 2,-157.5 84,-157.5 84,-88.5 2,-88.5\"/>\n",
       "<text text-anchor=\"middle\" x=\"43\" y=\"-142.3\" font-family=\"Times New Roman,serif\" font-size=\"14.00\">w2</text>\n",
       "<polyline fill=\"none\" stroke=\"black\" points=\"2,-134.5 84,-134.5 \"/>\n",
       "<text text-anchor=\"middle\" x=\"43\" y=\"-119.3\" font-family=\"Times New Roman,serif\" font-size=\"14.00\">data 1.0000</text>\n",
       "<polyline fill=\"none\" stroke=\"black\" points=\"2,-111.5 84,-111.5 \"/>\n",
       "<text text-anchor=\"middle\" x=\"43\" y=\"-96.3\" font-family=\"Times New Roman,serif\" font-size=\"14.00\">grad 0.0000</text>\n",
       "</g>\n",
       "<!-- 2527968038608&#45;&gt;2527968364048* -->\n",
       "<g id=\"edge14\" class=\"edge\">\n",
       "<title>2527968038608&#45;&gt;2527968364048*</title>\n",
       "<path fill=\"none\" stroke=\"black\" d=\"M84.21,-123C93.25,-123 102.79,-123 111.66,-123\"/>\n",
       "<polygon fill=\"black\" stroke=\"black\" points=\"111.69,-126.5 121.69,-123 111.69,-119.5 111.69,-126.5\"/>\n",
       "</g>\n",
       "<!-- 2527968050896 -->\n",
       "<g id=\"node7\" class=\"node\">\n",
       "<title>2527968050896</title>\n",
       "<polygon fill=\"none\" stroke=\"black\" points=\"0.5,-176.5 0.5,-245.5 85.5,-245.5 85.5,-176.5 0.5,-176.5\"/>\n",
       "<text text-anchor=\"middle\" x=\"43\" y=\"-230.3\" font-family=\"Times New Roman,serif\" font-size=\"14.00\">w1</text>\n",
       "<polyline fill=\"none\" stroke=\"black\" points=\"0.5,-222.5 85.5,-222.5 \"/>\n",
       "<text text-anchor=\"middle\" x=\"43\" y=\"-207.3\" font-family=\"Times New Roman,serif\" font-size=\"14.00\">data &#45;3.0000</text>\n",
       "<polyline fill=\"none\" stroke=\"black\" points=\"0.5,-199.5 85.5,-199.5 \"/>\n",
       "<text text-anchor=\"middle\" x=\"43\" y=\"-184.3\" font-family=\"Times New Roman,serif\" font-size=\"14.00\">grad 1.0000</text>\n",
       "</g>\n",
       "<!-- 2527968050896&#45;&gt;2527968371792* -->\n",
       "<g id=\"edge11\" class=\"edge\">\n",
       "<title>2527968050896&#45;&gt;2527968371792*</title>\n",
       "<path fill=\"none\" stroke=\"black\" d=\"M85.7,-211C94.28,-211 103.26,-211 111.63,-211\"/>\n",
       "<polygon fill=\"black\" stroke=\"black\" points=\"111.85,-214.5 121.85,-211 111.85,-207.5 111.85,-214.5\"/>\n",
       "</g>\n",
       "<!-- 2527968036112 -->\n",
       "<g id=\"node8\" class=\"node\">\n",
       "<title>2527968036112</title>\n",
       "<polygon fill=\"none\" stroke=\"black\" points=\"435,-220.5 435,-289.5 517,-289.5 517,-220.5 435,-220.5\"/>\n",
       "<text text-anchor=\"middle\" x=\"476\" y=\"-274.3\" font-family=\"Times New Roman,serif\" font-size=\"14.00\">b</text>\n",
       "<polyline fill=\"none\" stroke=\"black\" points=\"435,-266.5 517,-266.5 \"/>\n",
       "<text text-anchor=\"middle\" x=\"476\" y=\"-251.3\" font-family=\"Times New Roman,serif\" font-size=\"14.00\">data 6.8814</text>\n",
       "<polyline fill=\"none\" stroke=\"black\" points=\"435,-243.5 517,-243.5 \"/>\n",
       "<text text-anchor=\"middle\" x=\"476\" y=\"-228.3\" font-family=\"Times New Roman,serif\" font-size=\"14.00\">grad 0.5000</text>\n",
       "</g>\n",
       "<!-- 2527968374608+ -->\n",
       "<g id=\"node11\" class=\"node\">\n",
       "<title>2527968374608+</title>\n",
       "<ellipse fill=\"none\" stroke=\"black\" cx=\"592\" cy=\"-211\" rx=\"27\" ry=\"18\"/>\n",
       "<text text-anchor=\"middle\" x=\"592\" y=\"-207.3\" font-family=\"Times New Roman,serif\" font-size=\"14.00\">+</text>\n",
       "</g>\n",
       "<!-- 2527968036112&#45;&gt;2527968374608+ -->\n",
       "<g id=\"edge9\" class=\"edge\">\n",
       "<title>2527968036112&#45;&gt;2527968374608+</title>\n",
       "<path fill=\"none\" stroke=\"black\" d=\"M517.19,-239.49C530.78,-234.24 545.77,-228.46 558.67,-223.48\"/>\n",
       "<polygon fill=\"black\" stroke=\"black\" points=\"560,-226.72 568.07,-219.85 557.48,-220.19 560,-226.72\"/>\n",
       "</g>\n",
       "<!-- 2527970670864 -->\n",
       "<g id=\"node9\" class=\"node\">\n",
       "<title>2527970670864</title>\n",
       "<polygon fill=\"none\" stroke=\"black\" points=\"2,-0.5 2,-69.5 84,-69.5 84,-0.5 2,-0.5\"/>\n",
       "<text text-anchor=\"middle\" x=\"43\" y=\"-54.3\" font-family=\"Times New Roman,serif\" font-size=\"14.00\">x2</text>\n",
       "<polyline fill=\"none\" stroke=\"black\" points=\"2,-46.5 84,-46.5 \"/>\n",
       "<text text-anchor=\"middle\" x=\"43\" y=\"-31.3\" font-family=\"Times New Roman,serif\" font-size=\"14.00\">data 0.0000</text>\n",
       "<polyline fill=\"none\" stroke=\"black\" points=\"2,-23.5 84,-23.5 \"/>\n",
       "<text text-anchor=\"middle\" x=\"43\" y=\"-8.3\" font-family=\"Times New Roman,serif\" font-size=\"14.00\">grad 0.5000</text>\n",
       "</g>\n",
       "<!-- 2527970670864&#45;&gt;2527968364048* -->\n",
       "<g id=\"edge12\" class=\"edge\">\n",
       "<title>2527970670864&#45;&gt;2527968364048*</title>\n",
       "<path fill=\"none\" stroke=\"black\" d=\"M84.21,-69.02C97.58,-80.34 112.06,-92.59 123.83,-102.55\"/>\n",
       "<polygon fill=\"black\" stroke=\"black\" points=\"121.61,-105.26 131.51,-109.04 126.13,-99.91 121.61,-105.26\"/>\n",
       "</g>\n",
       "<!-- 2527968374608 -->\n",
       "<g id=\"node10\" class=\"node\">\n",
       "<title>2527968374608</title>\n",
       "<polygon fill=\"none\" stroke=\"black\" points=\"655,-176.5 655,-245.5 737,-245.5 737,-176.5 655,-176.5\"/>\n",
       "<text text-anchor=\"middle\" x=\"696\" y=\"-230.3\" font-family=\"Times New Roman,serif\" font-size=\"14.00\">n</text>\n",
       "<polyline fill=\"none\" stroke=\"black\" points=\"655,-222.5 737,-222.5 \"/>\n",
       "<text text-anchor=\"middle\" x=\"696\" y=\"-207.3\" font-family=\"Times New Roman,serif\" font-size=\"14.00\">data 0.8814</text>\n",
       "<polyline fill=\"none\" stroke=\"black\" points=\"655,-199.5 737,-199.5 \"/>\n",
       "<text text-anchor=\"middle\" x=\"696\" y=\"-184.3\" font-family=\"Times New Roman,serif\" font-size=\"14.00\">grad 0.5000</text>\n",
       "</g>\n",
       "<!-- 2527968376208tanh -->\n",
       "<g id=\"node15\" class=\"node\">\n",
       "<title>2527968376208tanh</title>\n",
       "<ellipse fill=\"none\" stroke=\"black\" cx=\"800\" cy=\"-211\" rx=\"27\" ry=\"18\"/>\n",
       "<text text-anchor=\"middle\" x=\"800\" y=\"-207.3\" font-family=\"Times New Roman,serif\" font-size=\"14.00\">tanh</text>\n",
       "</g>\n",
       "<!-- 2527968374608&#45;&gt;2527968376208tanh -->\n",
       "<g id=\"edge10\" class=\"edge\">\n",
       "<title>2527968374608&#45;&gt;2527968376208tanh</title>\n",
       "<path fill=\"none\" stroke=\"black\" d=\"M737.02,-211C745.5,-211 754.4,-211 762.73,-211\"/>\n",
       "<polygon fill=\"black\" stroke=\"black\" points=\"762.89,-214.5 772.89,-211 762.89,-207.5 762.89,-214.5\"/>\n",
       "</g>\n",
       "<!-- 2527968374608+&#45;&gt;2527968374608 -->\n",
       "<g id=\"edge3\" class=\"edge\">\n",
       "<title>2527968374608+&#45;&gt;2527968374608</title>\n",
       "<path fill=\"none\" stroke=\"black\" d=\"M619,-211C626.81,-211 635.65,-211 644.48,-211\"/>\n",
       "<polygon fill=\"black\" stroke=\"black\" points=\"644.76,-214.5 654.76,-211 644.76,-207.5 644.76,-214.5\"/>\n",
       "</g>\n",
       "<!-- 2527968366416 -->\n",
       "<g id=\"node12\" class=\"node\">\n",
       "<title>2527968366416</title>\n",
       "<polygon fill=\"none\" stroke=\"black\" points=\"423,-132.5 423,-201.5 529,-201.5 529,-132.5 423,-132.5\"/>\n",
       "<text text-anchor=\"middle\" x=\"476\" y=\"-186.3\" font-family=\"Times New Roman,serif\" font-size=\"14.00\">x1*w1 + x2*w2</text>\n",
       "<polyline fill=\"none\" stroke=\"black\" points=\"423,-178.5 529,-178.5 \"/>\n",
       "<text text-anchor=\"middle\" x=\"476\" y=\"-163.3\" font-family=\"Times New Roman,serif\" font-size=\"14.00\">data &#45;6.0000</text>\n",
       "<polyline fill=\"none\" stroke=\"black\" points=\"423,-155.5 529,-155.5 \"/>\n",
       "<text text-anchor=\"middle\" x=\"476\" y=\"-140.3\" font-family=\"Times New Roman,serif\" font-size=\"14.00\">grad 0.5000</text>\n",
       "</g>\n",
       "<!-- 2527968366416&#45;&gt;2527968374608+ -->\n",
       "<g id=\"edge8\" class=\"edge\">\n",
       "<title>2527968366416&#45;&gt;2527968374608+</title>\n",
       "<path fill=\"none\" stroke=\"black\" d=\"M529.33,-187.2C539.39,-191.08 549.64,-195.04 558.83,-198.58\"/>\n",
       "<polygon fill=\"black\" stroke=\"black\" points=\"557.72,-201.91 568.31,-202.24 560.24,-195.38 557.72,-201.91\"/>\n",
       "</g>\n",
       "<!-- 2527968366416+&#45;&gt;2527968366416 -->\n",
       "<g id=\"edge4\" class=\"edge\">\n",
       "<title>2527968366416+&#45;&gt;2527968366416</title>\n",
       "<path fill=\"none\" stroke=\"black\" d=\"M387.15,-167C394.89,-167 403.71,-167 412.71,-167\"/>\n",
       "<polygon fill=\"black\" stroke=\"black\" points=\"412.9,-170.5 422.9,-167 412.9,-163.5 412.9,-170.5\"/>\n",
       "</g>\n",
       "<!-- 2527968376208 -->\n",
       "<g id=\"node14\" class=\"node\">\n",
       "<title>2527968376208</title>\n",
       "<polygon fill=\"none\" stroke=\"black\" points=\"863,-176.5 863,-245.5 945,-245.5 945,-176.5 863,-176.5\"/>\n",
       "<text text-anchor=\"middle\" x=\"904\" y=\"-230.3\" font-family=\"Times New Roman,serif\" font-size=\"14.00\">o</text>\n",
       "<polyline fill=\"none\" stroke=\"black\" points=\"863,-222.5 945,-222.5 \"/>\n",
       "<text text-anchor=\"middle\" x=\"904\" y=\"-207.3\" font-family=\"Times New Roman,serif\" font-size=\"14.00\">data 0.7071</text>\n",
       "<polyline fill=\"none\" stroke=\"black\" points=\"863,-199.5 945,-199.5 \"/>\n",
       "<text text-anchor=\"middle\" x=\"904\" y=\"-184.3\" font-family=\"Times New Roman,serif\" font-size=\"14.00\">grad 1.0000</text>\n",
       "</g>\n",
       "<!-- 2527968376208tanh&#45;&gt;2527968376208 -->\n",
       "<g id=\"edge5\" class=\"edge\">\n",
       "<title>2527968376208tanh&#45;&gt;2527968376208</title>\n",
       "<path fill=\"none\" stroke=\"black\" d=\"M827,-211C834.81,-211 843.65,-211 852.48,-211\"/>\n",
       "<polygon fill=\"black\" stroke=\"black\" points=\"852.76,-214.5 862.76,-211 852.76,-207.5 852.76,-214.5\"/>\n",
       "</g>\n",
       "</g>\n",
       "</svg>\n"
      ],
      "text/plain": [
       "<graphviz.graphs.Digraph at 0x24c96c33050>"
      ]
     },
     "execution_count": 125,
     "metadata": {},
     "output_type": "execute_result"
    }
   ],
   "source": [
    "draw_graph(o)"
   ]
  },
  {
   "cell_type": "code",
   "execution_count": 117,
   "id": "50103b6f-6ced-4e60-8300-b74934e1c95c",
   "metadata": {
    "tags": []
   },
   "outputs": [],
   "source": [
    "o.grad = 1"
   ]
  },
  {
   "cell_type": "code",
   "execution_count": 118,
   "id": "7137328f-d944-4179-8b00-3870b65e456e",
   "metadata": {
    "tags": []
   },
   "outputs": [],
   "source": [
    "o._backward()"
   ]
  },
  {
   "cell_type": "code",
   "execution_count": 120,
   "id": "b0b9e421-971f-4a85-8ca8-3c9e55c4d156",
   "metadata": {
    "tags": []
   },
   "outputs": [],
   "source": [
    "n._backward()"
   ]
  },
  {
   "cell_type": "code",
   "execution_count": 122,
   "id": "42e3b9ff-f98e-4a47-9ef1-8b250fb9abaa",
   "metadata": {
    "tags": []
   },
   "outputs": [],
   "source": [
    "x1w1x2w2._backward()"
   ]
  },
  {
   "cell_type": "code",
   "execution_count": 124,
   "id": "3b300151-7904-4fa1-b160-b576984c07ff",
   "metadata": {
    "tags": []
   },
   "outputs": [],
   "source": [
    "x1w1._backward()\n",
    "x2w2._backward()"
   ]
  },
  {
   "cell_type": "code",
   "execution_count": null,
   "id": "7149c407-353d-4d25-b432-9a34e7516b69",
   "metadata": {},
   "outputs": [],
   "source": []
  }
 ],
 "metadata": {
  "kernelspec": {
   "display_name": "Python 3 (ipykernel)",
   "language": "python",
   "name": "python3"
  },
  "language_info": {
   "codemirror_mode": {
    "name": "ipython",
    "version": 3
   },
   "file_extension": ".py",
   "mimetype": "text/x-python",
   "name": "python",
   "nbconvert_exporter": "python",
   "pygments_lexer": "ipython3",
   "version": "3.11.4"
  }
 },
 "nbformat": 4,
 "nbformat_minor": 5
}

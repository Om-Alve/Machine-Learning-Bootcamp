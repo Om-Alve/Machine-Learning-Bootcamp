{
 "cells": [
  {
   "cell_type": "code",
   "execution_count": 1,
   "id": "2c349402-8586-4d52-9b96-bc35c67d92f1",
   "metadata": {
    "tags": []
   },
   "outputs": [],
   "source": [
    "import numpy as np\n",
    "import matplotlib as plt\n",
    "import math\n",
    "from graphviz import Digraph\n",
    "import random"
   ]
  },
  {
   "cell_type": "code",
   "execution_count": 2,
   "id": "bb364133-ed93-48bd-ab46-456426b9fcbf",
   "metadata": {
    "tags": []
   },
   "outputs": [],
   "source": [
    "class Value:\n",
    "    def __init__(self, data, _children=(), _op='', label=''):\n",
    "        self.data = data\n",
    "        self.grad = 0.0\n",
    "        self._prev = set(_children)\n",
    "        self._op = _op\n",
    "        self.label = label\n",
    "        self._backward = lambda : None\n",
    "\n",
    "    def __repr__(self):\n",
    "        return f\"Value(data={self.data})\"\n",
    "  \n",
    "    def __add__(self, other):\n",
    "        other = other if isinstance(other,Value) else Value(other)\n",
    "        out = Value(self.data + other.data, (self, other), '+')\n",
    "        def _backward():\n",
    "            self.grad += 1.0 * out.grad\n",
    "            other.grad += 1.0 * out.grad\n",
    "        out._backward = _backward\n",
    "        return out\n",
    "\n",
    "    def __mul__(self, other):\n",
    "        other = other if isinstance(other,Value) else Value(other)\n",
    "        out = Value(self.data * other.data, (self, other), '*')\n",
    "        def _backward():\n",
    "            self.grad += other.data * out.grad\n",
    "            other.grad += self.data * out.grad\n",
    "        out._backward = _backward\n",
    "        return out\n",
    "    \n",
    "    def __pow__(self,other):\n",
    "        assert isinstance(other,(int,float))\n",
    "        out = Value(self.data ** other,(self,),f\"**{other}\")\n",
    "        def _backward():\n",
    "            self.grad += other * (self.data ** (other - 1)) * out.grad\n",
    "        out._backward = _backward\n",
    "        return out\n",
    "    \n",
    "    def __rmul__(self,other):\n",
    "        return self * other\n",
    "\n",
    "    def __radd__(self,other):\n",
    "        return self + other\n",
    "    \n",
    "    def __sub__(self,other):\n",
    "        return self + (-other) \n",
    "    def __rsub__(self,other):\n",
    "        return self - other\n",
    "    def __neg__(self):\n",
    "        return self * -1\n",
    "    def __truediv__(self,other):\n",
    "        return self * other ** -1\n",
    "    \n",
    "    \n",
    "    def exp(self):\n",
    "        x = self.data\n",
    "        out = Value(math.exp(x),_children=(self,),_op='exp')\n",
    "        def _backward():\n",
    "            self.grad += out.data * out.grad\n",
    "        out._backward = _backward\n",
    "        return out\n",
    "    \n",
    "    def tanh(self):\n",
    "        x = self.data\n",
    "        t = (math.exp(2*x) - 1) / (math.exp(2*x) + 1)\n",
    "        out = Value(data=t,_children=(self,),_op='tanh')\n",
    "        def _backward():\n",
    "            self.grad += (1 - t ** 2) * out.grad \n",
    "        out._backward = _backward\n",
    "        return out\n",
    "    \n",
    "    def backward(self):\n",
    "        sorted_nodes = []\n",
    "        visited = set()\n",
    "        def topological_sort(n):\n",
    "            if n not in visited:\n",
    "                visited.add(n)\n",
    "                for child in n._prev:\n",
    "                    topological_sort(child)\n",
    "                sorted_nodes.append(n)\n",
    "        self.grad = 1.0\n",
    "        topological_sort(self)\n",
    "        for n in reversed(sorted_nodes):\n",
    "            n._backward()    "
   ]
  },
  {
   "cell_type": "code",
   "execution_count": 3,
   "id": "c019e85c-5d01-4dd3-aa4d-077a764dc024",
   "metadata": {
    "tags": []
   },
   "outputs": [
    {
     "data": {
      "text/plain": [
       "Value(data=3)"
      ]
     },
     "execution_count": 3,
     "metadata": {},
     "output_type": "execute_result"
    }
   ],
   "source": [
    "a = Value(3)\n",
    "a"
   ]
  },
  {
   "cell_type": "code",
   "execution_count": 4,
   "id": "8d068662-63f6-44b6-b7ed-a4d2c73071db",
   "metadata": {
    "tags": []
   },
   "outputs": [],
   "source": [
    "b = Value(2)"
   ]
  },
  {
   "cell_type": "code",
   "execution_count": 5,
   "id": "64a09c03-773f-4b38-878b-46d14e90d461",
   "metadata": {
    "tags": []
   },
   "outputs": [
    {
     "data": {
      "text/plain": [
       "Value(data=5)"
      ]
     },
     "execution_count": 5,
     "metadata": {},
     "output_type": "execute_result"
    }
   ],
   "source": [
    "a+b"
   ]
  },
  {
   "cell_type": "code",
   "execution_count": 6,
   "id": "4453546c-77a6-4b01-94f0-85d966784f04",
   "metadata": {
    "tags": []
   },
   "outputs": [],
   "source": [
    "d = a*b\n",
    "d.label ='d'\n",
    "a.label= 'a'\n",
    "b.label = 'b'"
   ]
  },
  {
   "cell_type": "code",
   "execution_count": 7,
   "id": "41aab060-360d-41ad-b96c-8b066432033f",
   "metadata": {
    "tags": []
   },
   "outputs": [
    {
     "data": {
      "text/plain": [
       "Value(data=8)"
      ]
     },
     "execution_count": 7,
     "metadata": {},
     "output_type": "execute_result"
    }
   ],
   "source": [
    "c=Value(2)\n",
    "a*b+c"
   ]
  },
  {
   "cell_type": "code",
   "execution_count": 8,
   "id": "7fd23c77-b9a9-466c-8525-b9f2f02308bf",
   "metadata": {
    "tags": []
   },
   "outputs": [
    {
     "data": {
      "text/plain": [
       "({Value(data=2), Value(data=3)}, '*')"
      ]
     },
     "execution_count": 8,
     "metadata": {},
     "output_type": "execute_result"
    }
   ],
   "source": [
    "d._prev,d._op"
   ]
  },
  {
   "cell_type": "code",
   "execution_count": 9,
   "id": "e67309cc-89b6-4a02-8f2b-7b9b1edaad25",
   "metadata": {
    "tags": []
   },
   "outputs": [
    {
     "name": "stdout",
     "output_type": "stream",
     "text": [
      "4.0\n"
     ]
    }
   ],
   "source": [
    "a = 2.0\n",
    "b = -3.0\n",
    "c = 10.0\n",
    "d = a*b + c\n",
    "print(d)"
   ]
  },
  {
   "cell_type": "code",
   "execution_count": 10,
   "id": "fa653473-2e40-47b9-8130-41260fb6544a",
   "metadata": {
    "tags": []
   },
   "outputs": [
    {
     "name": "stdout",
     "output_type": "stream",
     "text": [
      "d1 4.0\n",
      "d2 4.0001\n",
      "slope 0.9999999999976694\n"
     ]
    }
   ],
   "source": [
    "h = 0.0001\n",
    "\n",
    "# inputs\n",
    "a = 2.0\n",
    "b = -3.0\n",
    "c = 10.0\n",
    "\n",
    "d1 = a*b + c\n",
    "c += h\n",
    "d2 = a*b + c\n",
    "\n",
    "print('d1', d1)\n",
    "print('d2', d2)\n",
    "print('slope', (d2 - d1)/h)\n"
   ]
  },
  {
   "cell_type": "code",
   "execution_count": 11,
   "id": "61a86e86-1059-4bc3-a314-716bebc21ec5",
   "metadata": {
    "tags": []
   },
   "outputs": [],
   "source": [
    "def build_graph(root):\n",
    "    nodes,edges = set(),set()\n",
    "    def build(root):\n",
    "        if root not in nodes:\n",
    "            nodes.add(root)\n",
    "            for child in root._prev:\n",
    "                edges.add((child,root))\n",
    "                build(child)\n",
    "    build(root)\n",
    "    return nodes,edges\n",
    "\n",
    "def draw_graph(root):\n",
    "    graph = Digraph(format='png',directory='net.png',graph_attr={'rankdir':'LR'})\n",
    "    nodes,edges = build_graph(root)\n",
    "    for n in nodes:\n",
    "        uid = str(id(n))\n",
    "        graph.node(name=uid,label=\"%s | data %.4f | grad %.4f\"%(n.label,n.data,n.grad),shape='record')\n",
    "        if n._op:\n",
    "            opid = uid + n._op\n",
    "            graph.node(name=opid,label=n._op)\n",
    "            graph.edge(opid,uid)\n",
    "    for n1,n2 in edges:\n",
    "        graph.edge(str(id(n1)),str(id(n2))+n2._op)\n",
    "    return graph"
   ]
  },
  {
   "cell_type": "code",
   "execution_count": 12,
   "id": "a79872de-396d-42ac-bab1-e2b1f8dcbba9",
   "metadata": {
    "tags": []
   },
   "outputs": [
    {
     "data": {
      "text/plain": [
       "({Value(data=13), Value(data=2), Value(data=4), Value(data=6), Value(data=7)},\n",
       " {(Value(data=2), Value(data=6)),\n",
       "  (Value(data=4), Value(data=6)),\n",
       "  (Value(data=6), Value(data=13)),\n",
       "  (Value(data=7), Value(data=13))})"
      ]
     },
     "execution_count": 12,
     "metadata": {},
     "output_type": "execute_result"
    }
   ],
   "source": [
    "a = Value(2);a.label = 'a'\n",
    "b = Value(4);b.label = 'b'\n",
    "x = a + b;x.label='x'\n",
    "y = Value(7);y.label = 'y'\n",
    "z = x+y;z.label='z'\n",
    "build_graph(z)"
   ]
  },
  {
   "cell_type": "code",
   "execution_count": 13,
   "id": "cf98374c-e75f-45bf-82f6-d5c4d4ecd323",
   "metadata": {
    "tags": []
   },
   "outputs": [],
   "source": [
    "# inputs x1,x2\n",
    "x1 = Value(2.0, label='x1')\n",
    "x2 = Value(0.0, label='x2')\n",
    "# weights w1,w2\n",
    "w1 = Value(-3.0, label='w1')\n",
    "w2 = Value(1.0, label='w2')\n",
    "# bias of the neuron\n",
    "b = Value(6.8813735870195432, label='b')\n",
    "# x1*w1 + x2*w2 + b\n",
    "x1w1 = x1*w1; x1w1.label = 'x1*w1'\n",
    "x2w2 = x2*w2; x2w2.label = 'x2*w2'\n",
    "x1w1x2w2 = x1w1 + x2w2; x1w1x2w2.label = 'x1*w1 + x2*w2'\n",
    "n = x1w1x2w2 + b; n.label = 'n'\n",
    "o = n.tanh(); o.label = 'o'"
   ]
  },
  {
   "cell_type": "code",
   "execution_count": 14,
   "id": "4eb09e56-8a98-4ec1-a1a3-733fcb942670",
   "metadata": {
    "tags": []
   },
   "outputs": [
    {
     "data": {
      "image/svg+xml": [
       "<?xml version=\"1.0\" encoding=\"UTF-8\" standalone=\"no\"?>\n",
       "<!DOCTYPE svg PUBLIC \"-//W3C//DTD SVG 1.1//EN\"\n",
       " \"http://www.w3.org/Graphics/SVG/1.1/DTD/svg11.dtd\">\n",
       "<!-- Generated by graphviz version 2.50.0 (0)\n",
       " -->\n",
       "<!-- Pages: 1 -->\n",
       "<svg width=\"952pt\" height=\"342pt\"\n",
       " viewBox=\"0.00 0.00 952.00 342.00\" xmlns=\"http://www.w3.org/2000/svg\" xmlns:xlink=\"http://www.w3.org/1999/xlink\">\n",
       "<g id=\"graph0\" class=\"graph\" transform=\"scale(1 1) rotate(0) translate(4 338)\">\n",
       "<polygon fill=\"white\" stroke=\"transparent\" points=\"-4,4 -4,-338 948,-338 948,4 -4,4\"/>\n",
       "<!-- 3125219884624 -->\n",
       "<g id=\"node1\" class=\"node\">\n",
       "<title>3125219884624</title>\n",
       "<polygon fill=\"none\" stroke=\"black\" points=\"1.5,-264.5 1.5,-333.5 83.5,-333.5 83.5,-264.5 1.5,-264.5\"/>\n",
       "<text text-anchor=\"middle\" x=\"42.5\" y=\"-318.3\" font-family=\"Times New Roman,serif\" font-size=\"14.00\">x1</text>\n",
       "<polyline fill=\"none\" stroke=\"black\" points=\"1.5,-310.5 83.5,-310.5 \"/>\n",
       "<text text-anchor=\"middle\" x=\"42.5\" y=\"-295.3\" font-family=\"Times New Roman,serif\" font-size=\"14.00\">data 2.0000</text>\n",
       "<polyline fill=\"none\" stroke=\"black\" points=\"1.5,-287.5 83.5,-287.5 \"/>\n",
       "<text text-anchor=\"middle\" x=\"42.5\" y=\"-272.3\" font-family=\"Times New Roman,serif\" font-size=\"14.00\">grad 0.0000</text>\n",
       "</g>\n",
       "<!-- 3125217583888* -->\n",
       "<g id=\"node9\" class=\"node\">\n",
       "<title>3125217583888*</title>\n",
       "<ellipse fill=\"none\" stroke=\"black\" cx=\"148\" cy=\"-211\" rx=\"27\" ry=\"18\"/>\n",
       "<text text-anchor=\"middle\" x=\"148\" y=\"-207.3\" font-family=\"Times New Roman,serif\" font-size=\"14.00\">*</text>\n",
       "</g>\n",
       "<!-- 3125219884624&#45;&gt;3125217583888* -->\n",
       "<g id=\"edge9\" class=\"edge\">\n",
       "<title>3125219884624&#45;&gt;3125217583888*</title>\n",
       "<path fill=\"none\" stroke=\"black\" d=\"M83.52,-264.98C96.83,-253.66 111.23,-241.41 122.95,-231.45\"/>\n",
       "<polygon fill=\"black\" stroke=\"black\" points=\"125.23,-234.1 130.59,-224.96 120.7,-228.77 125.23,-234.1\"/>\n",
       "</g>\n",
       "<!-- 3125219837520 -->\n",
       "<g id=\"node2\" class=\"node\">\n",
       "<title>3125219837520</title>\n",
       "<polygon fill=\"none\" stroke=\"black\" points=\"1.5,-88.5 1.5,-157.5 83.5,-157.5 83.5,-88.5 1.5,-88.5\"/>\n",
       "<text text-anchor=\"middle\" x=\"42.5\" y=\"-142.3\" font-family=\"Times New Roman,serif\" font-size=\"14.00\">w2</text>\n",
       "<polyline fill=\"none\" stroke=\"black\" points=\"1.5,-134.5 83.5,-134.5 \"/>\n",
       "<text text-anchor=\"middle\" x=\"42.5\" y=\"-119.3\" font-family=\"Times New Roman,serif\" font-size=\"14.00\">data 1.0000</text>\n",
       "<polyline fill=\"none\" stroke=\"black\" points=\"1.5,-111.5 83.5,-111.5 \"/>\n",
       "<text text-anchor=\"middle\" x=\"42.5\" y=\"-96.3\" font-family=\"Times New Roman,serif\" font-size=\"14.00\">grad 0.0000</text>\n",
       "</g>\n",
       "<!-- 3125217577744* -->\n",
       "<g id=\"node11\" class=\"node\">\n",
       "<title>3125217577744*</title>\n",
       "<ellipse fill=\"none\" stroke=\"black\" cx=\"148\" cy=\"-123\" rx=\"27\" ry=\"18\"/>\n",
       "<text text-anchor=\"middle\" x=\"148\" y=\"-119.3\" font-family=\"Times New Roman,serif\" font-size=\"14.00\">*</text>\n",
       "</g>\n",
       "<!-- 3125219837520&#45;&gt;3125217577744* -->\n",
       "<g id=\"edge11\" class=\"edge\">\n",
       "<title>3125219837520&#45;&gt;3125217577744*</title>\n",
       "<path fill=\"none\" stroke=\"black\" d=\"M83.52,-123C92.41,-123 101.8,-123 110.54,-123\"/>\n",
       "<polygon fill=\"black\" stroke=\"black\" points=\"110.82,-126.5 120.82,-123 110.82,-119.5 110.82,-126.5\"/>\n",
       "</g>\n",
       "<!-- 3125219872336 -->\n",
       "<g id=\"node3\" class=\"node\">\n",
       "<title>3125219872336</title>\n",
       "<polygon fill=\"none\" stroke=\"black\" points=\"1.5,-0.5 1.5,-69.5 83.5,-69.5 83.5,-0.5 1.5,-0.5\"/>\n",
       "<text text-anchor=\"middle\" x=\"42.5\" y=\"-54.3\" font-family=\"Times New Roman,serif\" font-size=\"14.00\">x2</text>\n",
       "<polyline fill=\"none\" stroke=\"black\" points=\"1.5,-46.5 83.5,-46.5 \"/>\n",
       "<text text-anchor=\"middle\" x=\"42.5\" y=\"-31.3\" font-family=\"Times New Roman,serif\" font-size=\"14.00\">data 0.0000</text>\n",
       "<polyline fill=\"none\" stroke=\"black\" points=\"1.5,-23.5 83.5,-23.5 \"/>\n",
       "<text text-anchor=\"middle\" x=\"42.5\" y=\"-8.3\" font-family=\"Times New Roman,serif\" font-size=\"14.00\">grad 0.0000</text>\n",
       "</g>\n",
       "<!-- 3125219872336&#45;&gt;3125217577744* -->\n",
       "<g id=\"edge7\" class=\"edge\">\n",
       "<title>3125219872336&#45;&gt;3125217577744*</title>\n",
       "<path fill=\"none\" stroke=\"black\" d=\"M83.52,-69.02C96.83,-80.34 111.23,-92.59 122.95,-102.55\"/>\n",
       "<polygon fill=\"black\" stroke=\"black\" points=\"120.7,-105.23 130.59,-109.04 125.23,-99.9 120.7,-105.23\"/>\n",
       "</g>\n",
       "<!-- 3125217575056 -->\n",
       "<g id=\"node4\" class=\"node\">\n",
       "<title>3125217575056</title>\n",
       "<polygon fill=\"none\" stroke=\"black\" points=\"422,-132.5 422,-201.5 528,-201.5 528,-132.5 422,-132.5\"/>\n",
       "<text text-anchor=\"middle\" x=\"475\" y=\"-186.3\" font-family=\"Times New Roman,serif\" font-size=\"14.00\">x1*w1 + x2*w2</text>\n",
       "<polyline fill=\"none\" stroke=\"black\" points=\"422,-178.5 528,-178.5 \"/>\n",
       "<text text-anchor=\"middle\" x=\"475\" y=\"-163.3\" font-family=\"Times New Roman,serif\" font-size=\"14.00\">data &#45;6.0000</text>\n",
       "<polyline fill=\"none\" stroke=\"black\" points=\"422,-155.5 528,-155.5 \"/>\n",
       "<text text-anchor=\"middle\" x=\"475\" y=\"-140.3\" font-family=\"Times New Roman,serif\" font-size=\"14.00\">grad 0.0000</text>\n",
       "</g>\n",
       "<!-- 3125217658832+ -->\n",
       "<g id=\"node15\" class=\"node\">\n",
       "<title>3125217658832+</title>\n",
       "<ellipse fill=\"none\" stroke=\"black\" cx=\"591\" cy=\"-123\" rx=\"27\" ry=\"18\"/>\n",
       "<text text-anchor=\"middle\" x=\"591\" y=\"-119.3\" font-family=\"Times New Roman,serif\" font-size=\"14.00\">+</text>\n",
       "</g>\n",
       "<!-- 3125217575056&#45;&gt;3125217658832+ -->\n",
       "<g id=\"edge12\" class=\"edge\">\n",
       "<title>3125217575056&#45;&gt;3125217658832+</title>\n",
       "<path fill=\"none\" stroke=\"black\" d=\"M528.33,-146.8C538.39,-142.92 548.64,-138.96 557.83,-135.42\"/>\n",
       "<polygon fill=\"black\" stroke=\"black\" points=\"559.24,-138.62 567.31,-131.76 556.72,-132.09 559.24,-138.62\"/>\n",
       "</g>\n",
       "<!-- 3125217575056+ -->\n",
       "<g id=\"node5\" class=\"node\">\n",
       "<title>3125217575056+</title>\n",
       "<ellipse fill=\"none\" stroke=\"black\" cx=\"359\" cy=\"-167\" rx=\"27\" ry=\"18\"/>\n",
       "<text text-anchor=\"middle\" x=\"359\" y=\"-163.3\" font-family=\"Times New Roman,serif\" font-size=\"14.00\">+</text>\n",
       "</g>\n",
       "<!-- 3125217575056+&#45;&gt;3125217575056 -->\n",
       "<g id=\"edge1\" class=\"edge\">\n",
       "<title>3125217575056+&#45;&gt;3125217575056</title>\n",
       "<path fill=\"none\" stroke=\"black\" d=\"M386.15,-167C393.89,-167 402.71,-167 411.71,-167\"/>\n",
       "<polygon fill=\"black\" stroke=\"black\" points=\"411.9,-170.5 421.9,-167 411.9,-163.5 411.9,-170.5\"/>\n",
       "</g>\n",
       "<!-- 3125217404112 -->\n",
       "<g id=\"node6\" class=\"node\">\n",
       "<title>3125217404112</title>\n",
       "<polygon fill=\"none\" stroke=\"black\" points=\"862,-88.5 862,-157.5 944,-157.5 944,-88.5 862,-88.5\"/>\n",
       "<text text-anchor=\"middle\" x=\"903\" y=\"-142.3\" font-family=\"Times New Roman,serif\" font-size=\"14.00\">o</text>\n",
       "<polyline fill=\"none\" stroke=\"black\" points=\"862,-134.5 944,-134.5 \"/>\n",
       "<text text-anchor=\"middle\" x=\"903\" y=\"-119.3\" font-family=\"Times New Roman,serif\" font-size=\"14.00\">data 0.7071</text>\n",
       "<polyline fill=\"none\" stroke=\"black\" points=\"862,-111.5 944,-111.5 \"/>\n",
       "<text text-anchor=\"middle\" x=\"903\" y=\"-96.3\" font-family=\"Times New Roman,serif\" font-size=\"14.00\">grad 0.0000</text>\n",
       "</g>\n",
       "<!-- 3125217404112tanh -->\n",
       "<g id=\"node7\" class=\"node\">\n",
       "<title>3125217404112tanh</title>\n",
       "<ellipse fill=\"none\" stroke=\"black\" cx=\"799\" cy=\"-123\" rx=\"27\" ry=\"18\"/>\n",
       "<text text-anchor=\"middle\" x=\"799\" y=\"-119.3\" font-family=\"Times New Roman,serif\" font-size=\"14.00\">tanh</text>\n",
       "</g>\n",
       "<!-- 3125217404112tanh&#45;&gt;3125217404112 -->\n",
       "<g id=\"edge2\" class=\"edge\">\n",
       "<title>3125217404112tanh&#45;&gt;3125217404112</title>\n",
       "<path fill=\"none\" stroke=\"black\" d=\"M826,-123C833.81,-123 842.65,-123 851.48,-123\"/>\n",
       "<polygon fill=\"black\" stroke=\"black\" points=\"851.76,-126.5 861.76,-123 851.76,-119.5 851.76,-126.5\"/>\n",
       "</g>\n",
       "<!-- 3125217583888 -->\n",
       "<g id=\"node8\" class=\"node\">\n",
       "<title>3125217583888</title>\n",
       "<polygon fill=\"none\" stroke=\"black\" points=\"211,-176.5 211,-245.5 296,-245.5 296,-176.5 211,-176.5\"/>\n",
       "<text text-anchor=\"middle\" x=\"253.5\" y=\"-230.3\" font-family=\"Times New Roman,serif\" font-size=\"14.00\">x1*w1</text>\n",
       "<polyline fill=\"none\" stroke=\"black\" points=\"211,-222.5 296,-222.5 \"/>\n",
       "<text text-anchor=\"middle\" x=\"253.5\" y=\"-207.3\" font-family=\"Times New Roman,serif\" font-size=\"14.00\">data &#45;6.0000</text>\n",
       "<polyline fill=\"none\" stroke=\"black\" points=\"211,-199.5 296,-199.5 \"/>\n",
       "<text text-anchor=\"middle\" x=\"253.5\" y=\"-184.3\" font-family=\"Times New Roman,serif\" font-size=\"14.00\">grad 0.0000</text>\n",
       "</g>\n",
       "<!-- 3125217583888&#45;&gt;3125217575056+ -->\n",
       "<g id=\"edge8\" class=\"edge\">\n",
       "<title>3125217583888&#45;&gt;3125217575056+</title>\n",
       "<path fill=\"none\" stroke=\"black\" d=\"M296,-193.36C306.21,-189.02 316.97,-184.44 326.61,-180.34\"/>\n",
       "<polygon fill=\"black\" stroke=\"black\" points=\"327.98,-183.56 335.81,-176.43 325.24,-177.12 327.98,-183.56\"/>\n",
       "</g>\n",
       "<!-- 3125217583888*&#45;&gt;3125217583888 -->\n",
       "<g id=\"edge3\" class=\"edge\">\n",
       "<title>3125217583888*&#45;&gt;3125217583888</title>\n",
       "<path fill=\"none\" stroke=\"black\" d=\"M175.12,-211C182.87,-211 191.64,-211 200.42,-211\"/>\n",
       "<polygon fill=\"black\" stroke=\"black\" points=\"200.68,-214.5 210.68,-211 200.68,-207.5 200.68,-214.5\"/>\n",
       "</g>\n",
       "<!-- 3125217577744 -->\n",
       "<g id=\"node10\" class=\"node\">\n",
       "<title>3125217577744</title>\n",
       "<polygon fill=\"none\" stroke=\"black\" points=\"212.5,-88.5 212.5,-157.5 294.5,-157.5 294.5,-88.5 212.5,-88.5\"/>\n",
       "<text text-anchor=\"middle\" x=\"253.5\" y=\"-142.3\" font-family=\"Times New Roman,serif\" font-size=\"14.00\">x2*w2</text>\n",
       "<polyline fill=\"none\" stroke=\"black\" points=\"212.5,-134.5 294.5,-134.5 \"/>\n",
       "<text text-anchor=\"middle\" x=\"253.5\" y=\"-119.3\" font-family=\"Times New Roman,serif\" font-size=\"14.00\">data 0.0000</text>\n",
       "<polyline fill=\"none\" stroke=\"black\" points=\"212.5,-111.5 294.5,-111.5 \"/>\n",
       "<text text-anchor=\"middle\" x=\"253.5\" y=\"-96.3\" font-family=\"Times New Roman,serif\" font-size=\"14.00\">grad 0.0000</text>\n",
       "</g>\n",
       "<!-- 3125217577744&#45;&gt;3125217575056+ -->\n",
       "<g id=\"edge13\" class=\"edge\">\n",
       "<title>3125217577744&#45;&gt;3125217575056+</title>\n",
       "<path fill=\"none\" stroke=\"black\" d=\"M294.52,-140.01C305.12,-144.52 316.42,-149.32 326.5,-153.61\"/>\n",
       "<polygon fill=\"black\" stroke=\"black\" points=\"325.16,-156.84 335.73,-157.53 327.9,-150.4 325.16,-156.84\"/>\n",
       "</g>\n",
       "<!-- 3125217577744*&#45;&gt;3125217577744 -->\n",
       "<g id=\"edge4\" class=\"edge\">\n",
       "<title>3125217577744*&#45;&gt;3125217577744</title>\n",
       "<path fill=\"none\" stroke=\"black\" d=\"M175.12,-123C183.39,-123 192.82,-123 202.19,-123\"/>\n",
       "<polygon fill=\"black\" stroke=\"black\" points=\"202.28,-126.5 212.28,-123 202.28,-119.5 202.28,-126.5\"/>\n",
       "</g>\n",
       "<!-- 3125217584464 -->\n",
       "<g id=\"node12\" class=\"node\">\n",
       "<title>3125217584464</title>\n",
       "<polygon fill=\"none\" stroke=\"black\" points=\"434,-44.5 434,-113.5 516,-113.5 516,-44.5 434,-44.5\"/>\n",
       "<text text-anchor=\"middle\" x=\"475\" y=\"-98.3\" font-family=\"Times New Roman,serif\" font-size=\"14.00\">b</text>\n",
       "<polyline fill=\"none\" stroke=\"black\" points=\"434,-90.5 516,-90.5 \"/>\n",
       "<text text-anchor=\"middle\" x=\"475\" y=\"-75.3\" font-family=\"Times New Roman,serif\" font-size=\"14.00\">data 6.8814</text>\n",
       "<polyline fill=\"none\" stroke=\"black\" points=\"434,-67.5 516,-67.5 \"/>\n",
       "<text text-anchor=\"middle\" x=\"475\" y=\"-52.3\" font-family=\"Times New Roman,serif\" font-size=\"14.00\">grad 0.0000</text>\n",
       "</g>\n",
       "<!-- 3125217584464&#45;&gt;3125217658832+ -->\n",
       "<g id=\"edge6\" class=\"edge\">\n",
       "<title>3125217584464&#45;&gt;3125217658832+</title>\n",
       "<path fill=\"none\" stroke=\"black\" d=\"M516.19,-94.51C529.78,-99.76 544.77,-105.54 557.67,-110.52\"/>\n",
       "<polygon fill=\"black\" stroke=\"black\" points=\"556.48,-113.81 567.07,-114.15 559,-107.28 556.48,-113.81\"/>\n",
       "</g>\n",
       "<!-- 3125219873680 -->\n",
       "<g id=\"node13\" class=\"node\">\n",
       "<title>3125219873680</title>\n",
       "<polygon fill=\"none\" stroke=\"black\" points=\"0,-176.5 0,-245.5 85,-245.5 85,-176.5 0,-176.5\"/>\n",
       "<text text-anchor=\"middle\" x=\"42.5\" y=\"-230.3\" font-family=\"Times New Roman,serif\" font-size=\"14.00\">w1</text>\n",
       "<polyline fill=\"none\" stroke=\"black\" points=\"0,-222.5 85,-222.5 \"/>\n",
       "<text text-anchor=\"middle\" x=\"42.5\" y=\"-207.3\" font-family=\"Times New Roman,serif\" font-size=\"14.00\">data &#45;3.0000</text>\n",
       "<polyline fill=\"none\" stroke=\"black\" points=\"0,-199.5 85,-199.5 \"/>\n",
       "<text text-anchor=\"middle\" x=\"42.5\" y=\"-184.3\" font-family=\"Times New Roman,serif\" font-size=\"14.00\">grad 0.0000</text>\n",
       "</g>\n",
       "<!-- 3125219873680&#45;&gt;3125217583888* -->\n",
       "<g id=\"edge10\" class=\"edge\">\n",
       "<title>3125219873680&#45;&gt;3125217583888*</title>\n",
       "<path fill=\"none\" stroke=\"black\" d=\"M85,-211C93.54,-211 102.47,-211 110.81,-211\"/>\n",
       "<polygon fill=\"black\" stroke=\"black\" points=\"110.97,-214.5 120.97,-211 110.97,-207.5 110.97,-214.5\"/>\n",
       "</g>\n",
       "<!-- 3125217658832 -->\n",
       "<g id=\"node14\" class=\"node\">\n",
       "<title>3125217658832</title>\n",
       "<polygon fill=\"none\" stroke=\"black\" points=\"654,-88.5 654,-157.5 736,-157.5 736,-88.5 654,-88.5\"/>\n",
       "<text text-anchor=\"middle\" x=\"695\" y=\"-142.3\" font-family=\"Times New Roman,serif\" font-size=\"14.00\">n</text>\n",
       "<polyline fill=\"none\" stroke=\"black\" points=\"654,-134.5 736,-134.5 \"/>\n",
       "<text text-anchor=\"middle\" x=\"695\" y=\"-119.3\" font-family=\"Times New Roman,serif\" font-size=\"14.00\">data 0.8814</text>\n",
       "<polyline fill=\"none\" stroke=\"black\" points=\"654,-111.5 736,-111.5 \"/>\n",
       "<text text-anchor=\"middle\" x=\"695\" y=\"-96.3\" font-family=\"Times New Roman,serif\" font-size=\"14.00\">grad 0.0000</text>\n",
       "</g>\n",
       "<!-- 3125217658832&#45;&gt;3125217404112tanh -->\n",
       "<g id=\"edge14\" class=\"edge\">\n",
       "<title>3125217658832&#45;&gt;3125217404112tanh</title>\n",
       "<path fill=\"none\" stroke=\"black\" d=\"M736.02,-123C744.5,-123 753.4,-123 761.73,-123\"/>\n",
       "<polygon fill=\"black\" stroke=\"black\" points=\"761.89,-126.5 771.89,-123 761.89,-119.5 761.89,-126.5\"/>\n",
       "</g>\n",
       "<!-- 3125217658832+&#45;&gt;3125217658832 -->\n",
       "<g id=\"edge5\" class=\"edge\">\n",
       "<title>3125217658832+&#45;&gt;3125217658832</title>\n",
       "<path fill=\"none\" stroke=\"black\" d=\"M618,-123C625.81,-123 634.65,-123 643.48,-123\"/>\n",
       "<polygon fill=\"black\" stroke=\"black\" points=\"643.76,-126.5 653.76,-123 643.76,-119.5 643.76,-126.5\"/>\n",
       "</g>\n",
       "</g>\n",
       "</svg>\n"
      ],
      "text/plain": [
       "<graphviz.graphs.Digraph at 0x2d7a59eebd0>"
      ]
     },
     "execution_count": 14,
     "metadata": {},
     "output_type": "execute_result"
    }
   ],
   "source": [
    "draw_graph(o)"
   ]
  },
  {
   "cell_type": "code",
   "execution_count": 15,
   "id": "864cebc7-40d5-425d-9bef-88389abaeadc",
   "metadata": {},
   "outputs": [],
   "source": [
    "o.backward()"
   ]
  },
  {
   "cell_type": "code",
   "execution_count": 16,
   "id": "02818eba-30ae-43af-9689-d682473c7190",
   "metadata": {
    "tags": []
   },
   "outputs": [
    {
     "data": {
      "image/svg+xml": [
       "<?xml version=\"1.0\" encoding=\"UTF-8\" standalone=\"no\"?>\n",
       "<!DOCTYPE svg PUBLIC \"-//W3C//DTD SVG 1.1//EN\"\n",
       " \"http://www.w3.org/Graphics/SVG/1.1/DTD/svg11.dtd\">\n",
       "<!-- Generated by graphviz version 2.50.0 (0)\n",
       " -->\n",
       "<!-- Pages: 1 -->\n",
       "<svg width=\"953pt\" height=\"342pt\"\n",
       " viewBox=\"0.00 0.00 953.00 342.00\" xmlns=\"http://www.w3.org/2000/svg\" xmlns:xlink=\"http://www.w3.org/1999/xlink\">\n",
       "<g id=\"graph0\" class=\"graph\" transform=\"scale(1 1) rotate(0) translate(4 338)\">\n",
       "<polygon fill=\"white\" stroke=\"transparent\" points=\"-4,4 -4,-338 949,-338 949,4 -4,4\"/>\n",
       "<!-- 3125219884624 -->\n",
       "<g id=\"node1\" class=\"node\">\n",
       "<title>3125219884624</title>\n",
       "<polygon fill=\"none\" stroke=\"black\" points=\"0,-264.5 0,-333.5 86,-333.5 86,-264.5 0,-264.5\"/>\n",
       "<text text-anchor=\"middle\" x=\"43\" y=\"-318.3\" font-family=\"Times New Roman,serif\" font-size=\"14.00\">x1</text>\n",
       "<polyline fill=\"none\" stroke=\"black\" points=\"0,-310.5 86,-310.5 \"/>\n",
       "<text text-anchor=\"middle\" x=\"43\" y=\"-295.3\" font-family=\"Times New Roman,serif\" font-size=\"14.00\">data 2.0000</text>\n",
       "<polyline fill=\"none\" stroke=\"black\" points=\"0,-287.5 86,-287.5 \"/>\n",
       "<text text-anchor=\"middle\" x=\"43\" y=\"-272.3\" font-family=\"Times New Roman,serif\" font-size=\"14.00\">grad &#45;1.5000</text>\n",
       "</g>\n",
       "<!-- 3125217583888* -->\n",
       "<g id=\"node9\" class=\"node\">\n",
       "<title>3125217583888*</title>\n",
       "<ellipse fill=\"none\" stroke=\"black\" cx=\"149\" cy=\"-211\" rx=\"27\" ry=\"18\"/>\n",
       "<text text-anchor=\"middle\" x=\"149\" y=\"-207.3\" font-family=\"Times New Roman,serif\" font-size=\"14.00\">*</text>\n",
       "</g>\n",
       "<!-- 3125219884624&#45;&gt;3125217583888* -->\n",
       "<g id=\"edge9\" class=\"edge\">\n",
       "<title>3125219884624&#45;&gt;3125217583888*</title>\n",
       "<path fill=\"none\" stroke=\"black\" d=\"M84.81,-264.47C97.9,-253.39 111.99,-241.47 123.54,-231.7\"/>\n",
       "<polygon fill=\"black\" stroke=\"black\" points=\"126.07,-234.14 131.44,-225.01 121.55,-228.8 126.07,-234.14\"/>\n",
       "</g>\n",
       "<!-- 3125219837520 -->\n",
       "<g id=\"node2\" class=\"node\">\n",
       "<title>3125219837520</title>\n",
       "<polygon fill=\"none\" stroke=\"black\" points=\"2,-88.5 2,-157.5 84,-157.5 84,-88.5 2,-88.5\"/>\n",
       "<text text-anchor=\"middle\" x=\"43\" y=\"-142.3\" font-family=\"Times New Roman,serif\" font-size=\"14.00\">w2</text>\n",
       "<polyline fill=\"none\" stroke=\"black\" points=\"2,-134.5 84,-134.5 \"/>\n",
       "<text text-anchor=\"middle\" x=\"43\" y=\"-119.3\" font-family=\"Times New Roman,serif\" font-size=\"14.00\">data 1.0000</text>\n",
       "<polyline fill=\"none\" stroke=\"black\" points=\"2,-111.5 84,-111.5 \"/>\n",
       "<text text-anchor=\"middle\" x=\"43\" y=\"-96.3\" font-family=\"Times New Roman,serif\" font-size=\"14.00\">grad 0.0000</text>\n",
       "</g>\n",
       "<!-- 3125217577744* -->\n",
       "<g id=\"node11\" class=\"node\">\n",
       "<title>3125217577744*</title>\n",
       "<ellipse fill=\"none\" stroke=\"black\" cx=\"149\" cy=\"-123\" rx=\"27\" ry=\"18\"/>\n",
       "<text text-anchor=\"middle\" x=\"149\" y=\"-119.3\" font-family=\"Times New Roman,serif\" font-size=\"14.00\">*</text>\n",
       "</g>\n",
       "<!-- 3125219837520&#45;&gt;3125217577744* -->\n",
       "<g id=\"edge11\" class=\"edge\">\n",
       "<title>3125219837520&#45;&gt;3125217577744*</title>\n",
       "<path fill=\"none\" stroke=\"black\" d=\"M84.21,-123C93.25,-123 102.79,-123 111.66,-123\"/>\n",
       "<polygon fill=\"black\" stroke=\"black\" points=\"111.69,-126.5 121.69,-123 111.69,-119.5 111.69,-126.5\"/>\n",
       "</g>\n",
       "<!-- 3125219872336 -->\n",
       "<g id=\"node3\" class=\"node\">\n",
       "<title>3125219872336</title>\n",
       "<polygon fill=\"none\" stroke=\"black\" points=\"2,-0.5 2,-69.5 84,-69.5 84,-0.5 2,-0.5\"/>\n",
       "<text text-anchor=\"middle\" x=\"43\" y=\"-54.3\" font-family=\"Times New Roman,serif\" font-size=\"14.00\">x2</text>\n",
       "<polyline fill=\"none\" stroke=\"black\" points=\"2,-46.5 84,-46.5 \"/>\n",
       "<text text-anchor=\"middle\" x=\"43\" y=\"-31.3\" font-family=\"Times New Roman,serif\" font-size=\"14.00\">data 0.0000</text>\n",
       "<polyline fill=\"none\" stroke=\"black\" points=\"2,-23.5 84,-23.5 \"/>\n",
       "<text text-anchor=\"middle\" x=\"43\" y=\"-8.3\" font-family=\"Times New Roman,serif\" font-size=\"14.00\">grad 0.5000</text>\n",
       "</g>\n",
       "<!-- 3125219872336&#45;&gt;3125217577744* -->\n",
       "<g id=\"edge7\" class=\"edge\">\n",
       "<title>3125219872336&#45;&gt;3125217577744*</title>\n",
       "<path fill=\"none\" stroke=\"black\" d=\"M84.21,-69.02C97.58,-80.34 112.06,-92.59 123.83,-102.55\"/>\n",
       "<polygon fill=\"black\" stroke=\"black\" points=\"121.61,-105.26 131.51,-109.04 126.13,-99.91 121.61,-105.26\"/>\n",
       "</g>\n",
       "<!-- 3125217575056 -->\n",
       "<g id=\"node4\" class=\"node\">\n",
       "<title>3125217575056</title>\n",
       "<polygon fill=\"none\" stroke=\"black\" points=\"423,-132.5 423,-201.5 529,-201.5 529,-132.5 423,-132.5\"/>\n",
       "<text text-anchor=\"middle\" x=\"476\" y=\"-186.3\" font-family=\"Times New Roman,serif\" font-size=\"14.00\">x1*w1 + x2*w2</text>\n",
       "<polyline fill=\"none\" stroke=\"black\" points=\"423,-178.5 529,-178.5 \"/>\n",
       "<text text-anchor=\"middle\" x=\"476\" y=\"-163.3\" font-family=\"Times New Roman,serif\" font-size=\"14.00\">data &#45;6.0000</text>\n",
       "<polyline fill=\"none\" stroke=\"black\" points=\"423,-155.5 529,-155.5 \"/>\n",
       "<text text-anchor=\"middle\" x=\"476\" y=\"-140.3\" font-family=\"Times New Roman,serif\" font-size=\"14.00\">grad 0.5000</text>\n",
       "</g>\n",
       "<!-- 3125217658832+ -->\n",
       "<g id=\"node15\" class=\"node\">\n",
       "<title>3125217658832+</title>\n",
       "<ellipse fill=\"none\" stroke=\"black\" cx=\"592\" cy=\"-123\" rx=\"27\" ry=\"18\"/>\n",
       "<text text-anchor=\"middle\" x=\"592\" y=\"-119.3\" font-family=\"Times New Roman,serif\" font-size=\"14.00\">+</text>\n",
       "</g>\n",
       "<!-- 3125217575056&#45;&gt;3125217658832+ -->\n",
       "<g id=\"edge12\" class=\"edge\">\n",
       "<title>3125217575056&#45;&gt;3125217658832+</title>\n",
       "<path fill=\"none\" stroke=\"black\" d=\"M529.33,-146.8C539.39,-142.92 549.64,-138.96 558.83,-135.42\"/>\n",
       "<polygon fill=\"black\" stroke=\"black\" points=\"560.24,-138.62 568.31,-131.76 557.72,-132.09 560.24,-138.62\"/>\n",
       "</g>\n",
       "<!-- 3125217575056+ -->\n",
       "<g id=\"node5\" class=\"node\">\n",
       "<title>3125217575056+</title>\n",
       "<ellipse fill=\"none\" stroke=\"black\" cx=\"360\" cy=\"-167\" rx=\"27\" ry=\"18\"/>\n",
       "<text text-anchor=\"middle\" x=\"360\" y=\"-163.3\" font-family=\"Times New Roman,serif\" font-size=\"14.00\">+</text>\n",
       "</g>\n",
       "<!-- 3125217575056+&#45;&gt;3125217575056 -->\n",
       "<g id=\"edge1\" class=\"edge\">\n",
       "<title>3125217575056+&#45;&gt;3125217575056</title>\n",
       "<path fill=\"none\" stroke=\"black\" d=\"M387.15,-167C394.89,-167 403.71,-167 412.71,-167\"/>\n",
       "<polygon fill=\"black\" stroke=\"black\" points=\"412.9,-170.5 422.9,-167 412.9,-163.5 412.9,-170.5\"/>\n",
       "</g>\n",
       "<!-- 3125217404112 -->\n",
       "<g id=\"node6\" class=\"node\">\n",
       "<title>3125217404112</title>\n",
       "<polygon fill=\"none\" stroke=\"black\" points=\"863,-88.5 863,-157.5 945,-157.5 945,-88.5 863,-88.5\"/>\n",
       "<text text-anchor=\"middle\" x=\"904\" y=\"-142.3\" font-family=\"Times New Roman,serif\" font-size=\"14.00\">o</text>\n",
       "<polyline fill=\"none\" stroke=\"black\" points=\"863,-134.5 945,-134.5 \"/>\n",
       "<text text-anchor=\"middle\" x=\"904\" y=\"-119.3\" font-family=\"Times New Roman,serif\" font-size=\"14.00\">data 0.7071</text>\n",
       "<polyline fill=\"none\" stroke=\"black\" points=\"863,-111.5 945,-111.5 \"/>\n",
       "<text text-anchor=\"middle\" x=\"904\" y=\"-96.3\" font-family=\"Times New Roman,serif\" font-size=\"14.00\">grad 1.0000</text>\n",
       "</g>\n",
       "<!-- 3125217404112tanh -->\n",
       "<g id=\"node7\" class=\"node\">\n",
       "<title>3125217404112tanh</title>\n",
       "<ellipse fill=\"none\" stroke=\"black\" cx=\"800\" cy=\"-123\" rx=\"27\" ry=\"18\"/>\n",
       "<text text-anchor=\"middle\" x=\"800\" y=\"-119.3\" font-family=\"Times New Roman,serif\" font-size=\"14.00\">tanh</text>\n",
       "</g>\n",
       "<!-- 3125217404112tanh&#45;&gt;3125217404112 -->\n",
       "<g id=\"edge2\" class=\"edge\">\n",
       "<title>3125217404112tanh&#45;&gt;3125217404112</title>\n",
       "<path fill=\"none\" stroke=\"black\" d=\"M827,-123C834.81,-123 843.65,-123 852.48,-123\"/>\n",
       "<polygon fill=\"black\" stroke=\"black\" points=\"852.76,-126.5 862.76,-123 852.76,-119.5 852.76,-126.5\"/>\n",
       "</g>\n",
       "<!-- 3125217583888 -->\n",
       "<g id=\"node8\" class=\"node\">\n",
       "<title>3125217583888</title>\n",
       "<polygon fill=\"none\" stroke=\"black\" points=\"212,-176.5 212,-245.5 297,-245.5 297,-176.5 212,-176.5\"/>\n",
       "<text text-anchor=\"middle\" x=\"254.5\" y=\"-230.3\" font-family=\"Times New Roman,serif\" font-size=\"14.00\">x1*w1</text>\n",
       "<polyline fill=\"none\" stroke=\"black\" points=\"212,-222.5 297,-222.5 \"/>\n",
       "<text text-anchor=\"middle\" x=\"254.5\" y=\"-207.3\" font-family=\"Times New Roman,serif\" font-size=\"14.00\">data &#45;6.0000</text>\n",
       "<polyline fill=\"none\" stroke=\"black\" points=\"212,-199.5 297,-199.5 \"/>\n",
       "<text text-anchor=\"middle\" x=\"254.5\" y=\"-184.3\" font-family=\"Times New Roman,serif\" font-size=\"14.00\">grad 0.5000</text>\n",
       "</g>\n",
       "<!-- 3125217583888&#45;&gt;3125217575056+ -->\n",
       "<g id=\"edge8\" class=\"edge\">\n",
       "<title>3125217583888&#45;&gt;3125217575056+</title>\n",
       "<path fill=\"none\" stroke=\"black\" d=\"M297,-193.36C307.21,-189.02 317.97,-184.44 327.61,-180.34\"/>\n",
       "<polygon fill=\"black\" stroke=\"black\" points=\"328.98,-183.56 336.81,-176.43 326.24,-177.12 328.98,-183.56\"/>\n",
       "</g>\n",
       "<!-- 3125217583888*&#45;&gt;3125217583888 -->\n",
       "<g id=\"edge3\" class=\"edge\">\n",
       "<title>3125217583888*&#45;&gt;3125217583888</title>\n",
       "<path fill=\"none\" stroke=\"black\" d=\"M176.12,-211C183.87,-211 192.64,-211 201.42,-211\"/>\n",
       "<polygon fill=\"black\" stroke=\"black\" points=\"201.68,-214.5 211.68,-211 201.68,-207.5 201.68,-214.5\"/>\n",
       "</g>\n",
       "<!-- 3125217577744 -->\n",
       "<g id=\"node10\" class=\"node\">\n",
       "<title>3125217577744</title>\n",
       "<polygon fill=\"none\" stroke=\"black\" points=\"213.5,-88.5 213.5,-157.5 295.5,-157.5 295.5,-88.5 213.5,-88.5\"/>\n",
       "<text text-anchor=\"middle\" x=\"254.5\" y=\"-142.3\" font-family=\"Times New Roman,serif\" font-size=\"14.00\">x2*w2</text>\n",
       "<polyline fill=\"none\" stroke=\"black\" points=\"213.5,-134.5 295.5,-134.5 \"/>\n",
       "<text text-anchor=\"middle\" x=\"254.5\" y=\"-119.3\" font-family=\"Times New Roman,serif\" font-size=\"14.00\">data 0.0000</text>\n",
       "<polyline fill=\"none\" stroke=\"black\" points=\"213.5,-111.5 295.5,-111.5 \"/>\n",
       "<text text-anchor=\"middle\" x=\"254.5\" y=\"-96.3\" font-family=\"Times New Roman,serif\" font-size=\"14.00\">grad 0.5000</text>\n",
       "</g>\n",
       "<!-- 3125217577744&#45;&gt;3125217575056+ -->\n",
       "<g id=\"edge13\" class=\"edge\">\n",
       "<title>3125217577744&#45;&gt;3125217575056+</title>\n",
       "<path fill=\"none\" stroke=\"black\" d=\"M295.52,-140.01C306.12,-144.52 317.42,-149.32 327.5,-153.61\"/>\n",
       "<polygon fill=\"black\" stroke=\"black\" points=\"326.16,-156.84 336.73,-157.53 328.9,-150.4 326.16,-156.84\"/>\n",
       "</g>\n",
       "<!-- 3125217577744*&#45;&gt;3125217577744 -->\n",
       "<g id=\"edge4\" class=\"edge\">\n",
       "<title>3125217577744*&#45;&gt;3125217577744</title>\n",
       "<path fill=\"none\" stroke=\"black\" d=\"M176.12,-123C184.39,-123 193.82,-123 203.19,-123\"/>\n",
       "<polygon fill=\"black\" stroke=\"black\" points=\"203.28,-126.5 213.28,-123 203.28,-119.5 203.28,-126.5\"/>\n",
       "</g>\n",
       "<!-- 3125217584464 -->\n",
       "<g id=\"node12\" class=\"node\">\n",
       "<title>3125217584464</title>\n",
       "<polygon fill=\"none\" stroke=\"black\" points=\"435,-44.5 435,-113.5 517,-113.5 517,-44.5 435,-44.5\"/>\n",
       "<text text-anchor=\"middle\" x=\"476\" y=\"-98.3\" font-family=\"Times New Roman,serif\" font-size=\"14.00\">b</text>\n",
       "<polyline fill=\"none\" stroke=\"black\" points=\"435,-90.5 517,-90.5 \"/>\n",
       "<text text-anchor=\"middle\" x=\"476\" y=\"-75.3\" font-family=\"Times New Roman,serif\" font-size=\"14.00\">data 6.8814</text>\n",
       "<polyline fill=\"none\" stroke=\"black\" points=\"435,-67.5 517,-67.5 \"/>\n",
       "<text text-anchor=\"middle\" x=\"476\" y=\"-52.3\" font-family=\"Times New Roman,serif\" font-size=\"14.00\">grad 0.5000</text>\n",
       "</g>\n",
       "<!-- 3125217584464&#45;&gt;3125217658832+ -->\n",
       "<g id=\"edge6\" class=\"edge\">\n",
       "<title>3125217584464&#45;&gt;3125217658832+</title>\n",
       "<path fill=\"none\" stroke=\"black\" d=\"M517.19,-94.51C530.78,-99.76 545.77,-105.54 558.67,-110.52\"/>\n",
       "<polygon fill=\"black\" stroke=\"black\" points=\"557.48,-113.81 568.07,-114.15 560,-107.28 557.48,-113.81\"/>\n",
       "</g>\n",
       "<!-- 3125219873680 -->\n",
       "<g id=\"node13\" class=\"node\">\n",
       "<title>3125219873680</title>\n",
       "<polygon fill=\"none\" stroke=\"black\" points=\"0.5,-176.5 0.5,-245.5 85.5,-245.5 85.5,-176.5 0.5,-176.5\"/>\n",
       "<text text-anchor=\"middle\" x=\"43\" y=\"-230.3\" font-family=\"Times New Roman,serif\" font-size=\"14.00\">w1</text>\n",
       "<polyline fill=\"none\" stroke=\"black\" points=\"0.5,-222.5 85.5,-222.5 \"/>\n",
       "<text text-anchor=\"middle\" x=\"43\" y=\"-207.3\" font-family=\"Times New Roman,serif\" font-size=\"14.00\">data &#45;3.0000</text>\n",
       "<polyline fill=\"none\" stroke=\"black\" points=\"0.5,-199.5 85.5,-199.5 \"/>\n",
       "<text text-anchor=\"middle\" x=\"43\" y=\"-184.3\" font-family=\"Times New Roman,serif\" font-size=\"14.00\">grad 1.0000</text>\n",
       "</g>\n",
       "<!-- 3125219873680&#45;&gt;3125217583888* -->\n",
       "<g id=\"edge10\" class=\"edge\">\n",
       "<title>3125219873680&#45;&gt;3125217583888*</title>\n",
       "<path fill=\"none\" stroke=\"black\" d=\"M85.7,-211C94.28,-211 103.26,-211 111.63,-211\"/>\n",
       "<polygon fill=\"black\" stroke=\"black\" points=\"111.85,-214.5 121.85,-211 111.85,-207.5 111.85,-214.5\"/>\n",
       "</g>\n",
       "<!-- 3125217658832 -->\n",
       "<g id=\"node14\" class=\"node\">\n",
       "<title>3125217658832</title>\n",
       "<polygon fill=\"none\" stroke=\"black\" points=\"655,-88.5 655,-157.5 737,-157.5 737,-88.5 655,-88.5\"/>\n",
       "<text text-anchor=\"middle\" x=\"696\" y=\"-142.3\" font-family=\"Times New Roman,serif\" font-size=\"14.00\">n</text>\n",
       "<polyline fill=\"none\" stroke=\"black\" points=\"655,-134.5 737,-134.5 \"/>\n",
       "<text text-anchor=\"middle\" x=\"696\" y=\"-119.3\" font-family=\"Times New Roman,serif\" font-size=\"14.00\">data 0.8814</text>\n",
       "<polyline fill=\"none\" stroke=\"black\" points=\"655,-111.5 737,-111.5 \"/>\n",
       "<text text-anchor=\"middle\" x=\"696\" y=\"-96.3\" font-family=\"Times New Roman,serif\" font-size=\"14.00\">grad 0.5000</text>\n",
       "</g>\n",
       "<!-- 3125217658832&#45;&gt;3125217404112tanh -->\n",
       "<g id=\"edge14\" class=\"edge\">\n",
       "<title>3125217658832&#45;&gt;3125217404112tanh</title>\n",
       "<path fill=\"none\" stroke=\"black\" d=\"M737.02,-123C745.5,-123 754.4,-123 762.73,-123\"/>\n",
       "<polygon fill=\"black\" stroke=\"black\" points=\"762.89,-126.5 772.89,-123 762.89,-119.5 762.89,-126.5\"/>\n",
       "</g>\n",
       "<!-- 3125217658832+&#45;&gt;3125217658832 -->\n",
       "<g id=\"edge5\" class=\"edge\">\n",
       "<title>3125217658832+&#45;&gt;3125217658832</title>\n",
       "<path fill=\"none\" stroke=\"black\" d=\"M619,-123C626.81,-123 635.65,-123 644.48,-123\"/>\n",
       "<polygon fill=\"black\" stroke=\"black\" points=\"644.76,-126.5 654.76,-123 644.76,-119.5 644.76,-126.5\"/>\n",
       "</g>\n",
       "</g>\n",
       "</svg>\n"
      ],
      "text/plain": [
       "<graphviz.graphs.Digraph at 0x2d7a4f0c2d0>"
      ]
     },
     "execution_count": 16,
     "metadata": {},
     "output_type": "execute_result"
    }
   ],
   "source": [
    "draw_graph(o)"
   ]
  },
  {
   "cell_type": "code",
   "execution_count": 17,
   "id": "f65ff9a8-6e90-4b03-8b6c-9a7e8037e073",
   "metadata": {
    "tags": []
   },
   "outputs": [],
   "source": [
    "a = Value(2)"
   ]
  },
  {
   "cell_type": "code",
   "execution_count": 18,
   "id": "6b446ae2-50f8-4626-8b37-346a0add136b",
   "metadata": {
    "tags": []
   },
   "outputs": [
    {
     "data": {
      "text/plain": [
       "Value(data=4)"
      ]
     },
     "execution_count": 18,
     "metadata": {},
     "output_type": "execute_result"
    }
   ],
   "source": [
    "a + 2"
   ]
  },
  {
   "cell_type": "code",
   "execution_count": 19,
   "id": "51d1e8dd-c824-478c-99bd-ce8335b2621d",
   "metadata": {
    "tags": []
   },
   "outputs": [
    {
     "data": {
      "text/plain": [
       "Value(data=4)"
      ]
     },
     "execution_count": 19,
     "metadata": {},
     "output_type": "execute_result"
    }
   ],
   "source": [
    "2 + a"
   ]
  },
  {
   "cell_type": "code",
   "execution_count": 20,
   "id": "d4993f63-de4d-4f78-89cb-a40caa0e3a95",
   "metadata": {
    "tags": []
   },
   "outputs": [
    {
     "data": {
      "text/plain": [
       "Value(data=7.38905609893065)"
      ]
     },
     "execution_count": 20,
     "metadata": {},
     "output_type": "execute_result"
    }
   ],
   "source": [
    "a.exp()"
   ]
  },
  {
   "cell_type": "code",
   "execution_count": 21,
   "id": "65883252-6cec-4134-8163-274fdeb607dc",
   "metadata": {
    "tags": []
   },
   "outputs": [],
   "source": [
    "b = Value(2)"
   ]
  },
  {
   "cell_type": "code",
   "execution_count": 22,
   "id": "bc24ae0a-c0cf-4fe8-aa38-942edf8e6b03",
   "metadata": {
    "tags": []
   },
   "outputs": [
    {
     "data": {
      "text/plain": [
       "Value(data=1.0)"
      ]
     },
     "execution_count": 22,
     "metadata": {},
     "output_type": "execute_result"
    }
   ],
   "source": [
    "a / b"
   ]
  },
  {
   "cell_type": "code",
   "execution_count": 23,
   "id": "a2ddada9-0876-4b0f-945d-7a7b0f4953d1",
   "metadata": {
    "tags": []
   },
   "outputs": [
    {
     "data": {
      "text/plain": [
       "Value(data=0)"
      ]
     },
     "execution_count": 23,
     "metadata": {},
     "output_type": "execute_result"
    }
   ],
   "source": [
    "a - b"
   ]
  },
  {
   "cell_type": "code",
   "execution_count": 24,
   "id": "1fc8f920-1eb3-4e36-a261-268d1cc12379",
   "metadata": {
    "tags": []
   },
   "outputs": [],
   "source": [
    "class Neuron:\n",
    "    def __init__(self,nin):\n",
    "        self.w = [Value(random.uniform(-1,1)) for _ in range(nin)]\n",
    "        self.b = Value(random.uniform(-1,1))\n",
    "    def __call__(self,x):\n",
    "        n = sum((wi * xi for wi,xi in zip(self.w,x)),self.b)\n",
    "        o = n.tanh()\n",
    "        return o\n",
    "    def parameters(self):\n",
    "        return self.w + [self.b]\n",
    "    \n",
    "class Layer:\n",
    "    def __init__(self,nin,nout):\n",
    "        self.neurons = [Neuron(nin) for _ in range(nout)]\n",
    "    def __call__(self,x):\n",
    "        out = [n(x) for n in self.neurons]\n",
    "        return out[0] if len(out)==1 else out\n",
    "    def parameters(self):\n",
    "        return [p for n in self.neurons for p in n.parameters()]\n",
    "            \n",
    "class MLP:\n",
    "    def __init__(self,nin,nouts):\n",
    "        sz = [nin] + nouts\n",
    "        self.layers = [Layer(sz[i],sz[i+1]) for i in range(len(nouts))]\n",
    "    \n",
    "    def __call__(self,x):\n",
    "        for layer in self.layers:\n",
    "            x = layer(x)\n",
    "        return x \n",
    "    \n",
    "    def parameters(self):\n",
    "        return [p for l in self.layers for p in l.parameters()]"
   ]
  },
  {
   "cell_type": "code",
   "execution_count": 25,
   "id": "aad9308c-babd-4fe9-895f-9d11423d762a",
   "metadata": {
    "tags": []
   },
   "outputs": [
    {
     "data": {
      "text/plain": [
       "[Value(data=0.8233986101166517),\n",
       " Value(data=-0.22910079826838237),\n",
       " Value(data=-0.5691626763203035)]"
      ]
     },
     "execution_count": 25,
     "metadata": {},
     "output_type": "execute_result"
    }
   ],
   "source": [
    "n = Neuron(2)\n",
    "out = n([2,3])\n",
    "n.parameters()"
   ]
  },
  {
   "cell_type": "code",
   "execution_count": 26,
   "id": "90be5f39-8fa6-441a-ac9d-01b206d477d1",
   "metadata": {
    "tags": []
   },
   "outputs": [
    {
     "data": {
      "image/svg+xml": [
       "<?xml version=\"1.0\" encoding=\"UTF-8\" standalone=\"no\"?>\n",
       "<!DOCTYPE svg PUBLIC \"-//W3C//DTD SVG 1.1//EN\"\n",
       " \"http://www.w3.org/Graphics/SVG/1.1/DTD/svg11.dtd\">\n",
       "<!-- Generated by graphviz version 2.50.0 (0)\n",
       " -->\n",
       "<!-- Pages: 1 -->\n",
       "<svg width=\"928pt\" height=\"342pt\"\n",
       " viewBox=\"0.00 0.00 928.00 342.00\" xmlns=\"http://www.w3.org/2000/svg\" xmlns:xlink=\"http://www.w3.org/1999/xlink\">\n",
       "<g id=\"graph0\" class=\"graph\" transform=\"scale(1 1) rotate(0) translate(4 338)\">\n",
       "<polygon fill=\"white\" stroke=\"transparent\" points=\"-4,4 -4,-338 924,-338 924,4 -4,4\"/>\n",
       "<!-- 3125217406480 -->\n",
       "<g id=\"node1\" class=\"node\">\n",
       "<title>3125217406480</title>\n",
       "<polygon fill=\"none\" stroke=\"black\" points=\"209.5,-264.5 209.5,-333.5 291.5,-333.5 291.5,-264.5 209.5,-264.5\"/>\n",
       "<text text-anchor=\"middle\" x=\"250.5\" y=\"-318.3\" font-family=\"Times New Roman,serif\" font-size=\"14.00\"> </text>\n",
       "<polyline fill=\"none\" stroke=\"black\" points=\"209.5,-310.5 291.5,-310.5 \"/>\n",
       "<text text-anchor=\"middle\" x=\"250.5\" y=\"-295.3\" font-family=\"Times New Roman,serif\" font-size=\"14.00\">data 3.0000</text>\n",
       "<polyline fill=\"none\" stroke=\"black\" points=\"209.5,-287.5 291.5,-287.5 \"/>\n",
       "<text text-anchor=\"middle\" x=\"250.5\" y=\"-272.3\" font-family=\"Times New Roman,serif\" font-size=\"14.00\">grad 0.0000</text>\n",
       "</g>\n",
       "<!-- 3125217399632* -->\n",
       "<g id=\"node13\" class=\"node\">\n",
       "<title>3125217399632*</title>\n",
       "<ellipse fill=\"none\" stroke=\"black\" cx=\"356\" cy=\"-211\" rx=\"27\" ry=\"18\"/>\n",
       "<text text-anchor=\"middle\" x=\"356\" y=\"-207.3\" font-family=\"Times New Roman,serif\" font-size=\"14.00\">*</text>\n",
       "</g>\n",
       "<!-- 3125217406480&#45;&gt;3125217399632* -->\n",
       "<g id=\"edge7\" class=\"edge\">\n",
       "<title>3125217406480&#45;&gt;3125217399632*</title>\n",
       "<path fill=\"none\" stroke=\"black\" d=\"M291.52,-264.98C304.83,-253.66 319.23,-241.41 330.95,-231.45\"/>\n",
       "<polygon fill=\"black\" stroke=\"black\" points=\"333.23,-234.1 338.59,-224.96 328.7,-228.77 333.23,-234.1\"/>\n",
       "</g>\n",
       "<!-- 3125217745488 -->\n",
       "<g id=\"node2\" class=\"node\">\n",
       "<title>3125217745488</title>\n",
       "<polygon fill=\"none\" stroke=\"black\" points=\"838,-132.5 838,-201.5 920,-201.5 920,-132.5 838,-132.5\"/>\n",
       "<text text-anchor=\"middle\" x=\"879\" y=\"-186.3\" font-family=\"Times New Roman,serif\" font-size=\"14.00\"> </text>\n",
       "<polyline fill=\"none\" stroke=\"black\" points=\"838,-178.5 920,-178.5 \"/>\n",
       "<text text-anchor=\"middle\" x=\"879\" y=\"-163.3\" font-family=\"Times New Roman,serif\" font-size=\"14.00\">data 0.3716</text>\n",
       "<polyline fill=\"none\" stroke=\"black\" points=\"838,-155.5 920,-155.5 \"/>\n",
       "<text text-anchor=\"middle\" x=\"879\" y=\"-140.3\" font-family=\"Times New Roman,serif\" font-size=\"14.00\">grad 0.0000</text>\n",
       "</g>\n",
       "<!-- 3125217745488tanh -->\n",
       "<g id=\"node3\" class=\"node\">\n",
       "<title>3125217745488tanh</title>\n",
       "<ellipse fill=\"none\" stroke=\"black\" cx=\"775\" cy=\"-167\" rx=\"27\" ry=\"18\"/>\n",
       "<text text-anchor=\"middle\" x=\"775\" y=\"-163.3\" font-family=\"Times New Roman,serif\" font-size=\"14.00\">tanh</text>\n",
       "</g>\n",
       "<!-- 3125217745488tanh&#45;&gt;3125217745488 -->\n",
       "<g id=\"edge1\" class=\"edge\">\n",
       "<title>3125217745488tanh&#45;&gt;3125217745488</title>\n",
       "<path fill=\"none\" stroke=\"black\" d=\"M802,-167C809.81,-167 818.65,-167 827.48,-167\"/>\n",
       "<polygon fill=\"black\" stroke=\"black\" points=\"827.76,-170.5 837.76,-167 827.76,-163.5 827.76,-170.5\"/>\n",
       "</g>\n",
       "<!-- 3125217747536 -->\n",
       "<g id=\"node4\" class=\"node\">\n",
       "<title>3125217747536</title>\n",
       "<polygon fill=\"none\" stroke=\"black\" points=\"209.5,-88.5 209.5,-157.5 291.5,-157.5 291.5,-88.5 209.5,-88.5\"/>\n",
       "<text text-anchor=\"middle\" x=\"250.5\" y=\"-142.3\" font-family=\"Times New Roman,serif\" font-size=\"14.00\"> </text>\n",
       "<polyline fill=\"none\" stroke=\"black\" points=\"209.5,-134.5 291.5,-134.5 \"/>\n",
       "<text text-anchor=\"middle\" x=\"250.5\" y=\"-119.3\" font-family=\"Times New Roman,serif\" font-size=\"14.00\">data 1.6468</text>\n",
       "<polyline fill=\"none\" stroke=\"black\" points=\"209.5,-111.5 291.5,-111.5 \"/>\n",
       "<text text-anchor=\"middle\" x=\"250.5\" y=\"-96.3\" font-family=\"Times New Roman,serif\" font-size=\"14.00\">grad 0.0000</text>\n",
       "</g>\n",
       "<!-- 3125217747408+ -->\n",
       "<g id=\"node15\" class=\"node\">\n",
       "<title>3125217747408+</title>\n",
       "<ellipse fill=\"none\" stroke=\"black\" cx=\"356\" cy=\"-123\" rx=\"27\" ry=\"18\"/>\n",
       "<text text-anchor=\"middle\" x=\"356\" y=\"-119.3\" font-family=\"Times New Roman,serif\" font-size=\"14.00\">+</text>\n",
       "</g>\n",
       "<!-- 3125217747536&#45;&gt;3125217747408+ -->\n",
       "<g id=\"edge9\" class=\"edge\">\n",
       "<title>3125217747536&#45;&gt;3125217747408+</title>\n",
       "<path fill=\"none\" stroke=\"black\" d=\"M291.52,-123C300.41,-123 309.8,-123 318.54,-123\"/>\n",
       "<polygon fill=\"black\" stroke=\"black\" points=\"318.82,-126.5 328.82,-123 318.82,-119.5 318.82,-126.5\"/>\n",
       "</g>\n",
       "<!-- 3125217747536* -->\n",
       "<g id=\"node5\" class=\"node\">\n",
       "<title>3125217747536*</title>\n",
       "<ellipse fill=\"none\" stroke=\"black\" cx=\"145\" cy=\"-123\" rx=\"27\" ry=\"18\"/>\n",
       "<text text-anchor=\"middle\" x=\"145\" y=\"-119.3\" font-family=\"Times New Roman,serif\" font-size=\"14.00\">*</text>\n",
       "</g>\n",
       "<!-- 3125217747536*&#45;&gt;3125217747536 -->\n",
       "<g id=\"edge2\" class=\"edge\">\n",
       "<title>3125217747536*&#45;&gt;3125217747536</title>\n",
       "<path fill=\"none\" stroke=\"black\" d=\"M172.12,-123C180.39,-123 189.82,-123 199.19,-123\"/>\n",
       "<polygon fill=\"black\" stroke=\"black\" points=\"199.28,-126.5 209.28,-123 199.28,-119.5 199.28,-126.5\"/>\n",
       "</g>\n",
       "<!-- 3125217750096 -->\n",
       "<g id=\"node6\" class=\"node\">\n",
       "<title>3125217750096</title>\n",
       "<polygon fill=\"none\" stroke=\"black\" points=\"208,-0.5 208,-69.5 293,-69.5 293,-0.5 208,-0.5\"/>\n",
       "<text text-anchor=\"middle\" x=\"250.5\" y=\"-54.3\" font-family=\"Times New Roman,serif\" font-size=\"14.00\"> </text>\n",
       "<polyline fill=\"none\" stroke=\"black\" points=\"208,-46.5 293,-46.5 \"/>\n",
       "<text text-anchor=\"middle\" x=\"250.5\" y=\"-31.3\" font-family=\"Times New Roman,serif\" font-size=\"14.00\">data &#45;0.5692</text>\n",
       "<polyline fill=\"none\" stroke=\"black\" points=\"208,-23.5 293,-23.5 \"/>\n",
       "<text text-anchor=\"middle\" x=\"250.5\" y=\"-8.3\" font-family=\"Times New Roman,serif\" font-size=\"14.00\">grad 0.0000</text>\n",
       "</g>\n",
       "<!-- 3125217750096&#45;&gt;3125217747408+ -->\n",
       "<g id=\"edge12\" class=\"edge\">\n",
       "<title>3125217750096&#45;&gt;3125217747408+</title>\n",
       "<path fill=\"none\" stroke=\"black\" d=\"M292.11,-69.53C305.14,-80.61 319.17,-92.53 330.66,-102.3\"/>\n",
       "<polygon fill=\"black\" stroke=\"black\" points=\"328.64,-105.18 338.52,-108.99 333.17,-99.85 328.64,-105.18\"/>\n",
       "</g>\n",
       "<!-- 3125217746640 -->\n",
       "<g id=\"node7\" class=\"node\">\n",
       "<title>3125217746640</title>\n",
       "<polygon fill=\"none\" stroke=\"black\" points=\"208,-176.5 208,-245.5 293,-245.5 293,-176.5 208,-176.5\"/>\n",
       "<text text-anchor=\"middle\" x=\"250.5\" y=\"-230.3\" font-family=\"Times New Roman,serif\" font-size=\"14.00\"> </text>\n",
       "<polyline fill=\"none\" stroke=\"black\" points=\"208,-222.5 293,-222.5 \"/>\n",
       "<text text-anchor=\"middle\" x=\"250.5\" y=\"-207.3\" font-family=\"Times New Roman,serif\" font-size=\"14.00\">data &#45;0.2291</text>\n",
       "<polyline fill=\"none\" stroke=\"black\" points=\"208,-199.5 293,-199.5 \"/>\n",
       "<text text-anchor=\"middle\" x=\"250.5\" y=\"-184.3\" font-family=\"Times New Roman,serif\" font-size=\"14.00\">grad 0.0000</text>\n",
       "</g>\n",
       "<!-- 3125217746640&#45;&gt;3125217399632* -->\n",
       "<g id=\"edge14\" class=\"edge\">\n",
       "<title>3125217746640&#45;&gt;3125217399632*</title>\n",
       "<path fill=\"none\" stroke=\"black\" d=\"M293,-211C301.54,-211 310.47,-211 318.81,-211\"/>\n",
       "<polygon fill=\"black\" stroke=\"black\" points=\"318.97,-214.5 328.97,-211 318.97,-207.5 318.97,-214.5\"/>\n",
       "</g>\n",
       "<!-- 3125217752272 -->\n",
       "<g id=\"node8\" class=\"node\">\n",
       "<title>3125217752272</title>\n",
       "<polygon fill=\"none\" stroke=\"black\" points=\"0,-132.5 0,-201.5 82,-201.5 82,-132.5 0,-132.5\"/>\n",
       "<text text-anchor=\"middle\" x=\"41\" y=\"-186.3\" font-family=\"Times New Roman,serif\" font-size=\"14.00\"> </text>\n",
       "<polyline fill=\"none\" stroke=\"black\" points=\"0,-178.5 82,-178.5 \"/>\n",
       "<text text-anchor=\"middle\" x=\"41\" y=\"-163.3\" font-family=\"Times New Roman,serif\" font-size=\"14.00\">data 0.8234</text>\n",
       "<polyline fill=\"none\" stroke=\"black\" points=\"0,-155.5 82,-155.5 \"/>\n",
       "<text text-anchor=\"middle\" x=\"41\" y=\"-140.3\" font-family=\"Times New Roman,serif\" font-size=\"14.00\">grad 0.0000</text>\n",
       "</g>\n",
       "<!-- 3125217752272&#45;&gt;3125217747536* -->\n",
       "<g id=\"edge11\" class=\"edge\">\n",
       "<title>3125217752272&#45;&gt;3125217747536*</title>\n",
       "<path fill=\"none\" stroke=\"black\" d=\"M82.02,-149.74C92.23,-145.33 103.06,-140.66 112.77,-136.47\"/>\n",
       "<polygon fill=\"black\" stroke=\"black\" points=\"114.23,-139.65 122.03,-132.48 111.46,-133.23 114.23,-139.65\"/>\n",
       "</g>\n",
       "<!-- 3125217407248 -->\n",
       "<g id=\"node9\" class=\"node\">\n",
       "<title>3125217407248</title>\n",
       "<polygon fill=\"none\" stroke=\"black\" points=\"630,-132.5 630,-201.5 712,-201.5 712,-132.5 630,-132.5\"/>\n",
       "<text text-anchor=\"middle\" x=\"671\" y=\"-186.3\" font-family=\"Times New Roman,serif\" font-size=\"14.00\"> </text>\n",
       "<polyline fill=\"none\" stroke=\"black\" points=\"630,-178.5 712,-178.5 \"/>\n",
       "<text text-anchor=\"middle\" x=\"671\" y=\"-163.3\" font-family=\"Times New Roman,serif\" font-size=\"14.00\">data 0.3903</text>\n",
       "<polyline fill=\"none\" stroke=\"black\" points=\"630,-155.5 712,-155.5 \"/>\n",
       "<text text-anchor=\"middle\" x=\"671\" y=\"-140.3\" font-family=\"Times New Roman,serif\" font-size=\"14.00\">grad 0.0000</text>\n",
       "</g>\n",
       "<!-- 3125217407248&#45;&gt;3125217745488tanh -->\n",
       "<g id=\"edge8\" class=\"edge\">\n",
       "<title>3125217407248&#45;&gt;3125217745488tanh</title>\n",
       "<path fill=\"none\" stroke=\"black\" d=\"M712.02,-167C720.5,-167 729.4,-167 737.73,-167\"/>\n",
       "<polygon fill=\"black\" stroke=\"black\" points=\"737.89,-170.5 747.89,-167 737.89,-163.5 737.89,-170.5\"/>\n",
       "</g>\n",
       "<!-- 3125217407248+ -->\n",
       "<g id=\"node10\" class=\"node\">\n",
       "<title>3125217407248+</title>\n",
       "<ellipse fill=\"none\" stroke=\"black\" cx=\"567\" cy=\"-167\" rx=\"27\" ry=\"18\"/>\n",
       "<text text-anchor=\"middle\" x=\"567\" y=\"-163.3\" font-family=\"Times New Roman,serif\" font-size=\"14.00\">+</text>\n",
       "</g>\n",
       "<!-- 3125217407248+&#45;&gt;3125217407248 -->\n",
       "<g id=\"edge3\" class=\"edge\">\n",
       "<title>3125217407248+&#45;&gt;3125217407248</title>\n",
       "<path fill=\"none\" stroke=\"black\" d=\"M594,-167C601.81,-167 610.65,-167 619.48,-167\"/>\n",
       "<polygon fill=\"black\" stroke=\"black\" points=\"619.76,-170.5 629.76,-167 619.76,-163.5 619.76,-170.5\"/>\n",
       "</g>\n",
       "<!-- 3125217750288 -->\n",
       "<g id=\"node11\" class=\"node\">\n",
       "<title>3125217750288</title>\n",
       "<polygon fill=\"none\" stroke=\"black\" points=\"0,-44.5 0,-113.5 82,-113.5 82,-44.5 0,-44.5\"/>\n",
       "<text text-anchor=\"middle\" x=\"41\" y=\"-98.3\" font-family=\"Times New Roman,serif\" font-size=\"14.00\"> </text>\n",
       "<polyline fill=\"none\" stroke=\"black\" points=\"0,-90.5 82,-90.5 \"/>\n",
       "<text text-anchor=\"middle\" x=\"41\" y=\"-75.3\" font-family=\"Times New Roman,serif\" font-size=\"14.00\">data 2.0000</text>\n",
       "<polyline fill=\"none\" stroke=\"black\" points=\"0,-67.5 82,-67.5 \"/>\n",
       "<text text-anchor=\"middle\" x=\"41\" y=\"-52.3\" font-family=\"Times New Roman,serif\" font-size=\"14.00\">grad 0.0000</text>\n",
       "</g>\n",
       "<!-- 3125217750288&#45;&gt;3125217747536* -->\n",
       "<g id=\"edge13\" class=\"edge\">\n",
       "<title>3125217750288&#45;&gt;3125217747536*</title>\n",
       "<path fill=\"none\" stroke=\"black\" d=\"M82.02,-96.26C92.23,-100.67 103.06,-105.34 112.77,-109.53\"/>\n",
       "<polygon fill=\"black\" stroke=\"black\" points=\"111.46,-112.77 122.03,-113.52 114.23,-106.35 111.46,-112.77\"/>\n",
       "</g>\n",
       "<!-- 3125217399632 -->\n",
       "<g id=\"node12\" class=\"node\">\n",
       "<title>3125217399632</title>\n",
       "<polygon fill=\"none\" stroke=\"black\" points=\"419,-176.5 419,-245.5 504,-245.5 504,-176.5 419,-176.5\"/>\n",
       "<text text-anchor=\"middle\" x=\"461.5\" y=\"-230.3\" font-family=\"Times New Roman,serif\" font-size=\"14.00\"> </text>\n",
       "<polyline fill=\"none\" stroke=\"black\" points=\"419,-222.5 504,-222.5 \"/>\n",
       "<text text-anchor=\"middle\" x=\"461.5\" y=\"-207.3\" font-family=\"Times New Roman,serif\" font-size=\"14.00\">data &#45;0.6873</text>\n",
       "<polyline fill=\"none\" stroke=\"black\" points=\"419,-199.5 504,-199.5 \"/>\n",
       "<text text-anchor=\"middle\" x=\"461.5\" y=\"-184.3\" font-family=\"Times New Roman,serif\" font-size=\"14.00\">grad 0.0000</text>\n",
       "</g>\n",
       "<!-- 3125217399632&#45;&gt;3125217407248+ -->\n",
       "<g id=\"edge6\" class=\"edge\">\n",
       "<title>3125217399632&#45;&gt;3125217407248+</title>\n",
       "<path fill=\"none\" stroke=\"black\" d=\"M504,-193.36C514.21,-189.02 524.97,-184.44 534.61,-180.34\"/>\n",
       "<polygon fill=\"black\" stroke=\"black\" points=\"535.98,-183.56 543.81,-176.43 533.24,-177.12 535.98,-183.56\"/>\n",
       "</g>\n",
       "<!-- 3125217399632*&#45;&gt;3125217399632 -->\n",
       "<g id=\"edge4\" class=\"edge\">\n",
       "<title>3125217399632*&#45;&gt;3125217399632</title>\n",
       "<path fill=\"none\" stroke=\"black\" d=\"M383.12,-211C390.87,-211 399.64,-211 408.42,-211\"/>\n",
       "<polygon fill=\"black\" stroke=\"black\" points=\"408.68,-214.5 418.68,-211 408.68,-207.5 408.68,-214.5\"/>\n",
       "</g>\n",
       "<!-- 3125217747408 -->\n",
       "<g id=\"node14\" class=\"node\">\n",
       "<title>3125217747408</title>\n",
       "<polygon fill=\"none\" stroke=\"black\" points=\"420.5,-88.5 420.5,-157.5 502.5,-157.5 502.5,-88.5 420.5,-88.5\"/>\n",
       "<text text-anchor=\"middle\" x=\"461.5\" y=\"-142.3\" font-family=\"Times New Roman,serif\" font-size=\"14.00\"> </text>\n",
       "<polyline fill=\"none\" stroke=\"black\" points=\"420.5,-134.5 502.5,-134.5 \"/>\n",
       "<text text-anchor=\"middle\" x=\"461.5\" y=\"-119.3\" font-family=\"Times New Roman,serif\" font-size=\"14.00\">data 1.0776</text>\n",
       "<polyline fill=\"none\" stroke=\"black\" points=\"420.5,-111.5 502.5,-111.5 \"/>\n",
       "<text text-anchor=\"middle\" x=\"461.5\" y=\"-96.3\" font-family=\"Times New Roman,serif\" font-size=\"14.00\">grad 0.0000</text>\n",
       "</g>\n",
       "<!-- 3125217747408&#45;&gt;3125217407248+ -->\n",
       "<g id=\"edge10\" class=\"edge\">\n",
       "<title>3125217747408&#45;&gt;3125217407248+</title>\n",
       "<path fill=\"none\" stroke=\"black\" d=\"M502.52,-140.01C513.12,-144.52 524.42,-149.32 534.5,-153.61\"/>\n",
       "<polygon fill=\"black\" stroke=\"black\" points=\"533.16,-156.84 543.73,-157.53 535.9,-150.4 533.16,-156.84\"/>\n",
       "</g>\n",
       "<!-- 3125217747408+&#45;&gt;3125217747408 -->\n",
       "<g id=\"edge5\" class=\"edge\">\n",
       "<title>3125217747408+&#45;&gt;3125217747408</title>\n",
       "<path fill=\"none\" stroke=\"black\" d=\"M383.12,-123C391.39,-123 400.82,-123 410.19,-123\"/>\n",
       "<polygon fill=\"black\" stroke=\"black\" points=\"410.28,-126.5 420.28,-123 410.28,-119.5 410.28,-126.5\"/>\n",
       "</g>\n",
       "</g>\n",
       "</svg>\n"
      ],
      "text/plain": [
       "<graphviz.graphs.Digraph at 0x2d7a59ee050>"
      ]
     },
     "execution_count": 26,
     "metadata": {},
     "output_type": "execute_result"
    }
   ],
   "source": [
    "draw_graph(out)"
   ]
  },
  {
   "cell_type": "code",
   "execution_count": 27,
   "id": "e6233ceb-d729-417d-86f9-0c7631940809",
   "metadata": {
    "tags": []
   },
   "outputs": [
    {
     "data": {
      "text/plain": [
       "[Value(data=-0.8477021342176236),\n",
       " Value(data=-0.8144571427488692),\n",
       " Value(data=0.4385724471495478),\n",
       " Value(data=-0.9108692372609433),\n",
       " Value(data=0.42335363425509676),\n",
       " Value(data=0.19934283047151147),\n",
       " Value(data=0.22210752057809247),\n",
       " Value(data=0.7487958832707964),\n",
       " Value(data=-0.6283961961671862)]"
      ]
     },
     "execution_count": 27,
     "metadata": {},
     "output_type": "execute_result"
    }
   ],
   "source": [
    "l = Layer(2,3)\n",
    "l([2,3])\n",
    "l.parameters()"
   ]
  },
  {
   "cell_type": "code",
   "execution_count": 28,
   "id": "e7524d67-58c9-49ae-b6cf-b088cabc321d",
   "metadata": {
    "tags": []
   },
   "outputs": [],
   "source": [
    "n = MLP(3,[2,1])\n",
    "X = [\n",
    "  [2.0, 3.0, -1.0],\n",
    "  [3.0, -1.0, 0.5],\n",
    "  [0.5, 1.0, 1.0],\n",
    "  [1.0, 1.0, -1.0],\n",
    "]\n",
    "y = [1.0, -1.0, -1.0, 1.0]"
   ]
  },
  {
   "cell_type": "code",
   "execution_count": 29,
   "id": "af549d35-8576-44c0-b4af-d1b39ebb2da9",
   "metadata": {
    "tags": []
   },
   "outputs": [],
   "source": [
    "ypred = [n(x) for x in X]\n",
    "loss = sum((yout - ygt)**2 for ygt, yout in zip(y, ypred))"
   ]
  },
  {
   "cell_type": "code",
   "execution_count": 30,
   "id": "ec7ad9c5-499e-4d83-85c8-94cb01e4237d",
   "metadata": {
    "tags": []
   },
   "outputs": [],
   "source": [
    "loss.backward()"
   ]
  },
  {
   "cell_type": "code",
   "execution_count": 31,
   "id": "b65480c3-3867-4e81-8a96-db85a72ced8b",
   "metadata": {
    "tags": []
   },
   "outputs": [
    {
     "data": {
      "text/plain": [
       "0.49220447124071376"
      ]
     },
     "execution_count": 31,
     "metadata": {},
     "output_type": "execute_result"
    }
   ],
   "source": [
    "n.layers[0].neurons[0].w[0].grad"
   ]
  },
  {
   "cell_type": "code",
   "execution_count": 32,
   "id": "c10fd87d-289d-449d-83cb-12f5d52f49a6",
   "metadata": {
    "tags": []
   },
   "outputs": [],
   "source": [
    "X = [\n",
    "  [2.0, 3.0, -1.0],\n",
    "  [3.0, -1.0, 0.5],\n",
    "  [0.5, 1.0, 1.0],\n",
    "  [1.0, 1.0, -1.0],\n",
    "]\n",
    "y = [1.0, -1.0, -1.0, 1.0] # desired targets\n",
    "n = MLP(3,[8,8,1])"
   ]
  },
  {
   "cell_type": "code",
   "execution_count": 33,
   "id": "6a71a698-1e4d-4cac-8f93-627f3750d456",
   "metadata": {
    "tags": []
   },
   "outputs": [
    {
     "name": "stdout",
     "output_type": "stream",
     "text": [
      "Epoch : 0, Loss : 1.1988790890253214\n",
      "Epoch : 1, Loss : 0.018543578252163462\n",
      "Epoch : 2, Loss : 0.010629600820855768\n",
      "Epoch : 3, Loss : 0.007852842232162042\n",
      "Epoch : 4, Loss : 0.006336609393081522\n",
      "Epoch : 5, Loss : 0.005361954743221691\n",
      "Epoch : 6, Loss : 0.004675881477831747\n",
      "Epoch : 7, Loss : 0.004163669897152096\n",
      "Epoch : 8, Loss : 0.003765037165555367\n",
      "Epoch : 9, Loss : 0.003445023773382792\n",
      "Epoch : 10, Loss : 0.0031818584141128795\n",
      "Epoch : 11, Loss : 0.002961227788556955\n",
      "Epoch : 12, Loss : 0.002773310905637385\n",
      "Epoch : 13, Loss : 0.0026111316648032698\n",
      "Epoch : 14, Loss : 0.002469590602939073\n",
      "Epoch : 15, Loss : 0.002344868911084724\n",
      "Epoch : 16, Loss : 0.0022340471663528437\n",
      "Epoch : 17, Loss : 0.0021348533071236376\n",
      "Epoch : 18, Loss : 0.0020454912830954568\n",
      "Epoch : 19, Loss : 0.001964521667109652\n"
     ]
    }
   ],
   "source": [
    "for epoch in range(20):\n",
    "    y_pred = [n(x) for x in X]\n",
    "    loss = sum(((yt- yh) ** 2 for yt,yh in zip(y,y_pred)))\n",
    "    print(f\"Epoch : {epoch}, Loss : {loss.data}\")\n",
    "    for param in n.parameters():\n",
    "        param.grad = 0.0\n",
    "    loss.backward()\n",
    "    for param in n.parameters():\n",
    "        param.data += -0.1 * param.grad\n",
    "        \n",
    "    "
   ]
  },
  {
   "cell_type": "code",
   "execution_count": 34,
   "id": "d1873466-1f13-4690-8b07-c577d86593a8",
   "metadata": {
    "tags": []
   },
   "outputs": [
    {
     "data": {
      "text/plain": [
       "[Value(data=0.9931713789050386),\n",
       " Value(data=-0.9859372383970603),\n",
       " Value(data=-0.9598699530263672),\n",
       " Value(data=0.9895257617439733)]"
      ]
     },
     "execution_count": 34,
     "metadata": {},
     "output_type": "execute_result"
    }
   ],
   "source": [
    "y_pred"
   ]
  },
  {
   "cell_type": "code",
   "execution_count": 35,
   "id": "c8f75214-c31a-40cd-9e12-20d320c2372c",
   "metadata": {
    "tags": []
   },
   "outputs": [],
   "source": [
    "out = draw_graph(loss)"
   ]
  },
  {
   "cell_type": "code",
   "execution_count": 36,
   "id": "3f854669-42b0-456f-aa3c-8156d3aea488",
   "metadata": {
    "tags": []
   },
   "outputs": [
    {
     "data": {
      "text/plain": [
       "graphviz.graphs.Digraph"
      ]
     },
     "execution_count": 36,
     "metadata": {},
     "output_type": "execute_result"
    }
   ],
   "source": [
    "type(out)"
   ]
  },
  {
   "cell_type": "code",
   "execution_count": 37,
   "id": "cdce303c-1af9-4ef4-b362-8a11ebea23f9",
   "metadata": {
    "tags": []
   },
   "outputs": [
    {
     "name": "stderr",
     "output_type": "stream",
     "text": [
      "\n",
      "(process:29584): GLib-GIO-WARNING **: 20:58:57.625: Unexpectedly, UWP app `Microsoft.ScreenSketch_11.2309.16.0_x64__8wekyb3d8bbwe' (AUMId `Microsoft.ScreenSketch_8wekyb3d8bbwe!App') supports 29 extensions but has no verbs\n",
      "\n",
      "(process:29584): GLib-GIO-WARNING **: 20:58:57.640: Unexpectedly, UWP app `Clipchamp.Clipchamp_2.8.1.0_neutral__yxz26nhyzhsrt' (AUMId `Clipchamp.Clipchamp_yxz26nhyzhsrt!App') supports 41 extensions but has no verbs\n"
     ]
    },
    {
     "data": {
      "text/plain": [
       "'net.png\\\\net.pdf'"
      ]
     },
     "execution_count": 37,
     "metadata": {},
     "output_type": "execute_result"
    }
   ],
   "source": [
    "out.render(\"net\", format=\"pdf\")"
   ]
  },
  {
   "cell_type": "code",
   "execution_count": null,
   "id": "6b1cc998-c549-413d-b3d4-9f81d26c9216",
   "metadata": {},
   "outputs": [],
   "source": []
  }
 ],
 "metadata": {
  "kernelspec": {
   "display_name": "Python 3 (ipykernel)",
   "language": "python",
   "name": "python3"
  },
  "language_info": {
   "codemirror_mode": {
    "name": "ipython",
    "version": 3
   },
   "file_extension": ".py",
   "mimetype": "text/x-python",
   "name": "python",
   "nbconvert_exporter": "python",
   "pygments_lexer": "ipython3",
   "version": "3.9.18"
  }
 },
 "nbformat": 4,
 "nbformat_minor": 5
}

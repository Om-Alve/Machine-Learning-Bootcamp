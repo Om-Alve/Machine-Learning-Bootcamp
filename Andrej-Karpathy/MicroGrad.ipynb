{
 "cells": [
  {
   "cell_type": "code",
   "execution_count": 101,
   "id": "2c349402-8586-4d52-9b96-bc35c67d92f1",
   "metadata": {
    "tags": []
   },
   "outputs": [],
   "source": [
    "import numpy as np\n",
    "import matplotlib as plt\n",
    "import math\n",
    "from graphviz import Digraph\n",
    "import random"
   ]
  },
  {
   "cell_type": "code",
   "execution_count": 102,
   "id": "bb364133-ed93-48bd-ab46-456426b9fcbf",
   "metadata": {
    "tags": []
   },
   "outputs": [],
   "source": [
    "class Value:\n",
    "    def __init__(self, data, _children=(), _op='', label=''):\n",
    "        self.data = data\n",
    "        self.grad = 0.0\n",
    "        self._prev = set(_children)\n",
    "        self._op = _op\n",
    "        self.label = label\n",
    "        self._backward = lambda : None\n",
    "\n",
    "    def __repr__(self):\n",
    "        return f\"Value(data={self.data})\"\n",
    "  \n",
    "    def __add__(self, other):\n",
    "        other = other if isinstance(other,Value) else Value(other)\n",
    "        out = Value(self.data + other.data, (self, other), '+')\n",
    "        def _backward():\n",
    "            self.grad += 1.0 * out.grad\n",
    "            other.grad += 1.0 * out.grad\n",
    "        out._backward = _backward\n",
    "        return out\n",
    "\n",
    "    def __mul__(self, other):\n",
    "        other = other if isinstance(other,Value) else Value(other)\n",
    "        out = Value(self.data * other.data, (self, other), '*')\n",
    "        def _backward():\n",
    "            self.grad += other.data * out.grad\n",
    "            other.grad += self.data * out.grad\n",
    "        out._backward = _backward\n",
    "        return out\n",
    "    \n",
    "    def __pow__(self,other):\n",
    "        assert isinstance(other,(int,float))\n",
    "        out = Value(self.data ** other,(self,),f\"**{other}\")\n",
    "        def _backward():\n",
    "            self.grad += other * (self.data ** (other - 1)) * out.grad\n",
    "        out._backward = _backward\n",
    "        return out\n",
    "    \n",
    "    def __rmul__(self,other):\n",
    "        return self * other\n",
    "\n",
    "    def __radd__(self,other):\n",
    "        return self + other\n",
    "    \n",
    "    def __sub__(self,other):\n",
    "        return self + (-other) \n",
    "    def __rsub__(self,other):\n",
    "        return self - other\n",
    "    def __neg__(self):\n",
    "        return self * -1\n",
    "    def __truediv__(self,other):\n",
    "        return self * other ** -1\n",
    "    \n",
    "    \n",
    "    def exp(self):\n",
    "        x = self.data\n",
    "        out = Value(math.exp(x),_children=(self,),_op='exp')\n",
    "        def _backward():\n",
    "            self.grad += out.data * out.grad\n",
    "        out._backward = _backward\n",
    "        return out\n",
    "    \n",
    "    def tanh(self):\n",
    "        x = self.data\n",
    "        t = (math.exp(2*x) - 1) / (math.exp(2*x) + 1)\n",
    "        out = Value(data=t,_children=(self,),_op='tanh')\n",
    "        def _backward():\n",
    "            self.grad += (1 - t ** 2) * out.grad \n",
    "        out._backward = _backward\n",
    "        return out\n",
    "    \n",
    "    def backward(self):\n",
    "        sorted_nodes = []\n",
    "        visited = set()\n",
    "        def topological_sort(n):\n",
    "            if n not in visited:\n",
    "                visited.add(n)\n",
    "                for child in n._prev:\n",
    "                    topological_sort(child)\n",
    "                sorted_nodes.append(n)\n",
    "        self.grad = 1.0\n",
    "        topological_sort(self)\n",
    "        for n in reversed(sorted_nodes):\n",
    "            n._backward()    "
   ]
  },
  {
   "cell_type": "code",
   "execution_count": 103,
   "id": "c019e85c-5d01-4dd3-aa4d-077a764dc024",
   "metadata": {
    "tags": []
   },
   "outputs": [
    {
     "data": {
      "text/plain": [
       "Value(data=3)"
      ]
     },
     "execution_count": 103,
     "metadata": {},
     "output_type": "execute_result"
    }
   ],
   "source": [
    "a = Value(3)\n",
    "a"
   ]
  },
  {
   "cell_type": "code",
   "execution_count": 104,
   "id": "8d068662-63f6-44b6-b7ed-a4d2c73071db",
   "metadata": {
    "tags": []
   },
   "outputs": [],
   "source": [
    "b = Value(2)"
   ]
  },
  {
   "cell_type": "code",
   "execution_count": 105,
   "id": "64a09c03-773f-4b38-878b-46d14e90d461",
   "metadata": {
    "tags": []
   },
   "outputs": [
    {
     "data": {
      "text/plain": [
       "Value(data=5)"
      ]
     },
     "execution_count": 105,
     "metadata": {},
     "output_type": "execute_result"
    }
   ],
   "source": [
    "a+b"
   ]
  },
  {
   "cell_type": "code",
   "execution_count": 106,
   "id": "4453546c-77a6-4b01-94f0-85d966784f04",
   "metadata": {
    "tags": []
   },
   "outputs": [],
   "source": [
    "d = a*b\n",
    "d.label ='d'\n",
    "a.label= 'a'\n",
    "b.label = 'b'"
   ]
  },
  {
   "cell_type": "code",
   "execution_count": 107,
   "id": "41aab060-360d-41ad-b96c-8b066432033f",
   "metadata": {
    "tags": []
   },
   "outputs": [
    {
     "data": {
      "text/plain": [
       "Value(data=8)"
      ]
     },
     "execution_count": 107,
     "metadata": {},
     "output_type": "execute_result"
    }
   ],
   "source": [
    "c=Value(2)\n",
    "a*b+c"
   ]
  },
  {
   "cell_type": "code",
   "execution_count": 108,
   "id": "7fd23c77-b9a9-466c-8525-b9f2f02308bf",
   "metadata": {
    "tags": []
   },
   "outputs": [
    {
     "data": {
      "text/plain": [
       "({Value(data=2), Value(data=3)}, '*')"
      ]
     },
     "execution_count": 108,
     "metadata": {},
     "output_type": "execute_result"
    }
   ],
   "source": [
    "d._prev,d._op"
   ]
  },
  {
   "cell_type": "code",
   "execution_count": 109,
   "id": "e67309cc-89b6-4a02-8f2b-7b9b1edaad25",
   "metadata": {
    "tags": []
   },
   "outputs": [
    {
     "name": "stdout",
     "output_type": "stream",
     "text": [
      "4.0\n"
     ]
    }
   ],
   "source": [
    "a = 2.0\n",
    "b = -3.0\n",
    "c = 10.0\n",
    "d = a*b + c\n",
    "print(d)"
   ]
  },
  {
   "cell_type": "code",
   "execution_count": 110,
   "id": "fa653473-2e40-47b9-8130-41260fb6544a",
   "metadata": {
    "tags": []
   },
   "outputs": [
    {
     "name": "stdout",
     "output_type": "stream",
     "text": [
      "d1 4.0\n",
      "d2 4.0001\n",
      "slope 0.9999999999976694\n"
     ]
    }
   ],
   "source": [
    "h = 0.0001\n",
    "\n",
    "# inputs\n",
    "a = 2.0\n",
    "b = -3.0\n",
    "c = 10.0\n",
    "\n",
    "d1 = a*b + c\n",
    "c += h\n",
    "d2 = a*b + c\n",
    "\n",
    "print('d1', d1)\n",
    "print('d2', d2)\n",
    "print('slope', (d2 - d1)/h)\n"
   ]
  },
  {
   "cell_type": "code",
   "execution_count": 145,
   "id": "61a86e86-1059-4bc3-a314-716bebc21ec5",
   "metadata": {
    "tags": []
   },
   "outputs": [],
   "source": [
    "def build_graph(root):\n",
    "    nodes,edges = set(),set()\n",
    "    def build(root):\n",
    "        if root not in nodes:\n",
    "            nodes.add(root)\n",
    "            for child in root._prev:\n",
    "                edges.add((child,root))\n",
    "                build(child)\n",
    "    build(root)\n",
    "    return nodes,edges\n",
    "\n",
    "def draw_graph(root):\n",
    "    graph = Digraph(format='png',directory='net.png',graph_attr={'rankdir':'LR'})\n",
    "    nodes,edges = build_graph(root)\n",
    "    for n in nodes:\n",
    "        uid = str(id(n))\n",
    "        graph.node(name=uid,label=\"%s | data %.4f | grad %.4f\"%(n.label,n.data,n.grad),shape='record')\n",
    "        if n._op:\n",
    "            opid = uid + n._op\n",
    "            graph.node(name=opid,label=n._op)\n",
    "            graph.edge(opid,uid)\n",
    "    for n1,n2 in edges:\n",
    "        graph.edge(str(id(n1)),str(id(n2))+n2._op)\n",
    "    return graph"
   ]
  },
  {
   "cell_type": "code",
   "execution_count": 112,
   "id": "a79872de-396d-42ac-bab1-e2b1f8dcbba9",
   "metadata": {
    "tags": []
   },
   "outputs": [
    {
     "data": {
      "text/plain": [
       "({Value(data=13), Value(data=2), Value(data=4), Value(data=6), Value(data=7)},\n",
       " {(Value(data=2), Value(data=6)),\n",
       "  (Value(data=4), Value(data=6)),\n",
       "  (Value(data=6), Value(data=13)),\n",
       "  (Value(data=7), Value(data=13))})"
      ]
     },
     "execution_count": 112,
     "metadata": {},
     "output_type": "execute_result"
    }
   ],
   "source": [
    "a = Value(2);a.label = 'a'\n",
    "b = Value(4);b.label = 'b'\n",
    "x = a + b;x.label='x'\n",
    "y = Value(7);y.label = 'y'\n",
    "z = x+y;z.label='z'\n",
    "build_graph(z)"
   ]
  },
  {
   "cell_type": "code",
   "execution_count": 113,
   "id": "cf98374c-e75f-45bf-82f6-d5c4d4ecd323",
   "metadata": {
    "tags": []
   },
   "outputs": [],
   "source": [
    "# inputs x1,x2\n",
    "x1 = Value(2.0, label='x1')\n",
    "x2 = Value(0.0, label='x2')\n",
    "# weights w1,w2\n",
    "w1 = Value(-3.0, label='w1')\n",
    "w2 = Value(1.0, label='w2')\n",
    "# bias of the neuron\n",
    "b = Value(6.8813735870195432, label='b')\n",
    "# x1*w1 + x2*w2 + b\n",
    "x1w1 = x1*w1; x1w1.label = 'x1*w1'\n",
    "x2w2 = x2*w2; x2w2.label = 'x2*w2'\n",
    "x1w1x2w2 = x1w1 + x2w2; x1w1x2w2.label = 'x1*w1 + x2*w2'\n",
    "n = x1w1x2w2 + b; n.label = 'n'\n",
    "o = n.tanh(); o.label = 'o'"
   ]
  },
  {
   "cell_type": "code",
   "execution_count": 114,
   "id": "4eb09e56-8a98-4ec1-a1a3-733fcb942670",
   "metadata": {
    "tags": []
   },
   "outputs": [
    {
     "data": {
      "image/svg+xml": [
       "<?xml version=\"1.0\" encoding=\"UTF-8\" standalone=\"no\"?>\n",
       "<!DOCTYPE svg PUBLIC \"-//W3C//DTD SVG 1.1//EN\"\n",
       " \"http://www.w3.org/Graphics/SVG/1.1/DTD/svg11.dtd\">\n",
       "<!-- Generated by graphviz version 2.50.0 (0)\n",
       " -->\n",
       "<!-- Pages: 1 -->\n",
       "<svg width=\"952pt\" height=\"342pt\"\n",
       " viewBox=\"0.00 0.00 952.00 342.00\" xmlns=\"http://www.w3.org/2000/svg\" xmlns:xlink=\"http://www.w3.org/1999/xlink\">\n",
       "<g id=\"graph0\" class=\"graph\" transform=\"scale(1 1) rotate(0) translate(4 338)\">\n",
       "<polygon fill=\"white\" stroke=\"transparent\" points=\"-4,4 -4,-338 948,-338 948,4 -4,4\"/>\n",
       "<!-- 2214478704656 -->\n",
       "<g id=\"node1\" class=\"node\">\n",
       "<title>2214478704656</title>\n",
       "<polygon fill=\"none\" stroke=\"black\" points=\"422,-132.5 422,-201.5 528,-201.5 528,-132.5 422,-132.5\"/>\n",
       "<text text-anchor=\"middle\" x=\"475\" y=\"-186.3\" font-family=\"Times New Roman,serif\" font-size=\"14.00\">x1*w1 + x2*w2</text>\n",
       "<polyline fill=\"none\" stroke=\"black\" points=\"422,-178.5 528,-178.5 \"/>\n",
       "<text text-anchor=\"middle\" x=\"475\" y=\"-163.3\" font-family=\"Times New Roman,serif\" font-size=\"14.00\">data &#45;6.0000</text>\n",
       "<polyline fill=\"none\" stroke=\"black\" points=\"422,-155.5 528,-155.5 \"/>\n",
       "<text text-anchor=\"middle\" x=\"475\" y=\"-140.3\" font-family=\"Times New Roman,serif\" font-size=\"14.00\">grad 0.0000</text>\n",
       "</g>\n",
       "<!-- 2214478703568+ -->\n",
       "<g id=\"node15\" class=\"node\">\n",
       "<title>2214478703568+</title>\n",
       "<ellipse fill=\"none\" stroke=\"black\" cx=\"591\" cy=\"-211\" rx=\"27\" ry=\"18\"/>\n",
       "<text text-anchor=\"middle\" x=\"591\" y=\"-207.3\" font-family=\"Times New Roman,serif\" font-size=\"14.00\">+</text>\n",
       "</g>\n",
       "<!-- 2214478704656&#45;&gt;2214478703568+ -->\n",
       "<g id=\"edge10\" class=\"edge\">\n",
       "<title>2214478704656&#45;&gt;2214478703568+</title>\n",
       "<path fill=\"none\" stroke=\"black\" d=\"M528.33,-187.2C538.39,-191.08 548.64,-195.04 557.83,-198.58\"/>\n",
       "<polygon fill=\"black\" stroke=\"black\" points=\"556.72,-201.91 567.31,-202.24 559.24,-195.38 556.72,-201.91\"/>\n",
       "</g>\n",
       "<!-- 2214478704656+ -->\n",
       "<g id=\"node2\" class=\"node\">\n",
       "<title>2214478704656+</title>\n",
       "<ellipse fill=\"none\" stroke=\"black\" cx=\"359\" cy=\"-167\" rx=\"27\" ry=\"18\"/>\n",
       "<text text-anchor=\"middle\" x=\"359\" y=\"-163.3\" font-family=\"Times New Roman,serif\" font-size=\"14.00\">+</text>\n",
       "</g>\n",
       "<!-- 2214478704656+&#45;&gt;2214478704656 -->\n",
       "<g id=\"edge1\" class=\"edge\">\n",
       "<title>2214478704656+&#45;&gt;2214478704656</title>\n",
       "<path fill=\"none\" stroke=\"black\" d=\"M386.15,-167C393.89,-167 402.71,-167 411.71,-167\"/>\n",
       "<polygon fill=\"black\" stroke=\"black\" points=\"411.9,-170.5 421.9,-167 411.9,-163.5 411.9,-170.5\"/>\n",
       "</g>\n",
       "<!-- 2214479568528 -->\n",
       "<g id=\"node3\" class=\"node\">\n",
       "<title>2214479568528</title>\n",
       "<polygon fill=\"none\" stroke=\"black\" points=\"862,-176.5 862,-245.5 944,-245.5 944,-176.5 862,-176.5\"/>\n",
       "<text text-anchor=\"middle\" x=\"903\" y=\"-230.3\" font-family=\"Times New Roman,serif\" font-size=\"14.00\">o</text>\n",
       "<polyline fill=\"none\" stroke=\"black\" points=\"862,-222.5 944,-222.5 \"/>\n",
       "<text text-anchor=\"middle\" x=\"903\" y=\"-207.3\" font-family=\"Times New Roman,serif\" font-size=\"14.00\">data 0.7071</text>\n",
       "<polyline fill=\"none\" stroke=\"black\" points=\"862,-199.5 944,-199.5 \"/>\n",
       "<text text-anchor=\"middle\" x=\"903\" y=\"-184.3\" font-family=\"Times New Roman,serif\" font-size=\"14.00\">grad 0.0000</text>\n",
       "</g>\n",
       "<!-- 2214479568528tanh -->\n",
       "<g id=\"node4\" class=\"node\">\n",
       "<title>2214479568528tanh</title>\n",
       "<ellipse fill=\"none\" stroke=\"black\" cx=\"799\" cy=\"-211\" rx=\"27\" ry=\"18\"/>\n",
       "<text text-anchor=\"middle\" x=\"799\" y=\"-207.3\" font-family=\"Times New Roman,serif\" font-size=\"14.00\">tanh</text>\n",
       "</g>\n",
       "<!-- 2214479568528tanh&#45;&gt;2214479568528 -->\n",
       "<g id=\"edge2\" class=\"edge\">\n",
       "<title>2214479568528tanh&#45;&gt;2214479568528</title>\n",
       "<path fill=\"none\" stroke=\"black\" d=\"M826,-211C833.81,-211 842.65,-211 851.48,-211\"/>\n",
       "<polygon fill=\"black\" stroke=\"black\" points=\"851.76,-214.5 861.76,-211 851.76,-207.5 851.76,-214.5\"/>\n",
       "</g>\n",
       "<!-- 2214478697680 -->\n",
       "<g id=\"node5\" class=\"node\">\n",
       "<title>2214478697680</title>\n",
       "<polygon fill=\"none\" stroke=\"black\" points=\"0,-88.5 0,-157.5 85,-157.5 85,-88.5 0,-88.5\"/>\n",
       "<text text-anchor=\"middle\" x=\"42.5\" y=\"-142.3\" font-family=\"Times New Roman,serif\" font-size=\"14.00\">w1</text>\n",
       "<polyline fill=\"none\" stroke=\"black\" points=\"0,-134.5 85,-134.5 \"/>\n",
       "<text text-anchor=\"middle\" x=\"42.5\" y=\"-119.3\" font-family=\"Times New Roman,serif\" font-size=\"14.00\">data &#45;3.0000</text>\n",
       "<polyline fill=\"none\" stroke=\"black\" points=\"0,-111.5 85,-111.5 \"/>\n",
       "<text text-anchor=\"middle\" x=\"42.5\" y=\"-96.3\" font-family=\"Times New Roman,serif\" font-size=\"14.00\">grad 0.0000</text>\n",
       "</g>\n",
       "<!-- 2214478697360* -->\n",
       "<g id=\"node12\" class=\"node\">\n",
       "<title>2214478697360*</title>\n",
       "<ellipse fill=\"none\" stroke=\"black\" cx=\"148\" cy=\"-123\" rx=\"27\" ry=\"18\"/>\n",
       "<text text-anchor=\"middle\" x=\"148\" y=\"-119.3\" font-family=\"Times New Roman,serif\" font-size=\"14.00\">*</text>\n",
       "</g>\n",
       "<!-- 2214478697680&#45;&gt;2214478697360* -->\n",
       "<g id=\"edge8\" class=\"edge\">\n",
       "<title>2214478697680&#45;&gt;2214478697360*</title>\n",
       "<path fill=\"none\" stroke=\"black\" d=\"M85,-123C93.54,-123 102.47,-123 110.81,-123\"/>\n",
       "<polygon fill=\"black\" stroke=\"black\" points=\"110.97,-126.5 120.97,-123 110.97,-119.5 110.97,-126.5\"/>\n",
       "</g>\n",
       "<!-- 2214478695120 -->\n",
       "<g id=\"node6\" class=\"node\">\n",
       "<title>2214478695120</title>\n",
       "<polygon fill=\"none\" stroke=\"black\" points=\"212.5,-176.5 212.5,-245.5 294.5,-245.5 294.5,-176.5 212.5,-176.5\"/>\n",
       "<text text-anchor=\"middle\" x=\"253.5\" y=\"-230.3\" font-family=\"Times New Roman,serif\" font-size=\"14.00\">x2*w2</text>\n",
       "<polyline fill=\"none\" stroke=\"black\" points=\"212.5,-222.5 294.5,-222.5 \"/>\n",
       "<text text-anchor=\"middle\" x=\"253.5\" y=\"-207.3\" font-family=\"Times New Roman,serif\" font-size=\"14.00\">data 0.0000</text>\n",
       "<polyline fill=\"none\" stroke=\"black\" points=\"212.5,-199.5 294.5,-199.5 \"/>\n",
       "<text text-anchor=\"middle\" x=\"253.5\" y=\"-184.3\" font-family=\"Times New Roman,serif\" font-size=\"14.00\">grad 0.0000</text>\n",
       "</g>\n",
       "<!-- 2214478695120&#45;&gt;2214478704656+ -->\n",
       "<g id=\"edge9\" class=\"edge\">\n",
       "<title>2214478695120&#45;&gt;2214478704656+</title>\n",
       "<path fill=\"none\" stroke=\"black\" d=\"M294.52,-193.99C305.12,-189.48 316.42,-184.68 326.5,-180.39\"/>\n",
       "<polygon fill=\"black\" stroke=\"black\" points=\"327.9,-183.6 335.73,-176.47 325.16,-177.16 327.9,-183.6\"/>\n",
       "</g>\n",
       "<!-- 2214478695120* -->\n",
       "<g id=\"node7\" class=\"node\">\n",
       "<title>2214478695120*</title>\n",
       "<ellipse fill=\"none\" stroke=\"black\" cx=\"148\" cy=\"-211\" rx=\"27\" ry=\"18\"/>\n",
       "<text text-anchor=\"middle\" x=\"148\" y=\"-207.3\" font-family=\"Times New Roman,serif\" font-size=\"14.00\">*</text>\n",
       "</g>\n",
       "<!-- 2214478695120*&#45;&gt;2214478695120 -->\n",
       "<g id=\"edge3\" class=\"edge\">\n",
       "<title>2214478695120*&#45;&gt;2214478695120</title>\n",
       "<path fill=\"none\" stroke=\"black\" d=\"M175.12,-211C183.39,-211 192.82,-211 202.19,-211\"/>\n",
       "<polygon fill=\"black\" stroke=\"black\" points=\"202.28,-214.5 212.28,-211 202.28,-207.5 202.28,-214.5\"/>\n",
       "</g>\n",
       "<!-- 2214478702480 -->\n",
       "<g id=\"node8\" class=\"node\">\n",
       "<title>2214478702480</title>\n",
       "<polygon fill=\"none\" stroke=\"black\" points=\"434,-220.5 434,-289.5 516,-289.5 516,-220.5 434,-220.5\"/>\n",
       "<text text-anchor=\"middle\" x=\"475\" y=\"-274.3\" font-family=\"Times New Roman,serif\" font-size=\"14.00\">b</text>\n",
       "<polyline fill=\"none\" stroke=\"black\" points=\"434,-266.5 516,-266.5 \"/>\n",
       "<text text-anchor=\"middle\" x=\"475\" y=\"-251.3\" font-family=\"Times New Roman,serif\" font-size=\"14.00\">data 6.8814</text>\n",
       "<polyline fill=\"none\" stroke=\"black\" points=\"434,-243.5 516,-243.5 \"/>\n",
       "<text text-anchor=\"middle\" x=\"475\" y=\"-228.3\" font-family=\"Times New Roman,serif\" font-size=\"14.00\">grad 0.0000</text>\n",
       "</g>\n",
       "<!-- 2214478702480&#45;&gt;2214478703568+ -->\n",
       "<g id=\"edge12\" class=\"edge\">\n",
       "<title>2214478702480&#45;&gt;2214478703568+</title>\n",
       "<path fill=\"none\" stroke=\"black\" d=\"M516.19,-239.49C529.78,-234.24 544.77,-228.46 557.67,-223.48\"/>\n",
       "<polygon fill=\"black\" stroke=\"black\" points=\"559,-226.72 567.07,-219.85 556.48,-220.19 559,-226.72\"/>\n",
       "</g>\n",
       "<!-- 2214478697808 -->\n",
       "<g id=\"node9\" class=\"node\">\n",
       "<title>2214478697808</title>\n",
       "<polygon fill=\"none\" stroke=\"black\" points=\"1.5,-264.5 1.5,-333.5 83.5,-333.5 83.5,-264.5 1.5,-264.5\"/>\n",
       "<text text-anchor=\"middle\" x=\"42.5\" y=\"-318.3\" font-family=\"Times New Roman,serif\" font-size=\"14.00\">x2</text>\n",
       "<polyline fill=\"none\" stroke=\"black\" points=\"1.5,-310.5 83.5,-310.5 \"/>\n",
       "<text text-anchor=\"middle\" x=\"42.5\" y=\"-295.3\" font-family=\"Times New Roman,serif\" font-size=\"14.00\">data 0.0000</text>\n",
       "<polyline fill=\"none\" stroke=\"black\" points=\"1.5,-287.5 83.5,-287.5 \"/>\n",
       "<text text-anchor=\"middle\" x=\"42.5\" y=\"-272.3\" font-family=\"Times New Roman,serif\" font-size=\"14.00\">grad 0.0000</text>\n",
       "</g>\n",
       "<!-- 2214478697808&#45;&gt;2214478695120* -->\n",
       "<g id=\"edge13\" class=\"edge\">\n",
       "<title>2214478697808&#45;&gt;2214478695120*</title>\n",
       "<path fill=\"none\" stroke=\"black\" d=\"M83.52,-264.98C96.83,-253.66 111.23,-241.41 122.95,-231.45\"/>\n",
       "<polygon fill=\"black\" stroke=\"black\" points=\"125.23,-234.1 130.59,-224.96 120.7,-228.77 125.23,-234.1\"/>\n",
       "</g>\n",
       "<!-- 2214478707024 -->\n",
       "<g id=\"node10\" class=\"node\">\n",
       "<title>2214478707024</title>\n",
       "<polygon fill=\"none\" stroke=\"black\" points=\"1.5,-176.5 1.5,-245.5 83.5,-245.5 83.5,-176.5 1.5,-176.5\"/>\n",
       "<text text-anchor=\"middle\" x=\"42.5\" y=\"-230.3\" font-family=\"Times New Roman,serif\" font-size=\"14.00\">w2</text>\n",
       "<polyline fill=\"none\" stroke=\"black\" points=\"1.5,-222.5 83.5,-222.5 \"/>\n",
       "<text text-anchor=\"middle\" x=\"42.5\" y=\"-207.3\" font-family=\"Times New Roman,serif\" font-size=\"14.00\">data 1.0000</text>\n",
       "<polyline fill=\"none\" stroke=\"black\" points=\"1.5,-199.5 83.5,-199.5 \"/>\n",
       "<text text-anchor=\"middle\" x=\"42.5\" y=\"-184.3\" font-family=\"Times New Roman,serif\" font-size=\"14.00\">grad 0.0000</text>\n",
       "</g>\n",
       "<!-- 2214478707024&#45;&gt;2214478695120* -->\n",
       "<g id=\"edge14\" class=\"edge\">\n",
       "<title>2214478707024&#45;&gt;2214478695120*</title>\n",
       "<path fill=\"none\" stroke=\"black\" d=\"M83.52,-211C92.41,-211 101.8,-211 110.54,-211\"/>\n",
       "<polygon fill=\"black\" stroke=\"black\" points=\"110.82,-214.5 120.82,-211 110.82,-207.5 110.82,-214.5\"/>\n",
       "</g>\n",
       "<!-- 2214478697360 -->\n",
       "<g id=\"node11\" class=\"node\">\n",
       "<title>2214478697360</title>\n",
       "<polygon fill=\"none\" stroke=\"black\" points=\"211,-88.5 211,-157.5 296,-157.5 296,-88.5 211,-88.5\"/>\n",
       "<text text-anchor=\"middle\" x=\"253.5\" y=\"-142.3\" font-family=\"Times New Roman,serif\" font-size=\"14.00\">x1*w1</text>\n",
       "<polyline fill=\"none\" stroke=\"black\" points=\"211,-134.5 296,-134.5 \"/>\n",
       "<text text-anchor=\"middle\" x=\"253.5\" y=\"-119.3\" font-family=\"Times New Roman,serif\" font-size=\"14.00\">data &#45;6.0000</text>\n",
       "<polyline fill=\"none\" stroke=\"black\" points=\"211,-111.5 296,-111.5 \"/>\n",
       "<text text-anchor=\"middle\" x=\"253.5\" y=\"-96.3\" font-family=\"Times New Roman,serif\" font-size=\"14.00\">grad 0.0000</text>\n",
       "</g>\n",
       "<!-- 2214478697360&#45;&gt;2214478704656+ -->\n",
       "<g id=\"edge11\" class=\"edge\">\n",
       "<title>2214478697360&#45;&gt;2214478704656+</title>\n",
       "<path fill=\"none\" stroke=\"black\" d=\"M296,-140.64C306.21,-144.98 316.97,-149.56 326.61,-153.66\"/>\n",
       "<polygon fill=\"black\" stroke=\"black\" points=\"325.24,-156.88 335.81,-157.57 327.98,-150.44 325.24,-156.88\"/>\n",
       "</g>\n",
       "<!-- 2214478697360*&#45;&gt;2214478697360 -->\n",
       "<g id=\"edge4\" class=\"edge\">\n",
       "<title>2214478697360*&#45;&gt;2214478697360</title>\n",
       "<path fill=\"none\" stroke=\"black\" d=\"M175.12,-123C182.87,-123 191.64,-123 200.42,-123\"/>\n",
       "<polygon fill=\"black\" stroke=\"black\" points=\"200.68,-126.5 210.68,-123 200.68,-119.5 200.68,-126.5\"/>\n",
       "</g>\n",
       "<!-- 2214478697936 -->\n",
       "<g id=\"node13\" class=\"node\">\n",
       "<title>2214478697936</title>\n",
       "<polygon fill=\"none\" stroke=\"black\" points=\"1.5,-0.5 1.5,-69.5 83.5,-69.5 83.5,-0.5 1.5,-0.5\"/>\n",
       "<text text-anchor=\"middle\" x=\"42.5\" y=\"-54.3\" font-family=\"Times New Roman,serif\" font-size=\"14.00\">x1</text>\n",
       "<polyline fill=\"none\" stroke=\"black\" points=\"1.5,-46.5 83.5,-46.5 \"/>\n",
       "<text text-anchor=\"middle\" x=\"42.5\" y=\"-31.3\" font-family=\"Times New Roman,serif\" font-size=\"14.00\">data 2.0000</text>\n",
       "<polyline fill=\"none\" stroke=\"black\" points=\"1.5,-23.5 83.5,-23.5 \"/>\n",
       "<text text-anchor=\"middle\" x=\"42.5\" y=\"-8.3\" font-family=\"Times New Roman,serif\" font-size=\"14.00\">grad 0.0000</text>\n",
       "</g>\n",
       "<!-- 2214478697936&#45;&gt;2214478697360* -->\n",
       "<g id=\"edge6\" class=\"edge\">\n",
       "<title>2214478697936&#45;&gt;2214478697360*</title>\n",
       "<path fill=\"none\" stroke=\"black\" d=\"M83.52,-69.02C96.83,-80.34 111.23,-92.59 122.95,-102.55\"/>\n",
       "<polygon fill=\"black\" stroke=\"black\" points=\"120.7,-105.23 130.59,-109.04 125.23,-99.9 120.7,-105.23\"/>\n",
       "</g>\n",
       "<!-- 2214478703568 -->\n",
       "<g id=\"node14\" class=\"node\">\n",
       "<title>2214478703568</title>\n",
       "<polygon fill=\"none\" stroke=\"black\" points=\"654,-176.5 654,-245.5 736,-245.5 736,-176.5 654,-176.5\"/>\n",
       "<text text-anchor=\"middle\" x=\"695\" y=\"-230.3\" font-family=\"Times New Roman,serif\" font-size=\"14.00\">n</text>\n",
       "<polyline fill=\"none\" stroke=\"black\" points=\"654,-222.5 736,-222.5 \"/>\n",
       "<text text-anchor=\"middle\" x=\"695\" y=\"-207.3\" font-family=\"Times New Roman,serif\" font-size=\"14.00\">data 0.8814</text>\n",
       "<polyline fill=\"none\" stroke=\"black\" points=\"654,-199.5 736,-199.5 \"/>\n",
       "<text text-anchor=\"middle\" x=\"695\" y=\"-184.3\" font-family=\"Times New Roman,serif\" font-size=\"14.00\">grad 0.0000</text>\n",
       "</g>\n",
       "<!-- 2214478703568&#45;&gt;2214479568528tanh -->\n",
       "<g id=\"edge7\" class=\"edge\">\n",
       "<title>2214478703568&#45;&gt;2214479568528tanh</title>\n",
       "<path fill=\"none\" stroke=\"black\" d=\"M736.02,-211C744.5,-211 753.4,-211 761.73,-211\"/>\n",
       "<polygon fill=\"black\" stroke=\"black\" points=\"761.89,-214.5 771.89,-211 761.89,-207.5 761.89,-214.5\"/>\n",
       "</g>\n",
       "<!-- 2214478703568+&#45;&gt;2214478703568 -->\n",
       "<g id=\"edge5\" class=\"edge\">\n",
       "<title>2214478703568+&#45;&gt;2214478703568</title>\n",
       "<path fill=\"none\" stroke=\"black\" d=\"M618,-211C625.81,-211 634.65,-211 643.48,-211\"/>\n",
       "<polygon fill=\"black\" stroke=\"black\" points=\"643.76,-214.5 653.76,-211 643.76,-207.5 643.76,-214.5\"/>\n",
       "</g>\n",
       "</g>\n",
       "</svg>\n"
      ],
      "text/plain": [
       "<graphviz.graphs.Digraph at 0x203995ea790>"
      ]
     },
     "execution_count": 114,
     "metadata": {},
     "output_type": "execute_result"
    }
   ],
   "source": [
    "draw_graph(o)"
   ]
  },
  {
   "cell_type": "code",
   "execution_count": 115,
   "id": "864cebc7-40d5-425d-9bef-88389abaeadc",
   "metadata": {},
   "outputs": [],
   "source": [
    "o.backward()"
   ]
  },
  {
   "cell_type": "code",
   "execution_count": 116,
   "id": "02818eba-30ae-43af-9689-d682473c7190",
   "metadata": {
    "tags": []
   },
   "outputs": [
    {
     "data": {
      "image/svg+xml": [
       "<?xml version=\"1.0\" encoding=\"UTF-8\" standalone=\"no\"?>\n",
       "<!DOCTYPE svg PUBLIC \"-//W3C//DTD SVG 1.1//EN\"\n",
       " \"http://www.w3.org/Graphics/SVG/1.1/DTD/svg11.dtd\">\n",
       "<!-- Generated by graphviz version 2.50.0 (0)\n",
       " -->\n",
       "<!-- Pages: 1 -->\n",
       "<svg width=\"953pt\" height=\"342pt\"\n",
       " viewBox=\"0.00 0.00 953.00 342.00\" xmlns=\"http://www.w3.org/2000/svg\" xmlns:xlink=\"http://www.w3.org/1999/xlink\">\n",
       "<g id=\"graph0\" class=\"graph\" transform=\"scale(1 1) rotate(0) translate(4 338)\">\n",
       "<polygon fill=\"white\" stroke=\"transparent\" points=\"-4,4 -4,-338 949,-338 949,4 -4,4\"/>\n",
       "<!-- 2214478704656 -->\n",
       "<g id=\"node1\" class=\"node\">\n",
       "<title>2214478704656</title>\n",
       "<polygon fill=\"none\" stroke=\"black\" points=\"423,-132.5 423,-201.5 529,-201.5 529,-132.5 423,-132.5\"/>\n",
       "<text text-anchor=\"middle\" x=\"476\" y=\"-186.3\" font-family=\"Times New Roman,serif\" font-size=\"14.00\">x1*w1 + x2*w2</text>\n",
       "<polyline fill=\"none\" stroke=\"black\" points=\"423,-178.5 529,-178.5 \"/>\n",
       "<text text-anchor=\"middle\" x=\"476\" y=\"-163.3\" font-family=\"Times New Roman,serif\" font-size=\"14.00\">data &#45;6.0000</text>\n",
       "<polyline fill=\"none\" stroke=\"black\" points=\"423,-155.5 529,-155.5 \"/>\n",
       "<text text-anchor=\"middle\" x=\"476\" y=\"-140.3\" font-family=\"Times New Roman,serif\" font-size=\"14.00\">grad 0.5000</text>\n",
       "</g>\n",
       "<!-- 2214478703568+ -->\n",
       "<g id=\"node15\" class=\"node\">\n",
       "<title>2214478703568+</title>\n",
       "<ellipse fill=\"none\" stroke=\"black\" cx=\"592\" cy=\"-211\" rx=\"27\" ry=\"18\"/>\n",
       "<text text-anchor=\"middle\" x=\"592\" y=\"-207.3\" font-family=\"Times New Roman,serif\" font-size=\"14.00\">+</text>\n",
       "</g>\n",
       "<!-- 2214478704656&#45;&gt;2214478703568+ -->\n",
       "<g id=\"edge10\" class=\"edge\">\n",
       "<title>2214478704656&#45;&gt;2214478703568+</title>\n",
       "<path fill=\"none\" stroke=\"black\" d=\"M529.33,-187.2C539.39,-191.08 549.64,-195.04 558.83,-198.58\"/>\n",
       "<polygon fill=\"black\" stroke=\"black\" points=\"557.72,-201.91 568.31,-202.24 560.24,-195.38 557.72,-201.91\"/>\n",
       "</g>\n",
       "<!-- 2214478704656+ -->\n",
       "<g id=\"node2\" class=\"node\">\n",
       "<title>2214478704656+</title>\n",
       "<ellipse fill=\"none\" stroke=\"black\" cx=\"360\" cy=\"-167\" rx=\"27\" ry=\"18\"/>\n",
       "<text text-anchor=\"middle\" x=\"360\" y=\"-163.3\" font-family=\"Times New Roman,serif\" font-size=\"14.00\">+</text>\n",
       "</g>\n",
       "<!-- 2214478704656+&#45;&gt;2214478704656 -->\n",
       "<g id=\"edge1\" class=\"edge\">\n",
       "<title>2214478704656+&#45;&gt;2214478704656</title>\n",
       "<path fill=\"none\" stroke=\"black\" d=\"M387.15,-167C394.89,-167 403.71,-167 412.71,-167\"/>\n",
       "<polygon fill=\"black\" stroke=\"black\" points=\"412.9,-170.5 422.9,-167 412.9,-163.5 412.9,-170.5\"/>\n",
       "</g>\n",
       "<!-- 2214479568528 -->\n",
       "<g id=\"node3\" class=\"node\">\n",
       "<title>2214479568528</title>\n",
       "<polygon fill=\"none\" stroke=\"black\" points=\"863,-176.5 863,-245.5 945,-245.5 945,-176.5 863,-176.5\"/>\n",
       "<text text-anchor=\"middle\" x=\"904\" y=\"-230.3\" font-family=\"Times New Roman,serif\" font-size=\"14.00\">o</text>\n",
       "<polyline fill=\"none\" stroke=\"black\" points=\"863,-222.5 945,-222.5 \"/>\n",
       "<text text-anchor=\"middle\" x=\"904\" y=\"-207.3\" font-family=\"Times New Roman,serif\" font-size=\"14.00\">data 0.7071</text>\n",
       "<polyline fill=\"none\" stroke=\"black\" points=\"863,-199.5 945,-199.5 \"/>\n",
       "<text text-anchor=\"middle\" x=\"904\" y=\"-184.3\" font-family=\"Times New Roman,serif\" font-size=\"14.00\">grad 1.0000</text>\n",
       "</g>\n",
       "<!-- 2214479568528tanh -->\n",
       "<g id=\"node4\" class=\"node\">\n",
       "<title>2214479568528tanh</title>\n",
       "<ellipse fill=\"none\" stroke=\"black\" cx=\"800\" cy=\"-211\" rx=\"27\" ry=\"18\"/>\n",
       "<text text-anchor=\"middle\" x=\"800\" y=\"-207.3\" font-family=\"Times New Roman,serif\" font-size=\"14.00\">tanh</text>\n",
       "</g>\n",
       "<!-- 2214479568528tanh&#45;&gt;2214479568528 -->\n",
       "<g id=\"edge2\" class=\"edge\">\n",
       "<title>2214479568528tanh&#45;&gt;2214479568528</title>\n",
       "<path fill=\"none\" stroke=\"black\" d=\"M827,-211C834.81,-211 843.65,-211 852.48,-211\"/>\n",
       "<polygon fill=\"black\" stroke=\"black\" points=\"852.76,-214.5 862.76,-211 852.76,-207.5 852.76,-214.5\"/>\n",
       "</g>\n",
       "<!-- 2214478697680 -->\n",
       "<g id=\"node5\" class=\"node\">\n",
       "<title>2214478697680</title>\n",
       "<polygon fill=\"none\" stroke=\"black\" points=\"0.5,-88.5 0.5,-157.5 85.5,-157.5 85.5,-88.5 0.5,-88.5\"/>\n",
       "<text text-anchor=\"middle\" x=\"43\" y=\"-142.3\" font-family=\"Times New Roman,serif\" font-size=\"14.00\">w1</text>\n",
       "<polyline fill=\"none\" stroke=\"black\" points=\"0.5,-134.5 85.5,-134.5 \"/>\n",
       "<text text-anchor=\"middle\" x=\"43\" y=\"-119.3\" font-family=\"Times New Roman,serif\" font-size=\"14.00\">data &#45;3.0000</text>\n",
       "<polyline fill=\"none\" stroke=\"black\" points=\"0.5,-111.5 85.5,-111.5 \"/>\n",
       "<text text-anchor=\"middle\" x=\"43\" y=\"-96.3\" font-family=\"Times New Roman,serif\" font-size=\"14.00\">grad 1.0000</text>\n",
       "</g>\n",
       "<!-- 2214478697360* -->\n",
       "<g id=\"node12\" class=\"node\">\n",
       "<title>2214478697360*</title>\n",
       "<ellipse fill=\"none\" stroke=\"black\" cx=\"149\" cy=\"-123\" rx=\"27\" ry=\"18\"/>\n",
       "<text text-anchor=\"middle\" x=\"149\" y=\"-119.3\" font-family=\"Times New Roman,serif\" font-size=\"14.00\">*</text>\n",
       "</g>\n",
       "<!-- 2214478697680&#45;&gt;2214478697360* -->\n",
       "<g id=\"edge8\" class=\"edge\">\n",
       "<title>2214478697680&#45;&gt;2214478697360*</title>\n",
       "<path fill=\"none\" stroke=\"black\" d=\"M85.7,-123C94.28,-123 103.26,-123 111.63,-123\"/>\n",
       "<polygon fill=\"black\" stroke=\"black\" points=\"111.85,-126.5 121.85,-123 111.85,-119.5 111.85,-126.5\"/>\n",
       "</g>\n",
       "<!-- 2214478695120 -->\n",
       "<g id=\"node6\" class=\"node\">\n",
       "<title>2214478695120</title>\n",
       "<polygon fill=\"none\" stroke=\"black\" points=\"213.5,-176.5 213.5,-245.5 295.5,-245.5 295.5,-176.5 213.5,-176.5\"/>\n",
       "<text text-anchor=\"middle\" x=\"254.5\" y=\"-230.3\" font-family=\"Times New Roman,serif\" font-size=\"14.00\">x2*w2</text>\n",
       "<polyline fill=\"none\" stroke=\"black\" points=\"213.5,-222.5 295.5,-222.5 \"/>\n",
       "<text text-anchor=\"middle\" x=\"254.5\" y=\"-207.3\" font-family=\"Times New Roman,serif\" font-size=\"14.00\">data 0.0000</text>\n",
       "<polyline fill=\"none\" stroke=\"black\" points=\"213.5,-199.5 295.5,-199.5 \"/>\n",
       "<text text-anchor=\"middle\" x=\"254.5\" y=\"-184.3\" font-family=\"Times New Roman,serif\" font-size=\"14.00\">grad 0.5000</text>\n",
       "</g>\n",
       "<!-- 2214478695120&#45;&gt;2214478704656+ -->\n",
       "<g id=\"edge9\" class=\"edge\">\n",
       "<title>2214478695120&#45;&gt;2214478704656+</title>\n",
       "<path fill=\"none\" stroke=\"black\" d=\"M295.52,-193.99C306.12,-189.48 317.42,-184.68 327.5,-180.39\"/>\n",
       "<polygon fill=\"black\" stroke=\"black\" points=\"328.9,-183.6 336.73,-176.47 326.16,-177.16 328.9,-183.6\"/>\n",
       "</g>\n",
       "<!-- 2214478695120* -->\n",
       "<g id=\"node7\" class=\"node\">\n",
       "<title>2214478695120*</title>\n",
       "<ellipse fill=\"none\" stroke=\"black\" cx=\"149\" cy=\"-211\" rx=\"27\" ry=\"18\"/>\n",
       "<text text-anchor=\"middle\" x=\"149\" y=\"-207.3\" font-family=\"Times New Roman,serif\" font-size=\"14.00\">*</text>\n",
       "</g>\n",
       "<!-- 2214478695120*&#45;&gt;2214478695120 -->\n",
       "<g id=\"edge3\" class=\"edge\">\n",
       "<title>2214478695120*&#45;&gt;2214478695120</title>\n",
       "<path fill=\"none\" stroke=\"black\" d=\"M176.12,-211C184.39,-211 193.82,-211 203.19,-211\"/>\n",
       "<polygon fill=\"black\" stroke=\"black\" points=\"203.28,-214.5 213.28,-211 203.28,-207.5 203.28,-214.5\"/>\n",
       "</g>\n",
       "<!-- 2214478702480 -->\n",
       "<g id=\"node8\" class=\"node\">\n",
       "<title>2214478702480</title>\n",
       "<polygon fill=\"none\" stroke=\"black\" points=\"435,-220.5 435,-289.5 517,-289.5 517,-220.5 435,-220.5\"/>\n",
       "<text text-anchor=\"middle\" x=\"476\" y=\"-274.3\" font-family=\"Times New Roman,serif\" font-size=\"14.00\">b</text>\n",
       "<polyline fill=\"none\" stroke=\"black\" points=\"435,-266.5 517,-266.5 \"/>\n",
       "<text text-anchor=\"middle\" x=\"476\" y=\"-251.3\" font-family=\"Times New Roman,serif\" font-size=\"14.00\">data 6.8814</text>\n",
       "<polyline fill=\"none\" stroke=\"black\" points=\"435,-243.5 517,-243.5 \"/>\n",
       "<text text-anchor=\"middle\" x=\"476\" y=\"-228.3\" font-family=\"Times New Roman,serif\" font-size=\"14.00\">grad 0.5000</text>\n",
       "</g>\n",
       "<!-- 2214478702480&#45;&gt;2214478703568+ -->\n",
       "<g id=\"edge12\" class=\"edge\">\n",
       "<title>2214478702480&#45;&gt;2214478703568+</title>\n",
       "<path fill=\"none\" stroke=\"black\" d=\"M517.19,-239.49C530.78,-234.24 545.77,-228.46 558.67,-223.48\"/>\n",
       "<polygon fill=\"black\" stroke=\"black\" points=\"560,-226.72 568.07,-219.85 557.48,-220.19 560,-226.72\"/>\n",
       "</g>\n",
       "<!-- 2214478697808 -->\n",
       "<g id=\"node9\" class=\"node\">\n",
       "<title>2214478697808</title>\n",
       "<polygon fill=\"none\" stroke=\"black\" points=\"2,-264.5 2,-333.5 84,-333.5 84,-264.5 2,-264.5\"/>\n",
       "<text text-anchor=\"middle\" x=\"43\" y=\"-318.3\" font-family=\"Times New Roman,serif\" font-size=\"14.00\">x2</text>\n",
       "<polyline fill=\"none\" stroke=\"black\" points=\"2,-310.5 84,-310.5 \"/>\n",
       "<text text-anchor=\"middle\" x=\"43\" y=\"-295.3\" font-family=\"Times New Roman,serif\" font-size=\"14.00\">data 0.0000</text>\n",
       "<polyline fill=\"none\" stroke=\"black\" points=\"2,-287.5 84,-287.5 \"/>\n",
       "<text text-anchor=\"middle\" x=\"43\" y=\"-272.3\" font-family=\"Times New Roman,serif\" font-size=\"14.00\">grad 0.5000</text>\n",
       "</g>\n",
       "<!-- 2214478697808&#45;&gt;2214478695120* -->\n",
       "<g id=\"edge13\" class=\"edge\">\n",
       "<title>2214478697808&#45;&gt;2214478695120*</title>\n",
       "<path fill=\"none\" stroke=\"black\" d=\"M84.21,-264.98C97.58,-253.66 112.06,-241.41 123.83,-231.45\"/>\n",
       "<polygon fill=\"black\" stroke=\"black\" points=\"126.13,-234.09 131.51,-224.96 121.61,-228.74 126.13,-234.09\"/>\n",
       "</g>\n",
       "<!-- 2214478707024 -->\n",
       "<g id=\"node10\" class=\"node\">\n",
       "<title>2214478707024</title>\n",
       "<polygon fill=\"none\" stroke=\"black\" points=\"2,-176.5 2,-245.5 84,-245.5 84,-176.5 2,-176.5\"/>\n",
       "<text text-anchor=\"middle\" x=\"43\" y=\"-230.3\" font-family=\"Times New Roman,serif\" font-size=\"14.00\">w2</text>\n",
       "<polyline fill=\"none\" stroke=\"black\" points=\"2,-222.5 84,-222.5 \"/>\n",
       "<text text-anchor=\"middle\" x=\"43\" y=\"-207.3\" font-family=\"Times New Roman,serif\" font-size=\"14.00\">data 1.0000</text>\n",
       "<polyline fill=\"none\" stroke=\"black\" points=\"2,-199.5 84,-199.5 \"/>\n",
       "<text text-anchor=\"middle\" x=\"43\" y=\"-184.3\" font-family=\"Times New Roman,serif\" font-size=\"14.00\">grad 0.0000</text>\n",
       "</g>\n",
       "<!-- 2214478707024&#45;&gt;2214478695120* -->\n",
       "<g id=\"edge14\" class=\"edge\">\n",
       "<title>2214478707024&#45;&gt;2214478695120*</title>\n",
       "<path fill=\"none\" stroke=\"black\" d=\"M84.21,-211C93.25,-211 102.79,-211 111.66,-211\"/>\n",
       "<polygon fill=\"black\" stroke=\"black\" points=\"111.69,-214.5 121.69,-211 111.69,-207.5 111.69,-214.5\"/>\n",
       "</g>\n",
       "<!-- 2214478697360 -->\n",
       "<g id=\"node11\" class=\"node\">\n",
       "<title>2214478697360</title>\n",
       "<polygon fill=\"none\" stroke=\"black\" points=\"212,-88.5 212,-157.5 297,-157.5 297,-88.5 212,-88.5\"/>\n",
       "<text text-anchor=\"middle\" x=\"254.5\" y=\"-142.3\" font-family=\"Times New Roman,serif\" font-size=\"14.00\">x1*w1</text>\n",
       "<polyline fill=\"none\" stroke=\"black\" points=\"212,-134.5 297,-134.5 \"/>\n",
       "<text text-anchor=\"middle\" x=\"254.5\" y=\"-119.3\" font-family=\"Times New Roman,serif\" font-size=\"14.00\">data &#45;6.0000</text>\n",
       "<polyline fill=\"none\" stroke=\"black\" points=\"212,-111.5 297,-111.5 \"/>\n",
       "<text text-anchor=\"middle\" x=\"254.5\" y=\"-96.3\" font-family=\"Times New Roman,serif\" font-size=\"14.00\">grad 0.5000</text>\n",
       "</g>\n",
       "<!-- 2214478697360&#45;&gt;2214478704656+ -->\n",
       "<g id=\"edge11\" class=\"edge\">\n",
       "<title>2214478697360&#45;&gt;2214478704656+</title>\n",
       "<path fill=\"none\" stroke=\"black\" d=\"M297,-140.64C307.21,-144.98 317.97,-149.56 327.61,-153.66\"/>\n",
       "<polygon fill=\"black\" stroke=\"black\" points=\"326.24,-156.88 336.81,-157.57 328.98,-150.44 326.24,-156.88\"/>\n",
       "</g>\n",
       "<!-- 2214478697360*&#45;&gt;2214478697360 -->\n",
       "<g id=\"edge4\" class=\"edge\">\n",
       "<title>2214478697360*&#45;&gt;2214478697360</title>\n",
       "<path fill=\"none\" stroke=\"black\" d=\"M176.12,-123C183.87,-123 192.64,-123 201.42,-123\"/>\n",
       "<polygon fill=\"black\" stroke=\"black\" points=\"201.68,-126.5 211.68,-123 201.68,-119.5 201.68,-126.5\"/>\n",
       "</g>\n",
       "<!-- 2214478697936 -->\n",
       "<g id=\"node13\" class=\"node\">\n",
       "<title>2214478697936</title>\n",
       "<polygon fill=\"none\" stroke=\"black\" points=\"0,-0.5 0,-69.5 86,-69.5 86,-0.5 0,-0.5\"/>\n",
       "<text text-anchor=\"middle\" x=\"43\" y=\"-54.3\" font-family=\"Times New Roman,serif\" font-size=\"14.00\">x1</text>\n",
       "<polyline fill=\"none\" stroke=\"black\" points=\"0,-46.5 86,-46.5 \"/>\n",
       "<text text-anchor=\"middle\" x=\"43\" y=\"-31.3\" font-family=\"Times New Roman,serif\" font-size=\"14.00\">data 2.0000</text>\n",
       "<polyline fill=\"none\" stroke=\"black\" points=\"0,-23.5 86,-23.5 \"/>\n",
       "<text text-anchor=\"middle\" x=\"43\" y=\"-8.3\" font-family=\"Times New Roman,serif\" font-size=\"14.00\">grad &#45;1.5000</text>\n",
       "</g>\n",
       "<!-- 2214478697936&#45;&gt;2214478697360* -->\n",
       "<g id=\"edge6\" class=\"edge\">\n",
       "<title>2214478697936&#45;&gt;2214478697360*</title>\n",
       "<path fill=\"none\" stroke=\"black\" d=\"M84.81,-69.53C97.9,-80.61 111.99,-92.53 123.54,-102.3\"/>\n",
       "<polygon fill=\"black\" stroke=\"black\" points=\"121.55,-105.2 131.44,-108.99 126.07,-99.86 121.55,-105.2\"/>\n",
       "</g>\n",
       "<!-- 2214478703568 -->\n",
       "<g id=\"node14\" class=\"node\">\n",
       "<title>2214478703568</title>\n",
       "<polygon fill=\"none\" stroke=\"black\" points=\"655,-176.5 655,-245.5 737,-245.5 737,-176.5 655,-176.5\"/>\n",
       "<text text-anchor=\"middle\" x=\"696\" y=\"-230.3\" font-family=\"Times New Roman,serif\" font-size=\"14.00\">n</text>\n",
       "<polyline fill=\"none\" stroke=\"black\" points=\"655,-222.5 737,-222.5 \"/>\n",
       "<text text-anchor=\"middle\" x=\"696\" y=\"-207.3\" font-family=\"Times New Roman,serif\" font-size=\"14.00\">data 0.8814</text>\n",
       "<polyline fill=\"none\" stroke=\"black\" points=\"655,-199.5 737,-199.5 \"/>\n",
       "<text text-anchor=\"middle\" x=\"696\" y=\"-184.3\" font-family=\"Times New Roman,serif\" font-size=\"14.00\">grad 0.5000</text>\n",
       "</g>\n",
       "<!-- 2214478703568&#45;&gt;2214479568528tanh -->\n",
       "<g id=\"edge7\" class=\"edge\">\n",
       "<title>2214478703568&#45;&gt;2214479568528tanh</title>\n",
       "<path fill=\"none\" stroke=\"black\" d=\"M737.02,-211C745.5,-211 754.4,-211 762.73,-211\"/>\n",
       "<polygon fill=\"black\" stroke=\"black\" points=\"762.89,-214.5 772.89,-211 762.89,-207.5 762.89,-214.5\"/>\n",
       "</g>\n",
       "<!-- 2214478703568+&#45;&gt;2214478703568 -->\n",
       "<g id=\"edge5\" class=\"edge\">\n",
       "<title>2214478703568+&#45;&gt;2214478703568</title>\n",
       "<path fill=\"none\" stroke=\"black\" d=\"M619,-211C626.81,-211 635.65,-211 644.48,-211\"/>\n",
       "<polygon fill=\"black\" stroke=\"black\" points=\"644.76,-214.5 654.76,-211 644.76,-207.5 644.76,-214.5\"/>\n",
       "</g>\n",
       "</g>\n",
       "</svg>\n"
      ],
      "text/plain": [
       "<graphviz.graphs.Digraph at 0x203998bbdd0>"
      ]
     },
     "execution_count": 116,
     "metadata": {},
     "output_type": "execute_result"
    }
   ],
   "source": [
    "draw_graph(o)"
   ]
  },
  {
   "cell_type": "code",
   "execution_count": 117,
   "id": "f65ff9a8-6e90-4b03-8b6c-9a7e8037e073",
   "metadata": {
    "tags": []
   },
   "outputs": [],
   "source": [
    "a = Value(2)"
   ]
  },
  {
   "cell_type": "code",
   "execution_count": 118,
   "id": "6b446ae2-50f8-4626-8b37-346a0add136b",
   "metadata": {
    "tags": []
   },
   "outputs": [
    {
     "data": {
      "text/plain": [
       "Value(data=4)"
      ]
     },
     "execution_count": 118,
     "metadata": {},
     "output_type": "execute_result"
    }
   ],
   "source": [
    "a + 2"
   ]
  },
  {
   "cell_type": "code",
   "execution_count": 119,
   "id": "51d1e8dd-c824-478c-99bd-ce8335b2621d",
   "metadata": {
    "tags": []
   },
   "outputs": [
    {
     "data": {
      "text/plain": [
       "Value(data=4)"
      ]
     },
     "execution_count": 119,
     "metadata": {},
     "output_type": "execute_result"
    }
   ],
   "source": [
    "2 + a"
   ]
  },
  {
   "cell_type": "code",
   "execution_count": 120,
   "id": "d4993f63-de4d-4f78-89cb-a40caa0e3a95",
   "metadata": {
    "tags": []
   },
   "outputs": [
    {
     "data": {
      "text/plain": [
       "Value(data=7.38905609893065)"
      ]
     },
     "execution_count": 120,
     "metadata": {},
     "output_type": "execute_result"
    }
   ],
   "source": [
    "a.exp()"
   ]
  },
  {
   "cell_type": "code",
   "execution_count": 121,
   "id": "65883252-6cec-4134-8163-274fdeb607dc",
   "metadata": {
    "tags": []
   },
   "outputs": [],
   "source": [
    "b = Value(2)"
   ]
  },
  {
   "cell_type": "code",
   "execution_count": 122,
   "id": "bc24ae0a-c0cf-4fe8-aa38-942edf8e6b03",
   "metadata": {
    "tags": []
   },
   "outputs": [
    {
     "data": {
      "text/plain": [
       "Value(data=1.0)"
      ]
     },
     "execution_count": 122,
     "metadata": {},
     "output_type": "execute_result"
    }
   ],
   "source": [
    "a / b"
   ]
  },
  {
   "cell_type": "code",
   "execution_count": 123,
   "id": "a2ddada9-0876-4b0f-945d-7a7b0f4953d1",
   "metadata": {
    "tags": []
   },
   "outputs": [
    {
     "data": {
      "text/plain": [
       "Value(data=0)"
      ]
     },
     "execution_count": 123,
     "metadata": {},
     "output_type": "execute_result"
    }
   ],
   "source": [
    "a - b"
   ]
  },
  {
   "cell_type": "code",
   "execution_count": 124,
   "id": "1fc8f920-1eb3-4e36-a261-268d1cc12379",
   "metadata": {
    "tags": []
   },
   "outputs": [],
   "source": [
    "class Neuron:\n",
    "    def __init__(self,nin):\n",
    "        self.w = [Value(random.uniform(-1,1)) for _ in range(nin)]\n",
    "        self.b = Value(random.uniform(-1,1))\n",
    "    def __call__(self,x):\n",
    "        n = sum((wi * xi for wi,xi in zip(self.w,x)),self.b)\n",
    "        o = n.tanh()\n",
    "        return o\n",
    "    def parameters(self):\n",
    "        return self.w + [self.b]\n",
    "    \n",
    "class Layer:\n",
    "    def __init__(self,nin,nout):\n",
    "        self.neurons = [Neuron(nin) for _ in range(nout)]\n",
    "    def __call__(self,x):\n",
    "        out = [n(x) for n in self.neurons]\n",
    "        return out[0] if len(out)==1 else out\n",
    "    def parameters(self):\n",
    "        return [p for n in self.neurons for p in n.parameters()]\n",
    "            \n",
    "class MLP:\n",
    "    def __init__(self,nin,nouts):\n",
    "        sz = [nin] + nouts\n",
    "        self.layers = [Layer(sz[i],sz[i+1]) for i in range(len(nouts))]\n",
    "    \n",
    "    def __call__(self,x):\n",
    "        for layer in self.layers:\n",
    "            x = layer(x)\n",
    "        return x \n",
    "    \n",
    "    def parameters(self):\n",
    "        return [p for l in self.layers for p in l.parameters()]"
   ]
  },
  {
   "cell_type": "code",
   "execution_count": 125,
   "id": "aad9308c-babd-4fe9-895f-9d11423d762a",
   "metadata": {
    "tags": []
   },
   "outputs": [
    {
     "data": {
      "text/plain": [
       "[Value(data=-0.1211797052178194),\n",
       " Value(data=0.06244624371443508),\n",
       " Value(data=-0.6772714188378497)]"
      ]
     },
     "execution_count": 125,
     "metadata": {},
     "output_type": "execute_result"
    }
   ],
   "source": [
    "n = Neuron(2)\n",
    "out = n([2,3])\n",
    "n.parameters()"
   ]
  },
  {
   "cell_type": "code",
   "execution_count": 126,
   "id": "90be5f39-8fa6-441a-ac9d-01b206d477d1",
   "metadata": {
    "tags": []
   },
   "outputs": [
    {
     "data": {
      "image/svg+xml": [
       "<?xml version=\"1.0\" encoding=\"UTF-8\" standalone=\"no\"?>\n",
       "<!DOCTYPE svg PUBLIC \"-//W3C//DTD SVG 1.1//EN\"\n",
       " \"http://www.w3.org/Graphics/SVG/1.1/DTD/svg11.dtd\">\n",
       "<!-- Generated by graphviz version 2.50.0 (0)\n",
       " -->\n",
       "<!-- Pages: 1 -->\n",
       "<svg width=\"937pt\" height=\"386pt\"\n",
       " viewBox=\"0.00 0.00 937.00 386.00\" xmlns=\"http://www.w3.org/2000/svg\" xmlns:xlink=\"http://www.w3.org/1999/xlink\">\n",
       "<g id=\"graph0\" class=\"graph\" transform=\"scale(1 1) rotate(0) translate(4 382)\">\n",
       "<polygon fill=\"white\" stroke=\"transparent\" points=\"-4,4 -4,-382 933,-382 933,4 -4,4\"/>\n",
       "<!-- 2214478704208 -->\n",
       "<g id=\"node1\" class=\"node\">\n",
       "<title>2214478704208</title>\n",
       "<polygon fill=\"none\" stroke=\"black\" points=\"0,-308.5 0,-377.5 85,-377.5 85,-308.5 0,-308.5\"/>\n",
       "<text text-anchor=\"middle\" x=\"42.5\" y=\"-362.3\" font-family=\"Times New Roman,serif\" font-size=\"14.00\"> </text>\n",
       "<polyline fill=\"none\" stroke=\"black\" points=\"0,-354.5 85,-354.5 \"/>\n",
       "<text text-anchor=\"middle\" x=\"42.5\" y=\"-339.3\" font-family=\"Times New Roman,serif\" font-size=\"14.00\">data &#45;0.1212</text>\n",
       "<polyline fill=\"none\" stroke=\"black\" points=\"0,-331.5 85,-331.5 \"/>\n",
       "<text text-anchor=\"middle\" x=\"42.5\" y=\"-316.3\" font-family=\"Times New Roman,serif\" font-size=\"14.00\">grad 0.0000</text>\n",
       "</g>\n",
       "<!-- 2214478699920* -->\n",
       "<g id=\"node7\" class=\"node\">\n",
       "<title>2214478699920*</title>\n",
       "<ellipse fill=\"none\" stroke=\"black\" cx=\"148\" cy=\"-299\" rx=\"27\" ry=\"18\"/>\n",
       "<text text-anchor=\"middle\" x=\"148\" y=\"-295.3\" font-family=\"Times New Roman,serif\" font-size=\"14.00\">*</text>\n",
       "</g>\n",
       "<!-- 2214478704208&#45;&gt;2214478699920* -->\n",
       "<g id=\"edge7\" class=\"edge\">\n",
       "<title>2214478704208&#45;&gt;2214478699920*</title>\n",
       "<path fill=\"none\" stroke=\"black\" d=\"M85,-325.36C95.21,-321.02 105.97,-316.44 115.61,-312.34\"/>\n",
       "<polygon fill=\"black\" stroke=\"black\" points=\"116.98,-315.56 124.81,-308.43 114.24,-309.12 116.98,-315.56\"/>\n",
       "</g>\n",
       "<!-- 2214478699152 -->\n",
       "<g id=\"node2\" class=\"node\">\n",
       "<title>2214478699152</title>\n",
       "<polygon fill=\"none\" stroke=\"black\" points=\"633,-132.5 633,-201.5 718,-201.5 718,-132.5 633,-132.5\"/>\n",
       "<text text-anchor=\"middle\" x=\"675.5\" y=\"-186.3\" font-family=\"Times New Roman,serif\" font-size=\"14.00\"> </text>\n",
       "<polyline fill=\"none\" stroke=\"black\" points=\"633,-178.5 718,-178.5 \"/>\n",
       "<text text-anchor=\"middle\" x=\"675.5\" y=\"-163.3\" font-family=\"Times New Roman,serif\" font-size=\"14.00\">data &#45;0.7323</text>\n",
       "<polyline fill=\"none\" stroke=\"black\" points=\"633,-155.5 718,-155.5 \"/>\n",
       "<text text-anchor=\"middle\" x=\"675.5\" y=\"-140.3\" font-family=\"Times New Roman,serif\" font-size=\"14.00\">grad 0.0000</text>\n",
       "</g>\n",
       "<!-- 2214478704976tanh -->\n",
       "<g id=\"node12\" class=\"node\">\n",
       "<title>2214478704976tanh</title>\n",
       "<ellipse fill=\"none\" stroke=\"black\" cx=\"781\" cy=\"-167\" rx=\"27\" ry=\"18\"/>\n",
       "<text text-anchor=\"middle\" x=\"781\" y=\"-163.3\" font-family=\"Times New Roman,serif\" font-size=\"14.00\">tanh</text>\n",
       "</g>\n",
       "<!-- 2214478699152&#45;&gt;2214478704976tanh -->\n",
       "<g id=\"edge12\" class=\"edge\">\n",
       "<title>2214478699152&#45;&gt;2214478704976tanh</title>\n",
       "<path fill=\"none\" stroke=\"black\" d=\"M718,-167C726.54,-167 735.47,-167 743.81,-167\"/>\n",
       "<polygon fill=\"black\" stroke=\"black\" points=\"743.97,-170.5 753.97,-167 743.97,-163.5 743.97,-170.5\"/>\n",
       "</g>\n",
       "<!-- 2214478699152+ -->\n",
       "<g id=\"node3\" class=\"node\">\n",
       "<title>2214478699152+</title>\n",
       "<ellipse fill=\"none\" stroke=\"black\" cx=\"570\" cy=\"-167\" rx=\"27\" ry=\"18\"/>\n",
       "<text text-anchor=\"middle\" x=\"570\" y=\"-163.3\" font-family=\"Times New Roman,serif\" font-size=\"14.00\">+</text>\n",
       "</g>\n",
       "<!-- 2214478699152+&#45;&gt;2214478699152 -->\n",
       "<g id=\"edge1\" class=\"edge\">\n",
       "<title>2214478699152+&#45;&gt;2214478699152</title>\n",
       "<path fill=\"none\" stroke=\"black\" d=\"M597.12,-167C604.87,-167 613.64,-167 622.42,-167\"/>\n",
       "<polygon fill=\"black\" stroke=\"black\" points=\"622.68,-170.5 632.68,-167 622.68,-163.5 622.68,-170.5\"/>\n",
       "</g>\n",
       "<!-- 2214478696080 -->\n",
       "<g id=\"node4\" class=\"node\">\n",
       "<title>2214478696080</title>\n",
       "<polygon fill=\"none\" stroke=\"black\" points=\"212.5,-88.5 212.5,-157.5 294.5,-157.5 294.5,-88.5 212.5,-88.5\"/>\n",
       "<text text-anchor=\"middle\" x=\"253.5\" y=\"-142.3\" font-family=\"Times New Roman,serif\" font-size=\"14.00\"> </text>\n",
       "<polyline fill=\"none\" stroke=\"black\" points=\"212.5,-134.5 294.5,-134.5 \"/>\n",
       "<text text-anchor=\"middle\" x=\"253.5\" y=\"-119.3\" font-family=\"Times New Roman,serif\" font-size=\"14.00\">data 0.0624</text>\n",
       "<polyline fill=\"none\" stroke=\"black\" points=\"212.5,-111.5 294.5,-111.5 \"/>\n",
       "<text text-anchor=\"middle\" x=\"253.5\" y=\"-96.3\" font-family=\"Times New Roman,serif\" font-size=\"14.00\">grad 0.0000</text>\n",
       "</g>\n",
       "<!-- 2214478698256* -->\n",
       "<g id=\"node10\" class=\"node\">\n",
       "<title>2214478698256*</title>\n",
       "<ellipse fill=\"none\" stroke=\"black\" cx=\"359\" cy=\"-123\" rx=\"27\" ry=\"18\"/>\n",
       "<text text-anchor=\"middle\" x=\"359\" y=\"-119.3\" font-family=\"Times New Roman,serif\" font-size=\"14.00\">*</text>\n",
       "</g>\n",
       "<!-- 2214478696080&#45;&gt;2214478698256* -->\n",
       "<g id=\"edge8\" class=\"edge\">\n",
       "<title>2214478696080&#45;&gt;2214478698256*</title>\n",
       "<path fill=\"none\" stroke=\"black\" d=\"M294.52,-123C303.41,-123 312.8,-123 321.54,-123\"/>\n",
       "<polygon fill=\"black\" stroke=\"black\" points=\"321.82,-126.5 331.82,-123 321.82,-119.5 321.82,-126.5\"/>\n",
       "</g>\n",
       "<!-- 2214478698896 -->\n",
       "<g id=\"node5\" class=\"node\">\n",
       "<title>2214478698896</title>\n",
       "<polygon fill=\"none\" stroke=\"black\" points=\"1.5,-220.5 1.5,-289.5 83.5,-289.5 83.5,-220.5 1.5,-220.5\"/>\n",
       "<text text-anchor=\"middle\" x=\"42.5\" y=\"-274.3\" font-family=\"Times New Roman,serif\" font-size=\"14.00\"> </text>\n",
       "<polyline fill=\"none\" stroke=\"black\" points=\"1.5,-266.5 83.5,-266.5 \"/>\n",
       "<text text-anchor=\"middle\" x=\"42.5\" y=\"-251.3\" font-family=\"Times New Roman,serif\" font-size=\"14.00\">data 2.0000</text>\n",
       "<polyline fill=\"none\" stroke=\"black\" points=\"1.5,-243.5 83.5,-243.5 \"/>\n",
       "<text text-anchor=\"middle\" x=\"42.5\" y=\"-228.3\" font-family=\"Times New Roman,serif\" font-size=\"14.00\">grad 0.0000</text>\n",
       "</g>\n",
       "<!-- 2214478698896&#45;&gt;2214478699920* -->\n",
       "<g id=\"edge10\" class=\"edge\">\n",
       "<title>2214478698896&#45;&gt;2214478699920*</title>\n",
       "<path fill=\"none\" stroke=\"black\" d=\"M83.52,-272.01C94.12,-276.52 105.42,-281.32 115.5,-285.61\"/>\n",
       "<polygon fill=\"black\" stroke=\"black\" points=\"114.16,-288.84 124.73,-289.53 116.9,-282.4 114.16,-288.84\"/>\n",
       "</g>\n",
       "<!-- 2214478699920 -->\n",
       "<g id=\"node6\" class=\"node\">\n",
       "<title>2214478699920</title>\n",
       "<polygon fill=\"none\" stroke=\"black\" points=\"211,-264.5 211,-333.5 296,-333.5 296,-264.5 211,-264.5\"/>\n",
       "<text text-anchor=\"middle\" x=\"253.5\" y=\"-318.3\" font-family=\"Times New Roman,serif\" font-size=\"14.00\"> </text>\n",
       "<polyline fill=\"none\" stroke=\"black\" points=\"211,-310.5 296,-310.5 \"/>\n",
       "<text text-anchor=\"middle\" x=\"253.5\" y=\"-295.3\" font-family=\"Times New Roman,serif\" font-size=\"14.00\">data &#45;0.2424</text>\n",
       "<polyline fill=\"none\" stroke=\"black\" points=\"211,-287.5 296,-287.5 \"/>\n",
       "<text text-anchor=\"middle\" x=\"253.5\" y=\"-272.3\" font-family=\"Times New Roman,serif\" font-size=\"14.00\">grad 0.0000</text>\n",
       "</g>\n",
       "<!-- 2214478695248+ -->\n",
       "<g id=\"node14\" class=\"node\">\n",
       "<title>2214478695248+</title>\n",
       "<ellipse fill=\"none\" stroke=\"black\" cx=\"359\" cy=\"-211\" rx=\"27\" ry=\"18\"/>\n",
       "<text text-anchor=\"middle\" x=\"359\" y=\"-207.3\" font-family=\"Times New Roman,serif\" font-size=\"14.00\">+</text>\n",
       "</g>\n",
       "<!-- 2214478699920&#45;&gt;2214478695248+ -->\n",
       "<g id=\"edge14\" class=\"edge\">\n",
       "<title>2214478699920&#45;&gt;2214478695248+</title>\n",
       "<path fill=\"none\" stroke=\"black\" d=\"M295.11,-264.47C308.14,-253.39 322.17,-241.47 333.66,-231.7\"/>\n",
       "<polygon fill=\"black\" stroke=\"black\" points=\"336.17,-234.15 341.52,-225.01 331.64,-228.82 336.17,-234.15\"/>\n",
       "</g>\n",
       "<!-- 2214478699920*&#45;&gt;2214478699920 -->\n",
       "<g id=\"edge2\" class=\"edge\">\n",
       "<title>2214478699920*&#45;&gt;2214478699920</title>\n",
       "<path fill=\"none\" stroke=\"black\" d=\"M175.12,-299C182.87,-299 191.64,-299 200.42,-299\"/>\n",
       "<polygon fill=\"black\" stroke=\"black\" points=\"200.68,-302.5 210.68,-299 200.68,-295.5 200.68,-302.5\"/>\n",
       "</g>\n",
       "<!-- 2214478701776 -->\n",
       "<g id=\"node8\" class=\"node\">\n",
       "<title>2214478701776</title>\n",
       "<polygon fill=\"none\" stroke=\"black\" points=\"212.5,-0.5 212.5,-69.5 294.5,-69.5 294.5,-0.5 212.5,-0.5\"/>\n",
       "<text text-anchor=\"middle\" x=\"253.5\" y=\"-54.3\" font-family=\"Times New Roman,serif\" font-size=\"14.00\"> </text>\n",
       "<polyline fill=\"none\" stroke=\"black\" points=\"212.5,-46.5 294.5,-46.5 \"/>\n",
       "<text text-anchor=\"middle\" x=\"253.5\" y=\"-31.3\" font-family=\"Times New Roman,serif\" font-size=\"14.00\">data 3.0000</text>\n",
       "<polyline fill=\"none\" stroke=\"black\" points=\"212.5,-23.5 294.5,-23.5 \"/>\n",
       "<text text-anchor=\"middle\" x=\"253.5\" y=\"-8.3\" font-family=\"Times New Roman,serif\" font-size=\"14.00\">grad 0.0000</text>\n",
       "</g>\n",
       "<!-- 2214478701776&#45;&gt;2214478698256* -->\n",
       "<g id=\"edge13\" class=\"edge\">\n",
       "<title>2214478701776&#45;&gt;2214478698256*</title>\n",
       "<path fill=\"none\" stroke=\"black\" d=\"M294.52,-69.02C307.83,-80.34 322.23,-92.59 333.95,-102.55\"/>\n",
       "<polygon fill=\"black\" stroke=\"black\" points=\"331.7,-105.23 341.59,-109.04 336.23,-99.9 331.7,-105.23\"/>\n",
       "</g>\n",
       "<!-- 2214478698256 -->\n",
       "<g id=\"node9\" class=\"node\">\n",
       "<title>2214478698256</title>\n",
       "<polygon fill=\"none\" stroke=\"black\" points=\"423.5,-88.5 423.5,-157.5 505.5,-157.5 505.5,-88.5 423.5,-88.5\"/>\n",
       "<text text-anchor=\"middle\" x=\"464.5\" y=\"-142.3\" font-family=\"Times New Roman,serif\" font-size=\"14.00\"> </text>\n",
       "<polyline fill=\"none\" stroke=\"black\" points=\"423.5,-134.5 505.5,-134.5 \"/>\n",
       "<text text-anchor=\"middle\" x=\"464.5\" y=\"-119.3\" font-family=\"Times New Roman,serif\" font-size=\"14.00\">data 0.1873</text>\n",
       "<polyline fill=\"none\" stroke=\"black\" points=\"423.5,-111.5 505.5,-111.5 \"/>\n",
       "<text text-anchor=\"middle\" x=\"464.5\" y=\"-96.3\" font-family=\"Times New Roman,serif\" font-size=\"14.00\">grad 0.0000</text>\n",
       "</g>\n",
       "<!-- 2214478698256&#45;&gt;2214478699152+ -->\n",
       "<g id=\"edge9\" class=\"edge\">\n",
       "<title>2214478698256&#45;&gt;2214478699152+</title>\n",
       "<path fill=\"none\" stroke=\"black\" d=\"M505.52,-140.01C516.12,-144.52 527.42,-149.32 537.5,-153.61\"/>\n",
       "<polygon fill=\"black\" stroke=\"black\" points=\"536.16,-156.84 546.73,-157.53 538.9,-150.4 536.16,-156.84\"/>\n",
       "</g>\n",
       "<!-- 2214478698256*&#45;&gt;2214478698256 -->\n",
       "<g id=\"edge3\" class=\"edge\">\n",
       "<title>2214478698256*&#45;&gt;2214478698256</title>\n",
       "<path fill=\"none\" stroke=\"black\" d=\"M386.12,-123C394.39,-123 403.82,-123 413.19,-123\"/>\n",
       "<polygon fill=\"black\" stroke=\"black\" points=\"413.28,-126.5 423.28,-123 413.28,-119.5 413.28,-126.5\"/>\n",
       "</g>\n",
       "<!-- 2214478704976 -->\n",
       "<g id=\"node11\" class=\"node\">\n",
       "<title>2214478704976</title>\n",
       "<polygon fill=\"none\" stroke=\"black\" points=\"844,-132.5 844,-201.5 929,-201.5 929,-132.5 844,-132.5\"/>\n",
       "<text text-anchor=\"middle\" x=\"886.5\" y=\"-186.3\" font-family=\"Times New Roman,serif\" font-size=\"14.00\"> </text>\n",
       "<polyline fill=\"none\" stroke=\"black\" points=\"844,-178.5 929,-178.5 \"/>\n",
       "<text text-anchor=\"middle\" x=\"886.5\" y=\"-163.3\" font-family=\"Times New Roman,serif\" font-size=\"14.00\">data &#45;0.6245</text>\n",
       "<polyline fill=\"none\" stroke=\"black\" points=\"844,-155.5 929,-155.5 \"/>\n",
       "<text text-anchor=\"middle\" x=\"886.5\" y=\"-140.3\" font-family=\"Times New Roman,serif\" font-size=\"14.00\">grad 0.0000</text>\n",
       "</g>\n",
       "<!-- 2214478704976tanh&#45;&gt;2214478704976 -->\n",
       "<g id=\"edge4\" class=\"edge\">\n",
       "<title>2214478704976tanh&#45;&gt;2214478704976</title>\n",
       "<path fill=\"none\" stroke=\"black\" d=\"M808.12,-167C815.87,-167 824.64,-167 833.42,-167\"/>\n",
       "<polygon fill=\"black\" stroke=\"black\" points=\"833.68,-170.5 843.68,-167 833.68,-163.5 833.68,-170.5\"/>\n",
       "</g>\n",
       "<!-- 2214478695248 -->\n",
       "<g id=\"node13\" class=\"node\">\n",
       "<title>2214478695248</title>\n",
       "<polygon fill=\"none\" stroke=\"black\" points=\"422,-176.5 422,-245.5 507,-245.5 507,-176.5 422,-176.5\"/>\n",
       "<text text-anchor=\"middle\" x=\"464.5\" y=\"-230.3\" font-family=\"Times New Roman,serif\" font-size=\"14.00\"> </text>\n",
       "<polyline fill=\"none\" stroke=\"black\" points=\"422,-222.5 507,-222.5 \"/>\n",
       "<text text-anchor=\"middle\" x=\"464.5\" y=\"-207.3\" font-family=\"Times New Roman,serif\" font-size=\"14.00\">data &#45;0.9196</text>\n",
       "<polyline fill=\"none\" stroke=\"black\" points=\"422,-199.5 507,-199.5 \"/>\n",
       "<text text-anchor=\"middle\" x=\"464.5\" y=\"-184.3\" font-family=\"Times New Roman,serif\" font-size=\"14.00\">grad 0.0000</text>\n",
       "</g>\n",
       "<!-- 2214478695248&#45;&gt;2214478699152+ -->\n",
       "<g id=\"edge11\" class=\"edge\">\n",
       "<title>2214478695248&#45;&gt;2214478699152+</title>\n",
       "<path fill=\"none\" stroke=\"black\" d=\"M507,-193.36C517.21,-189.02 527.97,-184.44 537.61,-180.34\"/>\n",
       "<polygon fill=\"black\" stroke=\"black\" points=\"538.98,-183.56 546.81,-176.43 536.24,-177.12 538.98,-183.56\"/>\n",
       "</g>\n",
       "<!-- 2214478695248+&#45;&gt;2214478695248 -->\n",
       "<g id=\"edge5\" class=\"edge\">\n",
       "<title>2214478695248+&#45;&gt;2214478695248</title>\n",
       "<path fill=\"none\" stroke=\"black\" d=\"M386.12,-211C393.87,-211 402.64,-211 411.42,-211\"/>\n",
       "<polygon fill=\"black\" stroke=\"black\" points=\"411.68,-214.5 421.68,-211 411.68,-207.5 411.68,-214.5\"/>\n",
       "</g>\n",
       "<!-- 2214478696848 -->\n",
       "<g id=\"node15\" class=\"node\">\n",
       "<title>2214478696848</title>\n",
       "<polygon fill=\"none\" stroke=\"black\" points=\"211,-176.5 211,-245.5 296,-245.5 296,-176.5 211,-176.5\"/>\n",
       "<text text-anchor=\"middle\" x=\"253.5\" y=\"-230.3\" font-family=\"Times New Roman,serif\" font-size=\"14.00\"> </text>\n",
       "<polyline fill=\"none\" stroke=\"black\" points=\"211,-222.5 296,-222.5 \"/>\n",
       "<text text-anchor=\"middle\" x=\"253.5\" y=\"-207.3\" font-family=\"Times New Roman,serif\" font-size=\"14.00\">data &#45;0.6773</text>\n",
       "<polyline fill=\"none\" stroke=\"black\" points=\"211,-199.5 296,-199.5 \"/>\n",
       "<text text-anchor=\"middle\" x=\"253.5\" y=\"-184.3\" font-family=\"Times New Roman,serif\" font-size=\"14.00\">grad 0.0000</text>\n",
       "</g>\n",
       "<!-- 2214478696848&#45;&gt;2214478695248+ -->\n",
       "<g id=\"edge6\" class=\"edge\">\n",
       "<title>2214478696848&#45;&gt;2214478695248+</title>\n",
       "<path fill=\"none\" stroke=\"black\" d=\"M296,-211C304.54,-211 313.47,-211 321.81,-211\"/>\n",
       "<polygon fill=\"black\" stroke=\"black\" points=\"321.97,-214.5 331.97,-211 321.97,-207.5 321.97,-214.5\"/>\n",
       "</g>\n",
       "</g>\n",
       "</svg>\n"
      ],
      "text/plain": [
       "<graphviz.graphs.Digraph at 0x20398ff7d50>"
      ]
     },
     "execution_count": 126,
     "metadata": {},
     "output_type": "execute_result"
    }
   ],
   "source": [
    "draw_graph(out)"
   ]
  },
  {
   "cell_type": "code",
   "execution_count": 127,
   "id": "e6233ceb-d729-417d-86f9-0c7631940809",
   "metadata": {
    "tags": []
   },
   "outputs": [
    {
     "data": {
      "text/plain": [
       "[Value(data=0.01750560410274571),\n",
       " Value(data=-0.6494399683202965),\n",
       " Value(data=0.9969170200713382),\n",
       " Value(data=0.32629547146333215),\n",
       " Value(data=0.5751596676827071),\n",
       " Value(data=0.5386197475774912),\n",
       " Value(data=0.10025158889507524),\n",
       " Value(data=-0.5525641943541362),\n",
       " Value(data=-0.3090199128022082)]"
      ]
     },
     "execution_count": 127,
     "metadata": {},
     "output_type": "execute_result"
    }
   ],
   "source": [
    "l = Layer(2,3)\n",
    "l([2,3])\n",
    "l.parameters()"
   ]
  },
  {
   "cell_type": "code",
   "execution_count": 128,
   "id": "e7524d67-58c9-49ae-b6cf-b088cabc321d",
   "metadata": {
    "tags": []
   },
   "outputs": [],
   "source": [
    "n = MLP(3,[2,1])\n",
    "X = [\n",
    "  [2.0, 3.0, -1.0],\n",
    "  [3.0, -1.0, 0.5],\n",
    "  [0.5, 1.0, 1.0],\n",
    "  [1.0, 1.0, -1.0],\n",
    "]\n",
    "y = [1.0, -1.0, -1.0, 1.0]"
   ]
  },
  {
   "cell_type": "code",
   "execution_count": 129,
   "id": "af549d35-8576-44c0-b4af-d1b39ebb2da9",
   "metadata": {
    "tags": []
   },
   "outputs": [],
   "source": [
    "ypred = [n(x) for x in X]\n",
    "loss = sum((yout - ygt)**2 for ygt, yout in zip(y, ypred))"
   ]
  },
  {
   "cell_type": "code",
   "execution_count": 130,
   "id": "ec7ad9c5-499e-4d83-85c8-94cb01e4237d",
   "metadata": {
    "tags": []
   },
   "outputs": [],
   "source": [
    "loss.backward()"
   ]
  },
  {
   "cell_type": "code",
   "execution_count": 131,
   "id": "b65480c3-3867-4e81-8a96-db85a72ced8b",
   "metadata": {
    "tags": []
   },
   "outputs": [
    {
     "data": {
      "text/plain": [
       "0.16110326036360287"
      ]
     },
     "execution_count": 131,
     "metadata": {},
     "output_type": "execute_result"
    }
   ],
   "source": [
    "n.layers[0].neurons[0].w[0].grad"
   ]
  },
  {
   "cell_type": "code",
   "execution_count": 148,
   "id": "c10fd87d-289d-449d-83cb-12f5d52f49a6",
   "metadata": {
    "tags": []
   },
   "outputs": [],
   "source": [
    "X = [\n",
    "  [2.0, 3.0, -1.0],\n",
    "  [3.0, -1.0, 0.5],\n",
    "  [0.5, 1.0, 1.0],\n",
    "  [1.0, 1.0, -1.0],\n",
    "]\n",
    "y = [1.0, -1.0, -1.0, 1.0] # desired targets\n",
    "n = MLP(3,[8,8,1])"
   ]
  },
  {
   "cell_type": "code",
   "execution_count": 149,
   "id": "6a71a698-1e4d-4cac-8f93-627f3750d456",
   "metadata": {
    "tags": []
   },
   "outputs": [
    {
     "name": "stdout",
     "output_type": "stream",
     "text": [
      "Epoch : 0, Loss : 3.1502029658915585\n",
      "Epoch : 1, Loss : 2.120073309281486\n",
      "Epoch : 2, Loss : 1.0322271367260496\n",
      "Epoch : 3, Loss : 0.0007626842432575769\n",
      "Epoch : 4, Loss : 0.00075695668360783\n",
      "Epoch : 5, Loss : 0.0007513178967909585\n",
      "Epoch : 6, Loss : 0.0007457658178151075\n",
      "Epoch : 7, Loss : 0.0007402984454005984\n",
      "Epoch : 8, Loss : 0.0007349138395388084\n",
      "Epoch : 9, Loss : 0.000729610119162584\n",
      "Epoch : 10, Loss : 0.0007243854599221414\n",
      "Epoch : 11, Loss : 0.0007192380920610227\n",
      "Epoch : 12, Loss : 0.0007141662983868477\n",
      "Epoch : 13, Loss : 0.0007091684123319745\n",
      "Epoch : 14, Loss : 0.0007042428160994643\n",
      "Epoch : 15, Loss : 0.0006993879388899615\n",
      "Epoch : 16, Loss : 0.00069460225520544\n",
      "Epoch : 17, Loss : 0.0006898842832259504\n",
      "Epoch : 18, Loss : 0.0006852325832556877\n",
      "Epoch : 19, Loss : 0.0006806457562349954\n"
     ]
    }
   ],
   "source": [
    "for epoch in range(20):\n",
    "    y_pred = [n(x) for x in X]\n",
    "    loss = sum(((yt- yh) ** 2 for yt,yh in zip(y,y_pred)))\n",
    "    print(f\"Epoch : {epoch}, Loss : {loss.data}\")\n",
    "    for param in n.parameters():\n",
    "        param.grad = 0.0\n",
    "    loss.backward()\n",
    "    for param in n.parameters():\n",
    "        param.data += -0.1 * param.grad\n",
    "        \n",
    "    "
   ]
  },
  {
   "cell_type": "code",
   "execution_count": 150,
   "id": "d1873466-1f13-4690-8b07-c577d86593a8",
   "metadata": {
    "tags": []
   },
   "outputs": [
    {
     "data": {
      "text/plain": [
       "[Value(data=0.9778794647542257),\n",
       " Value(data=-0.9936310045822695),\n",
       " Value(data=-0.9938064452091885),\n",
       " Value(data=0.9893979505237149)]"
      ]
     },
     "execution_count": 150,
     "metadata": {},
     "output_type": "execute_result"
    }
   ],
   "source": [
    "y_pred"
   ]
  },
  {
   "cell_type": "code",
   "execution_count": 151,
   "id": "c8f75214-c31a-40cd-9e12-20d320c2372c",
   "metadata": {
    "tags": []
   },
   "outputs": [],
   "source": [
    "out = draw_graph(loss)"
   ]
  },
  {
   "cell_type": "code",
   "execution_count": 152,
   "id": "3f854669-42b0-456f-aa3c-8156d3aea488",
   "metadata": {
    "tags": []
   },
   "outputs": [
    {
     "data": {
      "text/plain": [
       "graphviz.graphs.Digraph"
      ]
     },
     "execution_count": 152,
     "metadata": {},
     "output_type": "execute_result"
    }
   ],
   "source": [
    "type(out)"
   ]
  },
  {
   "cell_type": "code",
   "execution_count": 153,
   "id": "cdce303c-1af9-4ef4-b362-8a11ebea23f9",
   "metadata": {
    "tags": []
   },
   "outputs": [
    {
     "name": "stderr",
     "output_type": "stream",
     "text": [
      "\n",
      "(process:16168): GLib-GIO-WARNING **: 19:42:06.235: Unexpectedly, UWP app `Microsoft.ScreenSketch_11.2309.16.0_x64__8wekyb3d8bbwe' (AUMId `Microsoft.ScreenSketch_8wekyb3d8bbwe!App') supports 29 extensions but has no verbs\n",
      "\n",
      "(process:16168): GLib-GIO-WARNING **: 19:42:06.252: Unexpectedly, UWP app `Clipchamp.Clipchamp_2.8.1.0_neutral__yxz26nhyzhsrt' (AUMId `Clipchamp.Clipchamp_yxz26nhyzhsrt!App') supports 41 extensions but has no verbs\n"
     ]
    },
    {
     "data": {
      "text/plain": [
       "'net.png\\\\net.png'"
      ]
     },
     "execution_count": 153,
     "metadata": {},
     "output_type": "execute_result"
    }
   ],
   "source": [
    "out.render(\"net\", format=\"png\")"
   ]
  },
  {
   "cell_type": "code",
   "execution_count": null,
   "id": "6b1cc998-c549-413d-b3d4-9f81d26c9216",
   "metadata": {},
   "outputs": [],
   "source": []
  }
 ],
 "metadata": {
  "kernelspec": {
   "display_name": "Python 3 (ipykernel)",
   "language": "python",
   "name": "python3"
  },
  "language_info": {
   "codemirror_mode": {
    "name": "ipython",
    "version": 3
   },
   "file_extension": ".py",
   "mimetype": "text/x-python",
   "name": "python",
   "nbconvert_exporter": "python",
   "pygments_lexer": "ipython3",
   "version": "3.11.4"
  }
 },
 "nbformat": 4,
 "nbformat_minor": 5
}

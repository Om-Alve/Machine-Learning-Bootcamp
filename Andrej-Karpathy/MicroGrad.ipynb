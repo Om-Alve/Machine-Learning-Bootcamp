{
 "cells": [
  {
   "cell_type": "code",
   "execution_count": 79,
   "id": "2c349402-8586-4d52-9b96-bc35c67d92f1",
   "metadata": {
    "tags": []
   },
   "outputs": [],
   "source": [
    "import numpy as np\n",
    "import matplotlib as plt\n",
    "import math"
   ]
  },
  {
   "cell_type": "code",
   "execution_count": 92,
   "id": "bb364133-ed93-48bd-ab46-456426b9fcbf",
   "metadata": {
    "tags": []
   },
   "outputs": [],
   "source": [
    "class Value:\n",
    "    def __init__(self, data, _children=(), _op='', label=''):\n",
    "        self.data = data\n",
    "        self.grad = 0.0\n",
    "        self._prev = set(_children)\n",
    "        self._op = _op\n",
    "        self.label = label\n",
    "\n",
    "    def __repr__(self):\n",
    "        return f\"Value(data={self.data})\"\n",
    "  \n",
    "    def __add__(self, other):\n",
    "        out = Value(self.data + other.data, (self, other), '+')\n",
    "        return out\n",
    "\n",
    "    def __mul__(self, other):\n",
    "        out = Value(self.data * other.data, (self, other), '*')\n",
    "        return out\n",
    "    def tanh(self):\n",
    "        x = self.data\n",
    "        t = (math.exp(2*x) - 1) / (math.exp(2*x) + 1)\n",
    "        return Value(data=t,_children=(self,),_op='tanh')\n",
    "  "
   ]
  },
  {
   "cell_type": "code",
   "execution_count": 81,
   "id": "c019e85c-5d01-4dd3-aa4d-077a764dc024",
   "metadata": {
    "tags": []
   },
   "outputs": [
    {
     "data": {
      "text/plain": [
       "Value(data=3)"
      ]
     },
     "execution_count": 81,
     "metadata": {},
     "output_type": "execute_result"
    }
   ],
   "source": [
    "a = Value(3)\n",
    "a"
   ]
  },
  {
   "cell_type": "code",
   "execution_count": 82,
   "id": "8d068662-63f6-44b6-b7ed-a4d2c73071db",
   "metadata": {
    "tags": []
   },
   "outputs": [],
   "source": [
    "b = Value(2)"
   ]
  },
  {
   "cell_type": "code",
   "execution_count": 83,
   "id": "64a09c03-773f-4b38-878b-46d14e90d461",
   "metadata": {
    "tags": []
   },
   "outputs": [
    {
     "data": {
      "text/plain": [
       "Value(data=5)"
      ]
     },
     "execution_count": 83,
     "metadata": {},
     "output_type": "execute_result"
    }
   ],
   "source": [
    "a+b"
   ]
  },
  {
   "cell_type": "code",
   "execution_count": 84,
   "id": "4453546c-77a6-4b01-94f0-85d966784f04",
   "metadata": {
    "tags": []
   },
   "outputs": [],
   "source": [
    "d = a*b\n",
    "d.label ='d'\n",
    "a.label= 'a'\n",
    "b.label = 'b'"
   ]
  },
  {
   "cell_type": "code",
   "execution_count": 85,
   "id": "41aab060-360d-41ad-b96c-8b066432033f",
   "metadata": {
    "tags": []
   },
   "outputs": [
    {
     "data": {
      "text/plain": [
       "Value(data=8)"
      ]
     },
     "execution_count": 85,
     "metadata": {},
     "output_type": "execute_result"
    }
   ],
   "source": [
    "c=Value(2)\n",
    "a*b+c"
   ]
  },
  {
   "cell_type": "code",
   "execution_count": 86,
   "id": "7fd23c77-b9a9-466c-8525-b9f2f02308bf",
   "metadata": {
    "tags": []
   },
   "outputs": [
    {
     "data": {
      "text/plain": [
       "({Value(data=2), Value(data=3)}, '*')"
      ]
     },
     "execution_count": 86,
     "metadata": {},
     "output_type": "execute_result"
    }
   ],
   "source": [
    "d._prev,d._op"
   ]
  },
  {
   "cell_type": "code",
   "execution_count": 87,
   "id": "e67309cc-89b6-4a02-8f2b-7b9b1edaad25",
   "metadata": {
    "tags": []
   },
   "outputs": [
    {
     "name": "stdout",
     "output_type": "stream",
     "text": [
      "4.0\n"
     ]
    }
   ],
   "source": [
    "a = 2.0\n",
    "b = -3.0\n",
    "c = 10.0\n",
    "d = a*b + c\n",
    "print(d)"
   ]
  },
  {
   "cell_type": "code",
   "execution_count": 88,
   "id": "fa653473-2e40-47b9-8130-41260fb6544a",
   "metadata": {
    "tags": []
   },
   "outputs": [
    {
     "name": "stdout",
     "output_type": "stream",
     "text": [
      "d1 4.0\n",
      "d2 4.0001\n",
      "slope 0.9999999999976694\n"
     ]
    }
   ],
   "source": [
    "h = 0.0001\n",
    "\n",
    "# inputs\n",
    "a = 2.0\n",
    "b = -3.0\n",
    "c = 10.0\n",
    "\n",
    "d1 = a*b + c\n",
    "c += h\n",
    "d2 = a*b + c\n",
    "\n",
    "print('d1', d1)\n",
    "print('d2', d2)\n",
    "print('slope', (d2 - d1)/h)\n"
   ]
  },
  {
   "cell_type": "code",
   "execution_count": 89,
   "id": "a79872de-396d-42ac-bab1-e2b1f8dcbba9",
   "metadata": {
    "tags": []
   },
   "outputs": [
    {
     "data": {
      "text/plain": [
       "({Value(data=13), Value(data=2), Value(data=4), Value(data=6), Value(data=7)},\n",
       " {(Value(data=2), Value(data=6)),\n",
       "  (Value(data=4), Value(data=6)),\n",
       "  (Value(data=6), Value(data=13)),\n",
       "  (Value(data=7), Value(data=13))})"
      ]
     },
     "execution_count": 89,
     "metadata": {},
     "output_type": "execute_result"
    }
   ],
   "source": [
    "a = Value(2);a.label = 'a'\n",
    "b = Value(4);b.label = 'b'\n",
    "x = a + b;x.label='x'\n",
    "y = Value(7);y.label = 'y'\n",
    "z = x+y;z.label='z'\n",
    "build_graph(z)"
   ]
  },
  {
   "cell_type": "code",
   "execution_count": 90,
   "id": "61a86e86-1059-4bc3-a314-716bebc21ec5",
   "metadata": {
    "tags": []
   },
   "outputs": [
    {
     "data": {
      "image/svg+xml": [
       "<?xml version=\"1.0\" encoding=\"UTF-8\" standalone=\"no\"?>\n",
       "<!DOCTYPE svg PUBLIC \"-//W3C//DTD SVG 1.1//EN\"\n",
       " \"http://www.w3.org/Graphics/SVG/1.1/DTD/svg11.dtd\">\n",
       "<!-- Generated by graphviz version 2.50.0 (0)\n",
       " -->\n",
       "<!-- Pages: 1 -->\n",
       "<svg width=\"511pt\" height=\"210pt\"\n",
       " viewBox=\"0.00 0.00 511.00 210.00\" xmlns=\"http://www.w3.org/2000/svg\" xmlns:xlink=\"http://www.w3.org/1999/xlink\">\n",
       "<g id=\"graph0\" class=\"graph\" transform=\"scale(1 1) rotate(0) translate(4 206)\">\n",
       "<polygon fill=\"white\" stroke=\"transparent\" points=\"-4,4 -4,-206 507,-206 507,4 -4,4\"/>\n",
       "<!-- 2527968959568 -->\n",
       "<g id=\"node1\" class=\"node\">\n",
       "<title>2527968959568</title>\n",
       "<polygon fill=\"none\" stroke=\"black\" points=\"416,-44.5 416,-113.5 503,-113.5 503,-44.5 416,-44.5\"/>\n",
       "<text text-anchor=\"middle\" x=\"459.5\" y=\"-98.3\" font-family=\"Times New Roman,serif\" font-size=\"14.00\">z</text>\n",
       "<polyline fill=\"none\" stroke=\"black\" points=\"416,-90.5 503,-90.5 \"/>\n",
       "<text text-anchor=\"middle\" x=\"459.5\" y=\"-75.3\" font-family=\"Times New Roman,serif\" font-size=\"14.00\">data 13.0000</text>\n",
       "<polyline fill=\"none\" stroke=\"black\" points=\"416,-67.5 503,-67.5 \"/>\n",
       "<text text-anchor=\"middle\" x=\"459.5\" y=\"-52.3\" font-family=\"Times New Roman,serif\" font-size=\"14.00\">grad 0.0000</text>\n",
       "</g>\n",
       "<!-- 2527968959568+ -->\n",
       "<g id=\"node2\" class=\"node\">\n",
       "<title>2527968959568+</title>\n",
       "<ellipse fill=\"none\" stroke=\"black\" cx=\"353\" cy=\"-79\" rx=\"27\" ry=\"18\"/>\n",
       "<text text-anchor=\"middle\" x=\"353\" y=\"-75.3\" font-family=\"Times New Roman,serif\" font-size=\"14.00\">+</text>\n",
       "</g>\n",
       "<!-- 2527968959568+&#45;&gt;2527968959568 -->\n",
       "<g id=\"edge1\" class=\"edge\">\n",
       "<title>2527968959568+&#45;&gt;2527968959568</title>\n",
       "<path fill=\"none\" stroke=\"black\" d=\"M380.1,-79C387.83,-79 396.6,-79 405.4,-79\"/>\n",
       "<polygon fill=\"black\" stroke=\"black\" points=\"405.68,-82.5 415.68,-79 405.68,-75.5 405.68,-82.5\"/>\n",
       "</g>\n",
       "<!-- 2527967528656 -->\n",
       "<g id=\"node3\" class=\"node\">\n",
       "<title>2527967528656</title>\n",
       "<polygon fill=\"none\" stroke=\"black\" points=\"0,-132.5 0,-201.5 82,-201.5 82,-132.5 0,-132.5\"/>\n",
       "<text text-anchor=\"middle\" x=\"41\" y=\"-186.3\" font-family=\"Times New Roman,serif\" font-size=\"14.00\">b</text>\n",
       "<polyline fill=\"none\" stroke=\"black\" points=\"0,-178.5 82,-178.5 \"/>\n",
       "<text text-anchor=\"middle\" x=\"41\" y=\"-163.3\" font-family=\"Times New Roman,serif\" font-size=\"14.00\">data 4.0000</text>\n",
       "<polyline fill=\"none\" stroke=\"black\" points=\"0,-155.5 82,-155.5 \"/>\n",
       "<text text-anchor=\"middle\" x=\"41\" y=\"-140.3\" font-family=\"Times New Roman,serif\" font-size=\"14.00\">grad 0.0000</text>\n",
       "</g>\n",
       "<!-- 2529715340112+ -->\n",
       "<g id=\"node5\" class=\"node\">\n",
       "<title>2529715340112+</title>\n",
       "<ellipse fill=\"none\" stroke=\"black\" cx=\"145\" cy=\"-123\" rx=\"27\" ry=\"18\"/>\n",
       "<text text-anchor=\"middle\" x=\"145\" y=\"-119.3\" font-family=\"Times New Roman,serif\" font-size=\"14.00\">+</text>\n",
       "</g>\n",
       "<!-- 2527967528656&#45;&gt;2529715340112+ -->\n",
       "<g id=\"edge6\" class=\"edge\">\n",
       "<title>2527967528656&#45;&gt;2529715340112+</title>\n",
       "<path fill=\"none\" stroke=\"black\" d=\"M82.02,-149.74C92.23,-145.33 103.06,-140.66 112.77,-136.47\"/>\n",
       "<polygon fill=\"black\" stroke=\"black\" points=\"114.23,-139.65 122.03,-132.48 111.46,-133.23 114.23,-139.65\"/>\n",
       "</g>\n",
       "<!-- 2529715340112 -->\n",
       "<g id=\"node4\" class=\"node\">\n",
       "<title>2529715340112</title>\n",
       "<polygon fill=\"none\" stroke=\"black\" points=\"208,-88.5 208,-157.5 290,-157.5 290,-88.5 208,-88.5\"/>\n",
       "<text text-anchor=\"middle\" x=\"249\" y=\"-142.3\" font-family=\"Times New Roman,serif\" font-size=\"14.00\">x</text>\n",
       "<polyline fill=\"none\" stroke=\"black\" points=\"208,-134.5 290,-134.5 \"/>\n",
       "<text text-anchor=\"middle\" x=\"249\" y=\"-119.3\" font-family=\"Times New Roman,serif\" font-size=\"14.00\">data 6.0000</text>\n",
       "<polyline fill=\"none\" stroke=\"black\" points=\"208,-111.5 290,-111.5 \"/>\n",
       "<text text-anchor=\"middle\" x=\"249\" y=\"-96.3\" font-family=\"Times New Roman,serif\" font-size=\"14.00\">grad 0.0000</text>\n",
       "</g>\n",
       "<!-- 2529715340112&#45;&gt;2527968959568+ -->\n",
       "<g id=\"edge5\" class=\"edge\">\n",
       "<title>2529715340112&#45;&gt;2527968959568+</title>\n",
       "<path fill=\"none\" stroke=\"black\" d=\"M290.02,-105.74C300.23,-101.33 311.06,-96.66 320.77,-92.47\"/>\n",
       "<polygon fill=\"black\" stroke=\"black\" points=\"322.23,-95.65 330.03,-88.48 319.46,-89.23 322.23,-95.65\"/>\n",
       "</g>\n",
       "<!-- 2529715340112+&#45;&gt;2529715340112 -->\n",
       "<g id=\"edge2\" class=\"edge\">\n",
       "<title>2529715340112+&#45;&gt;2529715340112</title>\n",
       "<path fill=\"none\" stroke=\"black\" d=\"M172,-123C179.81,-123 188.65,-123 197.48,-123\"/>\n",
       "<polygon fill=\"black\" stroke=\"black\" points=\"197.76,-126.5 207.76,-123 197.76,-119.5 197.76,-126.5\"/>\n",
       "</g>\n",
       "<!-- 2527968969552 -->\n",
       "<g id=\"node6\" class=\"node\">\n",
       "<title>2527968969552</title>\n",
       "<polygon fill=\"none\" stroke=\"black\" points=\"208,-0.5 208,-69.5 290,-69.5 290,-0.5 208,-0.5\"/>\n",
       "<text text-anchor=\"middle\" x=\"249\" y=\"-54.3\" font-family=\"Times New Roman,serif\" font-size=\"14.00\">y</text>\n",
       "<polyline fill=\"none\" stroke=\"black\" points=\"208,-46.5 290,-46.5 \"/>\n",
       "<text text-anchor=\"middle\" x=\"249\" y=\"-31.3\" font-family=\"Times New Roman,serif\" font-size=\"14.00\">data 7.0000</text>\n",
       "<polyline fill=\"none\" stroke=\"black\" points=\"208,-23.5 290,-23.5 \"/>\n",
       "<text text-anchor=\"middle\" x=\"249\" y=\"-8.3\" font-family=\"Times New Roman,serif\" font-size=\"14.00\">grad 0.0000</text>\n",
       "</g>\n",
       "<!-- 2527968969552&#45;&gt;2527968959568+ -->\n",
       "<g id=\"edge4\" class=\"edge\">\n",
       "<title>2527968969552&#45;&gt;2527968959568+</title>\n",
       "<path fill=\"none\" stroke=\"black\" d=\"M290.02,-52.26C300.23,-56.67 311.06,-61.34 320.77,-65.53\"/>\n",
       "<polygon fill=\"black\" stroke=\"black\" points=\"319.46,-68.77 330.03,-69.52 322.23,-62.35 319.46,-68.77\"/>\n",
       "</g>\n",
       "<!-- 2527969006928 -->\n",
       "<g id=\"node7\" class=\"node\">\n",
       "<title>2527969006928</title>\n",
       "<polygon fill=\"none\" stroke=\"black\" points=\"0,-44.5 0,-113.5 82,-113.5 82,-44.5 0,-44.5\"/>\n",
       "<text text-anchor=\"middle\" x=\"41\" y=\"-98.3\" font-family=\"Times New Roman,serif\" font-size=\"14.00\">a</text>\n",
       "<polyline fill=\"none\" stroke=\"black\" points=\"0,-90.5 82,-90.5 \"/>\n",
       "<text text-anchor=\"middle\" x=\"41\" y=\"-75.3\" font-family=\"Times New Roman,serif\" font-size=\"14.00\">data 2.0000</text>\n",
       "<polyline fill=\"none\" stroke=\"black\" points=\"0,-67.5 82,-67.5 \"/>\n",
       "<text text-anchor=\"middle\" x=\"41\" y=\"-52.3\" font-family=\"Times New Roman,serif\" font-size=\"14.00\">grad 0.0000</text>\n",
       "</g>\n",
       "<!-- 2527969006928&#45;&gt;2529715340112+ -->\n",
       "<g id=\"edge3\" class=\"edge\">\n",
       "<title>2527969006928&#45;&gt;2529715340112+</title>\n",
       "<path fill=\"none\" stroke=\"black\" d=\"M82.02,-96.26C92.23,-100.67 103.06,-105.34 112.77,-109.53\"/>\n",
       "<polygon fill=\"black\" stroke=\"black\" points=\"111.46,-112.77 122.03,-113.52 114.23,-106.35 111.46,-112.77\"/>\n",
       "</g>\n",
       "</g>\n",
       "</svg>\n"
      ],
      "text/plain": [
       "<graphviz.graphs.Digraph at 0x24c969caf50>"
      ]
     },
     "execution_count": 90,
     "metadata": {},
     "output_type": "execute_result"
    }
   ],
   "source": [
    "def build_graph(root):\n",
    "    nodes,edges = set(),set()\n",
    "    def build(root):\n",
    "        if root not in nodes:\n",
    "            nodes.add(root)\n",
    "            for child in root._prev:\n",
    "                edges.add((child,root))\n",
    "                build(child)\n",
    "    build(root)\n",
    "    return nodes,edges\n",
    "\n",
    "def draw_graph(root):\n",
    "    graph = Digraph(format='svg',graph_attr={'rankdir':'LR'})\n",
    "    nodes,edges = build_graph(root)\n",
    "    for n in nodes:\n",
    "        uid = str(id(n))\n",
    "        graph.node(name=uid,label=\"%s | data %.4f | grad %.4f\"%(n.label,n.data,n.grad),shape='record')\n",
    "        if n._op:\n",
    "            opid = uid + n._op\n",
    "            graph.node(name=opid,label=n._op)\n",
    "            graph.edge(opid,uid)\n",
    "    for n1,n2 in edges:\n",
    "        graph.edge(str(id(n1)),str(id(n2))+n2._op)\n",
    "    return graph\n",
    "draw_graph(z)"
   ]
  },
  {
   "cell_type": "code",
   "execution_count": 93,
   "id": "cf98374c-e75f-45bf-82f6-d5c4d4ecd323",
   "metadata": {
    "tags": []
   },
   "outputs": [],
   "source": [
    "# inputs x1,x2\n",
    "x1 = Value(2.0, label='x1')\n",
    "x2 = Value(0.0, label='x2')\n",
    "# weights w1,w2\n",
    "w1 = Value(-3.0, label='w1')\n",
    "w2 = Value(1.0, label='w2')\n",
    "# bias of the neuron\n",
    "b = Value(6.8813735870195432, label='b')\n",
    "# x1*w1 + x2*w2 + b\n",
    "x1w1 = x1*w1; x1w1.label = 'x1*w1'\n",
    "x2w2 = x2*w2; x2w2.label = 'x2*w2'\n",
    "x1w1x2w2 = x1w1 + x2w2; x1w1x2w2.label = 'x1*w1 + x2*w2'\n",
    "n = x1w1x2w2 + b; n.label = 'n'\n",
    "o = n.tanh(); o.label = 'o'"
   ]
  },
  {
   "cell_type": "code",
   "execution_count": 95,
   "id": "4eb09e56-8a98-4ec1-a1a3-733fcb942670",
   "metadata": {
    "tags": []
   },
   "outputs": [
    {
     "data": {
      "image/svg+xml": [
       "<?xml version=\"1.0\" encoding=\"UTF-8\" standalone=\"no\"?>\n",
       "<!DOCTYPE svg PUBLIC \"-//W3C//DTD SVG 1.1//EN\"\n",
       " \"http://www.w3.org/Graphics/SVG/1.1/DTD/svg11.dtd\">\n",
       "<!-- Generated by graphviz version 2.50.0 (0)\n",
       " -->\n",
       "<!-- Pages: 1 -->\n",
       "<svg width=\"952pt\" height=\"342pt\"\n",
       " viewBox=\"0.00 0.00 952.00 342.00\" xmlns=\"http://www.w3.org/2000/svg\" xmlns:xlink=\"http://www.w3.org/1999/xlink\">\n",
       "<g id=\"graph0\" class=\"graph\" transform=\"scale(1 1) rotate(0) translate(4 338)\">\n",
       "<polygon fill=\"white\" stroke=\"transparent\" points=\"-4,4 -4,-338 948,-338 948,4 -4,4\"/>\n",
       "<!-- 2527967705104 -->\n",
       "<g id=\"node1\" class=\"node\">\n",
       "<title>2527967705104</title>\n",
       "<polygon fill=\"none\" stroke=\"black\" points=\"212.5,-88.5 212.5,-157.5 294.5,-157.5 294.5,-88.5 212.5,-88.5\"/>\n",
       "<text text-anchor=\"middle\" x=\"253.5\" y=\"-142.3\" font-family=\"Times New Roman,serif\" font-size=\"14.00\">x2*w2</text>\n",
       "<polyline fill=\"none\" stroke=\"black\" points=\"212.5,-134.5 294.5,-134.5 \"/>\n",
       "<text text-anchor=\"middle\" x=\"253.5\" y=\"-119.3\" font-family=\"Times New Roman,serif\" font-size=\"14.00\">data 0.0000</text>\n",
       "<polyline fill=\"none\" stroke=\"black\" points=\"212.5,-111.5 294.5,-111.5 \"/>\n",
       "<text text-anchor=\"middle\" x=\"253.5\" y=\"-96.3\" font-family=\"Times New Roman,serif\" font-size=\"14.00\">grad 0.0000</text>\n",
       "</g>\n",
       "<!-- 2527967615056+ -->\n",
       "<g id=\"node5\" class=\"node\">\n",
       "<title>2527967615056+</title>\n",
       "<ellipse fill=\"none\" stroke=\"black\" cx=\"359\" cy=\"-167\" rx=\"27\" ry=\"18\"/>\n",
       "<text text-anchor=\"middle\" x=\"359\" y=\"-163.3\" font-family=\"Times New Roman,serif\" font-size=\"14.00\">+</text>\n",
       "</g>\n",
       "<!-- 2527967705104&#45;&gt;2527967615056+ -->\n",
       "<g id=\"edge13\" class=\"edge\">\n",
       "<title>2527967705104&#45;&gt;2527967615056+</title>\n",
       "<path fill=\"none\" stroke=\"black\" d=\"M294.52,-140.01C305.12,-144.52 316.42,-149.32 326.5,-153.61\"/>\n",
       "<polygon fill=\"black\" stroke=\"black\" points=\"325.16,-156.84 335.73,-157.53 327.9,-150.4 325.16,-156.84\"/>\n",
       "</g>\n",
       "<!-- 2527967705104* -->\n",
       "<g id=\"node2\" class=\"node\">\n",
       "<title>2527967705104*</title>\n",
       "<ellipse fill=\"none\" stroke=\"black\" cx=\"148\" cy=\"-123\" rx=\"27\" ry=\"18\"/>\n",
       "<text text-anchor=\"middle\" x=\"148\" y=\"-119.3\" font-family=\"Times New Roman,serif\" font-size=\"14.00\">*</text>\n",
       "</g>\n",
       "<!-- 2527967705104*&#45;&gt;2527967705104 -->\n",
       "<g id=\"edge1\" class=\"edge\">\n",
       "<title>2527967705104*&#45;&gt;2527967705104</title>\n",
       "<path fill=\"none\" stroke=\"black\" d=\"M175.12,-123C183.39,-123 192.82,-123 202.19,-123\"/>\n",
       "<polygon fill=\"black\" stroke=\"black\" points=\"202.28,-126.5 212.28,-123 202.28,-119.5 202.28,-126.5\"/>\n",
       "</g>\n",
       "<!-- 2527969291280 -->\n",
       "<g id=\"node3\" class=\"node\">\n",
       "<title>2527969291280</title>\n",
       "<polygon fill=\"none\" stroke=\"black\" points=\"1.5,-264.5 1.5,-333.5 83.5,-333.5 83.5,-264.5 1.5,-264.5\"/>\n",
       "<text text-anchor=\"middle\" x=\"42.5\" y=\"-318.3\" font-family=\"Times New Roman,serif\" font-size=\"14.00\">x1</text>\n",
       "<polyline fill=\"none\" stroke=\"black\" points=\"1.5,-310.5 83.5,-310.5 \"/>\n",
       "<text text-anchor=\"middle\" x=\"42.5\" y=\"-295.3\" font-family=\"Times New Roman,serif\" font-size=\"14.00\">data 2.0000</text>\n",
       "<polyline fill=\"none\" stroke=\"black\" points=\"1.5,-287.5 83.5,-287.5 \"/>\n",
       "<text text-anchor=\"middle\" x=\"42.5\" y=\"-272.3\" font-family=\"Times New Roman,serif\" font-size=\"14.00\">grad 0.0000</text>\n",
       "</g>\n",
       "<!-- 2527970353104* -->\n",
       "<g id=\"node15\" class=\"node\">\n",
       "<title>2527970353104*</title>\n",
       "<ellipse fill=\"none\" stroke=\"black\" cx=\"148\" cy=\"-211\" rx=\"27\" ry=\"18\"/>\n",
       "<text text-anchor=\"middle\" x=\"148\" y=\"-207.3\" font-family=\"Times New Roman,serif\" font-size=\"14.00\">*</text>\n",
       "</g>\n",
       "<!-- 2527969291280&#45;&gt;2527970353104* -->\n",
       "<g id=\"edge12\" class=\"edge\">\n",
       "<title>2527969291280&#45;&gt;2527970353104*</title>\n",
       "<path fill=\"none\" stroke=\"black\" d=\"M83.52,-264.98C96.83,-253.66 111.23,-241.41 122.95,-231.45\"/>\n",
       "<polygon fill=\"black\" stroke=\"black\" points=\"125.23,-234.1 130.59,-224.96 120.7,-228.77 125.23,-234.1\"/>\n",
       "</g>\n",
       "<!-- 2527967615056 -->\n",
       "<g id=\"node4\" class=\"node\">\n",
       "<title>2527967615056</title>\n",
       "<polygon fill=\"none\" stroke=\"black\" points=\"422,-132.5 422,-201.5 528,-201.5 528,-132.5 422,-132.5\"/>\n",
       "<text text-anchor=\"middle\" x=\"475\" y=\"-186.3\" font-family=\"Times New Roman,serif\" font-size=\"14.00\">x1*w1 + x2*w2</text>\n",
       "<polyline fill=\"none\" stroke=\"black\" points=\"422,-178.5 528,-178.5 \"/>\n",
       "<text text-anchor=\"middle\" x=\"475\" y=\"-163.3\" font-family=\"Times New Roman,serif\" font-size=\"14.00\">data &#45;6.0000</text>\n",
       "<polyline fill=\"none\" stroke=\"black\" points=\"422,-155.5 528,-155.5 \"/>\n",
       "<text text-anchor=\"middle\" x=\"475\" y=\"-140.3\" font-family=\"Times New Roman,serif\" font-size=\"14.00\">grad 0.0000</text>\n",
       "</g>\n",
       "<!-- 2527967614736+ -->\n",
       "<g id=\"node9\" class=\"node\">\n",
       "<title>2527967614736+</title>\n",
       "<ellipse fill=\"none\" stroke=\"black\" cx=\"591\" cy=\"-211\" rx=\"27\" ry=\"18\"/>\n",
       "<text text-anchor=\"middle\" x=\"591\" y=\"-207.3\" font-family=\"Times New Roman,serif\" font-size=\"14.00\">+</text>\n",
       "</g>\n",
       "<!-- 2527967615056&#45;&gt;2527967614736+ -->\n",
       "<g id=\"edge6\" class=\"edge\">\n",
       "<title>2527967615056&#45;&gt;2527967614736+</title>\n",
       "<path fill=\"none\" stroke=\"black\" d=\"M528.33,-187.2C538.39,-191.08 548.64,-195.04 557.83,-198.58\"/>\n",
       "<polygon fill=\"black\" stroke=\"black\" points=\"556.72,-201.91 567.31,-202.24 559.24,-195.38 556.72,-201.91\"/>\n",
       "</g>\n",
       "<!-- 2527967615056+&#45;&gt;2527967615056 -->\n",
       "<g id=\"edge2\" class=\"edge\">\n",
       "<title>2527967615056+&#45;&gt;2527967615056</title>\n",
       "<path fill=\"none\" stroke=\"black\" d=\"M386.15,-167C393.89,-167 402.71,-167 411.71,-167\"/>\n",
       "<polygon fill=\"black\" stroke=\"black\" points=\"411.9,-170.5 421.9,-167 411.9,-163.5 411.9,-170.5\"/>\n",
       "</g>\n",
       "<!-- 2527968668816 -->\n",
       "<g id=\"node6\" class=\"node\">\n",
       "<title>2527968668816</title>\n",
       "<polygon fill=\"none\" stroke=\"black\" points=\"1.5,-88.5 1.5,-157.5 83.5,-157.5 83.5,-88.5 1.5,-88.5\"/>\n",
       "<text text-anchor=\"middle\" x=\"42.5\" y=\"-142.3\" font-family=\"Times New Roman,serif\" font-size=\"14.00\">x2</text>\n",
       "<polyline fill=\"none\" stroke=\"black\" points=\"1.5,-134.5 83.5,-134.5 \"/>\n",
       "<text text-anchor=\"middle\" x=\"42.5\" y=\"-119.3\" font-family=\"Times New Roman,serif\" font-size=\"14.00\">data 0.0000</text>\n",
       "<polyline fill=\"none\" stroke=\"black\" points=\"1.5,-111.5 83.5,-111.5 \"/>\n",
       "<text text-anchor=\"middle\" x=\"42.5\" y=\"-96.3\" font-family=\"Times New Roman,serif\" font-size=\"14.00\">grad 0.0000</text>\n",
       "</g>\n",
       "<!-- 2527968668816&#45;&gt;2527967705104* -->\n",
       "<g id=\"edge14\" class=\"edge\">\n",
       "<title>2527968668816&#45;&gt;2527967705104*</title>\n",
       "<path fill=\"none\" stroke=\"black\" d=\"M83.52,-123C92.41,-123 101.8,-123 110.54,-123\"/>\n",
       "<polygon fill=\"black\" stroke=\"black\" points=\"110.82,-126.5 120.82,-123 110.82,-119.5 110.82,-126.5\"/>\n",
       "</g>\n",
       "<!-- 2527970345104 -->\n",
       "<g id=\"node7\" class=\"node\">\n",
       "<title>2527970345104</title>\n",
       "<polygon fill=\"none\" stroke=\"black\" points=\"1.5,-0.5 1.5,-69.5 83.5,-69.5 83.5,-0.5 1.5,-0.5\"/>\n",
       "<text text-anchor=\"middle\" x=\"42.5\" y=\"-54.3\" font-family=\"Times New Roman,serif\" font-size=\"14.00\">w2</text>\n",
       "<polyline fill=\"none\" stroke=\"black\" points=\"1.5,-46.5 83.5,-46.5 \"/>\n",
       "<text text-anchor=\"middle\" x=\"42.5\" y=\"-31.3\" font-family=\"Times New Roman,serif\" font-size=\"14.00\">data 1.0000</text>\n",
       "<polyline fill=\"none\" stroke=\"black\" points=\"1.5,-23.5 83.5,-23.5 \"/>\n",
       "<text text-anchor=\"middle\" x=\"42.5\" y=\"-8.3\" font-family=\"Times New Roman,serif\" font-size=\"14.00\">grad 0.0000</text>\n",
       "</g>\n",
       "<!-- 2527970345104&#45;&gt;2527967705104* -->\n",
       "<g id=\"edge10\" class=\"edge\">\n",
       "<title>2527970345104&#45;&gt;2527967705104*</title>\n",
       "<path fill=\"none\" stroke=\"black\" d=\"M83.52,-69.02C96.83,-80.34 111.23,-92.59 122.95,-102.55\"/>\n",
       "<polygon fill=\"black\" stroke=\"black\" points=\"120.7,-105.23 130.59,-109.04 125.23,-99.9 120.7,-105.23\"/>\n",
       "</g>\n",
       "<!-- 2527967614736 -->\n",
       "<g id=\"node8\" class=\"node\">\n",
       "<title>2527967614736</title>\n",
       "<polygon fill=\"none\" stroke=\"black\" points=\"654,-176.5 654,-245.5 736,-245.5 736,-176.5 654,-176.5\"/>\n",
       "<text text-anchor=\"middle\" x=\"695\" y=\"-230.3\" font-family=\"Times New Roman,serif\" font-size=\"14.00\">n</text>\n",
       "<polyline fill=\"none\" stroke=\"black\" points=\"654,-222.5 736,-222.5 \"/>\n",
       "<text text-anchor=\"middle\" x=\"695\" y=\"-207.3\" font-family=\"Times New Roman,serif\" font-size=\"14.00\">data 0.8814</text>\n",
       "<polyline fill=\"none\" stroke=\"black\" points=\"654,-199.5 736,-199.5 \"/>\n",
       "<text text-anchor=\"middle\" x=\"695\" y=\"-184.3\" font-family=\"Times New Roman,serif\" font-size=\"14.00\">grad 0.0000</text>\n",
       "</g>\n",
       "<!-- 2529713292624tanh -->\n",
       "<g id=\"node12\" class=\"node\">\n",
       "<title>2529713292624tanh</title>\n",
       "<ellipse fill=\"none\" stroke=\"black\" cx=\"799\" cy=\"-211\" rx=\"27\" ry=\"18\"/>\n",
       "<text text-anchor=\"middle\" x=\"799\" y=\"-207.3\" font-family=\"Times New Roman,serif\" font-size=\"14.00\">tanh</text>\n",
       "</g>\n",
       "<!-- 2527967614736&#45;&gt;2529713292624tanh -->\n",
       "<g id=\"edge11\" class=\"edge\">\n",
       "<title>2527967614736&#45;&gt;2529713292624tanh</title>\n",
       "<path fill=\"none\" stroke=\"black\" d=\"M736.02,-211C744.5,-211 753.4,-211 761.73,-211\"/>\n",
       "<polygon fill=\"black\" stroke=\"black\" points=\"761.89,-214.5 771.89,-211 761.89,-207.5 761.89,-214.5\"/>\n",
       "</g>\n",
       "<!-- 2527967614736+&#45;&gt;2527967614736 -->\n",
       "<g id=\"edge3\" class=\"edge\">\n",
       "<title>2527967614736+&#45;&gt;2527967614736</title>\n",
       "<path fill=\"none\" stroke=\"black\" d=\"M618,-211C625.81,-211 634.65,-211 643.48,-211\"/>\n",
       "<polygon fill=\"black\" stroke=\"black\" points=\"643.76,-214.5 653.76,-211 643.76,-207.5 643.76,-214.5\"/>\n",
       "</g>\n",
       "<!-- 2527970346768 -->\n",
       "<g id=\"node10\" class=\"node\">\n",
       "<title>2527970346768</title>\n",
       "<polygon fill=\"none\" stroke=\"black\" points=\"434,-220.5 434,-289.5 516,-289.5 516,-220.5 434,-220.5\"/>\n",
       "<text text-anchor=\"middle\" x=\"475\" y=\"-274.3\" font-family=\"Times New Roman,serif\" font-size=\"14.00\">b</text>\n",
       "<polyline fill=\"none\" stroke=\"black\" points=\"434,-266.5 516,-266.5 \"/>\n",
       "<text text-anchor=\"middle\" x=\"475\" y=\"-251.3\" font-family=\"Times New Roman,serif\" font-size=\"14.00\">data 6.8814</text>\n",
       "<polyline fill=\"none\" stroke=\"black\" points=\"434,-243.5 516,-243.5 \"/>\n",
       "<text text-anchor=\"middle\" x=\"475\" y=\"-228.3\" font-family=\"Times New Roman,serif\" font-size=\"14.00\">grad 0.0000</text>\n",
       "</g>\n",
       "<!-- 2527970346768&#45;&gt;2527967614736+ -->\n",
       "<g id=\"edge7\" class=\"edge\">\n",
       "<title>2527970346768&#45;&gt;2527967614736+</title>\n",
       "<path fill=\"none\" stroke=\"black\" d=\"M516.19,-239.49C529.78,-234.24 544.77,-228.46 557.67,-223.48\"/>\n",
       "<polygon fill=\"black\" stroke=\"black\" points=\"559,-226.72 567.07,-219.85 556.48,-220.19 559,-226.72\"/>\n",
       "</g>\n",
       "<!-- 2529713292624 -->\n",
       "<g id=\"node11\" class=\"node\">\n",
       "<title>2529713292624</title>\n",
       "<polygon fill=\"none\" stroke=\"black\" points=\"862,-176.5 862,-245.5 944,-245.5 944,-176.5 862,-176.5\"/>\n",
       "<text text-anchor=\"middle\" x=\"903\" y=\"-230.3\" font-family=\"Times New Roman,serif\" font-size=\"14.00\">o</text>\n",
       "<polyline fill=\"none\" stroke=\"black\" points=\"862,-222.5 944,-222.5 \"/>\n",
       "<text text-anchor=\"middle\" x=\"903\" y=\"-207.3\" font-family=\"Times New Roman,serif\" font-size=\"14.00\">data 0.7071</text>\n",
       "<polyline fill=\"none\" stroke=\"black\" points=\"862,-199.5 944,-199.5 \"/>\n",
       "<text text-anchor=\"middle\" x=\"903\" y=\"-184.3\" font-family=\"Times New Roman,serif\" font-size=\"14.00\">grad 0.0000</text>\n",
       "</g>\n",
       "<!-- 2529713292624tanh&#45;&gt;2529713292624 -->\n",
       "<g id=\"edge4\" class=\"edge\">\n",
       "<title>2529713292624tanh&#45;&gt;2529713292624</title>\n",
       "<path fill=\"none\" stroke=\"black\" d=\"M826,-211C833.81,-211 842.65,-211 851.48,-211\"/>\n",
       "<polygon fill=\"black\" stroke=\"black\" points=\"851.76,-214.5 861.76,-211 851.76,-207.5 851.76,-214.5\"/>\n",
       "</g>\n",
       "<!-- 2529729576848 -->\n",
       "<g id=\"node13\" class=\"node\">\n",
       "<title>2529729576848</title>\n",
       "<polygon fill=\"none\" stroke=\"black\" points=\"0,-176.5 0,-245.5 85,-245.5 85,-176.5 0,-176.5\"/>\n",
       "<text text-anchor=\"middle\" x=\"42.5\" y=\"-230.3\" font-family=\"Times New Roman,serif\" font-size=\"14.00\">w1</text>\n",
       "<polyline fill=\"none\" stroke=\"black\" points=\"0,-222.5 85,-222.5 \"/>\n",
       "<text text-anchor=\"middle\" x=\"42.5\" y=\"-207.3\" font-family=\"Times New Roman,serif\" font-size=\"14.00\">data &#45;3.0000</text>\n",
       "<polyline fill=\"none\" stroke=\"black\" points=\"0,-199.5 85,-199.5 \"/>\n",
       "<text text-anchor=\"middle\" x=\"42.5\" y=\"-184.3\" font-family=\"Times New Roman,serif\" font-size=\"14.00\">grad 0.0000</text>\n",
       "</g>\n",
       "<!-- 2529729576848&#45;&gt;2527970353104* -->\n",
       "<g id=\"edge9\" class=\"edge\">\n",
       "<title>2529729576848&#45;&gt;2527970353104*</title>\n",
       "<path fill=\"none\" stroke=\"black\" d=\"M85,-211C93.54,-211 102.47,-211 110.81,-211\"/>\n",
       "<polygon fill=\"black\" stroke=\"black\" points=\"110.97,-214.5 120.97,-211 110.97,-207.5 110.97,-214.5\"/>\n",
       "</g>\n",
       "<!-- 2527970353104 -->\n",
       "<g id=\"node14\" class=\"node\">\n",
       "<title>2527970353104</title>\n",
       "<polygon fill=\"none\" stroke=\"black\" points=\"211,-176.5 211,-245.5 296,-245.5 296,-176.5 211,-176.5\"/>\n",
       "<text text-anchor=\"middle\" x=\"253.5\" y=\"-230.3\" font-family=\"Times New Roman,serif\" font-size=\"14.00\">x1*w1</text>\n",
       "<polyline fill=\"none\" stroke=\"black\" points=\"211,-222.5 296,-222.5 \"/>\n",
       "<text text-anchor=\"middle\" x=\"253.5\" y=\"-207.3\" font-family=\"Times New Roman,serif\" font-size=\"14.00\">data &#45;6.0000</text>\n",
       "<polyline fill=\"none\" stroke=\"black\" points=\"211,-199.5 296,-199.5 \"/>\n",
       "<text text-anchor=\"middle\" x=\"253.5\" y=\"-184.3\" font-family=\"Times New Roman,serif\" font-size=\"14.00\">grad 0.0000</text>\n",
       "</g>\n",
       "<!-- 2527970353104&#45;&gt;2527967615056+ -->\n",
       "<g id=\"edge8\" class=\"edge\">\n",
       "<title>2527970353104&#45;&gt;2527967615056+</title>\n",
       "<path fill=\"none\" stroke=\"black\" d=\"M296,-193.36C306.21,-189.02 316.97,-184.44 326.61,-180.34\"/>\n",
       "<polygon fill=\"black\" stroke=\"black\" points=\"327.98,-183.56 335.81,-176.43 325.24,-177.12 327.98,-183.56\"/>\n",
       "</g>\n",
       "<!-- 2527970353104*&#45;&gt;2527970353104 -->\n",
       "<g id=\"edge5\" class=\"edge\">\n",
       "<title>2527970353104*&#45;&gt;2527970353104</title>\n",
       "<path fill=\"none\" stroke=\"black\" d=\"M175.12,-211C182.87,-211 191.64,-211 200.42,-211\"/>\n",
       "<polygon fill=\"black\" stroke=\"black\" points=\"200.68,-214.5 210.68,-211 200.68,-207.5 200.68,-214.5\"/>\n",
       "</g>\n",
       "</g>\n",
       "</svg>\n"
      ],
      "text/plain": [
       "<graphviz.graphs.Digraph at 0x24c96b081d0>"
      ]
     },
     "execution_count": 95,
     "metadata": {},
     "output_type": "execute_result"
    }
   ],
   "source": [
    "draw_graph(o)"
   ]
  },
  {
   "cell_type": "code",
   "execution_count": null,
   "id": "50103b6f-6ced-4e60-8300-b74934e1c95c",
   "metadata": {},
   "outputs": [],
   "source": []
  }
 ],
 "metadata": {
  "kernelspec": {
   "display_name": "Python 3 (ipykernel)",
   "language": "python",
   "name": "python3"
  },
  "language_info": {
   "codemirror_mode": {
    "name": "ipython",
    "version": 3
   },
   "file_extension": ".py",
   "mimetype": "text/x-python",
   "name": "python",
   "nbconvert_exporter": "python",
   "pygments_lexer": "ipython3",
   "version": "3.11.4"
  }
 },
 "nbformat": 4,
 "nbformat_minor": 5
}

{
 "cells": [
  {
   "cell_type": "code",
   "execution_count": 1,
   "id": "ecfe915d-ade2-4711-9d61-2dd85de1f0fa",
   "metadata": {
    "tags": []
   },
   "outputs": [],
   "source": [
    "import numpy as np\n",
    "import tensorflow as tf\n",
    "from sklearn.model_selection import train_test_split"
   ]
  },
  {
   "cell_type": "code",
   "execution_count": 2,
   "id": "94ecc1cf-1621-484e-beb7-db476162a0e1",
   "metadata": {
    "tags": []
   },
   "outputs": [],
   "source": [
    "text = open('shakespeare.txt','r').read()"
   ]
  },
  {
   "cell_type": "code",
   "execution_count": 3,
   "id": "b26c016c-bda3-402c-b286-4667d2c4ccc4",
   "metadata": {
    "tags": []
   },
   "outputs": [
    {
     "name": "stdout",
     "output_type": "stream",
     "text": [
      "First Citizen:\n",
      "Before we proceed any further, hear me speak.\n",
      "\n",
      "All:\n",
      "Speak, speak.\n",
      "\n",
      "First Citizen:\n",
      "You are all resolved rather to die than to famish?\n",
      "\n",
      "All:\n",
      "Resolved. resolved.\n",
      "\n",
      "First Citizen:\n",
      "First, you know Caius Marcius is chief enemy to the people.\n",
      "\n",
      "All:\n",
      "We know't, we know't.\n",
      "\n",
      "First Citizen:\n",
      "Let us kill him, and we'll have corn at our own price.\n",
      "Is't a verdict?\n",
      "\n",
      "All:\n",
      "No more talking on't; let it be done: away, away!\n",
      "\n",
      "Second Citizen:\n",
      "One word, good citizens.\n",
      "\n",
      "First Citizen:\n",
      "We are accounted poor\n"
     ]
    }
   ],
   "source": [
    "print(text[:500])"
   ]
  },
  {
   "cell_type": "code",
   "execution_count": 4,
   "id": "494ce8e7-f527-4191-b3b2-0ce8dc95454b",
   "metadata": {
    "tags": []
   },
   "outputs": [],
   "source": [
    "vocab = sorted(list(set(text)))"
   ]
  },
  {
   "cell_type": "code",
   "execution_count": 5,
   "id": "92e4ed25-6963-4eaf-ab47-2a15b466d14d",
   "metadata": {
    "tags": []
   },
   "outputs": [],
   "source": [
    "stoi = {v:i for i,v in enumerate(vocab)}"
   ]
  },
  {
   "cell_type": "code",
   "execution_count": 6,
   "id": "9aa0b774-c0b0-462b-b2a7-fef2125067a6",
   "metadata": {
    "tags": []
   },
   "outputs": [],
   "source": [
    "itos = {v:k for k,v in stoi.items()}"
   ]
  },
  {
   "cell_type": "code",
   "execution_count": 7,
   "id": "19136610-c2c3-49e3-9303-f6da96833ea4",
   "metadata": {
    "tags": []
   },
   "outputs": [],
   "source": [
    "vocab_size = len(stoi)"
   ]
  },
  {
   "cell_type": "code",
   "execution_count": 8,
   "id": "f13ee300-a39d-4938-b76c-4482bffdb01a",
   "metadata": {
    "tags": []
   },
   "outputs": [],
   "source": [
    "batch_size = 51\n",
    "sequences = [text[i:i+batch_size]for i in range(0,len(text),batch_size)]"
   ]
  },
  {
   "cell_type": "code",
   "execution_count": 9,
   "id": "50245dee-f151-4c60-98ca-9555563d1e12",
   "metadata": {
    "tags": []
   },
   "outputs": [],
   "source": [
    "X = []\n",
    "y = []\n",
    "for seq in sequences:\n",
    "    for i in range(1,len(seq)):\n",
    "        enc = [stoi[c] for c in seq]\n",
    "        X.append(enc[:i])\n",
    "        y.append(enc[i])"
   ]
  },
  {
   "cell_type": "code",
   "execution_count": 10,
   "id": "76627e75-b2b5-4e4b-9d31-cff84e077bdb",
   "metadata": {
    "tags": []
   },
   "outputs": [],
   "source": [
    "maxlen = max([len(s) for s in X])"
   ]
  },
  {
   "cell_type": "code",
   "execution_count": 11,
   "id": "ae9e6f21-b280-4191-9b41-be3f1867231b",
   "metadata": {
    "tags": []
   },
   "outputs": [],
   "source": [
    "X_padded = tf.keras.preprocessing.sequence.pad_sequences(X, padding='pre',maxlen=maxlen)\n",
    "y_enc = tf.keras.utils.to_categorical(y, num_classes=len(stoi))"
   ]
  },
  {
   "cell_type": "code",
   "execution_count": 12,
   "id": "114bbab2-0d69-43ab-8f7e-2307a8b3d468",
   "metadata": {
    "tags": []
   },
   "outputs": [],
   "source": [
    "X_train, X_test, y_train, y_test = train_test_split(\n",
    "...     X_padded, y_enc, test_size=0.33, random_state=42)"
   ]
  },
  {
   "cell_type": "code",
   "execution_count": 13,
   "id": "a26a66d9-0c7a-4455-a4de-5e6b18b0b444",
   "metadata": {
    "tags": []
   },
   "outputs": [],
   "source": [
    "model = tf.keras.models.Sequential()\n",
    "model.add(tf.keras.layers.Embedding(input_dim=vocab_size,output_dim=256))\n",
    "model.add(tf.keras.layers.LSTM(512))\n",
    "# model.add(tf.keras.layers.Dense(32,activation='relu'))\n",
    "model.add(tf.keras.layers.Dense(vocab_size,activation='softmax'))"
   ]
  },
  {
   "cell_type": "code",
   "execution_count": 14,
   "id": "5e3fb108-929e-4bab-9ea9-e4c862f13ca7",
   "metadata": {
    "tags": []
   },
   "outputs": [
    {
     "name": "stdout",
     "output_type": "stream",
     "text": [
      "Model: \"sequential\"\n",
      "_________________________________________________________________\n",
      " Layer (type)                Output Shape              Param #   \n",
      "=================================================================\n",
      " embedding (Embedding)       (None, None, 256)         16640     \n",
      "                                                                 \n",
      " lstm (LSTM)                 (None, 512)               1574912   \n",
      "                                                                 \n",
      " dense (Dense)               (None, 65)                33345     \n",
      "                                                                 \n",
      "=================================================================\n",
      "Total params: 1,624,897\n",
      "Trainable params: 1,624,897\n",
      "Non-trainable params: 0\n",
      "_________________________________________________________________\n"
     ]
    }
   ],
   "source": [
    "model.summary()"
   ]
  },
  {
   "cell_type": "code",
   "execution_count": 29,
   "id": "88412e26-11b6-4564-9e6c-254b971632ec",
   "metadata": {
    "tags": []
   },
   "outputs": [],
   "source": [
    "model.compile(optimizer = tf.keras.optimizers.Adam(learning_rate=3e-4),loss='categorical_crossentropy')"
   ]
  },
  {
   "cell_type": "code",
   "execution_count": 30,
   "id": "dbdec7ab-9d69-4759-9369-4bdf80ef0222",
   "metadata": {
    "tags": []
   },
   "outputs": [
    {
     "name": "stdout",
     "output_type": "stream",
     "text": [
      "Epoch 1/10\n",
      "4272/4272 [==============================] - 263s 61ms/step - loss: 1.0274\n",
      "Epoch 2/10\n",
      "4272/4272 [==============================] - 258s 60ms/step - loss: 0.9742\n",
      "Epoch 3/10\n",
      "4272/4272 [==============================] - 249s 58ms/step - loss: 0.9440\n",
      "Epoch 4/10\n",
      "4272/4272 [==============================] - 260s 61ms/step - loss: 0.9206\n",
      "Epoch 5/10\n",
      "4272/4272 [==============================] - 260s 61ms/step - loss: 0.9009\n",
      "Epoch 6/10\n",
      "4272/4272 [==============================] - 260s 61ms/step - loss: 0.8835\n",
      "Epoch 7/10\n",
      "4272/4272 [==============================] - 260s 61ms/step - loss: 0.8683\n",
      "Epoch 8/10\n",
      "4272/4272 [==============================] - 255s 60ms/step - loss: 0.8541\n",
      "Epoch 9/10\n",
      "4272/4272 [==============================] - 255s 60ms/step - loss: 0.8409\n",
      "Epoch 10/10\n",
      "4272/4272 [==============================] - 260s 61ms/step - loss: 0.8297\n"
     ]
    },
    {
     "data": {
      "text/plain": [
       "<keras.callbacks.History at 0x237b913a3a0>"
      ]
     },
     "execution_count": 30,
     "metadata": {},
     "output_type": "execute_result"
    }
   ],
   "source": [
    "model.fit(X_padded,y_enc,epochs=10,batch_size=256)"
   ]
  },
  {
   "cell_type": "code",
   "execution_count": 35,
   "id": "38945be2-dc86-42c1-ab77-fefd0fe3e2f4",
   "metadata": {
    "tags": []
   },
   "outputs": [],
   "source": [
    "context = 'ROMEO:'\n",
    "for i in range(1000):\n",
    "    context_seq  = [[stoi[c] for c in context]]\n",
    "    context_seq = tf.keras.preprocessing.sequence.pad_sequences(context_seq,maxlen=maxlen,padding='pre',truncating='pre')\n",
    "    out = model.predict(context_seq,verbose=None);\n",
    "    out /= 0.02\n",
    "    pred_id = tf.random.categorical(out,num_samples=1)[0][0].numpy()\n",
    "    context += itos[pred_id]"
   ]
  },
  {
   "cell_type": "code",
   "execution_count": 36,
   "id": "1c4a6910-86cd-4907-b98f-a0657d3427e5",
   "metadata": {
    "tags": []
   },
   "outputs": [
    {
     "name": "stdout",
     "output_type": "stream",
     "text": [
      "ROMEO:\n",
      "Is there no more shall be so banish'd with hers.\n",
      "\n",
      "KING RICHARD III:\n",
      "O Buckingham, I have some speech and down!\n",
      "Is not the maid of curse,\n",
      "When they do importune to her and understand.\n",
      "\n",
      "KING EDWARD IV:\n",
      "Now, brother of Gloucester, which way before\n",
      "Being prison, defend the state to him that way to\n",
      "come to accept the earth, and there they are now.\n",
      "What, will he come?\n",
      "\n",
      "COMINIUS:\n",
      "What is the matter?\n",
      "\n",
      "DUKE VINCENTIO:\n",
      "He is a soul of the Grumio.\n",
      "\n",
      "JULIET:\n",
      "O this black day is but a little part\n",
      "That thou hast slander'd with the street; therefore,\n",
      "I am a poor brave form of the people,\n",
      "And then to be her mother to the public body\n",
      "To experies him dead; and therefore hath been\n",
      "The state that do consume the field.\n",
      "\n",
      "KING RICHARD III:\n",
      "Say that I have still'd unto you to the world.\n",
      "\n",
      "KING RICHARD III:\n",
      "Why, then I was a man to the death or life,\n",
      "And many a man of the sea within the water:\n",
      "The rest, which is my father will make me behold\n",
      "That thought to thee.\n",
      "\n",
      "CAMILLO:\n",
      "Sir, I pray you and I were not to bed.\n"
     ]
    }
   ],
   "source": [
    "print(context)"
   ]
  },
  {
   "cell_type": "code",
   "execution_count": 37,
   "id": "33e7bd19-9797-4f51-8e6c-c3d8367fb44e",
   "metadata": {
    "tags": []
   },
   "outputs": [],
   "source": [
    "model.save('model.h5')"
   ]
  },
  {
   "cell_type": "code",
   "execution_count": null,
   "id": "3573a8bd-1267-4384-9782-2469dec785ee",
   "metadata": {},
   "outputs": [],
   "source": []
  }
 ],
 "metadata": {
  "kernelspec": {
   "display_name": "Python [conda env:py39] *",
   "language": "python",
   "name": "conda-env-py39-py"
  },
  "language_info": {
   "codemirror_mode": {
    "name": "ipython",
    "version": 3
   },
   "file_extension": ".py",
   "mimetype": "text/x-python",
   "name": "python",
   "nbconvert_exporter": "python",
   "pygments_lexer": "ipython3",
   "version": "3.9.18"
  }
 },
 "nbformat": 4,
 "nbformat_minor": 5
}

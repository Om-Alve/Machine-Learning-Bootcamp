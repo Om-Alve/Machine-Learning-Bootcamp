{
  "nbformat": 4,
  "nbformat_minor": 0,
  "metadata": {
    "colab": {
      "provenance": []
    },
    "kernelspec": {
      "name": "python3",
      "display_name": "Python 3"
    },
    "language_info": {
      "name": "python"
    }
  },
  "cells": [
    {
      "cell_type": "code",
      "execution_count": 111,
      "metadata": {
        "id": "K0C07eI9pr_t"
      },
      "outputs": [],
      "source": [
        "import torch\n",
        "import matplotlib.pyplot as plt\n",
        "import random\n",
        "import torch.nn.functional as F"
      ]
    },
    {
      "cell_type": "code",
      "source": [
        "words = open('names.txt','r').read().splitlines()"
      ],
      "metadata": {
        "id": "OZWOzsi0tPhs"
      },
      "execution_count": 112,
      "outputs": []
    },
    {
      "cell_type": "code",
      "source": [
        "stoi = {v:i+1 for i,v in enumerate(sorted(list(set(''.join(words)))))}\n",
        "stoi['.'] = 0\n",
        "itos = {v:k for k,v in stoi.items()}"
      ],
      "metadata": {
        "id": "wwZ-ES40taI3"
      },
      "execution_count": 113,
      "outputs": []
    },
    {
      "cell_type": "code",
      "source": [
        "# creating the dataset\n",
        "# split the dataset into\n",
        "# train, dev/val , test\n",
        "# 80 %, 10 % , 10 %\n",
        "# used for training the model, used for hyperparameter optimization, used for testing the model\n",
        "def prepare_dataset(words):\n",
        "  block_size = 3\n",
        "  X = []\n",
        "  y = []\n",
        "  for w in words:\n",
        "    context = block_size * [0]\n",
        "    for c in w+'.':\n",
        "      X.append(context)\n",
        "      y.append(stoi[c])\n",
        "      # print(f\"{''.join([itos[con] for con in context])} --> {c}\")\n",
        "      context = context[1:] + [stoi[c]]\n",
        "  X = torch.tensor(X)\n",
        "  y = torch.tensor(y)\n",
        "  return X,y\n",
        "random.seed(42)\n",
        "random.shuffle(words)\n",
        "n1 = int(0.8 * len(words))\n",
        "n2 = int(0.9 * len(words))\n",
        "X_train,y_train = prepare_dataset(words[:n1])\n",
        "X_val,y_val = prepare_dataset(words[n1:n2])\n",
        "X_test,y_test = prepare_dataset(words[n2:])"
      ],
      "metadata": {
        "id": "ytI4pi-Mtakk"
      },
      "execution_count": 131,
      "outputs": []
    },
    {
      "cell_type": "code",
      "source": [
        "X_train[0]"
      ],
      "metadata": {
        "colab": {
          "base_uri": "https://localhost:8080/"
        },
        "id": "sa_CluPvuOUY",
        "outputId": "df95e0c0-a19c-4c6e-e726-ade88019f732"
      },
      "execution_count": 132,
      "outputs": [
        {
          "output_type": "execute_result",
          "data": {
            "text/plain": [
              "tensor([0, 0, 0])"
            ]
          },
          "metadata": {},
          "execution_count": 132
        }
      ]
    },
    {
      "cell_type": "code",
      "source": [
        "X_train.shape"
      ],
      "metadata": {
        "colab": {
          "base_uri": "https://localhost:8080/"
        },
        "id": "edjj2tvEvmy8",
        "outputId": "4c016634-39d9-4c96-a9e6-914c7282f9ea"
      },
      "execution_count": 133,
      "outputs": [
        {
          "output_type": "execute_result",
          "data": {
            "text/plain": [
              "torch.Size([182580, 3])"
            ]
          },
          "metadata": {},
          "execution_count": 133
        }
      ]
    },
    {
      "cell_type": "code",
      "source": [
        "g = torch.Generator().manual_seed(12345)\n",
        "# Embedding layer\n",
        "C = torch.randn((27,2))\n",
        "#hiddenlayer\n",
        "W1 = torch.randn((6,300))\n",
        "b1 = torch.randn(300)\n",
        "# output layer\n",
        "W2 = torch.randn((300,27))\n",
        "b2 = torch.randn(27)\n",
        "params = [C,W1,b1,W2,b2]\n",
        "for p in params:\n",
        "  p.requires_grad=True"
      ],
      "metadata": {
        "id": "BGHeRJmGymam"
      },
      "execution_count": 197,
      "outputs": []
    },
    {
      "cell_type": "code",
      "source": [
        "embeds = C[X_train]"
      ],
      "metadata": {
        "id": "v6sOMPTAAJvT"
      },
      "execution_count": 198,
      "outputs": []
    },
    {
      "cell_type": "code",
      "source": [
        "torch.cat([embeds[:,0,:],embeds[:,1,:],embeds[:,2,:]],dim=1)"
      ],
      "metadata": {
        "colab": {
          "base_uri": "https://localhost:8080/"
        },
        "id": "dOF6Qt3YA2hz",
        "outputId": "7c1ee26d-2f34-4165-f768-9609aabf0a85"
      },
      "execution_count": 199,
      "outputs": [
        {
          "output_type": "execute_result",
          "data": {
            "text/plain": [
              "tensor([[-0.2746, -0.2778, -0.2746, -0.2778, -0.2746, -0.2778],\n",
              "        [-0.2746, -0.2778, -0.2746, -0.2778,  1.6752, -0.3602],\n",
              "        [-0.2746, -0.2778,  1.6752, -0.3602, -0.9219, -1.0014],\n",
              "        ...,\n",
              "        [ 0.7790,  0.5003,  0.2136, -1.7920, -0.3493,  0.3677],\n",
              "        [ 0.2136, -1.7920, -0.3493,  0.3677, -0.3493,  0.3677],\n",
              "        [-0.3493,  0.3677, -0.3493,  0.3677,  0.7281, -1.3173]],\n",
              "       grad_fn=<CatBackward0>)"
            ]
          },
          "metadata": {},
          "execution_count": 199
        }
      ]
    },
    {
      "cell_type": "code",
      "source": [
        "torch.cat(torch.unbind(embeds,1),dim=1)"
      ],
      "metadata": {
        "colab": {
          "base_uri": "https://localhost:8080/"
        },
        "id": "i_-EIQ4EB-CI",
        "outputId": "8756286b-c3a4-4a24-90ea-0bdf9a32b42a"
      },
      "execution_count": 200,
      "outputs": [
        {
          "output_type": "execute_result",
          "data": {
            "text/plain": [
              "tensor([[-0.2746, -0.2778, -0.2746, -0.2778, -0.2746, -0.2778],\n",
              "        [-0.2746, -0.2778, -0.2746, -0.2778,  1.6752, -0.3602],\n",
              "        [-0.2746, -0.2778,  1.6752, -0.3602, -0.9219, -1.0014],\n",
              "        ...,\n",
              "        [ 0.7790,  0.5003,  0.2136, -1.7920, -0.3493,  0.3677],\n",
              "        [ 0.2136, -1.7920, -0.3493,  0.3677, -0.3493,  0.3677],\n",
              "        [-0.3493,  0.3677, -0.3493,  0.3677,  0.7281, -1.3173]],\n",
              "       grad_fn=<CatBackward0>)"
            ]
          },
          "metadata": {},
          "execution_count": 200
        }
      ]
    },
    {
      "cell_type": "code",
      "source": [
        "emb = embeds.view(embeds.shape[0],6)"
      ],
      "metadata": {
        "id": "4jfUxiaRCmHs"
      },
      "execution_count": 201,
      "outputs": []
    },
    {
      "cell_type": "code",
      "source": [
        "h = torch.tanh(emb @ W1 + b1)"
      ],
      "metadata": {
        "id": "jB7ZzpMKDesy"
      },
      "execution_count": 202,
      "outputs": []
    },
    {
      "cell_type": "code",
      "source": [
        "h.shape"
      ],
      "metadata": {
        "colab": {
          "base_uri": "https://localhost:8080/"
        },
        "id": "sUvOKU2LFSad",
        "outputId": "bb94de4f-8ead-479e-9130-35c914b91391"
      },
      "execution_count": 203,
      "outputs": [
        {
          "output_type": "execute_result",
          "data": {
            "text/plain": [
              "torch.Size([182580, 300])"
            ]
          },
          "metadata": {},
          "execution_count": 203
        }
      ]
    },
    {
      "cell_type": "code",
      "source": [
        "logits = h @ W2 + b2\n",
        "logits.shape"
      ],
      "metadata": {
        "colab": {
          "base_uri": "https://localhost:8080/"
        },
        "id": "hc_bEDK4FkO-",
        "outputId": "530164d6-7cd5-4a85-9041-c91462db07aa"
      },
      "execution_count": 204,
      "outputs": [
        {
          "output_type": "execute_result",
          "data": {
            "text/plain": [
              "torch.Size([182580, 27])"
            ]
          },
          "metadata": {},
          "execution_count": 204
        }
      ]
    },
    {
      "cell_type": "code",
      "source": [
        "# log likelihood loss\n",
        "# exp_log = logits.exp()\n",
        "# out = exp_log / exp_log.sum(dim=1,keepdims=True)\n",
        "# loss = -torch.log(out[torch.arange(out.shape[0]),y]).sum()\n",
        "# loss = loss/out.shape[0]\n",
        "\n",
        "loss = F.cross_entropy(logits,y_train)"
      ],
      "metadata": {
        "id": "B9DCsCezF8XT"
      },
      "execution_count": 205,
      "outputs": []
    },
    {
      "cell_type": "code",
      "source": [
        "# for finding the optimal learning rate\n",
        "# first get the lower range where the loss doesn't change much and get the higher range where the loss explodes\n",
        "# Then use torch.arange along that range to create the exponents and test out all the lrs\n",
        "# plot the lr exponents on the x axis and their respective losses on the y axis and then you can find the exponent which gives lowest loss\n",
        "# if you think the loss is not decreasing much after training lower the learning rate by a tenth"
      ],
      "metadata": {
        "id": "E2DWX9UHRFki"
      },
      "execution_count": 206,
      "outputs": []
    },
    {
      "cell_type": "code",
      "source": [
        "# using mini batches instead of the whole dataset\n",
        "epochs = []\n",
        "losses = []\n",
        "for epoch in range(50000):\n",
        "  ix = torch.randint(0,X_train.shape[0],(128,))\n",
        "  embeds = C[X_train[ix]]\n",
        "  emb = embeds.view(embeds.shape[0],6)\n",
        "  h = torch.tanh(emb @ W1 + b1)\n",
        "  logits = h @ W2 + b2\n",
        "  loss = F.cross_entropy(logits,y_train[ix])\n",
        "  for p in params:\n",
        "    p.grad = None\n",
        "  loss.backward()\n",
        "  for p in params:\n",
        "    p.data += -0.01 * p.grad\n",
        "  epochs.append(epoch)\n",
        "  losses.append(loss.item())\n",
        "print(loss.item())"
      ],
      "metadata": {
        "colab": {
          "base_uri": "https://localhost:8080/"
        },
        "id": "JAyBksWlLziu",
        "outputId": "3cb749e2-64bc-4f12-e6bd-66048477e351"
      },
      "execution_count": 212,
      "outputs": [
        {
          "output_type": "stream",
          "name": "stdout",
          "text": [
            "2.390127420425415\n"
          ]
        }
      ]
    },
    {
      "cell_type": "code",
      "source": [
        "plt.plot(epochs,losses)"
      ],
      "metadata": {
        "colab": {
          "base_uri": "https://localhost:8080/",
          "height": 447
        },
        "id": "-6s-XwN8esBH",
        "outputId": "d224cc50-3da4-4e37-8168-6fb669363bc0"
      },
      "execution_count": 208,
      "outputs": [
        {
          "output_type": "execute_result",
          "data": {
            "text/plain": [
              "[<matplotlib.lines.Line2D at 0x7de4ef21ac80>]"
            ]
          },
          "metadata": {},
          "execution_count": 208
        },
        {
          "output_type": "display_data",
          "data": {
            "text/plain": [
              "<Figure size 640x480 with 1 Axes>"
            ],
            "image/png": "[encoded data removed]"
          },
          "metadata": {}
        }
      ]
    },
    {
      "cell_type": "code",
      "source": [
        "embeds = C[X_val]\n",
        "embeds = embeds.view(embeds.shape[0],6)\n",
        "h = torch.tanh(embeds @ W1 + b1)\n",
        "logits = h @ W2 + b2\n",
        "loss = F.cross_entropy(logits,y_val)\n",
        "print(\"Val Loss: \",loss)"
      ],
      "metadata": {
        "colab": {
          "base_uri": "https://localhost:8080/"
        },
        "id": "_gA-z84-NR5j",
        "outputId": "79467f0c-2a76-4d92-cf4a-ed7b6c79335a"
      },
      "execution_count": 211,
      "outputs": [
        {
          "output_type": "stream",
          "name": "stdout",
          "text": [
            "Val Loss:  tensor(2.3852, grad_fn=<NllLossBackward0>)\n"
          ]
        }
      ]
    },
    {
      "cell_type": "code",
      "source": [
        "embeds = C[X_train]\n",
        "embeds = embeds.view(embeds.shape[0],6)\n",
        "h = torch.tanh(embeds @ W1 + b1)\n",
        "logits = h @ W2 + b2\n",
        "loss = F.cross_entropy(logits,y_train)\n",
        "print(\"Training Loss: \",loss)"
      ],
      "metadata": {
        "colab": {
          "base_uri": "https://localhost:8080/"
        },
        "id": "-qKnX26yRGga",
        "outputId": "33c6421f-6193-4722-b951-7c97c8d38b85"
      },
      "execution_count": 156,
      "outputs": [
        {
          "output_type": "stream",
          "name": "stdout",
          "text": [
            "Training Loss:  tensor(2.3213, grad_fn=<NllLossBackward0>)\n"
          ]
        }
      ]
    },
    {
      "cell_type": "code",
      "source": [
        "# As the training and validation loss around equal we are not overfitting and we are underfitting instead so this means that we should use a larger model\n",
        "# as this model is not powerful enough\n",
        "# lower batch size can lead to more noise"
      ],
      "metadata": {
        "colab": {
          "base_uri": "https://localhost:8080/"
        },
        "id": "jaXGCbdFRMzp",
        "outputId": "50e198a3-675d-4ba7-f3da-b1e192d3d04b"
      },
      "execution_count": 76,
      "outputs": [
        {
          "output_type": "execute_result",
          "data": {
            "text/plain": [
              "tensor([ 53449,  81964, 186548,  58230, 113948,  68904, 176596,  59478,  24312,\n",
              "        112070, 207824,  95448,  33102, 206488, 222061, 226575,  46171,  69746,\n",
              "         34752, 219314,   7628, 200782, 110374,  55227, 197718,  84128, 131386,\n",
              "        167008, 219453, 145935,  31119, 146829,  74692, 107050,   4407,  63357,\n",
              "         53374,  87173,  70708, 128655,  45855,  47580, 211383, 109303, 135681,\n",
              "         48260,  67367,  48250, 170414,  76090, 146699,  83498,  93031, 179688,\n",
              "        184634, 149344, 171388, 198089,  17762, 113641, 177292,  40089, 129203,\n",
              "        178057])"
            ]
          },
          "metadata": {},
          "execution_count": 76
        }
      ]
    },
    {
      "cell_type": "code",
      "source": [
        "# visualize dimensions 0 and 1 of the embedding matrix C for all characters\n",
        "plt.figure(figsize=(8,8))\n",
        "plt.scatter(C[:,0].data, C[:,1].data, s=500)\n",
        "for i in range(C.shape[0]):\n",
        "    plt.text(C[i,0].item(), C[i,1].item(), itos[i], ha=\"center\", va=\"center\", color='white')\n",
        "plt.grid('minor')"
      ],
      "metadata": {
        "colab": {
          "base_uri": "https://localhost:8080/",
          "height": 676
        },
        "id": "o0YDNYzCTgFq",
        "outputId": "d98c18a2-f109-4bff-ba3e-e9b5a04f569f"
      },
      "execution_count": 215,
      "outputs": [
        {
          "output_type": "display_data",
          "data": {
            "text/plain": [
              "<Figure size 800x800 with 1 Axes>"
            ],
            "image/png": "[encoded data removed]"
          },
          "metadata": {}
        }
      ]
    },
    {
      "cell_type": "code",
      "source": [],
      "metadata": {
        "id": "-SB_2DVxgiQg"
      },
      "execution_count": null,
      "outputs": []
    }
  ]
}
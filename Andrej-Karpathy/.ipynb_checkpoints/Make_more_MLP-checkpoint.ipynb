{
  "nbformat": 4,
  "nbformat_minor": 0,
  "metadata": {
    "colab": {
      "provenance": []
    },
    "kernelspec": {
      "name": "python3",
      "display_name": "Python 3"
    },
    "language_info": {
      "name": "python"
    }
  },
  "cells": [
    {
      "cell_type": "code",
      "execution_count": 272,
      "metadata": {
        "id": "K0C07eI9pr_t"
      },
      "outputs": [],
      "source": [
        "import torch\n",
        "import matplotlib.pyplot as plt\n",
        "import random\n",
        "import torch.nn.functional as F"
      ]
    },
    {
      "cell_type": "code",
      "source": [
        "words = open('names.txt','r').read().splitlines()"
      ],
      "metadata": {
        "id": "OZWOzsi0tPhs"
      },
      "execution_count": 273,
      "outputs": []
    },
    {
      "cell_type": "code",
      "source": [
        "stoi = {v:i+1 for i,v in enumerate(sorted(list(set(''.join(words)))))}\n",
        "stoi['.'] = 0\n",
        "itos = {v:k for k,v in stoi.items()}"
      ],
      "metadata": {
        "id": "wwZ-ES40taI3"
      },
      "execution_count": 274,
      "outputs": []
    },
    {
      "cell_type": "code",
      "source": [
        "# creating the dataset\n",
        "# split the dataset into\n",
        "# train, dev/val , test\n",
        "# 80 %, 10 % , 10 %\n",
        "# used for training the model, used for hyperparameter optimization, used for testing the model\n",
        "def prepare_dataset(words):\n",
        "  block_size = 3\n",
        "  X = []\n",
        "  y = []\n",
        "  for w in words:\n",
        "    context = block_size * [0]\n",
        "    for c in w+'.':\n",
        "      X.append(context)\n",
        "      y.append(stoi[c])\n",
        "      # print(f\"{''.join([itos[con] for con in context])} --> {c}\")\n",
        "      context = context[1:] + [stoi[c]]\n",
        "  X = torch.tensor(X)\n",
        "  y = torch.tensor(y)\n",
        "  return X,y\n",
        "random.seed(42)\n",
        "random.shuffle(words)\n",
        "n1 = int(0.8 * len(words))\n",
        "n2 = int(0.9 * len(words))\n",
        "X_train,y_train = prepare_dataset(words[:n1])\n",
        "X_val,y_val = prepare_dataset(words[n1:n2])\n",
        "X_test,y_test = prepare_dataset(words[n2:])"
      ],
      "metadata": {
        "id": "ytI4pi-Mtakk"
      },
      "execution_count": 275,
      "outputs": []
    },
    {
      "cell_type": "code",
      "source": [
        "X_train[0]"
      ],
      "metadata": {
        "colab": {
          "base_uri": "https://localhost:8080/"
        },
        "id": "sa_CluPvuOUY",
        "outputId": "37f7e5a9-2dd0-44d8-90c1-cf378a1be7f5"
      },
      "execution_count": 276,
      "outputs": [
        {
          "output_type": "execute_result",
          "data": {
            "text/plain": [
              "tensor([0, 0, 0])"
            ]
          },
          "metadata": {},
          "execution_count": 276
        }
      ]
    },
    {
      "cell_type": "code",
      "source": [
        "X_train.shape"
      ],
      "metadata": {
        "colab": {
          "base_uri": "https://localhost:8080/"
        },
        "id": "edjj2tvEvmy8",
        "outputId": "1fc5ffc8-deae-40cf-cc10-9fe6bc519a62"
      },
      "execution_count": 277,
      "outputs": [
        {
          "output_type": "execute_result",
          "data": {
            "text/plain": [
              "torch.Size([182625, 3])"
            ]
          },
          "metadata": {},
          "execution_count": 277
        }
      ]
    },
    {
      "cell_type": "code",
      "source": [
        "g = torch.Generator().manual_seed(2147483647)\n",
        "# Embedding layer\n",
        "C = torch.randn((27,15))\n",
        "# hidden layer\n",
        "W1 = torch.randn((45,200))\n",
        "b1 = torch.randn(200)\n",
        "# output layer\n",
        "W2 = torch.randn((200,27))\n",
        "b2 = torch.randn(27)\n",
        "params = [C,W1,b1,W2,b2]\n",
        "for p in params:\n",
        "  p.requires_grad=True"
      ],
      "metadata": {
        "id": "BGHeRJmGymam"
      },
      "execution_count": 418,
      "outputs": []
    },
    {
      "cell_type": "code",
      "source": [
        "print(\"Model parameters :\",sum([p.nelement() for p in params]))"
      ],
      "metadata": {
        "colab": {
          "base_uri": "https://localhost:8080/"
        },
        "id": "raezsbQMiCUf",
        "outputId": "5b6d9d02-280e-42b4-de67-4483ccbaf87c"
      },
      "execution_count": 419,
      "outputs": [
        {
          "output_type": "stream",
          "name": "stdout",
          "text": [
            "Model parameters : 15032\n"
          ]
        }
      ]
    },
    {
      "cell_type": "code",
      "source": [
        "embeds = C[X_train]"
      ],
      "metadata": {
        "id": "v6sOMPTAAJvT"
      },
      "execution_count": 420,
      "outputs": []
    },
    {
      "cell_type": "code",
      "source": [
        "torch.cat([embeds[:,0,:],embeds[:,1,:],embeds[:,2,:]],dim=1)"
      ],
      "metadata": {
        "colab": {
          "base_uri": "https://localhost:8080/"
        },
        "id": "dOF6Qt3YA2hz",
        "outputId": "8794e27c-d896-4e8d-f947-b2bcdf4070a9"
      },
      "execution_count": 421,
      "outputs": [
        {
          "output_type": "execute_result",
          "data": {
            "text/plain": [
              "tensor([[ 0.1641, -2.1204, -2.6480,  ..., -0.3328,  1.7312, -0.8934],\n",
              "        [ 0.1641, -2.1204, -2.6480,  ..., -0.8852,  1.0610,  0.0401],\n",
              "        [ 0.1641, -2.1204, -2.6480,  ..., -1.1085,  1.1095, -0.7265],\n",
              "        ...,\n",
              "        [ 0.6526, -0.4076, -1.3018,  ..., -1.1352,  1.7243,  1.8251],\n",
              "        [-0.5020,  0.5528,  0.3715,  ...,  0.7832, -0.5486,  0.8068],\n",
              "        [ 0.1305, -0.0736,  0.6986,  ...,  0.5902,  1.5864, -1.3663]],\n",
              "       grad_fn=<CatBackward0>)"
            ]
          },
          "metadata": {},
          "execution_count": 421
        }
      ]
    },
    {
      "cell_type": "code",
      "source": [
        "torch.cat(torch.unbind(embeds,1),dim=1)"
      ],
      "metadata": {
        "colab": {
          "base_uri": "https://localhost:8080/"
        },
        "id": "i_-EIQ4EB-CI",
        "outputId": "d6e4b91e-f93c-4385-fca0-80ec6fe77f8f"
      },
      "execution_count": 422,
      "outputs": [
        {
          "output_type": "execute_result",
          "data": {
            "text/plain": [
              "tensor([[ 0.1641, -2.1204, -2.6480,  ..., -0.3328,  1.7312, -0.8934],\n",
              "        [ 0.1641, -2.1204, -2.6480,  ..., -0.8852,  1.0610,  0.0401],\n",
              "        [ 0.1641, -2.1204, -2.6480,  ..., -1.1085,  1.1095, -0.7265],\n",
              "        ...,\n",
              "        [ 0.6526, -0.4076, -1.3018,  ..., -1.1352,  1.7243,  1.8251],\n",
              "        [-0.5020,  0.5528,  0.3715,  ...,  0.7832, -0.5486,  0.8068],\n",
              "        [ 0.1305, -0.0736,  0.6986,  ...,  0.5902,  1.5864, -1.3663]],\n",
              "       grad_fn=<CatBackward0>)"
            ]
          },
          "metadata": {},
          "execution_count": 422
        }
      ]
    },
    {
      "cell_type": "code",
      "source": [
        "emb = embeds.view(embeds.shape[0],45)"
      ],
      "metadata": {
        "id": "4jfUxiaRCmHs"
      },
      "execution_count": 423,
      "outputs": []
    },
    {
      "cell_type": "code",
      "source": [
        "h = torch.tanh(emb @ W1 + b1)"
      ],
      "metadata": {
        "id": "jB7ZzpMKDesy"
      },
      "execution_count": 424,
      "outputs": []
    },
    {
      "cell_type": "code",
      "source": [
        "h.shape"
      ],
      "metadata": {
        "colab": {
          "base_uri": "https://localhost:8080/"
        },
        "id": "sUvOKU2LFSad",
        "outputId": "cddc6b68-06dc-4530-9923-f172038ca29c"
      },
      "execution_count": 425,
      "outputs": [
        {
          "output_type": "execute_result",
          "data": {
            "text/plain": [
              "torch.Size([182625, 200])"
            ]
          },
          "metadata": {},
          "execution_count": 425
        }
      ]
    },
    {
      "cell_type": "code",
      "source": [
        "logits = h @ W2 + b2\n",
        "logits.shape"
      ],
      "metadata": {
        "colab": {
          "base_uri": "https://localhost:8080/"
        },
        "id": "hc_bEDK4FkO-",
        "outputId": "637199f2-8d14-4c93-8e39-969ad152917c"
      },
      "execution_count": 426,
      "outputs": [
        {
          "output_type": "execute_result",
          "data": {
            "text/plain": [
              "torch.Size([182625, 27])"
            ]
          },
          "metadata": {},
          "execution_count": 426
        }
      ]
    },
    {
      "cell_type": "code",
      "source": [
        "# log likelihood loss\n",
        "# exp_log = logits.exp()\n",
        "# out = exp_log / exp_log.sum(dim=1,keepdims=True)\n",
        "# loss = -torch.log(out[torch.arange(out.shape[0]),y]).sum()\n",
        "# loss = loss/out.shape[0]\n",
        "\n",
        "loss = F.cross_entropy(logits,y_train)"
      ],
      "metadata": {
        "id": "B9DCsCezF8XT"
      },
      "execution_count": 427,
      "outputs": []
    },
    {
      "cell_type": "code",
      "source": [
        "# for finding the optimal learning rate\n",
        "# first get the lower range where the loss doesn't change much and get the higher range where the loss explodes\n",
        "# Then use torch.arange along that range to create the exponents and test out all the lrs\n",
        "# plot the lr exponents on the x axis and their respective losses on the y axis and then you can find the exponent which gives lowest loss\n",
        "# if you think the loss is not decreasing much after training lower the learning rate by a tenth\n"
      ],
      "metadata": {
        "id": "E2DWX9UHRFki"
      },
      "execution_count": 428,
      "outputs": []
    },
    {
      "cell_type": "code",
      "source": [
        "# using mini batches instead of the whole dataset\n",
        "epochs = []\n",
        "losses = []\n",
        "lr = 1\n",
        "decay_rate = 1e-9\n",
        "for epoch in range(100000):\n",
        "  lr = lr * (1/(1+decay_rate * epoch))\n",
        "  ix = torch.randint(0,X_train.shape[0],(128,))\n",
        "  embeds = C[X_train[ix]]\n",
        "  emb = embeds.view(embeds.shape[0],45)\n",
        "  h = torch.tanh(emb @ W1 + b1)\n",
        "  logits = h @ W2 + b2\n",
        "  loss = F.cross_entropy(logits,y_train[ix])\n",
        "  for p in params:\n",
        "    p.grad = None\n",
        "  loss.backward()\n",
        "  for p in params:\n",
        "    p.data += -lr * p.grad\n",
        "  epochs.append(epoch)\n",
        "  losses.append(loss.item())\n",
        "print(loss.item())"
      ],
      "metadata": {
        "colab": {
          "base_uri": "https://localhost:8080/"
        },
        "id": "JAyBksWlLziu",
        "outputId": "06dd6a4d-17b4-4aa4-9ed1-d196f0f44ef3"
      },
      "execution_count": 429,
      "outputs": [
        {
          "output_type": "stream",
          "name": "stdout",
          "text": [
            "1.8904956579208374\n"
          ]
        }
      ]
    },
    {
      "cell_type": "code",
      "source": [
        "\n",
        "for epoch in range(100000):\n",
        "  lr = lr * (1/(1+decay_rate * epoch))\n",
        "lr"
      ],
      "metadata": {
        "colab": {
          "base_uri": "https://localhost:8080/"
        },
        "id": "3hrZkQiAs6Ku",
        "outputId": "3fda2e2c-d327-45d0-c882-4f1d7d1625d7"
      },
      "execution_count": 417,
      "outputs": [
        {
          "output_type": "execute_result",
          "data": {
            "text/plain": [
              "0.006739406972762144"
            ]
          },
          "metadata": {},
          "execution_count": 417
        }
      ]
    },
    {
      "cell_type": "code",
      "source": [
        "plt.plot(epochs,losses)"
      ],
      "metadata": {
        "colab": {
          "base_uri": "https://localhost:8080/",
          "height": 447
        },
        "id": "-6s-XwN8esBH",
        "outputId": "3932ce7e-16e9-4c5b-e976-20c5058f7d59"
      },
      "execution_count": 430,
      "outputs": [
        {
          "output_type": "execute_result",
          "data": {
            "text/plain": [
              "[<matplotlib.lines.Line2D at 0x7de4eea80f10>]"
            ]
          },
          "metadata": {},
          "execution_count": 430
        },
        {
          "output_type": "display_data",
          "data": {
            "text/plain": [
              "<Figure size 640x480 with 1 Axes>"
            ],
            "image/png": "[encoded data removed]"
          },
          "metadata": {}
        }
      ]
    },
    {
      "cell_type": "code",
      "source": [
        "embeds = C[X_val]\n",
        "embeds = embeds.view(embeds.shape[0],45)\n",
        "h = torch.tanh(embeds @ W1 + b1)\n",
        "logits = h @ W2 + b2\n",
        "loss = F.cross_entropy(logits,y_val)\n",
        "print(\"Val Loss: \",loss)"
      ],
      "metadata": {
        "colab": {
          "base_uri": "https://localhost:8080/"
        },
        "id": "_gA-z84-NR5j",
        "outputId": "e389101a-1c1c-4b1f-b6ba-84b082515819"
      },
      "execution_count": 431,
      "outputs": [
        {
          "output_type": "stream",
          "name": "stdout",
          "text": [
            "Val Loss:  tensor(2.1032, grad_fn=<NllLossBackward0>)\n"
          ]
        }
      ]
    },
    {
      "cell_type": "code",
      "source": [
        "embeds = C[X_train]\n",
        "embeds = embeds.view(embeds.shape[0],45)\n",
        "h = torch.tanh(embeds @ W1 + b1)\n",
        "logits = h @ W2 + b2\n",
        "loss = F.cross_entropy(logits,y_train)\n",
        "print(\"Training Loss: \",loss)"
      ],
      "metadata": {
        "colab": {
          "base_uri": "https://localhost:8080/"
        },
        "id": "-qKnX26yRGga",
        "outputId": "eb8e168e-360c-403a-fdb1-fe40d8073e3c"
      },
      "execution_count": 432,
      "outputs": [
        {
          "output_type": "stream",
          "name": "stdout",
          "text": [
            "Training Loss:  tensor(2.0065, grad_fn=<NllLossBackward0>)\n"
          ]
        }
      ]
    },
    {
      "cell_type": "code",
      "source": [
        "# As the training and validation loss around equal we are not overfitting and we are underfitting instead so this means that we should use a larger model\n",
        "# as this model is not powerful enough\n",
        "# lower batch size can lead to more noise"
      ],
      "metadata": {
        "colab": {
          "base_uri": "https://localhost:8080/"
        },
        "id": "jaXGCbdFRMzp",
        "outputId": "50e198a3-675d-4ba7-f3da-b1e192d3d04b"
      },
      "execution_count": 76,
      "outputs": [
        {
          "output_type": "execute_result",
          "data": {
            "text/plain": [
              "tensor([ 53449,  81964, 186548,  58230, 113948,  68904, 176596,  59478,  24312,\n",
              "        112070, 207824,  95448,  33102, 206488, 222061, 226575,  46171,  69746,\n",
              "         34752, 219314,   7628, 200782, 110374,  55227, 197718,  84128, 131386,\n",
              "        167008, 219453, 145935,  31119, 146829,  74692, 107050,   4407,  63357,\n",
              "         53374,  87173,  70708, 128655,  45855,  47580, 211383, 109303, 135681,\n",
              "         48260,  67367,  48250, 170414,  76090, 146699,  83498,  93031, 179688,\n",
              "        184634, 149344, 171388, 198089,  17762, 113641, 177292,  40089, 129203,\n",
              "        178057])"
            ]
          },
          "metadata": {},
          "execution_count": 76
        }
      ]
    },
    {
      "cell_type": "code",
      "source": [
        "# visualize dimensions 0 and 1 of the embedding matrix C for all characters\n",
        "plt.figure(figsize=(8,8))\n",
        "plt.scatter(C[:,0].data, C[:,1].data, s=500)\n",
        "for i in range(C.shape[0]):\n",
        "    plt.text(C[i,0].item(), C[i,1].item(), itos[i], ha=\"center\", va=\"center\", color='white')\n",
        "plt.grid('minor')"
      ],
      "metadata": {
        "colab": {
          "base_uri": "https://localhost:8080/",
          "height": 676
        },
        "id": "o0YDNYzCTgFq",
        "outputId": "d98c18a2-f109-4bff-ba3e-e9b5a04f569f"
      },
      "execution_count": 215,
      "outputs": [
        {
          "output_type": "display_data",
          "data": {
            "text/plain": [
              "<Figure size 800x800 with 1 Axes>"
            ],
            "image/png": "[encoded data removed]"
          },
          "metadata": {}
        }
      ]
    },
    {
      "cell_type": "code",
      "source": [
        "embeds = C[X_test]\n",
        "embeds = embeds.view(embeds.shape[0],45)\n",
        "h = torch.tanh(embeds @ W1 + b1)\n",
        "logits = h @ W2 + b2\n",
        "loss = F.cross_entropy(logits,y_test)\n",
        "print(\"Testing Loss: \",loss)"
      ],
      "metadata": {
        "colab": {
          "base_uri": "https://localhost:8080/"
        },
        "id": "-SB_2DVxgiQg",
        "outputId": "166761a8-7cc3-450d-9e39-bbf5926a8377"
      },
      "execution_count": 434,
      "outputs": [
        {
          "output_type": "stream",
          "name": "stdout",
          "text": [
            "Testing Loss:  tensor(2.0963, grad_fn=<NllLossBackward0>)\n"
          ]
        }
      ]
    },
    {
      "cell_type": "code",
      "source": [
        "for i in range(20):\n",
        "  context = list('...')\n",
        "\n",
        "  #\n",
        "  s = ''\n",
        "  while True:\n",
        "    embeds = C[torch.tensor([stoi[c] for c in context])]\n",
        "    embeds = embeds.view(1,45)\n",
        "    h = torch.tanh(embeds @ W1 + b1)\n",
        "    logits = h @ W2 + b2\n",
        "    probs = F.softmax(logits,dim=1)\n",
        "    pred = torch.multinomial(probs,num_samples=1,generator=g)\n",
        "    c = itos[pred.item()]\n",
        "    s+=c\n",
        "    if c == '.':\n",
        "      break\n",
        "    context = context[1:] + [c]\n",
        "  print(s)"
      ],
      "metadata": {
        "colab": {
          "base_uri": "https://localhost:8080/"
        },
        "id": "rFisj7S4wc-6",
        "outputId": "13c9514f-512f-4f57-d2ec-2fd1fc550e9a"
      },
      "execution_count": 451,
      "outputs": [
        {
          "output_type": "stream",
          "name": "stdout",
          "text": [
            "avrynel.\n",
            "shirla.\n",
            "sarius.\n",
            "azalis.\n",
            "bio.\n",
            "zina.\n",
            "abbie.\n",
            "sida.\n",
            "braileontanna.\n",
            "kelyn.\n",
            "zyan.\n",
            "ler.\n",
            "aliah.\n",
            "dayra.\n",
            "fbraydonyeyah.\n",
            "ben.\n",
            "sabell.\n",
            "han.\n",
            "kenza.\n",
            "matterra.\n"
          ]
        }
      ]
    }
  ]
}
{
 "cells": [
  {
   "cell_type": "code",
   "execution_count": 2,
   "id": "2c349402-8586-4d52-9b96-bc35c67d92f1",
   "metadata": {
    "tags": []
   },
   "outputs": [],
   "source": [
    "import numpy as np\n",
    "import matplotlib as plt\n",
    "import math\n",
    "from graphviz import Digraph"
   ]
  },
  {
   "cell_type": "code",
   "execution_count": 80,
   "id": "bb364133-ed93-48bd-ab46-456426b9fcbf",
   "metadata": {
    "tags": []
   },
   "outputs": [],
   "source": [
    "class Value:\n",
    "    def __init__(self, data, _children=(), _op='', label=''):\n",
    "        self.data = data\n",
    "        self.grad = 0.0\n",
    "        self._prev = set(_children)\n",
    "        self._op = _op\n",
    "        self.label = label\n",
    "        self._backward = lambda : None\n",
    "\n",
    "    def __repr__(self):\n",
    "        return f\"Value(data={self.data})\"\n",
    "  \n",
    "    def __add__(self, other):\n",
    "        other = other if isinstance(other,Value) else Value(other)\n",
    "        out = Value(self.data + other.data, (self, other), '+')\n",
    "        def _backward():\n",
    "            self.grad += 1.0 * out.grad\n",
    "            other.grad += 1.0 * out.grad\n",
    "        out._backward = _backward\n",
    "        return out\n",
    "\n",
    "    def __mul__(self, other):\n",
    "        other = other if isinstance(other,Value) else Value(other)\n",
    "        out = Value(self.data * other.data, (self, other), '*')\n",
    "        def _backward():\n",
    "            self.grad += other.data * out.grad\n",
    "            other.grad += self.data * out.grad\n",
    "        out._backward = _backward\n",
    "        return out\n",
    "    \n",
    "    def __rmul__(self,other):\n",
    "        return self * other\n",
    "\n",
    "    def __radd__(self,other):\n",
    "        return self + other\n",
    "    \n",
    "    def __sub__(self,other):\n",
    "        return self + (-other) \n",
    "    \n",
    "    def __neg__(self):\n",
    "        return self * -1\n",
    "    def __pow__(self,other):\n",
    "        assert isinstance(other,(int,float))\n",
    "        out = Value(self.data ** other,(self,),f\"**{other}\")\n",
    "        def _backward():\n",
    "            self.grad += other * (self.data ** (other - 1)) * out.grad\n",
    "        self._backward = _backward\n",
    "        return out\n",
    "    \n",
    "    def __truediv__(self,other):\n",
    "        return self * (other ** -1)\n",
    "    \n",
    "    \n",
    "    def exp(self):\n",
    "        x = self.data\n",
    "        out = Value(math.exp(x),_children=(self,),_op='exp')\n",
    "        def _backward():\n",
    "            self.grad += out.data * out.grad\n",
    "        out._backward = _backward\n",
    "        return out\n",
    "    \n",
    "    def tanh(self):\n",
    "        x = self.data\n",
    "        t = (math.exp(2*x) - 1) / (math.exp(2*x) + 1)\n",
    "        out = Value(data=t,_children=(self,),_op='tanh')\n",
    "        def _backward():\n",
    "            self.grad += (1 - out.data ** 2) * out.grad \n",
    "        out._backward = _backward\n",
    "        return out\n",
    "    def backward(self):\n",
    "        sorted_nodes = []\n",
    "        visited = set()\n",
    "        def topological_sort(n):\n",
    "            if n not in visited:\n",
    "                visited.add(n)\n",
    "                for child in n._prev:\n",
    "                    topological_sort(child)\n",
    "                sorted_nodes.append(n)\n",
    "        self.grad = 1\n",
    "        topological_sort(self)\n",
    "        for n in reversed(sorted_nodes):\n",
    "            n._backward()\n",
    "\n",
    "    "
   ]
  },
  {
   "cell_type": "code",
   "execution_count": 53,
   "id": "c019e85c-5d01-4dd3-aa4d-077a764dc024",
   "metadata": {
    "tags": []
   },
   "outputs": [
    {
     "data": {
      "text/plain": [
       "Value(data=3)"
      ]
     },
     "execution_count": 53,
     "metadata": {},
     "output_type": "execute_result"
    }
   ],
   "source": [
    "a = Value(3)\n",
    "a"
   ]
  },
  {
   "cell_type": "code",
   "execution_count": 5,
   "id": "8d068662-63f6-44b6-b7ed-a4d2c73071db",
   "metadata": {
    "tags": []
   },
   "outputs": [],
   "source": [
    "b = Value(2)"
   ]
  },
  {
   "cell_type": "code",
   "execution_count": 6,
   "id": "64a09c03-773f-4b38-878b-46d14e90d461",
   "metadata": {
    "tags": []
   },
   "outputs": [
    {
     "data": {
      "text/plain": [
       "Value(data=5)"
      ]
     },
     "execution_count": 6,
     "metadata": {},
     "output_type": "execute_result"
    }
   ],
   "source": [
    "a+b"
   ]
  },
  {
   "cell_type": "code",
   "execution_count": 7,
   "id": "4453546c-77a6-4b01-94f0-85d966784f04",
   "metadata": {
    "tags": []
   },
   "outputs": [],
   "source": [
    "d = a*b\n",
    "d.label ='d'\n",
    "a.label= 'a'\n",
    "b.label = 'b'"
   ]
  },
  {
   "cell_type": "code",
   "execution_count": 8,
   "id": "41aab060-360d-41ad-b96c-8b066432033f",
   "metadata": {
    "tags": []
   },
   "outputs": [
    {
     "data": {
      "text/plain": [
       "Value(data=8)"
      ]
     },
     "execution_count": 8,
     "metadata": {},
     "output_type": "execute_result"
    }
   ],
   "source": [
    "c=Value(2)\n",
    "a*b+c"
   ]
  },
  {
   "cell_type": "code",
   "execution_count": 9,
   "id": "7fd23c77-b9a9-466c-8525-b9f2f02308bf",
   "metadata": {
    "tags": []
   },
   "outputs": [
    {
     "data": {
      "text/plain": [
       "({Value(data=2), Value(data=3)}, '*')"
      ]
     },
     "execution_count": 9,
     "metadata": {},
     "output_type": "execute_result"
    }
   ],
   "source": [
    "d._prev,d._op"
   ]
  },
  {
   "cell_type": "code",
   "execution_count": 10,
   "id": "e67309cc-89b6-4a02-8f2b-7b9b1edaad25",
   "metadata": {
    "tags": []
   },
   "outputs": [
    {
     "name": "stdout",
     "output_type": "stream",
     "text": [
      "4.0\n"
     ]
    }
   ],
   "source": [
    "a = 2.0\n",
    "b = -3.0\n",
    "c = 10.0\n",
    "d = a*b + c\n",
    "print(d)"
   ]
  },
  {
   "cell_type": "code",
   "execution_count": 11,
   "id": "fa653473-2e40-47b9-8130-41260fb6544a",
   "metadata": {
    "tags": []
   },
   "outputs": [
    {
     "name": "stdout",
     "output_type": "stream",
     "text": [
      "d1 4.0\n",
      "d2 4.0001\n",
      "slope 0.9999999999976694\n"
     ]
    }
   ],
   "source": [
    "h = 0.0001\n",
    "\n",
    "# inputs\n",
    "a = 2.0\n",
    "b = -3.0\n",
    "c = 10.0\n",
    "\n",
    "d1 = a*b + c\n",
    "c += h\n",
    "d2 = a*b + c\n",
    "\n",
    "print('d1', d1)\n",
    "print('d2', d2)\n",
    "print('slope', (d2 - d1)/h)\n"
   ]
  },
  {
   "cell_type": "code",
   "execution_count": 38,
   "id": "61a86e86-1059-4bc3-a314-716bebc21ec5",
   "metadata": {
    "tags": []
   },
   "outputs": [],
   "source": [
    "def build_graph(root):\n",
    "    nodes,edges = set(),set()\n",
    "    def build(root):\n",
    "        if root not in nodes:\n",
    "            nodes.add(root)\n",
    "            for child in root._prev:\n",
    "                edges.add((child,root))\n",
    "                build(child)\n",
    "    build(root)\n",
    "    return nodes,edges\n",
    "\n",
    "def draw_graph(root):\n",
    "    graph = Digraph(format='svg',graph_attr={'rankdir':'LR'})\n",
    "    nodes,edges = build_graph(root)\n",
    "    for n in nodes:\n",
    "        uid = str(id(n))\n",
    "        graph.node(name=uid,label=\"%s | data %.4f | grad %.4f\"%(n.label,n.data,n.grad),shape='record')\n",
    "        if n._op:\n",
    "            opid = uid + n._op\n",
    "            graph.node(name=opid,label=n._op)\n",
    "            graph.edge(opid,uid)\n",
    "    for n1,n2 in edges:\n",
    "        graph.edge(str(id(n1)),str(id(n2))+n2._op)\n",
    "    return graph"
   ]
  },
  {
   "cell_type": "code",
   "execution_count": 14,
   "id": "a79872de-396d-42ac-bab1-e2b1f8dcbba9",
   "metadata": {
    "tags": []
   },
   "outputs": [
    {
     "data": {
      "text/plain": [
       "({Value(data=13), Value(data=2), Value(data=4), Value(data=6), Value(data=7)},\n",
       " {(Value(data=2), Value(data=6)),\n",
       "  (Value(data=4), Value(data=6)),\n",
       "  (Value(data=6), Value(data=13)),\n",
       "  (Value(data=7), Value(data=13))})"
      ]
     },
     "execution_count": 14,
     "metadata": {},
     "output_type": "execute_result"
    }
   ],
   "source": [
    "a = Value(2);a.label = 'a'\n",
    "b = Value(4);b.label = 'b'\n",
    "x = a + b;x.label='x'\n",
    "y = Value(7);y.label = 'y'\n",
    "z = x+y;z.label='z'\n",
    "build_graph(z)"
   ]
  },
  {
   "cell_type": "code",
   "execution_count": 48,
   "id": "cf98374c-e75f-45bf-82f6-d5c4d4ecd323",
   "metadata": {
    "tags": []
   },
   "outputs": [],
   "source": [
    "# inputs x1,x2\n",
    "x1 = Value(2.0, label='x1')\n",
    "x2 = Value(0.0, label='x2')\n",
    "# weights w1,w2\n",
    "w1 = Value(-3.0, label='w1')\n",
    "w2 = Value(1.0, label='w2')\n",
    "# bias of the neuron\n",
    "b = Value(6.8813735870195432, label='b')\n",
    "# x1*w1 + x2*w2 + b\n",
    "x1w1 = x1*w1; x1w1.label = 'x1*w1'\n",
    "x2w2 = x2*w2; x2w2.label = 'x2*w2'\n",
    "x1w1x2w2 = x1w1 + x2w2; x1w1x2w2.label = 'x1*w1 + x2*w2'\n",
    "n = x1w1x2w2 + b; n.label = 'n'\n",
    "o = n.tanh(); o.label = 'o'"
   ]
  },
  {
   "cell_type": "code",
   "execution_count": 49,
   "id": "4eb09e56-8a98-4ec1-a1a3-733fcb942670",
   "metadata": {
    "tags": []
   },
   "outputs": [
    {
     "data": {
      "image/svg+xml": [
       "<?xml version=\"1.0\" encoding=\"UTF-8\" standalone=\"no\"?>\n",
       "<!DOCTYPE svg PUBLIC \"-//W3C//DTD SVG 1.1//EN\"\n",
       " \"http://www.w3.org/Graphics/SVG/1.1/DTD/svg11.dtd\">\n",
       "<!-- Generated by graphviz version 2.50.0 (0)\n",
       " -->\n",
       "<!-- Pages: 1 -->\n",
       "<svg width=\"952pt\" height=\"342pt\"\n",
       " viewBox=\"0.00 0.00 952.00 342.00\" xmlns=\"http://www.w3.org/2000/svg\" xmlns:xlink=\"http://www.w3.org/1999/xlink\">\n",
       "<g id=\"graph0\" class=\"graph\" transform=\"scale(1 1) rotate(0) translate(4 338)\">\n",
       "<polygon fill=\"white\" stroke=\"transparent\" points=\"-4,4 -4,-338 948,-338 948,4 -4,4\"/>\n",
       "<!-- 2064972032528 -->\n",
       "<g id=\"node1\" class=\"node\">\n",
       "<title>2064972032528</title>\n",
       "<polygon fill=\"none\" stroke=\"black\" points=\"1.5,-264.5 1.5,-333.5 83.5,-333.5 83.5,-264.5 1.5,-264.5\"/>\n",
       "<text text-anchor=\"middle\" x=\"42.5\" y=\"-318.3\" font-family=\"Times New Roman,serif\" font-size=\"14.00\">x2</text>\n",
       "<polyline fill=\"none\" stroke=\"black\" points=\"1.5,-310.5 83.5,-310.5 \"/>\n",
       "<text text-anchor=\"middle\" x=\"42.5\" y=\"-295.3\" font-family=\"Times New Roman,serif\" font-size=\"14.00\">data 0.0000</text>\n",
       "<polyline fill=\"none\" stroke=\"black\" points=\"1.5,-287.5 83.5,-287.5 \"/>\n",
       "<text text-anchor=\"middle\" x=\"42.5\" y=\"-272.3\" font-family=\"Times New Roman,serif\" font-size=\"14.00\">grad 0.0000</text>\n",
       "</g>\n",
       "<!-- 2064972029712* -->\n",
       "<g id=\"node10\" class=\"node\">\n",
       "<title>2064972029712*</title>\n",
       "<ellipse fill=\"none\" stroke=\"black\" cx=\"148\" cy=\"-211\" rx=\"27\" ry=\"18\"/>\n",
       "<text text-anchor=\"middle\" x=\"148\" y=\"-207.3\" font-family=\"Times New Roman,serif\" font-size=\"14.00\">*</text>\n",
       "</g>\n",
       "<!-- 2064972032528&#45;&gt;2064972029712* -->\n",
       "<g id=\"edge10\" class=\"edge\">\n",
       "<title>2064972032528&#45;&gt;2064972029712*</title>\n",
       "<path fill=\"none\" stroke=\"black\" d=\"M83.52,-264.98C96.83,-253.66 111.23,-241.41 122.95,-231.45\"/>\n",
       "<polygon fill=\"black\" stroke=\"black\" points=\"125.23,-234.1 130.59,-224.96 120.7,-228.77 125.23,-234.1\"/>\n",
       "</g>\n",
       "<!-- 2064972029456 -->\n",
       "<g id=\"node2\" class=\"node\">\n",
       "<title>2064972029456</title>\n",
       "<polygon fill=\"none\" stroke=\"black\" points=\"1.5,-176.5 1.5,-245.5 83.5,-245.5 83.5,-176.5 1.5,-176.5\"/>\n",
       "<text text-anchor=\"middle\" x=\"42.5\" y=\"-230.3\" font-family=\"Times New Roman,serif\" font-size=\"14.00\">w2</text>\n",
       "<polyline fill=\"none\" stroke=\"black\" points=\"1.5,-222.5 83.5,-222.5 \"/>\n",
       "<text text-anchor=\"middle\" x=\"42.5\" y=\"-207.3\" font-family=\"Times New Roman,serif\" font-size=\"14.00\">data 1.0000</text>\n",
       "<polyline fill=\"none\" stroke=\"black\" points=\"1.5,-199.5 83.5,-199.5 \"/>\n",
       "<text text-anchor=\"middle\" x=\"42.5\" y=\"-184.3\" font-family=\"Times New Roman,serif\" font-size=\"14.00\">grad 0.0000</text>\n",
       "</g>\n",
       "<!-- 2064972029456&#45;&gt;2064972029712* -->\n",
       "<g id=\"edge12\" class=\"edge\">\n",
       "<title>2064972029456&#45;&gt;2064972029712*</title>\n",
       "<path fill=\"none\" stroke=\"black\" d=\"M83.52,-211C92.41,-211 101.8,-211 110.54,-211\"/>\n",
       "<polygon fill=\"black\" stroke=\"black\" points=\"110.82,-214.5 120.82,-211 110.82,-207.5 110.82,-214.5\"/>\n",
       "</g>\n",
       "<!-- 2064972027024 -->\n",
       "<g id=\"node3\" class=\"node\">\n",
       "<title>2064972027024</title>\n",
       "<polygon fill=\"none\" stroke=\"black\" points=\"434,-44.5 434,-113.5 516,-113.5 516,-44.5 434,-44.5\"/>\n",
       "<text text-anchor=\"middle\" x=\"475\" y=\"-98.3\" font-family=\"Times New Roman,serif\" font-size=\"14.00\">b</text>\n",
       "<polyline fill=\"none\" stroke=\"black\" points=\"434,-90.5 516,-90.5 \"/>\n",
       "<text text-anchor=\"middle\" x=\"475\" y=\"-75.3\" font-family=\"Times New Roman,serif\" font-size=\"14.00\">data 6.8814</text>\n",
       "<polyline fill=\"none\" stroke=\"black\" points=\"434,-67.5 516,-67.5 \"/>\n",
       "<text text-anchor=\"middle\" x=\"475\" y=\"-52.3\" font-family=\"Times New Roman,serif\" font-size=\"14.00\">grad 0.0000</text>\n",
       "</g>\n",
       "<!-- 2064972033360+ -->\n",
       "<g id=\"node12\" class=\"node\">\n",
       "<title>2064972033360+</title>\n",
       "<ellipse fill=\"none\" stroke=\"black\" cx=\"591\" cy=\"-123\" rx=\"27\" ry=\"18\"/>\n",
       "<text text-anchor=\"middle\" x=\"591\" y=\"-119.3\" font-family=\"Times New Roman,serif\" font-size=\"14.00\">+</text>\n",
       "</g>\n",
       "<!-- 2064972027024&#45;&gt;2064972033360+ -->\n",
       "<g id=\"edge7\" class=\"edge\">\n",
       "<title>2064972027024&#45;&gt;2064972033360+</title>\n",
       "<path fill=\"none\" stroke=\"black\" d=\"M516.19,-94.51C529.78,-99.76 544.77,-105.54 557.67,-110.52\"/>\n",
       "<polygon fill=\"black\" stroke=\"black\" points=\"556.48,-113.81 567.07,-114.15 559,-107.28 556.48,-113.81\"/>\n",
       "</g>\n",
       "<!-- 2064972035728 -->\n",
       "<g id=\"node4\" class=\"node\">\n",
       "<title>2064972035728</title>\n",
       "<polygon fill=\"none\" stroke=\"black\" points=\"862,-88.5 862,-157.5 944,-157.5 944,-88.5 862,-88.5\"/>\n",
       "<text text-anchor=\"middle\" x=\"903\" y=\"-142.3\" font-family=\"Times New Roman,serif\" font-size=\"14.00\">o</text>\n",
       "<polyline fill=\"none\" stroke=\"black\" points=\"862,-134.5 944,-134.5 \"/>\n",
       "<text text-anchor=\"middle\" x=\"903\" y=\"-119.3\" font-family=\"Times New Roman,serif\" font-size=\"14.00\">data 0.7071</text>\n",
       "<polyline fill=\"none\" stroke=\"black\" points=\"862,-111.5 944,-111.5 \"/>\n",
       "<text text-anchor=\"middle\" x=\"903\" y=\"-96.3\" font-family=\"Times New Roman,serif\" font-size=\"14.00\">grad 0.0000</text>\n",
       "</g>\n",
       "<!-- 2064972035728tanh -->\n",
       "<g id=\"node5\" class=\"node\">\n",
       "<title>2064972035728tanh</title>\n",
       "<ellipse fill=\"none\" stroke=\"black\" cx=\"799\" cy=\"-123\" rx=\"27\" ry=\"18\"/>\n",
       "<text text-anchor=\"middle\" x=\"799\" y=\"-119.3\" font-family=\"Times New Roman,serif\" font-size=\"14.00\">tanh</text>\n",
       "</g>\n",
       "<!-- 2064972035728tanh&#45;&gt;2064972035728 -->\n",
       "<g id=\"edge1\" class=\"edge\">\n",
       "<title>2064972035728tanh&#45;&gt;2064972035728</title>\n",
       "<path fill=\"none\" stroke=\"black\" d=\"M826,-123C833.81,-123 842.65,-123 851.48,-123\"/>\n",
       "<polygon fill=\"black\" stroke=\"black\" points=\"851.76,-126.5 861.76,-123 851.76,-119.5 851.76,-126.5\"/>\n",
       "</g>\n",
       "<!-- 2064972037776 -->\n",
       "<g id=\"node6\" class=\"node\">\n",
       "<title>2064972037776</title>\n",
       "<polygon fill=\"none\" stroke=\"black\" points=\"422,-132.5 422,-201.5 528,-201.5 528,-132.5 422,-132.5\"/>\n",
       "<text text-anchor=\"middle\" x=\"475\" y=\"-186.3\" font-family=\"Times New Roman,serif\" font-size=\"14.00\">x1*w1 + x2*w2</text>\n",
       "<polyline fill=\"none\" stroke=\"black\" points=\"422,-178.5 528,-178.5 \"/>\n",
       "<text text-anchor=\"middle\" x=\"475\" y=\"-163.3\" font-family=\"Times New Roman,serif\" font-size=\"14.00\">data &#45;6.0000</text>\n",
       "<polyline fill=\"none\" stroke=\"black\" points=\"422,-155.5 528,-155.5 \"/>\n",
       "<text text-anchor=\"middle\" x=\"475\" y=\"-140.3\" font-family=\"Times New Roman,serif\" font-size=\"14.00\">grad 0.0000</text>\n",
       "</g>\n",
       "<!-- 2064972037776&#45;&gt;2064972033360+ -->\n",
       "<g id=\"edge14\" class=\"edge\">\n",
       "<title>2064972037776&#45;&gt;2064972033360+</title>\n",
       "<path fill=\"none\" stroke=\"black\" d=\"M528.33,-146.8C538.39,-142.92 548.64,-138.96 557.83,-135.42\"/>\n",
       "<polygon fill=\"black\" stroke=\"black\" points=\"559.24,-138.62 567.31,-131.76 556.72,-132.09 559.24,-138.62\"/>\n",
       "</g>\n",
       "<!-- 2064972037776+ -->\n",
       "<g id=\"node7\" class=\"node\">\n",
       "<title>2064972037776+</title>\n",
       "<ellipse fill=\"none\" stroke=\"black\" cx=\"359\" cy=\"-167\" rx=\"27\" ry=\"18\"/>\n",
       "<text text-anchor=\"middle\" x=\"359\" y=\"-163.3\" font-family=\"Times New Roman,serif\" font-size=\"14.00\">+</text>\n",
       "</g>\n",
       "<!-- 2064972037776+&#45;&gt;2064972037776 -->\n",
       "<g id=\"edge2\" class=\"edge\">\n",
       "<title>2064972037776+&#45;&gt;2064972037776</title>\n",
       "<path fill=\"none\" stroke=\"black\" d=\"M386.15,-167C393.89,-167 402.71,-167 411.71,-167\"/>\n",
       "<polygon fill=\"black\" stroke=\"black\" points=\"411.9,-170.5 421.9,-167 411.9,-163.5 411.9,-170.5\"/>\n",
       "</g>\n",
       "<!-- 2064972022992 -->\n",
       "<g id=\"node8\" class=\"node\">\n",
       "<title>2064972022992</title>\n",
       "<polygon fill=\"none\" stroke=\"black\" points=\"0,-88.5 0,-157.5 85,-157.5 85,-88.5 0,-88.5\"/>\n",
       "<text text-anchor=\"middle\" x=\"42.5\" y=\"-142.3\" font-family=\"Times New Roman,serif\" font-size=\"14.00\">w1</text>\n",
       "<polyline fill=\"none\" stroke=\"black\" points=\"0,-134.5 85,-134.5 \"/>\n",
       "<text text-anchor=\"middle\" x=\"42.5\" y=\"-119.3\" font-family=\"Times New Roman,serif\" font-size=\"14.00\">data &#45;3.0000</text>\n",
       "<polyline fill=\"none\" stroke=\"black\" points=\"0,-111.5 85,-111.5 \"/>\n",
       "<text text-anchor=\"middle\" x=\"42.5\" y=\"-96.3\" font-family=\"Times New Roman,serif\" font-size=\"14.00\">grad 0.0000</text>\n",
       "</g>\n",
       "<!-- 2064972035984* -->\n",
       "<g id=\"node15\" class=\"node\">\n",
       "<title>2064972035984*</title>\n",
       "<ellipse fill=\"none\" stroke=\"black\" cx=\"148\" cy=\"-123\" rx=\"27\" ry=\"18\"/>\n",
       "<text text-anchor=\"middle\" x=\"148\" y=\"-119.3\" font-family=\"Times New Roman,serif\" font-size=\"14.00\">*</text>\n",
       "</g>\n",
       "<!-- 2064972022992&#45;&gt;2064972035984* -->\n",
       "<g id=\"edge9\" class=\"edge\">\n",
       "<title>2064972022992&#45;&gt;2064972035984*</title>\n",
       "<path fill=\"none\" stroke=\"black\" d=\"M85,-123C93.54,-123 102.47,-123 110.81,-123\"/>\n",
       "<polygon fill=\"black\" stroke=\"black\" points=\"110.97,-126.5 120.97,-123 110.97,-119.5 110.97,-126.5\"/>\n",
       "</g>\n",
       "<!-- 2064972029712 -->\n",
       "<g id=\"node9\" class=\"node\">\n",
       "<title>2064972029712</title>\n",
       "<polygon fill=\"none\" stroke=\"black\" points=\"212.5,-176.5 212.5,-245.5 294.5,-245.5 294.5,-176.5 212.5,-176.5\"/>\n",
       "<text text-anchor=\"middle\" x=\"253.5\" y=\"-230.3\" font-family=\"Times New Roman,serif\" font-size=\"14.00\">x2*w2</text>\n",
       "<polyline fill=\"none\" stroke=\"black\" points=\"212.5,-222.5 294.5,-222.5 \"/>\n",
       "<text text-anchor=\"middle\" x=\"253.5\" y=\"-207.3\" font-family=\"Times New Roman,serif\" font-size=\"14.00\">data 0.0000</text>\n",
       "<polyline fill=\"none\" stroke=\"black\" points=\"212.5,-199.5 294.5,-199.5 \"/>\n",
       "<text text-anchor=\"middle\" x=\"253.5\" y=\"-184.3\" font-family=\"Times New Roman,serif\" font-size=\"14.00\">grad 0.0000</text>\n",
       "</g>\n",
       "<!-- 2064972029712&#45;&gt;2064972037776+ -->\n",
       "<g id=\"edge13\" class=\"edge\">\n",
       "<title>2064972029712&#45;&gt;2064972037776+</title>\n",
       "<path fill=\"none\" stroke=\"black\" d=\"M294.52,-193.99C305.12,-189.48 316.42,-184.68 326.5,-180.39\"/>\n",
       "<polygon fill=\"black\" stroke=\"black\" points=\"327.9,-183.6 335.73,-176.47 325.16,-177.16 327.9,-183.6\"/>\n",
       "</g>\n",
       "<!-- 2064972029712*&#45;&gt;2064972029712 -->\n",
       "<g id=\"edge3\" class=\"edge\">\n",
       "<title>2064972029712*&#45;&gt;2064972029712</title>\n",
       "<path fill=\"none\" stroke=\"black\" d=\"M175.12,-211C183.39,-211 192.82,-211 202.19,-211\"/>\n",
       "<polygon fill=\"black\" stroke=\"black\" points=\"202.28,-214.5 212.28,-211 202.28,-207.5 202.28,-214.5\"/>\n",
       "</g>\n",
       "<!-- 2064972033360 -->\n",
       "<g id=\"node11\" class=\"node\">\n",
       "<title>2064972033360</title>\n",
       "<polygon fill=\"none\" stroke=\"black\" points=\"654,-88.5 654,-157.5 736,-157.5 736,-88.5 654,-88.5\"/>\n",
       "<text text-anchor=\"middle\" x=\"695\" y=\"-142.3\" font-family=\"Times New Roman,serif\" font-size=\"14.00\">n</text>\n",
       "<polyline fill=\"none\" stroke=\"black\" points=\"654,-134.5 736,-134.5 \"/>\n",
       "<text text-anchor=\"middle\" x=\"695\" y=\"-119.3\" font-family=\"Times New Roman,serif\" font-size=\"14.00\">data 0.8814</text>\n",
       "<polyline fill=\"none\" stroke=\"black\" points=\"654,-111.5 736,-111.5 \"/>\n",
       "<text text-anchor=\"middle\" x=\"695\" y=\"-96.3\" font-family=\"Times New Roman,serif\" font-size=\"14.00\">grad 0.0000</text>\n",
       "</g>\n",
       "<!-- 2064972033360&#45;&gt;2064972035728tanh -->\n",
       "<g id=\"edge8\" class=\"edge\">\n",
       "<title>2064972033360&#45;&gt;2064972035728tanh</title>\n",
       "<path fill=\"none\" stroke=\"black\" d=\"M736.02,-123C744.5,-123 753.4,-123 761.73,-123\"/>\n",
       "<polygon fill=\"black\" stroke=\"black\" points=\"761.89,-126.5 771.89,-123 761.89,-119.5 761.89,-126.5\"/>\n",
       "</g>\n",
       "<!-- 2064972033360+&#45;&gt;2064972033360 -->\n",
       "<g id=\"edge4\" class=\"edge\">\n",
       "<title>2064972033360+&#45;&gt;2064972033360</title>\n",
       "<path fill=\"none\" stroke=\"black\" d=\"M618,-123C625.81,-123 634.65,-123 643.48,-123\"/>\n",
       "<polygon fill=\"black\" stroke=\"black\" points=\"643.76,-126.5 653.76,-123 643.76,-119.5 643.76,-126.5\"/>\n",
       "</g>\n",
       "<!-- 2064972028752 -->\n",
       "<g id=\"node13\" class=\"node\">\n",
       "<title>2064972028752</title>\n",
       "<polygon fill=\"none\" stroke=\"black\" points=\"1.5,-0.5 1.5,-69.5 83.5,-69.5 83.5,-0.5 1.5,-0.5\"/>\n",
       "<text text-anchor=\"middle\" x=\"42.5\" y=\"-54.3\" font-family=\"Times New Roman,serif\" font-size=\"14.00\">x1</text>\n",
       "<polyline fill=\"none\" stroke=\"black\" points=\"1.5,-46.5 83.5,-46.5 \"/>\n",
       "<text text-anchor=\"middle\" x=\"42.5\" y=\"-31.3\" font-family=\"Times New Roman,serif\" font-size=\"14.00\">data 2.0000</text>\n",
       "<polyline fill=\"none\" stroke=\"black\" points=\"1.5,-23.5 83.5,-23.5 \"/>\n",
       "<text text-anchor=\"middle\" x=\"42.5\" y=\"-8.3\" font-family=\"Times New Roman,serif\" font-size=\"14.00\">grad 0.0000</text>\n",
       "</g>\n",
       "<!-- 2064972028752&#45;&gt;2064972035984* -->\n",
       "<g id=\"edge6\" class=\"edge\">\n",
       "<title>2064972028752&#45;&gt;2064972035984*</title>\n",
       "<path fill=\"none\" stroke=\"black\" d=\"M83.52,-69.02C96.83,-80.34 111.23,-92.59 122.95,-102.55\"/>\n",
       "<polygon fill=\"black\" stroke=\"black\" points=\"120.7,-105.23 130.59,-109.04 125.23,-99.9 120.7,-105.23\"/>\n",
       "</g>\n",
       "<!-- 2064972035984 -->\n",
       "<g id=\"node14\" class=\"node\">\n",
       "<title>2064972035984</title>\n",
       "<polygon fill=\"none\" stroke=\"black\" points=\"211,-88.5 211,-157.5 296,-157.5 296,-88.5 211,-88.5\"/>\n",
       "<text text-anchor=\"middle\" x=\"253.5\" y=\"-142.3\" font-family=\"Times New Roman,serif\" font-size=\"14.00\">x1*w1</text>\n",
       "<polyline fill=\"none\" stroke=\"black\" points=\"211,-134.5 296,-134.5 \"/>\n",
       "<text text-anchor=\"middle\" x=\"253.5\" y=\"-119.3\" font-family=\"Times New Roman,serif\" font-size=\"14.00\">data &#45;6.0000</text>\n",
       "<polyline fill=\"none\" stroke=\"black\" points=\"211,-111.5 296,-111.5 \"/>\n",
       "<text text-anchor=\"middle\" x=\"253.5\" y=\"-96.3\" font-family=\"Times New Roman,serif\" font-size=\"14.00\">grad 0.0000</text>\n",
       "</g>\n",
       "<!-- 2064972035984&#45;&gt;2064972037776+ -->\n",
       "<g id=\"edge11\" class=\"edge\">\n",
       "<title>2064972035984&#45;&gt;2064972037776+</title>\n",
       "<path fill=\"none\" stroke=\"black\" d=\"M296,-140.64C306.21,-144.98 316.97,-149.56 326.61,-153.66\"/>\n",
       "<polygon fill=\"black\" stroke=\"black\" points=\"325.24,-156.88 335.81,-157.57 327.98,-150.44 325.24,-156.88\"/>\n",
       "</g>\n",
       "<!-- 2064972035984*&#45;&gt;2064972035984 -->\n",
       "<g id=\"edge5\" class=\"edge\">\n",
       "<title>2064972035984*&#45;&gt;2064972035984</title>\n",
       "<path fill=\"none\" stroke=\"black\" d=\"M175.12,-123C182.87,-123 191.64,-123 200.42,-123\"/>\n",
       "<polygon fill=\"black\" stroke=\"black\" points=\"200.68,-126.5 210.68,-123 200.68,-119.5 200.68,-126.5\"/>\n",
       "</g>\n",
       "</g>\n",
       "</svg>\n"
      ],
      "text/plain": [
       "<graphviz.graphs.Digraph at 0x1e0c9b47f10>"
      ]
     },
     "execution_count": 49,
     "metadata": {},
     "output_type": "execute_result"
    }
   ],
   "source": [
    "draw_graph(o)"
   ]
  },
  {
   "cell_type": "code",
   "execution_count": 50,
   "id": "864cebc7-40d5-425d-9bef-88389abaeadc",
   "metadata": {},
   "outputs": [],
   "source": [
    "o.backward()"
   ]
  },
  {
   "cell_type": "code",
   "execution_count": 51,
   "id": "02818eba-30ae-43af-9689-d682473c7190",
   "metadata": {
    "tags": []
   },
   "outputs": [
    {
     "data": {
      "image/svg+xml": [
       "<?xml version=\"1.0\" encoding=\"UTF-8\" standalone=\"no\"?>\n",
       "<!DOCTYPE svg PUBLIC \"-//W3C//DTD SVG 1.1//EN\"\n",
       " \"http://www.w3.org/Graphics/SVG/1.1/DTD/svg11.dtd\">\n",
       "<!-- Generated by graphviz version 2.50.0 (0)\n",
       " -->\n",
       "<!-- Pages: 1 -->\n",
       "<svg width=\"953pt\" height=\"342pt\"\n",
       " viewBox=\"0.00 0.00 953.00 342.00\" xmlns=\"http://www.w3.org/2000/svg\" xmlns:xlink=\"http://www.w3.org/1999/xlink\">\n",
       "<g id=\"graph0\" class=\"graph\" transform=\"scale(1 1) rotate(0) translate(4 338)\">\n",
       "<polygon fill=\"white\" stroke=\"transparent\" points=\"-4,4 -4,-338 949,-338 949,4 -4,4\"/>\n",
       "<!-- 2064972032528 -->\n",
       "<g id=\"node1\" class=\"node\">\n",
       "<title>2064972032528</title>\n",
       "<polygon fill=\"none\" stroke=\"black\" points=\"2,-264.5 2,-333.5 84,-333.5 84,-264.5 2,-264.5\"/>\n",
       "<text text-anchor=\"middle\" x=\"43\" y=\"-318.3\" font-family=\"Times New Roman,serif\" font-size=\"14.00\">x2</text>\n",
       "<polyline fill=\"none\" stroke=\"black\" points=\"2,-310.5 84,-310.5 \"/>\n",
       "<text text-anchor=\"middle\" x=\"43\" y=\"-295.3\" font-family=\"Times New Roman,serif\" font-size=\"14.00\">data 0.0000</text>\n",
       "<polyline fill=\"none\" stroke=\"black\" points=\"2,-287.5 84,-287.5 \"/>\n",
       "<text text-anchor=\"middle\" x=\"43\" y=\"-272.3\" font-family=\"Times New Roman,serif\" font-size=\"14.00\">grad 0.5000</text>\n",
       "</g>\n",
       "<!-- 2064972029712* -->\n",
       "<g id=\"node10\" class=\"node\">\n",
       "<title>2064972029712*</title>\n",
       "<ellipse fill=\"none\" stroke=\"black\" cx=\"149\" cy=\"-211\" rx=\"27\" ry=\"18\"/>\n",
       "<text text-anchor=\"middle\" x=\"149\" y=\"-207.3\" font-family=\"Times New Roman,serif\" font-size=\"14.00\">*</text>\n",
       "</g>\n",
       "<!-- 2064972032528&#45;&gt;2064972029712* -->\n",
       "<g id=\"edge10\" class=\"edge\">\n",
       "<title>2064972032528&#45;&gt;2064972029712*</title>\n",
       "<path fill=\"none\" stroke=\"black\" d=\"M84.21,-264.98C97.58,-253.66 112.06,-241.41 123.83,-231.45\"/>\n",
       "<polygon fill=\"black\" stroke=\"black\" points=\"126.13,-234.09 131.51,-224.96 121.61,-228.74 126.13,-234.09\"/>\n",
       "</g>\n",
       "<!-- 2064972029456 -->\n",
       "<g id=\"node2\" class=\"node\">\n",
       "<title>2064972029456</title>\n",
       "<polygon fill=\"none\" stroke=\"black\" points=\"2,-176.5 2,-245.5 84,-245.5 84,-176.5 2,-176.5\"/>\n",
       "<text text-anchor=\"middle\" x=\"43\" y=\"-230.3\" font-family=\"Times New Roman,serif\" font-size=\"14.00\">w2</text>\n",
       "<polyline fill=\"none\" stroke=\"black\" points=\"2,-222.5 84,-222.5 \"/>\n",
       "<text text-anchor=\"middle\" x=\"43\" y=\"-207.3\" font-family=\"Times New Roman,serif\" font-size=\"14.00\">data 1.0000</text>\n",
       "<polyline fill=\"none\" stroke=\"black\" points=\"2,-199.5 84,-199.5 \"/>\n",
       "<text text-anchor=\"middle\" x=\"43\" y=\"-184.3\" font-family=\"Times New Roman,serif\" font-size=\"14.00\">grad 0.0000</text>\n",
       "</g>\n",
       "<!-- 2064972029456&#45;&gt;2064972029712* -->\n",
       "<g id=\"edge12\" class=\"edge\">\n",
       "<title>2064972029456&#45;&gt;2064972029712*</title>\n",
       "<path fill=\"none\" stroke=\"black\" d=\"M84.21,-211C93.25,-211 102.79,-211 111.66,-211\"/>\n",
       "<polygon fill=\"black\" stroke=\"black\" points=\"111.69,-214.5 121.69,-211 111.69,-207.5 111.69,-214.5\"/>\n",
       "</g>\n",
       "<!-- 2064972027024 -->\n",
       "<g id=\"node3\" class=\"node\">\n",
       "<title>2064972027024</title>\n",
       "<polygon fill=\"none\" stroke=\"black\" points=\"435,-44.5 435,-113.5 517,-113.5 517,-44.5 435,-44.5\"/>\n",
       "<text text-anchor=\"middle\" x=\"476\" y=\"-98.3\" font-family=\"Times New Roman,serif\" font-size=\"14.00\">b</text>\n",
       "<polyline fill=\"none\" stroke=\"black\" points=\"435,-90.5 517,-90.5 \"/>\n",
       "<text text-anchor=\"middle\" x=\"476\" y=\"-75.3\" font-family=\"Times New Roman,serif\" font-size=\"14.00\">data 6.8814</text>\n",
       "<polyline fill=\"none\" stroke=\"black\" points=\"435,-67.5 517,-67.5 \"/>\n",
       "<text text-anchor=\"middle\" x=\"476\" y=\"-52.3\" font-family=\"Times New Roman,serif\" font-size=\"14.00\">grad 0.5000</text>\n",
       "</g>\n",
       "<!-- 2064972033360+ -->\n",
       "<g id=\"node12\" class=\"node\">\n",
       "<title>2064972033360+</title>\n",
       "<ellipse fill=\"none\" stroke=\"black\" cx=\"592\" cy=\"-123\" rx=\"27\" ry=\"18\"/>\n",
       "<text text-anchor=\"middle\" x=\"592\" y=\"-119.3\" font-family=\"Times New Roman,serif\" font-size=\"14.00\">+</text>\n",
       "</g>\n",
       "<!-- 2064972027024&#45;&gt;2064972033360+ -->\n",
       "<g id=\"edge7\" class=\"edge\">\n",
       "<title>2064972027024&#45;&gt;2064972033360+</title>\n",
       "<path fill=\"none\" stroke=\"black\" d=\"M517.19,-94.51C530.78,-99.76 545.77,-105.54 558.67,-110.52\"/>\n",
       "<polygon fill=\"black\" stroke=\"black\" points=\"557.48,-113.81 568.07,-114.15 560,-107.28 557.48,-113.81\"/>\n",
       "</g>\n",
       "<!-- 2064972035728 -->\n",
       "<g id=\"node4\" class=\"node\">\n",
       "<title>2064972035728</title>\n",
       "<polygon fill=\"none\" stroke=\"black\" points=\"863,-88.5 863,-157.5 945,-157.5 945,-88.5 863,-88.5\"/>\n",
       "<text text-anchor=\"middle\" x=\"904\" y=\"-142.3\" font-family=\"Times New Roman,serif\" font-size=\"14.00\">o</text>\n",
       "<polyline fill=\"none\" stroke=\"black\" points=\"863,-134.5 945,-134.5 \"/>\n",
       "<text text-anchor=\"middle\" x=\"904\" y=\"-119.3\" font-family=\"Times New Roman,serif\" font-size=\"14.00\">data 0.7071</text>\n",
       "<polyline fill=\"none\" stroke=\"black\" points=\"863,-111.5 945,-111.5 \"/>\n",
       "<text text-anchor=\"middle\" x=\"904\" y=\"-96.3\" font-family=\"Times New Roman,serif\" font-size=\"14.00\">grad 1.0000</text>\n",
       "</g>\n",
       "<!-- 2064972035728tanh -->\n",
       "<g id=\"node5\" class=\"node\">\n",
       "<title>2064972035728tanh</title>\n",
       "<ellipse fill=\"none\" stroke=\"black\" cx=\"800\" cy=\"-123\" rx=\"27\" ry=\"18\"/>\n",
       "<text text-anchor=\"middle\" x=\"800\" y=\"-119.3\" font-family=\"Times New Roman,serif\" font-size=\"14.00\">tanh</text>\n",
       "</g>\n",
       "<!-- 2064972035728tanh&#45;&gt;2064972035728 -->\n",
       "<g id=\"edge1\" class=\"edge\">\n",
       "<title>2064972035728tanh&#45;&gt;2064972035728</title>\n",
       "<path fill=\"none\" stroke=\"black\" d=\"M827,-123C834.81,-123 843.65,-123 852.48,-123\"/>\n",
       "<polygon fill=\"black\" stroke=\"black\" points=\"852.76,-126.5 862.76,-123 852.76,-119.5 852.76,-126.5\"/>\n",
       "</g>\n",
       "<!-- 2064972037776 -->\n",
       "<g id=\"node6\" class=\"node\">\n",
       "<title>2064972037776</title>\n",
       "<polygon fill=\"none\" stroke=\"black\" points=\"423,-132.5 423,-201.5 529,-201.5 529,-132.5 423,-132.5\"/>\n",
       "<text text-anchor=\"middle\" x=\"476\" y=\"-186.3\" font-family=\"Times New Roman,serif\" font-size=\"14.00\">x1*w1 + x2*w2</text>\n",
       "<polyline fill=\"none\" stroke=\"black\" points=\"423,-178.5 529,-178.5 \"/>\n",
       "<text text-anchor=\"middle\" x=\"476\" y=\"-163.3\" font-family=\"Times New Roman,serif\" font-size=\"14.00\">data &#45;6.0000</text>\n",
       "<polyline fill=\"none\" stroke=\"black\" points=\"423,-155.5 529,-155.5 \"/>\n",
       "<text text-anchor=\"middle\" x=\"476\" y=\"-140.3\" font-family=\"Times New Roman,serif\" font-size=\"14.00\">grad 0.5000</text>\n",
       "</g>\n",
       "<!-- 2064972037776&#45;&gt;2064972033360+ -->\n",
       "<g id=\"edge14\" class=\"edge\">\n",
       "<title>2064972037776&#45;&gt;2064972033360+</title>\n",
       "<path fill=\"none\" stroke=\"black\" d=\"M529.33,-146.8C539.39,-142.92 549.64,-138.96 558.83,-135.42\"/>\n",
       "<polygon fill=\"black\" stroke=\"black\" points=\"560.24,-138.62 568.31,-131.76 557.72,-132.09 560.24,-138.62\"/>\n",
       "</g>\n",
       "<!-- 2064972037776+ -->\n",
       "<g id=\"node7\" class=\"node\">\n",
       "<title>2064972037776+</title>\n",
       "<ellipse fill=\"none\" stroke=\"black\" cx=\"360\" cy=\"-167\" rx=\"27\" ry=\"18\"/>\n",
       "<text text-anchor=\"middle\" x=\"360\" y=\"-163.3\" font-family=\"Times New Roman,serif\" font-size=\"14.00\">+</text>\n",
       "</g>\n",
       "<!-- 2064972037776+&#45;&gt;2064972037776 -->\n",
       "<g id=\"edge2\" class=\"edge\">\n",
       "<title>2064972037776+&#45;&gt;2064972037776</title>\n",
       "<path fill=\"none\" stroke=\"black\" d=\"M387.15,-167C394.89,-167 403.71,-167 412.71,-167\"/>\n",
       "<polygon fill=\"black\" stroke=\"black\" points=\"412.9,-170.5 422.9,-167 412.9,-163.5 412.9,-170.5\"/>\n",
       "</g>\n",
       "<!-- 2064972022992 -->\n",
       "<g id=\"node8\" class=\"node\">\n",
       "<title>2064972022992</title>\n",
       "<polygon fill=\"none\" stroke=\"black\" points=\"0.5,-88.5 0.5,-157.5 85.5,-157.5 85.5,-88.5 0.5,-88.5\"/>\n",
       "<text text-anchor=\"middle\" x=\"43\" y=\"-142.3\" font-family=\"Times New Roman,serif\" font-size=\"14.00\">w1</text>\n",
       "<polyline fill=\"none\" stroke=\"black\" points=\"0.5,-134.5 85.5,-134.5 \"/>\n",
       "<text text-anchor=\"middle\" x=\"43\" y=\"-119.3\" font-family=\"Times New Roman,serif\" font-size=\"14.00\">data &#45;3.0000</text>\n",
       "<polyline fill=\"none\" stroke=\"black\" points=\"0.5,-111.5 85.5,-111.5 \"/>\n",
       "<text text-anchor=\"middle\" x=\"43\" y=\"-96.3\" font-family=\"Times New Roman,serif\" font-size=\"14.00\">grad 1.0000</text>\n",
       "</g>\n",
       "<!-- 2064972035984* -->\n",
       "<g id=\"node15\" class=\"node\">\n",
       "<title>2064972035984*</title>\n",
       "<ellipse fill=\"none\" stroke=\"black\" cx=\"149\" cy=\"-123\" rx=\"27\" ry=\"18\"/>\n",
       "<text text-anchor=\"middle\" x=\"149\" y=\"-119.3\" font-family=\"Times New Roman,serif\" font-size=\"14.00\">*</text>\n",
       "</g>\n",
       "<!-- 2064972022992&#45;&gt;2064972035984* -->\n",
       "<g id=\"edge9\" class=\"edge\">\n",
       "<title>2064972022992&#45;&gt;2064972035984*</title>\n",
       "<path fill=\"none\" stroke=\"black\" d=\"M85.7,-123C94.28,-123 103.26,-123 111.63,-123\"/>\n",
       "<polygon fill=\"black\" stroke=\"black\" points=\"111.85,-126.5 121.85,-123 111.85,-119.5 111.85,-126.5\"/>\n",
       "</g>\n",
       "<!-- 2064972029712 -->\n",
       "<g id=\"node9\" class=\"node\">\n",
       "<title>2064972029712</title>\n",
       "<polygon fill=\"none\" stroke=\"black\" points=\"213.5,-176.5 213.5,-245.5 295.5,-245.5 295.5,-176.5 213.5,-176.5\"/>\n",
       "<text text-anchor=\"middle\" x=\"254.5\" y=\"-230.3\" font-family=\"Times New Roman,serif\" font-size=\"14.00\">x2*w2</text>\n",
       "<polyline fill=\"none\" stroke=\"black\" points=\"213.5,-222.5 295.5,-222.5 \"/>\n",
       "<text text-anchor=\"middle\" x=\"254.5\" y=\"-207.3\" font-family=\"Times New Roman,serif\" font-size=\"14.00\">data 0.0000</text>\n",
       "<polyline fill=\"none\" stroke=\"black\" points=\"213.5,-199.5 295.5,-199.5 \"/>\n",
       "<text text-anchor=\"middle\" x=\"254.5\" y=\"-184.3\" font-family=\"Times New Roman,serif\" font-size=\"14.00\">grad 0.5000</text>\n",
       "</g>\n",
       "<!-- 2064972029712&#45;&gt;2064972037776+ -->\n",
       "<g id=\"edge13\" class=\"edge\">\n",
       "<title>2064972029712&#45;&gt;2064972037776+</title>\n",
       "<path fill=\"none\" stroke=\"black\" d=\"M295.52,-193.99C306.12,-189.48 317.42,-184.68 327.5,-180.39\"/>\n",
       "<polygon fill=\"black\" stroke=\"black\" points=\"328.9,-183.6 336.73,-176.47 326.16,-177.16 328.9,-183.6\"/>\n",
       "</g>\n",
       "<!-- 2064972029712*&#45;&gt;2064972029712 -->\n",
       "<g id=\"edge3\" class=\"edge\">\n",
       "<title>2064972029712*&#45;&gt;2064972029712</title>\n",
       "<path fill=\"none\" stroke=\"black\" d=\"M176.12,-211C184.39,-211 193.82,-211 203.19,-211\"/>\n",
       "<polygon fill=\"black\" stroke=\"black\" points=\"203.28,-214.5 213.28,-211 203.28,-207.5 203.28,-214.5\"/>\n",
       "</g>\n",
       "<!-- 2064972033360 -->\n",
       "<g id=\"node11\" class=\"node\">\n",
       "<title>2064972033360</title>\n",
       "<polygon fill=\"none\" stroke=\"black\" points=\"655,-88.5 655,-157.5 737,-157.5 737,-88.5 655,-88.5\"/>\n",
       "<text text-anchor=\"middle\" x=\"696\" y=\"-142.3\" font-family=\"Times New Roman,serif\" font-size=\"14.00\">n</text>\n",
       "<polyline fill=\"none\" stroke=\"black\" points=\"655,-134.5 737,-134.5 \"/>\n",
       "<text text-anchor=\"middle\" x=\"696\" y=\"-119.3\" font-family=\"Times New Roman,serif\" font-size=\"14.00\">data 0.8814</text>\n",
       "<polyline fill=\"none\" stroke=\"black\" points=\"655,-111.5 737,-111.5 \"/>\n",
       "<text text-anchor=\"middle\" x=\"696\" y=\"-96.3\" font-family=\"Times New Roman,serif\" font-size=\"14.00\">grad 0.5000</text>\n",
       "</g>\n",
       "<!-- 2064972033360&#45;&gt;2064972035728tanh -->\n",
       "<g id=\"edge8\" class=\"edge\">\n",
       "<title>2064972033360&#45;&gt;2064972035728tanh</title>\n",
       "<path fill=\"none\" stroke=\"black\" d=\"M737.02,-123C745.5,-123 754.4,-123 762.73,-123\"/>\n",
       "<polygon fill=\"black\" stroke=\"black\" points=\"762.89,-126.5 772.89,-123 762.89,-119.5 762.89,-126.5\"/>\n",
       "</g>\n",
       "<!-- 2064972033360+&#45;&gt;2064972033360 -->\n",
       "<g id=\"edge4\" class=\"edge\">\n",
       "<title>2064972033360+&#45;&gt;2064972033360</title>\n",
       "<path fill=\"none\" stroke=\"black\" d=\"M619,-123C626.81,-123 635.65,-123 644.48,-123\"/>\n",
       "<polygon fill=\"black\" stroke=\"black\" points=\"644.76,-126.5 654.76,-123 644.76,-119.5 644.76,-126.5\"/>\n",
       "</g>\n",
       "<!-- 2064972028752 -->\n",
       "<g id=\"node13\" class=\"node\">\n",
       "<title>2064972028752</title>\n",
       "<polygon fill=\"none\" stroke=\"black\" points=\"0,-0.5 0,-69.5 86,-69.5 86,-0.5 0,-0.5\"/>\n",
       "<text text-anchor=\"middle\" x=\"43\" y=\"-54.3\" font-family=\"Times New Roman,serif\" font-size=\"14.00\">x1</text>\n",
       "<polyline fill=\"none\" stroke=\"black\" points=\"0,-46.5 86,-46.5 \"/>\n",
       "<text text-anchor=\"middle\" x=\"43\" y=\"-31.3\" font-family=\"Times New Roman,serif\" font-size=\"14.00\">data 2.0000</text>\n",
       "<polyline fill=\"none\" stroke=\"black\" points=\"0,-23.5 86,-23.5 \"/>\n",
       "<text text-anchor=\"middle\" x=\"43\" y=\"-8.3\" font-family=\"Times New Roman,serif\" font-size=\"14.00\">grad &#45;1.5000</text>\n",
       "</g>\n",
       "<!-- 2064972028752&#45;&gt;2064972035984* -->\n",
       "<g id=\"edge6\" class=\"edge\">\n",
       "<title>2064972028752&#45;&gt;2064972035984*</title>\n",
       "<path fill=\"none\" stroke=\"black\" d=\"M84.81,-69.53C97.9,-80.61 111.99,-92.53 123.54,-102.3\"/>\n",
       "<polygon fill=\"black\" stroke=\"black\" points=\"121.55,-105.2 131.44,-108.99 126.07,-99.86 121.55,-105.2\"/>\n",
       "</g>\n",
       "<!-- 2064972035984 -->\n",
       "<g id=\"node14\" class=\"node\">\n",
       "<title>2064972035984</title>\n",
       "<polygon fill=\"none\" stroke=\"black\" points=\"212,-88.5 212,-157.5 297,-157.5 297,-88.5 212,-88.5\"/>\n",
       "<text text-anchor=\"middle\" x=\"254.5\" y=\"-142.3\" font-family=\"Times New Roman,serif\" font-size=\"14.00\">x1*w1</text>\n",
       "<polyline fill=\"none\" stroke=\"black\" points=\"212,-134.5 297,-134.5 \"/>\n",
       "<text text-anchor=\"middle\" x=\"254.5\" y=\"-119.3\" font-family=\"Times New Roman,serif\" font-size=\"14.00\">data &#45;6.0000</text>\n",
       "<polyline fill=\"none\" stroke=\"black\" points=\"212,-111.5 297,-111.5 \"/>\n",
       "<text text-anchor=\"middle\" x=\"254.5\" y=\"-96.3\" font-family=\"Times New Roman,serif\" font-size=\"14.00\">grad 0.5000</text>\n",
       "</g>\n",
       "<!-- 2064972035984&#45;&gt;2064972037776+ -->\n",
       "<g id=\"edge11\" class=\"edge\">\n",
       "<title>2064972035984&#45;&gt;2064972037776+</title>\n",
       "<path fill=\"none\" stroke=\"black\" d=\"M297,-140.64C307.21,-144.98 317.97,-149.56 327.61,-153.66\"/>\n",
       "<polygon fill=\"black\" stroke=\"black\" points=\"326.24,-156.88 336.81,-157.57 328.98,-150.44 326.24,-156.88\"/>\n",
       "</g>\n",
       "<!-- 2064972035984*&#45;&gt;2064972035984 -->\n",
       "<g id=\"edge5\" class=\"edge\">\n",
       "<title>2064972035984*&#45;&gt;2064972035984</title>\n",
       "<path fill=\"none\" stroke=\"black\" d=\"M176.12,-123C183.87,-123 192.64,-123 201.42,-123\"/>\n",
       "<polygon fill=\"black\" stroke=\"black\" points=\"201.68,-126.5 211.68,-123 201.68,-119.5 201.68,-126.5\"/>\n",
       "</g>\n",
       "</g>\n",
       "</svg>\n"
      ],
      "text/plain": [
       "<graphviz.graphs.Digraph at 0x1e0ca008c90>"
      ]
     },
     "execution_count": 51,
     "metadata": {},
     "output_type": "execute_result"
    }
   ],
   "source": [
    "draw_graph(o)"
   ]
  },
  {
   "cell_type": "code",
   "execution_count": 81,
   "id": "f65ff9a8-6e90-4b03-8b6c-9a7e8037e073",
   "metadata": {
    "tags": []
   },
   "outputs": [],
   "source": [
    "a = Value(2)"
   ]
  },
  {
   "cell_type": "code",
   "execution_count": 82,
   "id": "6b446ae2-50f8-4626-8b37-346a0add136b",
   "metadata": {
    "tags": []
   },
   "outputs": [
    {
     "data": {
      "text/plain": [
       "Value(data=4)"
      ]
     },
     "execution_count": 82,
     "metadata": {},
     "output_type": "execute_result"
    }
   ],
   "source": [
    "a + 2"
   ]
  },
  {
   "cell_type": "code",
   "execution_count": 83,
   "id": "51d1e8dd-c824-478c-99bd-ce8335b2621d",
   "metadata": {
    "tags": []
   },
   "outputs": [
    {
     "data": {
      "text/plain": [
       "Value(data=4)"
      ]
     },
     "execution_count": 83,
     "metadata": {},
     "output_type": "execute_result"
    }
   ],
   "source": [
    "2 + a"
   ]
  },
  {
   "cell_type": "code",
   "execution_count": 84,
   "id": "d4993f63-de4d-4f78-89cb-a40caa0e3a95",
   "metadata": {
    "tags": []
   },
   "outputs": [
    {
     "data": {
      "text/plain": [
       "Value(data=7.38905609893065)"
      ]
     },
     "execution_count": 84,
     "metadata": {},
     "output_type": "execute_result"
    }
   ],
   "source": [
    "a.exp()"
   ]
  },
  {
   "cell_type": "code",
   "execution_count": 85,
   "id": "65883252-6cec-4134-8163-274fdeb607dc",
   "metadata": {
    "tags": []
   },
   "outputs": [],
   "source": [
    "b = Value(2)"
   ]
  },
  {
   "cell_type": "code",
   "execution_count": 86,
   "id": "bc24ae0a-c0cf-4fe8-aa38-942edf8e6b03",
   "metadata": {
    "tags": []
   },
   "outputs": [
    {
     "data": {
      "text/plain": [
       "Value(data=1.0)"
      ]
     },
     "execution_count": 86,
     "metadata": {},
     "output_type": "execute_result"
    }
   ],
   "source": [
    "a / b"
   ]
  },
  {
   "cell_type": "code",
   "execution_count": 87,
   "id": "a2ddada9-0876-4b0f-945d-7a7b0f4953d1",
   "metadata": {
    "tags": []
   },
   "outputs": [
    {
     "data": {
      "text/plain": [
       "Value(data=0)"
      ]
     },
     "execution_count": 87,
     "metadata": {},
     "output_type": "execute_result"
    }
   ],
   "source": [
    "a - b"
   ]
  }
 ],
 "metadata": {
  "kernelspec": {
   "display_name": "Python 3 (ipykernel)",
   "language": "python",
   "name": "python3"
  },
  "language_info": {
   "codemirror_mode": {
    "name": "ipython",
    "version": 3
   },
   "file_extension": ".py",
   "mimetype": "text/x-python",
   "name": "python",
   "nbconvert_exporter": "python",
   "pygments_lexer": "ipython3",
   "version": "3.11.4"
  }
 },
 "nbformat": 4,
 "nbformat_minor": 5
}

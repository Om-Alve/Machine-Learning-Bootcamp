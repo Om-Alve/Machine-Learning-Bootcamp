{
 "cells": [
  {
   "cell_type": "code",
   "execution_count": 2,
   "id": "9158c315-d996-4491-9321-487690be50c4",
   "metadata": {},
   "outputs": [],
   "source": [
    "import requests"
   ]
  },
  {
   "cell_type": "code",
   "execution_count": 3,
   "id": "d019fb92-8503-46ac-8621-3807ecedccd7",
   "metadata": {},
   "outputs": [],
   "source": [
    "url = \"https://blogger.googleusercontent.com/img/b/R29vZ2xl/AVvXsEju-kkBpT12V2uUJhb46sFukdVqHia5bSj5XAAvSwsOzh6qg8x3Q6WmAl3gVOTXhAdFJwth7oLdeRN4iGSZGT85yfgJIyrnTTz-8Up7Ev7EMAn9yMGMXHkTx29vvW6Vgj7CJdh9GPWtl7ZelpmLso5CJBLVdI0OfwPBE-OFZ1P0obNcssNfPi11rRGUZA/s377/Capture.PNG\"\n",
    "res = requests.get(url)"
   ]
  },
  {
   "cell_type": "code",
   "execution_count": 7,
   "id": "7d5c50a1-c513-49b5-a6b9-7a7b8c59aae6",
   "metadata": {},
   "outputs": [],
   "source": [
    "with open(\"toji.jpg\",\"wb\") as f:\n",
    "    f.write(res.content)"
   ]
  }
 ],
 "metadata": {
  "kernelspec": {
   "display_name": "Python 3 (ipykernel)",
   "language": "python",
   "name": "python3"
  },
  "language_info": {
   "codemirror_mode": {
    "name": "ipython",
    "version": 3
   },
   "file_extension": ".py",
   "mimetype": "text/x-python",
   "name": "python",
   "nbconvert_exporter": "python",
   "pygments_lexer": "ipython3",
   "version": "3.10.9"
  }
 },
 "nbformat": 4,
 "nbformat_minor": 5
}

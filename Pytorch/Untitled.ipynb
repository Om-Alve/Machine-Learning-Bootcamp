{
 "cells": [
  {
   "cell_type": "code",
   "execution_count": 2,
   "id": "1a2d8cab-7877-4967-8c47-085fef9e9561",
   "metadata": {},
   "outputs": [],
   "source": [
    "import torch"
   ]
  },
  {
   "cell_type": "code",
   "execution_count": 3,
   "id": "1d0f8a7d-3bc1-4908-b20d-de2147aaf5fc",
   "metadata": {},
   "outputs": [
    {
     "data": {
      "text/plain": [
       "'2.1.1'"
      ]
     },
     "execution_count": 3,
     "metadata": {},
     "output_type": "execute_result"
    }
   ],
   "source": [
    "torch.__version__"
   ]
  },
  {
   "cell_type": "code",
   "execution_count": 4,
   "id": "4b12bbcf-f6bb-43c9-82ff-393f9b794caf",
   "metadata": {},
   "outputs": [
    {
     "data": {
      "text/plain": [
       "True"
      ]
     },
     "execution_count": 4,
     "metadata": {},
     "output_type": "execute_result"
    }
   ],
   "source": [
    "torch.cuda.is_available()"
   ]
  },
  {
   "cell_type": "code",
   "execution_count": 5,
   "id": "0196fcd3-d263-4113-82ea-5b9172539958",
   "metadata": {},
   "outputs": [
    {
     "data": {
      "text/plain": [
       "tensor(8)"
      ]
     },
     "execution_count": 5,
     "metadata": {},
     "output_type": "execute_result"
    }
   ],
   "source": [
    "torch.tensor(8)"
   ]
  },
  {
   "cell_type": "code",
   "execution_count": 6,
   "id": "44957e17-0fc0-4141-9d88-b712b0804d7e",
   "metadata": {},
   "outputs": [],
   "source": [
    "z = torch.zeros(2,3)"
   ]
  },
  {
   "cell_type": "code",
   "execution_count": 7,
   "id": "ac6f8ad5-01dd-4d9c-aeae-feffb8d4672c",
   "metadata": {},
   "outputs": [
    {
     "data": {
      "text/plain": [
       "2"
      ]
     },
     "execution_count": 7,
     "metadata": {},
     "output_type": "execute_result"
    }
   ],
   "source": [
    "z.ndim"
   ]
  },
  {
   "cell_type": "code",
   "execution_count": 8,
   "id": "c6845fe6-b600-401b-8a81-dccace31812e",
   "metadata": {},
   "outputs": [
    {
     "data": {
      "text/plain": [
       "torch.Size([2, 3])"
      ]
     },
     "execution_count": 8,
     "metadata": {},
     "output_type": "execute_result"
    }
   ],
   "source": [
    "z.shape"
   ]
  },
  {
   "cell_type": "code",
   "execution_count": 9,
   "id": "8cb089ed-a61e-4ec3-9fa7-9aa01b97be32",
   "metadata": {},
   "outputs": [
    {
     "data": {
      "text/plain": [
       "tensor([0., 0., 0.])"
      ]
     },
     "execution_count": 9,
     "metadata": {},
     "output_type": "execute_result"
    }
   ],
   "source": [
    "z[0]"
   ]
  },
  {
   "cell_type": "code",
   "execution_count": 10,
   "id": "4733b3a3-2616-4dd2-ac54-1c2df6c00f50",
   "metadata": {},
   "outputs": [],
   "source": [
    "a = torch.tensor([[1.,2.],[3.,4.]])"
   ]
  },
  {
   "cell_type": "code",
   "execution_count": 11,
   "id": "f02846cf-3999-4b0b-ae9d-2f906d08f9e9",
   "metadata": {},
   "outputs": [
    {
     "data": {
      "text/plain": [
       "tensor([[1., 2.],\n",
       "        [3., 4.]])"
      ]
     },
     "execution_count": 11,
     "metadata": {},
     "output_type": "execute_result"
    }
   ],
   "source": [
    "a"
   ]
  },
  {
   "cell_type": "code",
   "execution_count": 12,
   "id": "3c19aa19-492a-402e-a380-817730cf11c0",
   "metadata": {},
   "outputs": [],
   "source": [
    "b = torch.ones(2,1)"
   ]
  },
  {
   "cell_type": "code",
   "execution_count": 13,
   "id": "16cb1e28-2ec9-459b-89dc-a482ea19c5dd",
   "metadata": {},
   "outputs": [
    {
     "data": {
      "text/plain": [
       "tensor([[1.],\n",
       "        [1.]])"
      ]
     },
     "execution_count": 13,
     "metadata": {},
     "output_type": "execute_result"
    }
   ],
   "source": [
    "b"
   ]
  },
  {
   "cell_type": "code",
   "execution_count": 14,
   "id": "3082e1fe-ab68-453b-bbd2-824d3731ba45",
   "metadata": {},
   "outputs": [
    {
     "data": {
      "text/plain": [
       "tensor([[3.],\n",
       "        [7.]])"
      ]
     },
     "execution_count": 14,
     "metadata": {},
     "output_type": "execute_result"
    }
   ],
   "source": [
    "a @ b"
   ]
  },
  {
   "cell_type": "code",
   "execution_count": 15,
   "id": "7d47b4a5-048b-4471-ab7e-09762bdff089",
   "metadata": {},
   "outputs": [
    {
     "data": {
      "text/plain": [
       "tensor([[0.6545, 0.7914],\n",
       "        [0.1999, 0.3197],\n",
       "        [0.7415, 0.5952]])"
      ]
     },
     "execution_count": 15,
     "metadata": {},
     "output_type": "execute_result"
    }
   ],
   "source": [
    "torch.rand(3,2)"
   ]
  },
  {
   "cell_type": "code",
   "execution_count": 16,
   "id": "e4792a9a-a6e3-4c91-8302-ad9e086c848e",
   "metadata": {},
   "outputs": [
    {
     "data": {
      "text/plain": [
       "tensor([1.0000, 2.5000, 4.0000])"
      ]
     },
     "execution_count": 16,
     "metadata": {},
     "output_type": "execute_result"
    }
   ],
   "source": [
    "torch.arange(1,5,1.5)"
   ]
  },
  {
   "cell_type": "code",
   "execution_count": 24,
   "id": "7cc3496b-206a-4ad4-a63b-06e5f58dd63e",
   "metadata": {},
   "outputs": [],
   "source": [
    "a = torch.tensor([1,2,3],dtype=torch.float32)"
   ]
  },
  {
   "cell_type": "code",
   "execution_count": 25,
   "id": "2096a503-c4ad-45be-98b3-9bb4f6aaac76",
   "metadata": {},
   "outputs": [
    {
     "data": {
      "text/plain": [
       "torch.float32"
      ]
     },
     "execution_count": 25,
     "metadata": {},
     "output_type": "execute_result"
    }
   ],
   "source": [
    "a.dtype"
   ]
  },
  {
   "cell_type": "code",
   "execution_count": 26,
   "id": "9b92c282-7c44-4efc-b2b9-2c2e9a798f26",
   "metadata": {},
   "outputs": [
    {
     "data": {
      "text/plain": [
       "tensor([1., 2., 3.])"
      ]
     },
     "execution_count": 26,
     "metadata": {},
     "output_type": "execute_result"
    }
   ],
   "source": [
    "a.type(torch.float32)"
   ]
  },
  {
   "cell_type": "code",
   "execution_count": 27,
   "id": "6803f3c8-a6c8-4e0a-be2b-88d980fcdab1",
   "metadata": {},
   "outputs": [
    {
     "data": {
      "text/plain": [
       "device(type='cpu')"
      ]
     },
     "execution_count": 27,
     "metadata": {},
     "output_type": "execute_result"
    }
   ],
   "source": [
    "a.device"
   ]
  },
  {
   "cell_type": "code",
   "execution_count": 28,
   "id": "83663ef9-5fee-4908-a79d-3754923c74d0",
   "metadata": {},
   "outputs": [
    {
     "data": {
      "text/plain": [
       "tensor(1.)"
      ]
     },
     "execution_count": 28,
     "metadata": {},
     "output_type": "execute_result"
    }
   ],
   "source": [
    "a.min()"
   ]
  },
  {
   "cell_type": "code",
   "execution_count": 29,
   "id": "0123f9a6-e9df-442a-848a-c30cc7460333",
   "metadata": {},
   "outputs": [
    {
     "data": {
      "text/plain": [
       "tensor(3.)"
      ]
     },
     "execution_count": 29,
     "metadata": {},
     "output_type": "execute_result"
    }
   ],
   "source": [
    "a.max()"
   ]
  },
  {
   "cell_type": "code",
   "execution_count": 30,
   "id": "457ce20e-695b-47da-aef5-53014924711b",
   "metadata": {},
   "outputs": [
    {
     "data": {
      "text/plain": [
       "tensor(2.)"
      ]
     },
     "execution_count": 30,
     "metadata": {},
     "output_type": "execute_result"
    }
   ],
   "source": [
    "a.mean()"
   ]
  },
  {
   "cell_type": "code",
   "execution_count": 32,
   "id": "7fa43fc1-89b0-42ae-bb1c-efa9cb5f7253",
   "metadata": {},
   "outputs": [
    {
     "data": {
      "text/plain": [
       "tensor(6.)"
      ]
     },
     "execution_count": 32,
     "metadata": {},
     "output_type": "execute_result"
    }
   ],
   "source": [
    "a.sum()"
   ]
  },
  {
   "cell_type": "code",
   "execution_count": 33,
   "id": "d2716011-a296-4f2b-990b-b2ce45ddebc2",
   "metadata": {},
   "outputs": [
    {
     "data": {
      "text/plain": [
       "tensor(2)"
      ]
     },
     "execution_count": 33,
     "metadata": {},
     "output_type": "execute_result"
    }
   ],
   "source": [
    "a.argmax()"
   ]
  },
  {
   "cell_type": "code",
   "execution_count": 34,
   "id": "6021ecff-1c85-4ed8-bfdf-33c399bd4a9f",
   "metadata": {},
   "outputs": [
    {
     "data": {
      "text/plain": [
       "tensor(0)"
      ]
     },
     "execution_count": 34,
     "metadata": {},
     "output_type": "execute_result"
    }
   ],
   "source": [
    "a.argmin()"
   ]
  },
  {
   "cell_type": "code",
   "execution_count": 36,
   "id": "e60a1e76-8801-4475-87e6-ba011a742fc5",
   "metadata": {},
   "outputs": [
    {
     "data": {
      "text/plain": [
       "(tensor([1., 2., 3., 4., 5., 6., 7., 8., 9.]), torch.Size([9]))"
      ]
     },
     "execution_count": 36,
     "metadata": {},
     "output_type": "execute_result"
    }
   ],
   "source": [
    "x = torch.arange(1.,10.)\n",
    "x,x.shape"
   ]
  },
  {
   "cell_type": "code",
   "execution_count": 37,
   "id": "ea7fc0d6-205c-41ca-99f3-68f8a8e2f6e4",
   "metadata": {},
   "outputs": [
    {
     "data": {
      "text/plain": [
       "tensor([[1., 2., 3.],\n",
       "        [4., 5., 6.],\n",
       "        [7., 8., 9.]])"
      ]
     },
     "execution_count": 37,
     "metadata": {},
     "output_type": "execute_result"
    }
   ],
   "source": [
    "x = x.view(3,3)"
   ]
  },
  {
   "cell_type": "code",
   "execution_count": 39,
   "id": "ffac9449-c31e-4b7f-bb79-7433bd7d5d94",
   "metadata": {},
   "outputs": [
    {
     "data": {
      "text/plain": [
       "tensor([[1., 2., 3., 4., 5., 6., 7., 8., 9.],\n",
       "        [1., 2., 3., 4., 5., 6., 7., 8., 9.],\n",
       "        [1., 2., 3., 4., 5., 6., 7., 8., 9.]])"
      ]
     },
     "execution_count": 39,
     "metadata": {},
     "output_type": "execute_result"
    }
   ],
   "source": [
    "torch.stack([x,x,x],dim=0)"
   ]
  },
  {
   "cell_type": "code",
   "execution_count": 44,
   "id": "68a2d711-326c-43ef-ad4e-46787d2ff814",
   "metadata": {},
   "outputs": [
    {
     "data": {
      "text/plain": [
       "tensor([1., 2., 3., 4., 5., 6., 7., 8., 9., 1., 2., 3., 4., 5., 6., 7., 8., 9.])"
      ]
     },
     "execution_count": 44,
     "metadata": {},
     "output_type": "execute_result"
    }
   ],
   "source": [
    "torch.hstack([x,x])"
   ]
  },
  {
   "cell_type": "code",
   "execution_count": 98,
   "id": "ace5d464-a02c-4ad4-af79-d7b7fd370504",
   "metadata": {},
   "outputs": [],
   "source": [
    "Weights = 3\n",
    "biases = 2\n",
    "X = torch.arange(1,20,0.2)\n",
    "y = Weights * X + biases"
   ]
  },
  {
   "cell_type": "code",
   "execution_count": 99,
   "id": "85bf65d7-2020-4b63-b608-7193d5970fee",
   "metadata": {},
   "outputs": [],
   "source": [
    "# train test split\n",
    "train_split = (int) (0.8 * len(X))\n",
    "X_train,y_train = X[:train_split],y[:train_split]\n",
    "X_test,y_test =  X[train_split:],y[train_split:]"
   ]
  },
  {
   "cell_type": "code",
   "execution_count": 107,
   "id": "8fece14a-fcec-45d3-85c2-dbd3026466dc",
   "metadata": {},
   "outputs": [
    {
     "name": "stdout",
     "output_type": "stream",
     "text": [
      "tensor(401.)\n",
      "tensor(0.0021)\n"
     ]
    }
   ],
   "source": [
    "# linear regression\n",
    "W = 1\n",
    "b = 1\n",
    "lr = 0.001\n",
    "y_pred = W * X_train + b\n",
    "loss = ((y_pred - y_train)**2).mean()\n",
    "print(loss)\n",
    "for i in range(5000):\n",
    "    y_pred = W * X_train + b\n",
    "    loss =  ((y_pred - y_train)**2).mean()\n",
    "    dL_dw = (2*(y_pred-y_train) *  X_train).mean()\n",
    "    dL_db =  (2*(y_pred-y_train)).mean()\n",
    "    W-= lr * dL_dw\n",
    "    b-= lr*dL_db\n",
    "print(loss)"
   ]
  },
  {
   "cell_type": "code",
   "execution_count": 108,
   "id": "625b5c64-4f8b-4f04-b62c-23527d82eb37",
   "metadata": {},
   "outputs": [
    {
     "data": {
      "text/plain": [
       "(tensor(3.0093), tensor(1.8998))"
      ]
     },
     "execution_count": 108,
     "metadata": {},
     "output_type": "execute_result"
    }
   ],
   "source": [
    "W,b"
   ]
  },
  {
   "cell_type": "code",
   "execution_count": 109,
   "id": "6ac35fa1-5099-4690-bb28-c41f1fcd6bb8",
   "metadata": {},
   "outputs": [
    {
     "data": {
      "text/plain": [
       "tensor(0.0047)"
      ]
     },
     "execution_count": 109,
     "metadata": {},
     "output_type": "execute_result"
    }
   ],
   "source": [
    "y_pred = W * X_test + b\n",
    "loss = ((y_pred - y_test)**2).mean()\n",
    "loss"
   ]
  },
  {
   "cell_type": "code",
   "execution_count": 182,
   "id": "f2ec1805-f39a-415a-8f9a-8c77e1284985",
   "metadata": {},
   "outputs": [],
   "source": [
    "class LinearRegression(torch.nn.Module):\n",
    "    def __init__(self):\n",
    "        super().__init__()\n",
    "        self.weights = torch.nn.Parameter(torch.randn(1,requires_grad=True,dtype=torch.float))\n",
    "        self.bias = torch.nn.Parameter(torch.randn(1,requires_grad=True,dtype=torch.float))\n",
    "    def forward(self,x:torch.Tensor) ->torch.Tensor:\n",
    "        return self.weights * x + self.bias"
   ]
  },
  {
   "cell_type": "code",
   "execution_count": 199,
   "id": "815a359c-9d8b-4d4f-b9e4-b99bfd2d8721",
   "metadata": {},
   "outputs": [
    {
     "data": {
      "text/plain": [
       "OrderedDict([('weights', tensor([0.7797])), ('bias', tensor([-0.6762]))])"
      ]
     },
     "execution_count": 199,
     "metadata": {},
     "output_type": "execute_result"
    }
   ],
   "source": [
    "model = LinearRegression()\n",
    "model.state_dict()"
   ]
  },
  {
   "cell_type": "code",
   "execution_count": 200,
   "id": "f70acfd4-72e7-4c31-adbf-9a01c2ada230",
   "metadata": {},
   "outputs": [
    {
     "data": {
      "text/plain": [
       "tensor([11.9551, 12.1110, 12.2670, 12.4229, 12.5788, 12.7348, 12.8907, 13.0467,\n",
       "        13.2026, 13.3585, 13.5145, 13.6704, 13.8264, 13.9823, 14.1383, 14.2942,\n",
       "        14.4501, 14.6061, 14.7620])"
      ]
     },
     "execution_count": 200,
     "metadata": {},
     "output_type": "execute_result"
    }
   ],
   "source": [
    "with torch.inference_mode():\n",
    "    out = model(X_test)\n",
    "out"
   ]
  },
  {
   "cell_type": "code",
   "execution_count": 204,
   "id": "e73e6858-34f3-4525-9e44-c821a8c20f71",
   "metadata": {},
   "outputs": [],
   "source": [
    "loss_fn = torch.nn.L1Loss()\n",
    "lr = 0.01\n",
    "opt = torch.optim.Adam(params=model.parameters(),lr=lr)"
   ]
  },
  {
   "cell_type": "code",
   "execution_count": 209,
   "id": "61b5295c-a206-46fb-9077-8e41683fb893",
   "metadata": {},
   "outputs": [
    {
     "name": "stdout",
     "output_type": "stream",
     "text": [
      "Epoch : 0 Loss : 0.018030203878879547 Validation Loss : 0.03230687230825424\n",
      "Epoch : 100 Loss : 0.023385368287563324 Validation Loss : 0.04224375635385513\n",
      "Epoch : 200 Loss : 0.018030203878879547 Validation Loss : 0.03230687230825424\n",
      "Epoch : 300 Loss : 0.023385368287563324 Validation Loss : 0.04224375635385513\n",
      "Epoch : 400 Loss : 0.018030203878879547 Validation Loss : 0.03230687230825424\n",
      "Epoch : 500 Loss : 0.023385368287563324 Validation Loss : 0.04224375635385513\n",
      "Epoch : 600 Loss : 0.018030203878879547 Validation Loss : 0.03230687230825424\n",
      "Epoch : 700 Loss : 0.023385368287563324 Validation Loss : 0.04224375635385513\n",
      "Epoch : 800 Loss : 0.018030203878879547 Validation Loss : 0.03230687230825424\n",
      "Epoch : 900 Loss : 0.023385368287563324 Validation Loss : 0.04224375635385513\n",
      "Epoch : 1000 Loss : 0.018030203878879547 Validation Loss : 0.03230687230825424\n",
      "Epoch : 1100 Loss : 0.023385368287563324 Validation Loss : 0.04224375635385513\n",
      "Epoch : 1200 Loss : 0.018030203878879547 Validation Loss : 0.03230687230825424\n",
      "Epoch : 1300 Loss : 0.023385368287563324 Validation Loss : 0.04224375635385513\n",
      "Epoch : 1400 Loss : 0.018030203878879547 Validation Loss : 0.03230687230825424\n",
      "Epoch : 1500 Loss : 0.023385368287563324 Validation Loss : 0.04224375635385513\n",
      "Epoch : 1600 Loss : 0.018030203878879547 Validation Loss : 0.03230687230825424\n",
      "Epoch : 1700 Loss : 0.023385368287563324 Validation Loss : 0.04224375635385513\n",
      "Epoch : 1800 Loss : 0.018030203878879547 Validation Loss : 0.03230687230825424\n",
      "Epoch : 1900 Loss : 0.023385368287563324 Validation Loss : 0.04224375635385513\n",
      "Epoch : 2000 Loss : 0.018030203878879547 Validation Loss : 0.03230687230825424\n"
     ]
    }
   ],
   "source": [
    "epochs=2001\n",
    "\n",
    "for epoch in range(epochs):\n",
    "    model.train()\n",
    "\n",
    "    y_pred= model(X_train)\n",
    "\n",
    "    loss = loss_fn(y_pred,y_train)\n",
    "\n",
    "    opt.zero_grad()\n",
    "\n",
    "    loss.backward()\n",
    "\n",
    "    opt.step()\n",
    "\n",
    "    if epoch % 100 == 0:\n",
    "        with torch.inference_mode():\n",
    "            y_pred = model(X_test)\n",
    "            test_loss = loss_fn(y_pred,y_test)\n",
    "            print(f\"Epoch : {epoch} Loss : {loss} Validation Loss : {test_loss}\")"
   ]
  },
  {
   "cell_type": "code",
   "execution_count": 208,
   "id": "2801a4a9-5f81-402d-ad9b-d1b761a9eb1d",
   "metadata": {},
   "outputs": [
    {
     "data": {
      "text/plain": [
       "OrderedDict([('weights', tensor([2.9981])), ('bias', tensor([1.9984]))])"
      ]
     },
     "execution_count": 208,
     "metadata": {},
     "output_type": "execute_result"
    }
   ],
   "source": [
    "model.state_dict()"
   ]
  },
  {
   "cell_type": "code",
   "execution_count": null,
   "id": "03a172b1-09de-458c-9f3a-8c0027de05ca",
   "metadata": {},
   "outputs": [],
   "source": []
  }
 ],
 "metadata": {
  "kernelspec": {
   "display_name": "pytorch",
   "language": "python",
   "name": "myenv"
  },
  "language_info": {
   "codemirror_mode": {
    "name": "ipython",
    "version": 3
   },
   "file_extension": ".py",
   "mimetype": "text/x-python",
   "name": "python",
   "nbconvert_exporter": "python",
   "pygments_lexer": "ipython3",
   "version": "3.11.5"
  }
 },
 "nbformat": 4,
 "nbformat_minor": 5
}
